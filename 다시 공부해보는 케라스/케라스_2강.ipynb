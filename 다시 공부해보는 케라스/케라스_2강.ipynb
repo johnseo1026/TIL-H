{
  "nbformat": 4,
  "nbformat_minor": 0,
  "metadata": {
    "colab": {
      "name": "케라스 2강.ipynb",
      "provenance": [],
      "collapsed_sections": []
    },
    "kernelspec": {
      "name": "python3",
      "display_name": "Python 3"
    },
    "language_info": {
      "name": "python"
    }
  },
  "cells": [
    {
      "cell_type": "markdown",
      "metadata": {
        "id": "Wyp6Mb1UMzb4"
      },
      "source": [
        "2.1 신경망과의 첫 만남"
      ]
    },
    {
      "cell_type": "code",
      "metadata": {
        "id": "3pgp0fhzLfup",
        "colab": {
          "base_uri": "https://localhost:8080/"
        },
        "outputId": "d5512998-04ba-4cf6-9f7c-36ae54ec4f4a"
      },
      "source": [
        "# 케라스에서 mnist 데이터셋 적재하기\n",
        "from keras.datasets import mnist\n",
        "(train_images, train_labels), (test_images, test_labels) = mnist.load_data()"
      ],
      "execution_count": null,
      "outputs": [
        {
          "output_type": "stream",
          "text": [
            "Downloading data from https://storage.googleapis.com/tensorflow/tf-keras-datasets/mnist.npz\n",
            "11493376/11490434 [==============================] - 0s 0us/step\n"
          ],
          "name": "stdout"
        }
      ]
    },
    {
      "cell_type": "code",
      "metadata": {
        "colab": {
          "base_uri": "https://localhost:8080/"
        },
        "id": "-1EqT2ghMHZ2",
        "outputId": "82c3fd04-4f57-4662-bc28-d3e460442da2"
      },
      "source": [
        "# 훈련 세트\n",
        "train_images.shape"
      ],
      "execution_count": null,
      "outputs": [
        {
          "output_type": "execute_result",
          "data": {
            "text/plain": [
              "(60000, 28, 28)"
            ]
          },
          "metadata": {
            "tags": []
          },
          "execution_count": 13
        }
      ]
    },
    {
      "cell_type": "code",
      "metadata": {
        "colab": {
          "base_uri": "https://localhost:8080/"
        },
        "id": "jwzEITrfRvij",
        "outputId": "873b8f6e-1df4-41cb-c45c-7be42f5b6d09"
      },
      "source": [
        "len(train_labels)"
      ],
      "execution_count": null,
      "outputs": [
        {
          "output_type": "execute_result",
          "data": {
            "text/plain": [
              "60000"
            ]
          },
          "metadata": {
            "tags": []
          },
          "execution_count": 14
        }
      ]
    },
    {
      "cell_type": "code",
      "metadata": {
        "colab": {
          "base_uri": "https://localhost:8080/"
        },
        "id": "Sku3kRwPRvwq",
        "outputId": "42c2cb12-fdd5-46c6-8c31-4da393ae3d52"
      },
      "source": [
        "train_labels"
      ],
      "execution_count": null,
      "outputs": [
        {
          "output_type": "execute_result",
          "data": {
            "text/plain": [
              "array([5, 0, 4, ..., 5, 6, 8], dtype=uint8)"
            ]
          },
          "metadata": {
            "tags": []
          },
          "execution_count": 15
        }
      ]
    },
    {
      "cell_type": "code",
      "metadata": {
        "colab": {
          "base_uri": "https://localhost:8080/"
        },
        "id": "WvjDvNjAMoLj",
        "outputId": "849629a3-63ca-4304-ad96-3225ac4cb898"
      },
      "source": [
        "# 테스트 세트\n",
        "test_images.shape\n",
        "\n"
      ],
      "execution_count": null,
      "outputs": [
        {
          "output_type": "execute_result",
          "data": {
            "text/plain": [
              "(10000, 28, 28)"
            ]
          },
          "metadata": {
            "tags": []
          },
          "execution_count": 16
        }
      ]
    },
    {
      "cell_type": "code",
      "metadata": {
        "colab": {
          "base_uri": "https://localhost:8080/"
        },
        "id": "QVbpPChER1O_",
        "outputId": "f3867ccd-ffc7-47de-fd05-d58830c13209"
      },
      "source": [
        "len(test_labels)"
      ],
      "execution_count": null,
      "outputs": [
        {
          "output_type": "execute_result",
          "data": {
            "text/plain": [
              "10000"
            ]
          },
          "metadata": {
            "tags": []
          },
          "execution_count": 17
        }
      ]
    },
    {
      "cell_type": "code",
      "metadata": {
        "colab": {
          "base_uri": "https://localhost:8080/"
        },
        "id": "WLkw55KMR1SF",
        "outputId": "88ec9c44-0675-4c28-e831-28a742cbbc66"
      },
      "source": [
        "test_labels"
      ],
      "execution_count": null,
      "outputs": [
        {
          "output_type": "execute_result",
          "data": {
            "text/plain": [
              "array([7, 2, 1, ..., 4, 5, 6], dtype=uint8)"
            ]
          },
          "metadata": {
            "tags": []
          },
          "execution_count": 18
        }
      ]
    },
    {
      "cell_type": "code",
      "metadata": {
        "id": "rcOoJp4gMwWW"
      },
      "source": [
        "# 신경망 구조\n",
        "from keras import models\n",
        "from keras import layers\n",
        "\n",
        "network = models.Sequential()\n",
        "# print(network)\n",
        "network.add(layers.Dense(512, activation='relu', input_shape=(28*28,)))\n",
        "network.add(layers.Dense(10, activation='softmax'))"
      ],
      "execution_count": null,
      "outputs": []
    },
    {
      "cell_type": "code",
      "metadata": {
        "colab": {
          "base_uri": "https://localhost:8080/"
        },
        "id": "X9cJin3_MzCa",
        "outputId": "de01cf99-1463-41ac-cf16-3b2159d14881"
      },
      "source": [
        "print(network.add(layers.Dense(512, activation='relu', input_shape=(28*28,))))\n",
        "print(network.add(layers.Dense(10, activation='softmax')))"
      ],
      "execution_count": null,
      "outputs": [
        {
          "output_type": "stream",
          "text": [
            "None\n",
            "None\n"
          ],
          "name": "stdout"
        }
      ]
    },
    {
      "cell_type": "markdown",
      "metadata": {
        "id": "Fwkv8v1JPrWY"
      },
      "source": [
        "신경망 층인 Dense 층 2개가 연속, 두번째층은 10개의 확률 점수가 들어 있는 배열(모두 더하면 1)을 반환하는 소프트맥스층이다. 각 점수는 현재 숫자 이미지가 10개의 숫자 클래스중 하나에 속할 확률"
      ]
    },
    {
      "cell_type": "markdown",
      "metadata": {
        "id": "Fhzbp4WJQYnh"
      },
      "source": [
        "신경망이 훈련준비를 마치기 위해 컴파일 단계에 3가지가 더 필요\n",
        "\n",
        "1. 손실함수(loss function): 훈련데이터에서 신경망의 성능을 측정하는 방법으로 네트워크가 옳은 방향으로 학습될 수 있도록 도와줌\n",
        "2. 옵티마이저(optimizer): 입력된 데이터와 손실 함수를 기반으로 네트워크를 업데이트하는 메커니즘\n",
        "3. 훈련과 테스트 과정을 모니터링할 지표: 여기에서는 정확도(정확히 분류된 이미지의 비율)만 고려"
      ]
    },
    {
      "cell_type": "code",
      "metadata": {
        "id": "JUxkbarpPLUY"
      },
      "source": [
        "# 컴파일 단계\n",
        "network.compile(optimizer='rmsprop', loss='categorical_crossentropy', metrics=['accuracy'])"
      ],
      "execution_count": null,
      "outputs": []
    },
    {
      "cell_type": "code",
      "metadata": {
        "colab": {
          "base_uri": "https://localhost:8080/"
        },
        "id": "XYNyBN8TPjVk",
        "outputId": "7adbcc8b-1dc0-46d8-812a-70b1df8f9215"
      },
      "source": [
        "print(network.compile(optimizer='rmsprop', loss='categorical_crossentropy', metrics=['accuracy']))"
      ],
      "execution_count": null,
      "outputs": [
        {
          "output_type": "stream",
          "text": [
            "None\n"
          ],
          "name": "stdout"
        }
      ]
    },
    {
      "cell_type": "markdown",
      "metadata": {
        "id": "YJZ90Uu4Rapt"
      },
      "source": [
        "훈련 시작전 테이터를 네트워크에 맞는 크기로 바꾸고 모든 값을 0과 1사이로 스케일을 조정\n",
        "그렇기에 앞서 훈련이미지는 [0, 255] 사이의 값인 uint8 타입의 (60000, 28, 28) 크기를 가진 배열로 저장되어 있다. 이 데이터를 0과 1사이의 값을 가지는 float32타입의 (60000, 28, 28) 크기인 배열로 바꿈"
      ]
    },
    {
      "cell_type": "code",
      "metadata": {
        "id": "PZFhrYghRAVE"
      },
      "source": [
        "# 이미지 데이터 준비하기\n",
        "train_images = train_images.reshape((60000, 28*28))\n",
        "train_images = train_images.astype('float32') / 255\n",
        "\n",
        "test_images = test_images.reshape((10000, 28*28))\n",
        "test_images = test_images.astype('float32') / 255"
      ],
      "execution_count": null,
      "outputs": []
    },
    {
      "cell_type": "code",
      "metadata": {
        "id": "lpO6qm39SL6u"
      },
      "source": [
        "# 레이블 준비하기\n",
        "from keras.utils import to_categorical\n",
        "\n",
        "train_labels = to_categorical(train_labels)\n",
        "test_labels = to_categorical(test_labels)"
      ],
      "execution_count": null,
      "outputs": []
    },
    {
      "cell_type": "code",
      "metadata": {
        "colab": {
          "base_uri": "https://localhost:8080/"
        },
        "id": "QgmBjrh_SaRj",
        "outputId": "88647d95-848a-49eb-a4c4-bfa25e663fc3"
      },
      "source": [
        "network.fit(train_images, train_labels, epochs=5, batch_size=128)"
      ],
      "execution_count": null,
      "outputs": [
        {
          "output_type": "stream",
          "text": [
            "Epoch 1/5\n",
            "469/469 [==============================] - 6s 11ms/step - loss: 1.0873 - accuracy: 0.6350\n",
            "Epoch 2/5\n",
            "469/469 [==============================] - 5s 11ms/step - loss: 0.1496 - accuracy: 0.9592\n",
            "Epoch 3/5\n",
            "469/469 [==============================] - 5s 11ms/step - loss: 0.0898 - accuracy: 0.9758\n",
            "Epoch 4/5\n",
            "469/469 [==============================] - 5s 11ms/step - loss: 0.0570 - accuracy: 0.9848\n",
            "Epoch 5/5\n",
            "469/469 [==============================] - 5s 11ms/step - loss: 0.0462 - accuracy: 0.9873\n"
          ],
          "name": "stdout"
        },
        {
          "output_type": "execute_result",
          "data": {
            "text/plain": [
              "<tensorflow.python.keras.callbacks.History at 0x7ffadd1eb510>"
            ]
          },
          "metadata": {
            "tags": []
          },
          "execution_count": 25
        }
      ]
    },
    {
      "cell_type": "markdown",
      "metadata": {
        "id": "KFdQOXa_aArX"
      },
      "source": [
        "위에 있는 정보는 훈련데이터에 대한 네트워크의 손실과 정확도이다."
      ]
    },
    {
      "cell_type": "code",
      "metadata": {
        "id": "yy52Ud5wSkOg",
        "colab": {
          "base_uri": "https://localhost:8080/"
        },
        "outputId": "7edcf7ed-2325-410c-a2d6-45608323754e"
      },
      "source": [
        "test_loss, test_acc = network.evaluate(test_images, test_labels)"
      ],
      "execution_count": null,
      "outputs": [
        {
          "output_type": "stream",
          "text": [
            "313/313 [==============================] - 1s 3ms/step - loss: 0.0961 - accuracy: 0.9760\n"
          ],
          "name": "stdout"
        }
      ]
    },
    {
      "cell_type": "code",
      "metadata": {
        "colab": {
          "base_uri": "https://localhost:8080/"
        },
        "id": "1GQQEW_IalSH",
        "outputId": "a7ed5219-17d4-4f85-e35c-3971249abf0a"
      },
      "source": [
        "print('test_acc:', test_acc)"
      ],
      "execution_count": null,
      "outputs": [
        {
          "output_type": "stream",
          "text": [
            "test_acc: 0.9760000109672546\n"
          ],
          "name": "stdout"
        }
      ]
    },
    {
      "cell_type": "markdown",
      "metadata": {
        "id": "vIk1P53oavQR"
      },
      "source": [
        "테스트 정확도는 97.8% 정도로 나왔는데 훈현세트의 정확도 보다는 약간 낮습니다. 훈련 정확도와 테스트 정확도 사이의 차이는 과대적합(overfitting) 때문이다. 이는 머신 러닝 모델이 훈현 데이터보다 새로운 데이터에서 성능이 낮아지는 경향을 말한다."
      ]
    },
    {
      "cell_type": "markdown",
      "metadata": {
        "id": "KxJl2UNj8-Rl"
      },
      "source": [
        "2.2 신경망을 위한 데이터 표현"
      ]
    },
    {
      "cell_type": "markdown",
      "metadata": {
        "id": "FgxrMkNl9O7M"
      },
      "source": [
        "2.2.1 스칼라(0D 텐서)\n",
        "\n",
        "하나의 숫자만 담고 있는 텐서를 스칼라(scalar)(또는 스칼라 텐서, 0차원텐서, 0D 텐서)라고 부른다. float32나ㅣ float64 타입의 숫자가 스칼라 텐서. 스칼라아 텐서의 축 개수는 0(ndim == 0). 텐서의 축 개수를 랭크라고도 부름"
      ]
    },
    {
      "cell_type": "code",
      "metadata": {
        "id": "OoAK_K8iarSL",
        "colab": {
          "base_uri": "https://localhost:8080/"
        },
        "outputId": "fa1d50ee-3f04-4c66-b368-b7bee9d237a6"
      },
      "source": [
        "import numpy as np\n",
        "x = np.array(12)\n",
        "x"
      ],
      "execution_count": null,
      "outputs": [
        {
          "output_type": "execute_result",
          "data": {
            "text/plain": [
              "array(12)"
            ]
          },
          "metadata": {
            "tags": []
          },
          "execution_count": 28
        }
      ]
    },
    {
      "cell_type": "code",
      "metadata": {
        "colab": {
          "base_uri": "https://localhost:8080/"
        },
        "id": "moYOZe-N-EGb",
        "outputId": "5a656192-d9a2-4c0b-c509-7857bb53c14c"
      },
      "source": [
        "x.ndim"
      ],
      "execution_count": null,
      "outputs": [
        {
          "output_type": "execute_result",
          "data": {
            "text/plain": [
              "0"
            ]
          },
          "metadata": {
            "tags": []
          },
          "execution_count": 29
        }
      ]
    },
    {
      "cell_type": "markdown",
      "metadata": {
        "id": "hKMFJg3L-G8h"
      },
      "source": [
        "2.2.2 벡터(1D 텐서)\n",
        "\n",
        "숫자의 배열을 벡터(vector)또는 1D 텐서라고 부른다. 딱 하나의 축을 가진다."
      ]
    },
    {
      "cell_type": "code",
      "metadata": {
        "colab": {
          "base_uri": "https://localhost:8080/"
        },
        "id": "eHl3cK-l-FZm",
        "outputId": "c113f5de-6f2e-4855-f72c-8245da840ff1"
      },
      "source": [
        "x= np.array([12, 2, 5, 6, 16])\n",
        "x"
      ],
      "execution_count": null,
      "outputs": [
        {
          "output_type": "execute_result",
          "data": {
            "text/plain": [
              "array([12,  2,  5,  6, 16])"
            ]
          },
          "metadata": {
            "tags": []
          },
          "execution_count": 30
        }
      ]
    },
    {
      "cell_type": "code",
      "metadata": {
        "colab": {
          "base_uri": "https://localhost:8080/"
        },
        "id": "jLYrhGQl-dwp",
        "outputId": "fa56acac-8820-474d-b023-cb68e2455003"
      },
      "source": [
        "x.ndim"
      ],
      "execution_count": null,
      "outputs": [
        {
          "output_type": "execute_result",
          "data": {
            "text/plain": [
              "1"
            ]
          },
          "metadata": {
            "tags": []
          },
          "execution_count": 31
        }
      ]
    },
    {
      "cell_type": "markdown",
      "metadata": {
        "id": "YrW5_oxHHMS_"
      },
      "source": [
        "이 벡터는 5개의 원소를 가지고 있어서 5차원 벡터라 부른다. 5D 벡터와 5D 텐서를 혼동하면 안된다. 5D 벡터는 하나의 축을 따라 5개의 차원을 가진것이고 5D 텐서는 5개의 축을 가진것이다.("
      ]
    },
    {
      "cell_type": "markdown",
      "metadata": {
        "id": "mUZvgW1IIAYg"
      },
      "source": [
        "2.2.3 행렬(2D 텐서)\n",
        "\n",
        "벡터의 배열이 행렬(matrix) 또는 2D 텐서. 행렬에는 2개의 축이 있다(행과 열)"
      ]
    },
    {
      "cell_type": "code",
      "metadata": {
        "colab": {
          "base_uri": "https://localhost:8080/"
        },
        "id": "lFwPes8h-e4u",
        "outputId": "414d2a71-6b3d-49cc-b549-7f0e08bf53e1"
      },
      "source": [
        "x = np.array([[5, 12, 4, 34, 6],\n",
        "              [1, 23, 6, 45, 2],\n",
        "              [7, 65, 9,12, 5]])\n",
        "x"
      ],
      "execution_count": null,
      "outputs": [
        {
          "output_type": "execute_result",
          "data": {
            "text/plain": [
              "array([[ 5, 12,  4, 34,  6],\n",
              "       [ 1, 23,  6, 45,  2],\n",
              "       [ 7, 65,  9, 12,  5]])"
            ]
          },
          "metadata": {
            "tags": []
          },
          "execution_count": 32
        }
      ]
    },
    {
      "cell_type": "code",
      "metadata": {
        "colab": {
          "base_uri": "https://localhost:8080/"
        },
        "id": "hXxqhSSLIc1M",
        "outputId": "93399a6c-38ac-4bfd-f7b9-d8ab2ed29573"
      },
      "source": [
        "x.ndim"
      ],
      "execution_count": null,
      "outputs": [
        {
          "output_type": "execute_result",
          "data": {
            "text/plain": [
              "2"
            ]
          },
          "metadata": {
            "tags": []
          },
          "execution_count": 33
        }
      ]
    },
    {
      "cell_type": "markdown",
      "metadata": {
        "id": "5qK-kRLoIkHl"
      },
      "source": [
        "첫 번째 축에 놓여있는 원소를 행, 두번째 축에 놓여있는 원소를 열.\n",
        "\n",
        "x의 첫번째 행은 [5, 12, 4, 34, 6]\n",
        "\n",
        "첫번째 열은 [5, 1, 7]"
      ]
    },
    {
      "cell_type": "markdown",
      "metadata": {
        "id": "61SnJ7o6I2Rh"
      },
      "source": [
        "2.2.4 3D 텐서와 고차원 텐서\n",
        "\n",
        "3D 텐서: 행렬들을 하나의 새로운 배열로 합치면 숫자가 채워진 직육면체 형태로 해석됨"
      ]
    },
    {
      "cell_type": "code",
      "metadata": {
        "colab": {
          "base_uri": "https://localhost:8080/"
        },
        "id": "t_y5nm2RIihp",
        "outputId": "e304bd4d-40de-498f-e3cd-9ae258b0069a"
      },
      "source": [
        "x = np.array([[[5, 78, 2, 34, 0],\n",
        "               [6, 79, 3, 35, 1],\n",
        "               [7, 80, 4, 36, 2]],\n",
        "              [[5, 78, 2, 34, 0],\n",
        "               [6, 79, 3, 35, 1],\n",
        "               [7, 80, 4, 35, 1]],\n",
        "              [[5, 78, 2, 34, 0],\n",
        "               [6, 79, 3, 35, 1],\n",
        "               [7, 80, 4, 36, 2]]])\n",
        "x"
      ],
      "execution_count": null,
      "outputs": [
        {
          "output_type": "execute_result",
          "data": {
            "text/plain": [
              "array([[[ 5, 78,  2, 34,  0],\n",
              "        [ 6, 79,  3, 35,  1],\n",
              "        [ 7, 80,  4, 36,  2]],\n",
              "\n",
              "       [[ 5, 78,  2, 34,  0],\n",
              "        [ 6, 79,  3, 35,  1],\n",
              "        [ 7, 80,  4, 35,  1]],\n",
              "\n",
              "       [[ 5, 78,  2, 34,  0],\n",
              "        [ 6, 79,  3, 35,  1],\n",
              "        [ 7, 80,  4, 36,  2]]])"
            ]
          },
          "metadata": {
            "tags": []
          },
          "execution_count": 34
        }
      ]
    },
    {
      "cell_type": "code",
      "metadata": {
        "colab": {
          "base_uri": "https://localhost:8080/"
        },
        "id": "-UZNX8wsK1HC",
        "outputId": "374e77e3-c659-4056-fe23-3d8225284cac"
      },
      "source": [
        "x.ndim"
      ],
      "execution_count": null,
      "outputs": [
        {
          "output_type": "execute_result",
          "data": {
            "text/plain": [
              "3"
            ]
          },
          "metadata": {
            "tags": []
          },
          "execution_count": 35
        }
      ]
    },
    {
      "cell_type": "markdown",
      "metadata": {
        "id": "R05dpPMcLH5L"
      },
      "source": [
        "3D 텐서들을 하나의 배열로 합치면 4D 텐서를 만드는 식으로 이어짐. 딥러닝에서는 보통 0D에서 4D 까지의 텐서를 다룸. 동영상 데이터의 경우 5D 텐서까지도 가기도함"
      ]
    },
    {
      "cell_type": "markdown",
      "metadata": {
        "id": "XRfBvhkwLZmA"
      },
      "source": [
        "2.2.5 핵심 속성\n",
        "\n",
        "텐서는 3개의 핵심 속성으로 정의됨\n",
        "\n",
        "1. 축의 개수(랭크) : 3D 텐서에는 3개의 축이 있고 2D 텐서(행렬)에는 2개의 축이 있다. ndim 속성에 저장되어 있음\n",
        "\n",
        "2. 크기(shape) : 텐서의 각 축을 따라 얼마나 많은 차원이 있는지를 나타낸 파이썬의 튜플임. 위에서 했던 행렬의 크기는 (3, 5)이고 3D 텐서는 (3, 3, 5)이다.\n",
        " 백터의 크기는 (5,)처럼 1개의 원소로 이루어진 튜플이다. 배열 스칼라는 ()처럼 크기가 없다\n",
        "\n",
        "3. 데이터 타입(numpy에서는 dtype에 저장됨) : 텐서에 포함된 데이터의 타입"
      ]
    },
    {
      "cell_type": "code",
      "metadata": {
        "id": "d4rxvvAnLCIc"
      },
      "source": [
        "from keras.datasets import mnist\n",
        "(train_images, train_labels), (test_images, test_labels) = mnist.load_data()"
      ],
      "execution_count": null,
      "outputs": []
    },
    {
      "cell_type": "code",
      "metadata": {
        "colab": {
          "base_uri": "https://localhost:8080/"
        },
        "id": "BCRGdbNWQ209",
        "outputId": "123bdea3-e8f6-4165-8e01-5834c7fa236f"
      },
      "source": [
        "# train_images 배열의 ndim속성으로 축의 개수 확인\n",
        "print(train_images.ndim)"
      ],
      "execution_count": null,
      "outputs": [
        {
          "output_type": "stream",
          "text": [
            "3\n"
          ],
          "name": "stdout"
        }
      ]
    },
    {
      "cell_type": "code",
      "metadata": {
        "colab": {
          "base_uri": "https://localhost:8080/"
        },
        "id": "x8n18kgFRIhv",
        "outputId": "a9018c54-78b9-4fbe-9b3c-b489589b67f8"
      },
      "source": [
        "# 배열의 크기\n",
        "print(train_images.shape)"
      ],
      "execution_count": null,
      "outputs": [
        {
          "output_type": "stream",
          "text": [
            "(60000, 28, 28)\n"
          ],
          "name": "stdout"
        }
      ]
    },
    {
      "cell_type": "code",
      "metadata": {
        "colab": {
          "base_uri": "https://localhost:8080/"
        },
        "id": "FYvBGdaARNM2",
        "outputId": "a57fab12-c95c-4e6e-90f6-cc57e403cd45"
      },
      "source": [
        "# 데이터 타입확인\n",
        "print(train_images.dtype)"
      ],
      "execution_count": null,
      "outputs": [
        {
          "output_type": "stream",
          "text": [
            "uint8\n"
          ],
          "name": "stdout"
        }
      ]
    },
    {
      "cell_type": "markdown",
      "metadata": {
        "id": "tGdwO3pRRUNW"
      },
      "source": [
        "위의 배열은 8비트 정수형 3D 텐서이다. 더 정확하게는 28 * 28 크기의 정수 행렬 6만개가 있는 배열. 각 행렬은 하나의 흑백 이미지고, 행렬의 각 원소는 0에서 255 사의 값을 가진다."
      ]
    },
    {
      "cell_type": "code",
      "metadata": {
        "colab": {
          "base_uri": "https://localhost:8080/",
          "height": 265
        },
        "id": "FUiB7KstRSWb",
        "outputId": "68fc98b9-7d98-4e86-af5a-7269f1fda71d"
      },
      "source": [
        "# 다섯번째 이미지 출력하기\n",
        "digit = train_images[4]\n",
        "\n",
        "import matplotlib.pyplot as plt\n",
        "plt.imshow(digit, cmap=plt.cm.binary)\n",
        "plt.show()"
      ],
      "execution_count": null,
      "outputs": [
        {
          "output_type": "display_data",
          "data": {
            "image/png": "[encoded data removed]",
            "text/plain": [
              "<Figure size 432x288 with 1 Axes>"
            ]
          },
          "metadata": {
            "tags": [],
            "needs_background": "light"
          }
        }
      ]
    },
    {
      "cell_type": "markdown",
      "metadata": {
        "id": "ZhqgDJSNTTph"
      },
      "source": [
        "2.2.6 넘파이로 텐서 조작하기\n",
        "\n",
        "train_images[i] 처럼 특정 원소를 선택하는 것을 슬라이싱"
      ]
    },
    {
      "cell_type": "code",
      "metadata": {
        "colab": {
          "base_uri": "https://localhost:8080/"
        },
        "id": "ZuBGAN80R73r",
        "outputId": "e5cca231-90f0-490d-83a7-427ba2fbd8f3"
      },
      "source": [
        "my_slice = train_images[10:100]\n",
        "print(my_slice.shape)"
      ],
      "execution_count": null,
      "outputs": [
        {
          "output_type": "stream",
          "text": [
            "(90, 28, 28)\n"
          ],
          "name": "stdout"
        }
      ]
    },
    {
      "cell_type": "code",
      "metadata": {
        "colab": {
          "base_uri": "https://localhost:8080/"
        },
        "id": "BlgnSv6ZZBfE",
        "outputId": "e674aa48-f1f5-4723-da3e-4b8cd38e5bca"
      },
      "source": [
        "my_slice = train_images[10:100, :, :]  # 이전 예와 동일\n",
        "my_slice.shape"
      ],
      "execution_count": null,
      "outputs": [
        {
          "output_type": "execute_result",
          "data": {
            "text/plain": [
              "(90, 28, 28)"
            ]
          },
          "metadata": {
            "tags": []
          },
          "execution_count": 42
        }
      ]
    },
    {
      "cell_type": "code",
      "metadata": {
        "colab": {
          "base_uri": "https://localhost:8080/"
        },
        "id": "2wz0oqqma3ND",
        "outputId": "f693715e-7eaf-423c-a079-f88a73ca1527"
      },
      "source": [
        "my_slice = train_images[10:100, 0:28, 0:28]  # 이전 예와 동일\n",
        "my_slice.shape"
      ],
      "execution_count": null,
      "outputs": [
        {
          "output_type": "execute_result",
          "data": {
            "text/plain": [
              "(90, 28, 28)"
            ]
          },
          "metadata": {
            "tags": []
          },
          "execution_count": 43
        }
      ]
    },
    {
      "cell_type": "code",
      "metadata": {
        "colab": {
          "base_uri": "https://localhost:8080/"
        },
        "id": "Aupl5EeDa6a-",
        "outputId": "12caf2c1-fb56-4e62-fce3-bc7bd8fa520d"
      },
      "source": [
        "# 이미지의 오른쪽 아래 14*14픽셀을 선택\n",
        "my_slice = train_images[:, 14:, 14:]\n",
        "my_slice.shape"
      ],
      "execution_count": null,
      "outputs": [
        {
          "output_type": "execute_result",
          "data": {
            "text/plain": [
              "(60000, 14, 14)"
            ]
          },
          "metadata": {
            "tags": []
          },
          "execution_count": 44
        }
      ]
    },
    {
      "cell_type": "code",
      "metadata": {
        "colab": {
          "base_uri": "https://localhost:8080/"
        },
        "id": "w21u842rbDf9",
        "outputId": "af794ea3-9cd4-471e-effc-0dccb6922cac"
      },
      "source": [
        "# 정중앙에 위치한 14*14 픽셀을 선택\n",
        "my_slice = train_images[:, 7:-7, 7:-7]\n",
        "my_slice.shape"
      ],
      "execution_count": null,
      "outputs": [
        {
          "output_type": "execute_result",
          "data": {
            "text/plain": [
              "(60000, 14, 14)"
            ]
          },
          "metadata": {
            "tags": []
          },
          "execution_count": 45
        }
      ]
    },
    {
      "cell_type": "code",
      "metadata": {
        "id": "8ozyBLRwkCLj"
      },
      "source": [
        ""
      ],
      "execution_count": null,
      "outputs": []
    }
  ]
}