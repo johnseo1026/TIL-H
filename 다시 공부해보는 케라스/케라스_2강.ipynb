{
  "nbformat": 4,
  "nbformat_minor": 0,
  "metadata": {
    "colab": {
      "name": "케라스 2강.ipynb",
      "provenance": [],
      "collapsed_sections": []
    },
    "kernelspec": {
      "name": "python3",
      "display_name": "Python 3"
    },
    "language_info": {
      "name": "python"
    }
  },
  "cells": [
    {
      "cell_type": "markdown",
      "metadata": {
        "id": "Wyp6Mb1UMzb4"
      },
      "source": [
        "2.1 신경망과의 첫 만남"
      ]
    },
    {
      "cell_type": "code",
      "metadata": {
        "id": "3pgp0fhzLfup",
        "colab": {
          "base_uri": "https://localhost:8080/"
        },
        "outputId": "d17080da-2179-4579-b5bb-1ffabc2025ca"
      },
      "source": [
        "# 케라스에서 mnist 데이터셋 적재하기\n",
        "from keras.datasets import mnist\n",
        "(train_images, train_labels), (test_images, test_labels) = mnist.load_data()"
      ],
      "execution_count": null,
      "outputs": [
        {
          "output_type": "stream",
          "text": [
            "Downloading data from https://storage.googleapis.com/tensorflow/tf-keras-datasets/mnist.npz\n",
            "11493376/11490434 [==============================] - 0s 0us/step\n"
          ],
          "name": "stdout"
        }
      ]
    },
    {
      "cell_type": "code",
      "metadata": {
        "colab": {
          "base_uri": "https://localhost:8080/"
        },
        "id": "-1EqT2ghMHZ2",
        "outputId": "ad9de64a-d133-42a9-b327-ae11cfadd4cd"
      },
      "source": [
        "# 훈련 세트\n",
        "train_images.shape"
      ],
      "execution_count": null,
      "outputs": [
        {
          "output_type": "execute_result",
          "data": {
            "text/plain": [
              "(60000, 28, 28)"
            ]
          },
          "metadata": {
            "tags": []
          },
          "execution_count": 2
        }
      ]
    },
    {
      "cell_type": "code",
      "metadata": {
        "colab": {
          "base_uri": "https://localhost:8080/"
        },
        "id": "jwzEITrfRvij",
        "outputId": "2faa8435-e1fe-4e3b-fa6d-6d084af49a3d"
      },
      "source": [
        "len(train_labels)"
      ],
      "execution_count": null,
      "outputs": [
        {
          "output_type": "execute_result",
          "data": {
            "text/plain": [
              "60000"
            ]
          },
          "metadata": {
            "tags": []
          },
          "execution_count": 3
        }
      ]
    },
    {
      "cell_type": "code",
      "metadata": {
        "colab": {
          "base_uri": "https://localhost:8080/"
        },
        "id": "Sku3kRwPRvwq",
        "outputId": "5768e4a6-a206-40c0-aa40-e5f0433e59ff"
      },
      "source": [
        "train_labels"
      ],
      "execution_count": null,
      "outputs": [
        {
          "output_type": "execute_result",
          "data": {
            "text/plain": [
              "array([5, 0, 4, ..., 5, 6, 8], dtype=uint8)"
            ]
          },
          "metadata": {
            "tags": []
          },
          "execution_count": 4
        }
      ]
    },
    {
      "cell_type": "code",
      "metadata": {
        "colab": {
          "base_uri": "https://localhost:8080/"
        },
        "id": "WvjDvNjAMoLj",
        "outputId": "58e7f5ca-58cc-40fe-dda6-f6b30e4d2af3"
      },
      "source": [
        "# 테스트 세트\n",
        "test_images.shape\n",
        "\n"
      ],
      "execution_count": null,
      "outputs": [
        {
          "output_type": "execute_result",
          "data": {
            "text/plain": [
              "(10000, 28, 28)"
            ]
          },
          "metadata": {
            "tags": []
          },
          "execution_count": 5
        }
      ]
    },
    {
      "cell_type": "code",
      "metadata": {
        "colab": {
          "base_uri": "https://localhost:8080/"
        },
        "id": "QVbpPChER1O_",
        "outputId": "9c33434a-b94e-4bf5-88ed-cdb611dfbb06"
      },
      "source": [
        "len(test_labels)"
      ],
      "execution_count": null,
      "outputs": [
        {
          "output_type": "execute_result",
          "data": {
            "text/plain": [
              "10000"
            ]
          },
          "metadata": {
            "tags": []
          },
          "execution_count": 6
        }
      ]
    },
    {
      "cell_type": "code",
      "metadata": {
        "colab": {
          "base_uri": "https://localhost:8080/"
        },
        "id": "WLkw55KMR1SF",
        "outputId": "611ae86e-72ec-412c-b94b-9590df16b27a"
      },
      "source": [
        "test_labels"
      ],
      "execution_count": null,
      "outputs": [
        {
          "output_type": "execute_result",
          "data": {
            "text/plain": [
              "array([7, 2, 1, ..., 4, 5, 6], dtype=uint8)"
            ]
          },
          "metadata": {
            "tags": []
          },
          "execution_count": 7
        }
      ]
    },
    {
      "cell_type": "code",
      "metadata": {
        "id": "rcOoJp4gMwWW"
      },
      "source": [
        "# 신경망 구조\n",
        "from keras import models\n",
        "from keras import layers\n",
        "\n",
        "network = models.Sequential()\n",
        "# print(network)\n",
        "network.add(layers.Dense(512, activation='relu', input_shape=(28*28,)))\n",
        "network.add(layers.Dense(10, activation='softmax'))"
      ],
      "execution_count": null,
      "outputs": []
    },
    {
      "cell_type": "code",
      "metadata": {
        "colab": {
          "base_uri": "https://localhost:8080/"
        },
        "id": "X9cJin3_MzCa",
        "outputId": "da87e2b6-2d51-432f-da32-ab7e94c40cc9"
      },
      "source": [
        "print(network.add(layers.Dense(512, activation='relu', input_shape=(28*28,))))\n",
        "print(network.add(layers.Dense(10, activation='softmax')))"
      ],
      "execution_count": null,
      "outputs": [
        {
          "output_type": "stream",
          "text": [
            "None\n",
            "None\n"
          ],
          "name": "stdout"
        }
      ]
    },
    {
      "cell_type": "markdown",
      "metadata": {
        "id": "Fwkv8v1JPrWY"
      },
      "source": [
        "신경망 층인 Dense 층 2개가 연속, 두번째층은 10개의 확률 점수가 들어 있는 배열(모두 더하면 1)을 반환하는 소프트맥스층이다. 각 점수는 현재 숫자 이미지가 10개의 숫자 클래스중 하나에 속할 확률"
      ]
    },
    {
      "cell_type": "markdown",
      "metadata": {
        "id": "Fhzbp4WJQYnh"
      },
      "source": [
        "신경망이 훈련준비를 마치기 위해 컴파일 단계에 3가지가 더 필요\n",
        "\n",
        "1. 손실함수(loss function): 훈련데이터에서 신경망의 성능을 측정하는 방법으로 네트워크가 옳은 방향으로 학습될 수 있도록 도와줌\n",
        "2. 옵티마이저(optimizer): 입력된 데이터와 손실 함수를 기반으로 네트워크를 업데이트하는 메커니즘\n",
        "3. 훈련과 테스트 과정을 모니터링할 지표: 여기에서는 정확도(정확히 분류된 이미지의 비율)만 고려"
      ]
    },
    {
      "cell_type": "code",
      "metadata": {
        "id": "JUxkbarpPLUY"
      },
      "source": [
        "# 컴파일 단계\n",
        "network.compile(optimizer='rmsprop', loss='categorical_crossentropy', metrics=['accuracy'])"
      ],
      "execution_count": null,
      "outputs": []
    },
    {
      "cell_type": "code",
      "metadata": {
        "colab": {
          "base_uri": "https://localhost:8080/"
        },
        "id": "XYNyBN8TPjVk",
        "outputId": "64d47e96-0de5-4c44-8b9d-f3e1ee71adea"
      },
      "source": [
        "print(network.compile(optimizer='rmsprop', loss='categorical_crossentropy', metrics=['accuracy']))"
      ],
      "execution_count": null,
      "outputs": [
        {
          "output_type": "stream",
          "text": [
            "None\n"
          ],
          "name": "stdout"
        }
      ]
    },
    {
      "cell_type": "markdown",
      "metadata": {
        "id": "YJZ90Uu4Rapt"
      },
      "source": [
        "훈련 시작전 테이터를 네트워크에 맞는 크기로 바꾸고 모든 값을 0과 1사이로 스케일을 조정\n",
        "그렇기에 앞서 훈련이미지는 [0, 255] 사이의 값인 uint8 타입의 (60000, 28, 28) 크기를 가진 배열로 저장되어 있다. 이 데이터를 0과 1사이의 값을 가지는 float32타입의 (60000, 28, 28) 크기인 배열로 바꿈"
      ]
    },
    {
      "cell_type": "code",
      "metadata": {
        "id": "PZFhrYghRAVE"
      },
      "source": [
        "# 이미지 데이터 준비하기\n",
        "train_images = train_images.reshape((60000, 28*28))\n",
        "train_images = train_images.astype('float32') / 255\n",
        "\n",
        "test_images = test_images.reshape((10000, 28*28))\n",
        "test_images = test_images.astype('float32') / 255"
      ],
      "execution_count": null,
      "outputs": []
    },
    {
      "cell_type": "code",
      "metadata": {
        "id": "lpO6qm39SL6u"
      },
      "source": [
        "# 레이블 준비하기\n",
        "from keras.utils import to_categorical\n",
        "\n",
        "train_labels = to_categorical(train_labels)\n",
        "test_labels = to_categorical(test_labels)"
      ],
      "execution_count": null,
      "outputs": []
    },
    {
      "cell_type": "code",
      "metadata": {
        "colab": {
          "base_uri": "https://localhost:8080/"
        },
        "id": "QgmBjrh_SaRj",
        "outputId": "cb34d947-6838-4a05-9215-d947d938f751"
      },
      "source": [
        "network.fit(train_images, train_labels, epochs=5, batch_size=128)"
      ],
      "execution_count": null,
      "outputs": [
        {
          "output_type": "stream",
          "text": [
            "Epoch 1/5\n",
            "469/469 [==============================] - 6s 12ms/step - loss: 1.1029 - accuracy: 0.6512\n",
            "Epoch 2/5\n",
            "469/469 [==============================] - 5s 11ms/step - loss: 0.1621 - accuracy: 0.9564\n",
            "Epoch 3/5\n",
            "469/469 [==============================] - 5s 11ms/step - loss: 0.0920 - accuracy: 0.9748\n",
            "Epoch 4/5\n",
            "469/469 [==============================] - 5s 12ms/step - loss: 0.0640 - accuracy: 0.9829\n",
            "Epoch 5/5\n",
            "469/469 [==============================] - 5s 11ms/step - loss: 0.0487 - accuracy: 0.9861\n"
          ],
          "name": "stdout"
        },
        {
          "output_type": "execute_result",
          "data": {
            "text/plain": [
              "<tensorflow.python.keras.callbacks.History at 0x7ff8ba7d0610>"
            ]
          },
          "metadata": {
            "tags": []
          },
          "execution_count": 14
        }
      ]
    },
    {
      "cell_type": "markdown",
      "metadata": {
        "id": "KFdQOXa_aArX"
      },
      "source": [
        "위에 있는 정보는 훈련데이터에 대한 네트워크의 손실과 정확도이다."
      ]
    },
    {
      "cell_type": "code",
      "metadata": {
        "id": "yy52Ud5wSkOg",
        "colab": {
          "base_uri": "https://localhost:8080/"
        },
        "outputId": "ad46b614-2fc7-469f-9b44-3ec1bccb8dd5"
      },
      "source": [
        "test_loss, test_acc = network.evaluate(test_images, test_labels)"
      ],
      "execution_count": null,
      "outputs": [
        {
          "output_type": "stream",
          "text": [
            "313/313 [==============================] - 1s 2ms/step - loss: 0.0941 - accuracy: 0.9750\n"
          ],
          "name": "stdout"
        }
      ]
    },
    {
      "cell_type": "code",
      "metadata": {
        "colab": {
          "base_uri": "https://localhost:8080/"
        },
        "id": "1GQQEW_IalSH",
        "outputId": "1a13f951-5678-48b2-c52a-1018282e344a"
      },
      "source": [
        "print('test_acc:', test_acc)"
      ],
      "execution_count": null,
      "outputs": [
        {
          "output_type": "stream",
          "text": [
            "test_acc: 0.9750000238418579\n"
          ],
          "name": "stdout"
        }
      ]
    },
    {
      "cell_type": "markdown",
      "metadata": {
        "id": "vIk1P53oavQR"
      },
      "source": [
        "테스트 정확도는 97.8% 정도로 나왔는데 훈현세트의 정확도 보다는 약간 낮습니다. 훈련 정확도와 테스트 정확도 사이의 차이는 과대적합(overfitting) 때문이다. 이는 머신 러닝 모델이 훈현 데이터보다 새로운 데이터에서 성능이 낮아지는 경향을 말한다."
      ]
    },
    {
      "cell_type": "markdown",
      "metadata": {
        "id": "KxJl2UNj8-Rl"
      },
      "source": [
        "2.2 신경망을 위한 데이터 표현"
      ]
    },
    {
      "cell_type": "markdown",
      "metadata": {
        "id": "FgxrMkNl9O7M"
      },
      "source": [
        "2.2.1 스칼라(0D 텐서)\n",
        "\n",
        "하나의 숫자만 담고 있는 텐서를 스칼라(scalar)(또는 스칼라 텐서, 0차원텐서, 0D 텐서)라고 부른다. float32나ㅣ float64 타입의 숫자가 스칼라 텐서. 스칼라아 텐서의 축 개수는 0(ndim == 0). 텐서의 축 개수를 랭크라고도 부름"
      ]
    },
    {
      "cell_type": "code",
      "metadata": {
        "id": "OoAK_K8iarSL",
        "colab": {
          "base_uri": "https://localhost:8080/"
        },
        "outputId": "b63458c1-a230-450d-ae2c-33cf3d8d1ede"
      },
      "source": [
        "import numpy as np\n",
        "x = np.array(12)\n",
        "x"
      ],
      "execution_count": null,
      "outputs": [
        {
          "output_type": "execute_result",
          "data": {
            "text/plain": [
              "array(12)"
            ]
          },
          "metadata": {
            "tags": []
          },
          "execution_count": 17
        }
      ]
    },
    {
      "cell_type": "code",
      "metadata": {
        "colab": {
          "base_uri": "https://localhost:8080/"
        },
        "id": "moYOZe-N-EGb",
        "outputId": "03d7087a-87cf-41d2-f7d2-8d16d9f7cacc"
      },
      "source": [
        "x.ndim"
      ],
      "execution_count": null,
      "outputs": [
        {
          "output_type": "execute_result",
          "data": {
            "text/plain": [
              "0"
            ]
          },
          "metadata": {
            "tags": []
          },
          "execution_count": 18
        }
      ]
    },
    {
      "cell_type": "markdown",
      "metadata": {
        "id": "hKMFJg3L-G8h"
      },
      "source": [
        "2.2.2 벡터(1D 텐서)\n",
        "\n",
        "숫자의 배열을 벡터(vector)또는 1D 텐서라고 부른다. 딱 하나의 축을 가진다."
      ]
    },
    {
      "cell_type": "code",
      "metadata": {
        "colab": {
          "base_uri": "https://localhost:8080/"
        },
        "id": "eHl3cK-l-FZm",
        "outputId": "a5d139ac-5572-4bd7-8b09-3f63aae640c8"
      },
      "source": [
        "x= np.array([12, 2, 5, 6, 16])\n",
        "x"
      ],
      "execution_count": null,
      "outputs": [
        {
          "output_type": "execute_result",
          "data": {
            "text/plain": [
              "array([12,  2,  5,  6, 16])"
            ]
          },
          "metadata": {
            "tags": []
          },
          "execution_count": 19
        }
      ]
    },
    {
      "cell_type": "code",
      "metadata": {
        "colab": {
          "base_uri": "https://localhost:8080/"
        },
        "id": "jLYrhGQl-dwp",
        "outputId": "b28fb1e0-ca8c-4540-cb34-09921d287bd6"
      },
      "source": [
        "x.ndim"
      ],
      "execution_count": null,
      "outputs": [
        {
          "output_type": "execute_result",
          "data": {
            "text/plain": [
              "1"
            ]
          },
          "metadata": {
            "tags": []
          },
          "execution_count": 20
        }
      ]
    },
    {
      "cell_type": "markdown",
      "metadata": {
        "id": "YrW5_oxHHMS_"
      },
      "source": [
        "이 벡터는 5개의 원소를 가지고 있어서 5차원 벡터라 부른다. 5D 벡터와 5D 텐서를 혼동하면 안된다. 5D 벡터는 하나의 축을 따라 5개의 차원을 가진것이고 5D 텐서는 5개의 축을 가진것이다.("
      ]
    },
    {
      "cell_type": "markdown",
      "metadata": {
        "id": "mUZvgW1IIAYg"
      },
      "source": [
        "2.2.3 행렬(2D 텐서)\n",
        "\n",
        "벡터의 배열이 행렬(matrix) 또는 2D 텐서. 행렬에는 2개의 축이 있다(행과 열)"
      ]
    },
    {
      "cell_type": "code",
      "metadata": {
        "colab": {
          "base_uri": "https://localhost:8080/"
        },
        "id": "lFwPes8h-e4u",
        "outputId": "7caef478-f39f-405c-a1d4-36abdd3a1a51"
      },
      "source": [
        "x = np.array([[5, 12, 4, 34, 6],\n",
        "              [1, 23, 6, 45, 2],\n",
        "              [7, 65, 9,12, 5]])\n",
        "x"
      ],
      "execution_count": null,
      "outputs": [
        {
          "output_type": "execute_result",
          "data": {
            "text/plain": [
              "array([[ 5, 12,  4, 34,  6],\n",
              "       [ 1, 23,  6, 45,  2],\n",
              "       [ 7, 65,  9, 12,  5]])"
            ]
          },
          "metadata": {
            "tags": []
          },
          "execution_count": 21
        }
      ]
    },
    {
      "cell_type": "code",
      "metadata": {
        "colab": {
          "base_uri": "https://localhost:8080/"
        },
        "id": "hXxqhSSLIc1M",
        "outputId": "b3a72e99-ec28-4051-fc0e-72d715f70a8e"
      },
      "source": [
        "x.ndim"
      ],
      "execution_count": null,
      "outputs": [
        {
          "output_type": "execute_result",
          "data": {
            "text/plain": [
              "2"
            ]
          },
          "metadata": {
            "tags": []
          },
          "execution_count": 22
        }
      ]
    },
    {
      "cell_type": "markdown",
      "metadata": {
        "id": "5qK-kRLoIkHl"
      },
      "source": [
        "첫 번째 축에 놓여있는 원소를 행, 두번째 축에 놓여있는 원소를 열.\n",
        "\n",
        "x의 첫번째 행은 [5, 12, 4, 34, 6]\n",
        "\n",
        "첫번째 열은 [5, 1, 7]"
      ]
    },
    {
      "cell_type": "markdown",
      "metadata": {
        "id": "61SnJ7o6I2Rh"
      },
      "source": [
        "2.2.4 3D 텐서와 고차원 텐서\n",
        "\n",
        "3D 텐서: 행렬들을 하나의 새로운 배열로 합치면 숫자가 채워진 직육면체 형태로 해석됨"
      ]
    },
    {
      "cell_type": "code",
      "metadata": {
        "colab": {
          "base_uri": "https://localhost:8080/"
        },
        "id": "t_y5nm2RIihp",
        "outputId": "a58164c3-07de-47e9-c190-e3eb4ac5ad70"
      },
      "source": [
        "x = np.array([[[5, 78, 2, 34, 0],\n",
        "               [6, 79, 3, 35, 1],\n",
        "               [7, 80, 4, 36, 2]],\n",
        "              [[5, 78, 2, 34, 0],\n",
        "               [6, 79, 3, 35, 1],\n",
        "               [7, 80, 4, 35, 1]],\n",
        "              [[5, 78, 2, 34, 0],\n",
        "               [6, 79, 3, 35, 1],\n",
        "               [7, 80, 4, 36, 2]]])\n",
        "x"
      ],
      "execution_count": null,
      "outputs": [
        {
          "output_type": "execute_result",
          "data": {
            "text/plain": [
              "array([[[ 5, 78,  2, 34,  0],\n",
              "        [ 6, 79,  3, 35,  1],\n",
              "        [ 7, 80,  4, 36,  2]],\n",
              "\n",
              "       [[ 5, 78,  2, 34,  0],\n",
              "        [ 6, 79,  3, 35,  1],\n",
              "        [ 7, 80,  4, 35,  1]],\n",
              "\n",
              "       [[ 5, 78,  2, 34,  0],\n",
              "        [ 6, 79,  3, 35,  1],\n",
              "        [ 7, 80,  4, 36,  2]]])"
            ]
          },
          "metadata": {
            "tags": []
          },
          "execution_count": 23
        }
      ]
    },
    {
      "cell_type": "code",
      "metadata": {
        "colab": {
          "base_uri": "https://localhost:8080/"
        },
        "id": "-UZNX8wsK1HC",
        "outputId": "f226b8ac-2574-41b8-98d1-e64b5b8dfdc6"
      },
      "source": [
        "x.ndim"
      ],
      "execution_count": null,
      "outputs": [
        {
          "output_type": "execute_result",
          "data": {
            "text/plain": [
              "3"
            ]
          },
          "metadata": {
            "tags": []
          },
          "execution_count": 24
        }
      ]
    },
    {
      "cell_type": "markdown",
      "metadata": {
        "id": "R05dpPMcLH5L"
      },
      "source": [
        "3D 텐서들을 하나의 배열로 합치면 4D 텐서를 만드는 식으로 이어짐. 딥러닝에서는 보통 0D에서 4D 까지의 텐서를 다룸. 동영상 데이터의 경우 5D 텐서까지도 가기도함"
      ]
    },
    {
      "cell_type": "markdown",
      "metadata": {
        "id": "XRfBvhkwLZmA"
      },
      "source": [
        "2.2.5 핵심 속성\n",
        "\n",
        "텐서는 3개의 핵심 속성으로 정의됨\n",
        "\n",
        "1. 축의 개수(랭크) : 3D 텐서에는 3개의 축이 있고 2D 텐서(행렬)에는 2개의 축이 있다. ndim 속성에 저장되어 있음\n",
        "\n",
        "2. 크기(shape) : 텐서의 각 축을 따라 얼마나 많은 차원이 있는지를 나타낸 파이썬의 튜플임. 위에서 했던 행렬의 크기는 (3, 5)이고 3D 텐서는 (3, 3, 5)이다.\n",
        " 백터의 크기는 (5,)처럼 1개의 원소로 이루어진 튜플이다. 배열 스칼라는 ()처럼 크기가 없다\n",
        "\n",
        "3. 데이터 타입(numpy에서는 dtype에 저장됨) : 텐서에 포함된 데이터의 타입"
      ]
    },
    {
      "cell_type": "code",
      "metadata": {
        "id": "d4rxvvAnLCIc"
      },
      "source": [
        "from keras.datasets import mnist\n",
        "(train_images, train_labels), (test_images, test_labels) = mnist.load_data()"
      ],
      "execution_count": null,
      "outputs": []
    },
    {
      "cell_type": "code",
      "metadata": {
        "colab": {
          "base_uri": "https://localhost:8080/"
        },
        "id": "BCRGdbNWQ209",
        "outputId": "cbed452f-98cf-4415-ece7-b845cfbcc053"
      },
      "source": [
        "# train_images 배열의 ndim속성으로 축의 개수 확인\n",
        "print(train_images.ndim)"
      ],
      "execution_count": null,
      "outputs": [
        {
          "output_type": "stream",
          "text": [
            "3\n"
          ],
          "name": "stdout"
        }
      ]
    },
    {
      "cell_type": "code",
      "metadata": {
        "colab": {
          "base_uri": "https://localhost:8080/"
        },
        "id": "x8n18kgFRIhv",
        "outputId": "caec4816-35c6-49de-c54a-c4e9a8fc1eda"
      },
      "source": [
        "# 배열의 크기\n",
        "print(train_images.shape)"
      ],
      "execution_count": null,
      "outputs": [
        {
          "output_type": "stream",
          "text": [
            "(60000, 28, 28)\n"
          ],
          "name": "stdout"
        }
      ]
    },
    {
      "cell_type": "code",
      "metadata": {
        "colab": {
          "base_uri": "https://localhost:8080/"
        },
        "id": "FYvBGdaARNM2",
        "outputId": "76dacfa0-397b-4455-8730-0834fed18610"
      },
      "source": [
        "# 데이터 타입확인\n",
        "print(train_images.dtype)"
      ],
      "execution_count": null,
      "outputs": [
        {
          "output_type": "stream",
          "text": [
            "uint8\n"
          ],
          "name": "stdout"
        }
      ]
    },
    {
      "cell_type": "markdown",
      "metadata": {
        "id": "tGdwO3pRRUNW"
      },
      "source": [
        "위의 배열은 8비트 정수형 3D 텐서이다. 더 정확하게는 28 * 28 크기의 정수 행렬 6만개가 있는 배열. 각 행렬은 하나의 흑백 이미지고, 행렬의 각 원소는 0에서 255 사의 값을 가진다."
      ]
    },
    {
      "cell_type": "code",
      "metadata": {
        "colab": {
          "base_uri": "https://localhost:8080/",
          "height": 265
        },
        "id": "FUiB7KstRSWb",
        "outputId": "f1f6b557-2aba-4394-dd15-024cf066f56a"
      },
      "source": [
        "# 다섯번째 이미지 출력하기\n",
        "digit = train_images[4]\n",
        "\n",
        "import matplotlib.pyplot as plt\n",
        "plt.imshow(digit, cmap=plt.cm.binary)\n",
        "plt.show()"
      ],
      "execution_count": null,
      "outputs": [
        {
          "output_type": "display_data",
          "data": {
            "image/png": "[encoded data removed]",
            "text/plain": [
              "<Figure size 432x288 with 1 Axes>"
            ]
          },
          "metadata": {
            "tags": [],
            "needs_background": "light"
          }
        }
      ]
    },
    {
      "cell_type": "markdown",
      "metadata": {
        "id": "ZhqgDJSNTTph"
      },
      "source": [
        "2.2.6 넘파이로 텐서 조작하기\n",
        "\n",
        "train_images[i] 처럼 특정 원소를 선택하는 것을 슬라이싱"
      ]
    },
    {
      "cell_type": "code",
      "metadata": {
        "colab": {
          "base_uri": "https://localhost:8080/"
        },
        "id": "ZuBGAN80R73r",
        "outputId": "956392dc-9a40-4fe6-ec6c-d7a50eda6fce"
      },
      "source": [
        "my_slice = train_images[10:100]\n",
        "print(my_slice.shape)"
      ],
      "execution_count": null,
      "outputs": [
        {
          "output_type": "stream",
          "text": [
            "(90, 28, 28)\n"
          ],
          "name": "stdout"
        }
      ]
    },
    {
      "cell_type": "code",
      "metadata": {
        "colab": {
          "base_uri": "https://localhost:8080/"
        },
        "id": "BlgnSv6ZZBfE",
        "outputId": "7f4f0b10-1e06-49b4-848e-d206ae2c5e70"
      },
      "source": [
        "my_slice = train_images[10:100, :, :]  # 이전 예와 동일\n",
        "my_slice.shape"
      ],
      "execution_count": null,
      "outputs": [
        {
          "output_type": "execute_result",
          "data": {
            "text/plain": [
              "(90, 28, 28)"
            ]
          },
          "metadata": {
            "tags": []
          },
          "execution_count": 31
        }
      ]
    },
    {
      "cell_type": "code",
      "metadata": {
        "colab": {
          "base_uri": "https://localhost:8080/"
        },
        "id": "2wz0oqqma3ND",
        "outputId": "50ca7e0d-a099-4696-b99e-56bc0d2c406d"
      },
      "source": [
        "my_slice = train_images[10:100, 0:28, 0:28]  # 이전 예와 동일\n",
        "my_slice.shape"
      ],
      "execution_count": null,
      "outputs": [
        {
          "output_type": "execute_result",
          "data": {
            "text/plain": [
              "(90, 28, 28)"
            ]
          },
          "metadata": {
            "tags": []
          },
          "execution_count": 32
        }
      ]
    },
    {
      "cell_type": "code",
      "metadata": {
        "colab": {
          "base_uri": "https://localhost:8080/"
        },
        "id": "Aupl5EeDa6a-",
        "outputId": "88d09732-aacd-4144-f371-6332deb69a49"
      },
      "source": [
        "# 이미지의 오른쪽 아래 14*14픽셀을 선택\n",
        "my_slice = train_images[:, 14:, 14:]\n",
        "my_slice.shape"
      ],
      "execution_count": null,
      "outputs": [
        {
          "output_type": "execute_result",
          "data": {
            "text/plain": [
              "(60000, 14, 14)"
            ]
          },
          "metadata": {
            "tags": []
          },
          "execution_count": 33
        }
      ]
    },
    {
      "cell_type": "code",
      "metadata": {
        "colab": {
          "base_uri": "https://localhost:8080/"
        },
        "id": "w21u842rbDf9",
        "outputId": "b592b358-1cbc-48f0-ebf1-fe9770e3d8e2"
      },
      "source": [
        "# 정중앙에 위치한 14*14 픽셀을 선택\n",
        "my_slice = train_images[:, 7:-7, 7:-7]\n",
        "my_slice.shape"
      ],
      "execution_count": null,
      "outputs": [
        {
          "output_type": "execute_result",
          "data": {
            "text/plain": [
              "(60000, 14, 14)"
            ]
          },
          "metadata": {
            "tags": []
          },
          "execution_count": 34
        }
      ]
    },
    {
      "cell_type": "markdown",
      "metadata": {
        "id": "fr25PjcuIBvQ"
      },
      "source": [
        "2.2.7 배치 데이터\n",
        "\n",
        "mnist 숫자 데이터에서 크기가 128인 배치하나는 다음과 같다"
      ]
    },
    {
      "cell_type": "code",
      "metadata": {
        "id": "8ozyBLRwkCLj",
        "colab": {
          "base_uri": "https://localhost:8080/"
        },
        "outputId": "6e276c22-8ff2-41e1-a5c7-0b4bce1af045"
      },
      "source": [
        "batch = train_images[:128]\n",
        "batch"
      ],
      "execution_count": null,
      "outputs": [
        {
          "output_type": "execute_result",
          "data": {
            "text/plain": [
              "array([[[0, 0, 0, ..., 0, 0, 0],\n",
              "        [0, 0, 0, ..., 0, 0, 0],\n",
              "        [0, 0, 0, ..., 0, 0, 0],\n",
              "        ...,\n",
              "        [0, 0, 0, ..., 0, 0, 0],\n",
              "        [0, 0, 0, ..., 0, 0, 0],\n",
              "        [0, 0, 0, ..., 0, 0, 0]],\n",
              "\n",
              "       [[0, 0, 0, ..., 0, 0, 0],\n",
              "        [0, 0, 0, ..., 0, 0, 0],\n",
              "        [0, 0, 0, ..., 0, 0, 0],\n",
              "        ...,\n",
              "        [0, 0, 0, ..., 0, 0, 0],\n",
              "        [0, 0, 0, ..., 0, 0, 0],\n",
              "        [0, 0, 0, ..., 0, 0, 0]],\n",
              "\n",
              "       [[0, 0, 0, ..., 0, 0, 0],\n",
              "        [0, 0, 0, ..., 0, 0, 0],\n",
              "        [0, 0, 0, ..., 0, 0, 0],\n",
              "        ...,\n",
              "        [0, 0, 0, ..., 0, 0, 0],\n",
              "        [0, 0, 0, ..., 0, 0, 0],\n",
              "        [0, 0, 0, ..., 0, 0, 0]],\n",
              "\n",
              "       ...,\n",
              "\n",
              "       [[0, 0, 0, ..., 0, 0, 0],\n",
              "        [0, 0, 0, ..., 0, 0, 0],\n",
              "        [0, 0, 0, ..., 0, 0, 0],\n",
              "        ...,\n",
              "        [0, 0, 0, ..., 0, 0, 0],\n",
              "        [0, 0, 0, ..., 0, 0, 0],\n",
              "        [0, 0, 0, ..., 0, 0, 0]],\n",
              "\n",
              "       [[0, 0, 0, ..., 0, 0, 0],\n",
              "        [0, 0, 0, ..., 0, 0, 0],\n",
              "        [0, 0, 0, ..., 0, 0, 0],\n",
              "        ...,\n",
              "        [0, 0, 0, ..., 0, 0, 0],\n",
              "        [0, 0, 0, ..., 0, 0, 0],\n",
              "        [0, 0, 0, ..., 0, 0, 0]],\n",
              "\n",
              "       [[0, 0, 0, ..., 0, 0, 0],\n",
              "        [0, 0, 0, ..., 0, 0, 0],\n",
              "        [0, 0, 0, ..., 0, 0, 0],\n",
              "        ...,\n",
              "        [0, 0, 0, ..., 0, 0, 0],\n",
              "        [0, 0, 0, ..., 0, 0, 0],\n",
              "        [0, 0, 0, ..., 0, 0, 0]]], dtype=uint8)"
            ]
          },
          "metadata": {
            "tags": []
          },
          "execution_count": 35
        }
      ]
    },
    {
      "cell_type": "code",
      "metadata": {
        "colab": {
          "base_uri": "https://localhost:8080/"
        },
        "id": "URF6MiKdKlRc",
        "outputId": "f806a673-c676-41dc-e41c-103fd35e4739"
      },
      "source": [
        "# 그다음 배치는 다음과 같다\n",
        "batch = train_images[128:256]\n",
        "batch"
      ],
      "execution_count": null,
      "outputs": [
        {
          "output_type": "execute_result",
          "data": {
            "text/plain": [
              "array([[[0, 0, 0, ..., 0, 0, 0],\n",
              "        [0, 0, 0, ..., 0, 0, 0],\n",
              "        [0, 0, 0, ..., 0, 0, 0],\n",
              "        ...,\n",
              "        [0, 0, 0, ..., 0, 0, 0],\n",
              "        [0, 0, 0, ..., 0, 0, 0],\n",
              "        [0, 0, 0, ..., 0, 0, 0]],\n",
              "\n",
              "       [[0, 0, 0, ..., 0, 0, 0],\n",
              "        [0, 0, 0, ..., 0, 0, 0],\n",
              "        [0, 0, 0, ..., 0, 0, 0],\n",
              "        ...,\n",
              "        [0, 0, 0, ..., 0, 0, 0],\n",
              "        [0, 0, 0, ..., 0, 0, 0],\n",
              "        [0, 0, 0, ..., 0, 0, 0]],\n",
              "\n",
              "       [[0, 0, 0, ..., 0, 0, 0],\n",
              "        [0, 0, 0, ..., 0, 0, 0],\n",
              "        [0, 0, 0, ..., 0, 0, 0],\n",
              "        ...,\n",
              "        [0, 0, 0, ..., 0, 0, 0],\n",
              "        [0, 0, 0, ..., 0, 0, 0],\n",
              "        [0, 0, 0, ..., 0, 0, 0]],\n",
              "\n",
              "       ...,\n",
              "\n",
              "       [[0, 0, 0, ..., 0, 0, 0],\n",
              "        [0, 0, 0, ..., 0, 0, 0],\n",
              "        [0, 0, 0, ..., 0, 0, 0],\n",
              "        ...,\n",
              "        [0, 0, 0, ..., 0, 0, 0],\n",
              "        [0, 0, 0, ..., 0, 0, 0],\n",
              "        [0, 0, 0, ..., 0, 0, 0]],\n",
              "\n",
              "       [[0, 0, 0, ..., 0, 0, 0],\n",
              "        [0, 0, 0, ..., 0, 0, 0],\n",
              "        [0, 0, 0, ..., 0, 0, 0],\n",
              "        ...,\n",
              "        [0, 0, 0, ..., 0, 0, 0],\n",
              "        [0, 0, 0, ..., 0, 0, 0],\n",
              "        [0, 0, 0, ..., 0, 0, 0]],\n",
              "\n",
              "       [[0, 0, 0, ..., 0, 0, 0],\n",
              "        [0, 0, 0, ..., 0, 0, 0],\n",
              "        [0, 0, 0, ..., 0, 0, 0],\n",
              "        ...,\n",
              "        [0, 0, 0, ..., 0, 0, 0],\n",
              "        [0, 0, 0, ..., 0, 0, 0],\n",
              "        [0, 0, 0, ..., 0, 0, 0]]], dtype=uint8)"
            ]
          },
          "metadata": {
            "tags": []
          },
          "execution_count": 36
        }
      ]
    },
    {
      "cell_type": "code",
      "metadata": {
        "id": "315_xinwK0Ho"
      },
      "source": [
        "# n번째 배치\n",
        "\n",
        "batch = train_images[128*n:128*(n+1)]\n",
        "batch"
      ],
      "execution_count": null,
      "outputs": []
    },
    {
      "cell_type": "markdown",
      "metadata": {
        "id": "5XCHtyzPK5WX"
      },
      "source": [
        "이런 배치데이터를 다룰때는 첫번째 축을 배치축(batch axis) 또는 배치 차원(batch dimension)이라 부른다"
      ]
    },
    {
      "cell_type": "markdown",
      "metadata": {
        "id": "9iaggPmdLCzT"
      },
      "source": [
        "2.2.8 텐서의 실제 사례\n",
        "\n",
        "- 벡터 데이터: (samples, features) 크기의 2D 텐서\n",
        "- 시계열 데이터 또는 시퀀스(sequence) 데이터: (samples, timesteps, features) 크기의 3D 텐서\n",
        "- 이미지: (samples, height, width, channels) 또는 (samples, channels, height, width) 크기의 4D 텐서\n",
        "- 동영상: (samples, frames, height, width, channels) 또는 ((samples, frames, channels, height, width) 크기의 5D 텐서"
      ]
    },
    {
      "cell_type": "markdown",
      "metadata": {
        "id": "de-fXdNeMA5U"
      },
      "source": [
        "2.3 신경망의 톱니바퀴: 텐서 연산"
      ]
    },
    {
      "cell_type": "markdown",
      "metadata": {
        "id": "YP8JC33WUYxQ"
      },
      "source": [
        "2.3.1 원소별 연산\n",
        "\n",
        "relu 함수와 덧셈은 원소별 연산(element-wise operation)이다."
      ]
    },
    {
      "cell_type": "code",
      "metadata": {
        "id": "HzLTPtIjMAQJ"
      },
      "source": [
        "# relu 연산 relu 연산\n",
        "def naive_relu(x):\n",
        "  assert len(x.shape) == 2 # x는 2D 넘파이 배열\n",
        "\n",
        "  x = x.copy # 입력텐서 자체를 바꾸지 않도록 복사\n",
        "  for i in range(x.shape[0]):\n",
        "    for j in range(x.shape[1]):\n",
        "      x[i, j] = max(x[i, j], 0)\n",
        "  return x"
      ],
      "execution_count": null,
      "outputs": []
    },
    {
      "cell_type": "code",
      "metadata": {
        "id": "2DtszBwhbAq7"
      },
      "source": [
        "# 덧셈도 동일\n",
        "def naive_add(x, y):\n",
        "  assert len(x.shape) == 2 # x와 y는 2D 넘파이 배열\n",
        "  assert x.shape == y.shape\n",
        "\n",
        "  x = x.copy # 입력텐서 자체를 바꾸지 않도록 복사\n",
        "  for i in range(x.shape[0]):\n",
        "    for j in range(x.shape[1]):\n",
        "      x[i, j] += y[i, j]\n",
        "  return x"
      ],
      "execution_count": null,
      "outputs": []
    },
    {
      "cell_type": "markdown",
      "metadata": {
        "id": "4qdlFB2vdsq4"
      },
      "source": [
        "같은 원리로 원소별 곱셈, 뺄셈도 할 수 있다.\n",
        "\n",
        "import numpy as np\n",
        "\n",
        "z = x+y # 원소별 덧셈\n",
        "\n",
        "z = np.maximun(z, 0.) # 원소별 렐루 함수\n"
      ]
    },
    {
      "cell_type": "markdown",
      "metadata": {
        "id": "opbBQJCbiKwB"
      },
      "source": [
        ""
      ]
    },
    {
      "cell_type": "code",
      "metadata": {
        "id": "oAXpAEvLeI9R"
      },
      "source": [
        ""
      ],
      "execution_count": null,
      "outputs": []
    }
  ]
}