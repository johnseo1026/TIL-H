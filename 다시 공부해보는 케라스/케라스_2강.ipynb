{
  "nbformat": 4,
  "nbformat_minor": 0,
  "metadata": {
    "colab": {
      "name": "케라스 2강.ipynb",
      "provenance": [],
      "collapsed_sections": []
    },
    "kernelspec": {
      "name": "python3",
      "display_name": "Python 3"
    },
    "language_info": {
      "name": "python"
    }
  },
  "cells": [
    {
      "cell_type": "markdown",
      "metadata": {
        "id": "Wyp6Mb1UMzb4"
      },
      "source": [
        "2.1 신경망과의 첫 만남"
      ]
    },
    {
      "cell_type": "code",
      "metadata": {
        "id": "3pgp0fhzLfup",
        "colab": {
          "base_uri": "https://localhost:8080/"
        },
        "outputId": "22326b54-bfc4-47d5-f26e-269bc2921ab2"
      },
      "source": [
        "# 케라스에서 mnist 데이터셋 적재하기\n",
        "from keras.datasets import mnist\n",
        "(train_images, train_labels), (test_images, test_labels) = mnist.load_data()"
      ],
      "execution_count": null,
      "outputs": [
        {
          "output_type": "stream",
          "text": [
            "Downloading data from https://storage.googleapis.com/tensorflow/tf-keras-datasets/mnist.npz\n",
            "11493376/11490434 [==============================] - 0s 0us/step\n"
          ],
          "name": "stdout"
        }
      ]
    },
    {
      "cell_type": "code",
      "metadata": {
        "colab": {
          "base_uri": "https://localhost:8080/"
        },
        "id": "-1EqT2ghMHZ2",
        "outputId": "0d379e6b-836b-4785-f63e-40554c2f2608"
      },
      "source": [
        "# 훈련 세트\n",
        "train_images.shape"
      ],
      "execution_count": null,
      "outputs": [
        {
          "output_type": "execute_result",
          "data": {
            "text/plain": [
              "(60000, 28, 28)"
            ]
          },
          "metadata": {
            "tags": []
          },
          "execution_count": 2
        }
      ]
    },
    {
      "cell_type": "code",
      "metadata": {
        "colab": {
          "base_uri": "https://localhost:8080/"
        },
        "id": "jwzEITrfRvij",
        "outputId": "8c05d4f7-7e2d-4824-8152-4d816d602504"
      },
      "source": [
        "len(train_labels)"
      ],
      "execution_count": null,
      "outputs": [
        {
          "output_type": "execute_result",
          "data": {
            "text/plain": [
              "60000"
            ]
          },
          "metadata": {
            "tags": []
          },
          "execution_count": 3
        }
      ]
    },
    {
      "cell_type": "code",
      "metadata": {
        "colab": {
          "base_uri": "https://localhost:8080/"
        },
        "id": "Sku3kRwPRvwq",
        "outputId": "2aa0b445-c281-474e-ebbf-69ab7c022d0f"
      },
      "source": [
        "train_labels"
      ],
      "execution_count": null,
      "outputs": [
        {
          "output_type": "execute_result",
          "data": {
            "text/plain": [
              "array([5, 0, 4, ..., 5, 6, 8], dtype=uint8)"
            ]
          },
          "metadata": {
            "tags": []
          },
          "execution_count": 4
        }
      ]
    },
    {
      "cell_type": "code",
      "metadata": {
        "colab": {
          "base_uri": "https://localhost:8080/"
        },
        "id": "WvjDvNjAMoLj",
        "outputId": "23034c04-2c03-4f48-875a-47c66a235f01"
      },
      "source": [
        "# 테스트 세트\n",
        "test_images.shape\n",
        "\n"
      ],
      "execution_count": null,
      "outputs": [
        {
          "output_type": "execute_result",
          "data": {
            "text/plain": [
              "(10000, 28, 28)"
            ]
          },
          "metadata": {
            "tags": []
          },
          "execution_count": 5
        }
      ]
    },
    {
      "cell_type": "code",
      "metadata": {
        "colab": {
          "base_uri": "https://localhost:8080/"
        },
        "id": "QVbpPChER1O_",
        "outputId": "b88b4e80-cefb-4e21-a432-f5ffed44867e"
      },
      "source": [
        "len(test_labels)"
      ],
      "execution_count": null,
      "outputs": [
        {
          "output_type": "execute_result",
          "data": {
            "text/plain": [
              "10000"
            ]
          },
          "metadata": {
            "tags": []
          },
          "execution_count": 6
        }
      ]
    },
    {
      "cell_type": "code",
      "metadata": {
        "colab": {
          "base_uri": "https://localhost:8080/"
        },
        "id": "WLkw55KMR1SF",
        "outputId": "cc0e31f5-b3f6-4295-bcec-ec9f6eb29352"
      },
      "source": [
        "test_labels"
      ],
      "execution_count": null,
      "outputs": [
        {
          "output_type": "execute_result",
          "data": {
            "text/plain": [
              "array([7, 2, 1, ..., 4, 5, 6], dtype=uint8)"
            ]
          },
          "metadata": {
            "tags": []
          },
          "execution_count": 7
        }
      ]
    },
    {
      "cell_type": "code",
      "metadata": {
        "id": "rcOoJp4gMwWW"
      },
      "source": [
        "# 신경망 구조\n",
        "from keras import models\n",
        "from keras import layers\n",
        "\n",
        "network = models.Sequential()\n",
        "# print(network)\n",
        "network.add(layers.Dense(512, activation='relu', input_shape=(28*28,)))\n",
        "network.add(layers.Dense(10, activation='softmax'))"
      ],
      "execution_count": null,
      "outputs": []
    },
    {
      "cell_type": "code",
      "metadata": {
        "colab": {
          "base_uri": "https://localhost:8080/"
        },
        "id": "X9cJin3_MzCa",
        "outputId": "f9e4c637-3048-495e-b1be-010d9b69a90f"
      },
      "source": [
        "print(network.add(layers.Dense(512, activation='relu', input_shape=(28*28,))))\n",
        "print(network.add(layers.Dense(10, activation='softmax')))"
      ],
      "execution_count": null,
      "outputs": [
        {
          "output_type": "stream",
          "text": [
            "None\n",
            "None\n"
          ],
          "name": "stdout"
        }
      ]
    },
    {
      "cell_type": "markdown",
      "metadata": {
        "id": "Fwkv8v1JPrWY"
      },
      "source": [
        "신경망 층인 Dense 층 2개가 연속, 두번째층은 10개의 확률 점수가 들어 있는 배열(모두 더하면 1)을 반환하는 소프트맥스층이다. 각 점수는 현재 숫자 이미지가 10개의 숫자 클래스중 하나에 속할 확률"
      ]
    },
    {
      "cell_type": "markdown",
      "metadata": {
        "id": "Fhzbp4WJQYnh"
      },
      "source": [
        "신경망이 훈련준비를 마치기 위해 컴파일 단계에 3가지가 더 필요\n",
        "\n",
        "1. 손실함수(loss function): 훈련데이터에서 신경망의 성능을 측정하는 방법으로 네트워크가 옳은 방향으로 학습될 수 있도록 도와줌\n",
        "2. 옵티마이저(optimizer): 입력된 데이터와 손실 함수를 기반으로 네트워크를 업데이트하는 메커니즘\n",
        "3. 훈련과 테스트 과정을 모니터링할 지표: 여기에서는 정확도(정확히 분류된 이미지의 비율)만 고려"
      ]
    },
    {
      "cell_type": "code",
      "metadata": {
        "id": "JUxkbarpPLUY"
      },
      "source": [
        "# 컴파일 단계\n",
        "network.compile(optimizer='rmsprop', loss='categorical_crossentropy', metrics=['accuracy'])"
      ],
      "execution_count": null,
      "outputs": []
    },
    {
      "cell_type": "code",
      "metadata": {
        "colab": {
          "base_uri": "https://localhost:8080/"
        },
        "id": "XYNyBN8TPjVk",
        "outputId": "5ec6e045-3610-4af0-b6e1-e153acf55e4b"
      },
      "source": [
        "print(network.compile(optimizer='rmsprop', loss='categorical_crossentropy', metrics=['accuracy']))"
      ],
      "execution_count": null,
      "outputs": [
        {
          "output_type": "stream",
          "text": [
            "None\n"
          ],
          "name": "stdout"
        }
      ]
    },
    {
      "cell_type": "markdown",
      "metadata": {
        "id": "YJZ90Uu4Rapt"
      },
      "source": [
        "훈련 시작전 테이터를 네트워크에 맞는 크기로 바꾸고 모든 값을 0과 1사이로 스케일을 조정\n",
        "그렇기에 앞서 훈련이미지는 [0, 255] 사이의 값인 uint8 타입의 (60000, 28, 28) 크기를 가진 배열로 저장되어 있다. 이 데이터를 0과 1사이의 값을 가지는 float32타입의 (60000, 28, 28) 크기인 배열로 바꿈"
      ]
    },
    {
      "cell_type": "code",
      "metadata": {
        "id": "PZFhrYghRAVE"
      },
      "source": [
        "# 이미지 데이터 준비하기\n",
        "train_images = train_images.reshape((60000, 28*28))\n",
        "train_images = train_images.astype('float32') / 255\n",
        "\n",
        "test_images = test_images.reshape((10000, 28*28))\n",
        "test_images = test_images.astype('float32') / 255"
      ],
      "execution_count": null,
      "outputs": []
    },
    {
      "cell_type": "code",
      "metadata": {
        "id": "lpO6qm39SL6u"
      },
      "source": [
        "# 레이블 준비하기\n",
        "from keras.utils import to_categorical\n",
        "\n",
        "train_labels = to_categorical(train_labels)\n",
        "test_labels = to_categorical(test_labels)"
      ],
      "execution_count": null,
      "outputs": []
    },
    {
      "cell_type": "code",
      "metadata": {
        "colab": {
          "base_uri": "https://localhost:8080/"
        },
        "id": "QgmBjrh_SaRj",
        "outputId": "2c652f52-e1a5-47f8-dc8e-9bff621c9a13"
      },
      "source": [
        "network.fit(train_images, train_labels, epochs=5, batch_size=128)"
      ],
      "execution_count": null,
      "outputs": [
        {
          "output_type": "stream",
          "text": [
            "Epoch 1/5\n",
            "469/469 [==============================] - 6s 11ms/step - loss: 1.2698 - accuracy: 0.5056\n",
            "Epoch 2/5\n",
            "469/469 [==============================] - 5s 11ms/step - loss: 0.1858 - accuracy: 0.9545\n",
            "Epoch 3/5\n",
            "469/469 [==============================] - 5s 11ms/step - loss: 0.0895 - accuracy: 0.9766\n",
            "Epoch 4/5\n",
            "469/469 [==============================] - 5s 10ms/step - loss: 0.0600 - accuracy: 0.9834\n",
            "Epoch 5/5\n",
            "469/469 [==============================] - 5s 11ms/step - loss: 0.0460 - accuracy: 0.9872\n"
          ],
          "name": "stdout"
        },
        {
          "output_type": "execute_result",
          "data": {
            "text/plain": [
              "<tensorflow.python.keras.callbacks.History at 0x7f2fa2ac6d10>"
            ]
          },
          "metadata": {
            "tags": []
          },
          "execution_count": 14
        }
      ]
    },
    {
      "cell_type": "markdown",
      "metadata": {
        "id": "KFdQOXa_aArX"
      },
      "source": [
        "위에 있는 정보는 훈련데이터에 대한 네트워크의 손실과 정확도이다."
      ]
    },
    {
      "cell_type": "code",
      "metadata": {
        "id": "yy52Ud5wSkOg",
        "colab": {
          "base_uri": "https://localhost:8080/"
        },
        "outputId": "daa859b4-8250-4574-a1e1-82c072ccd7dd"
      },
      "source": [
        "test_loss, test_acc = network.evaluate(test_images, test_labels)"
      ],
      "execution_count": null,
      "outputs": [
        {
          "output_type": "stream",
          "text": [
            "313/313 [==============================] - 1s 2ms/step - loss: 0.1108 - accuracy: 0.9750\n"
          ],
          "name": "stdout"
        }
      ]
    },
    {
      "cell_type": "code",
      "metadata": {
        "colab": {
          "base_uri": "https://localhost:8080/"
        },
        "id": "1GQQEW_IalSH",
        "outputId": "28609214-c88e-4094-f771-9e667d714d38"
      },
      "source": [
        "print('test_acc:', test_acc)"
      ],
      "execution_count": null,
      "outputs": [
        {
          "output_type": "stream",
          "text": [
            "test_acc: 0.9750000238418579\n"
          ],
          "name": "stdout"
        }
      ]
    },
    {
      "cell_type": "markdown",
      "metadata": {
        "id": "vIk1P53oavQR"
      },
      "source": [
        "테스트 정확도는 97.8% 정도로 나왔는데 훈현세트의 정확도 보다는 약간 낮습니다. 훈련 정확도와 테스트 정확도 사이의 차이는 과대적합(overfitting) 때문이다. 이는 머신 러닝 모델이 훈현 데이터보다 새로운 데이터에서 성능이 낮아지는 경향을 말한다."
      ]
    },
    {
      "cell_type": "markdown",
      "metadata": {
        "id": "KxJl2UNj8-Rl"
      },
      "source": [
        "2.2 신경망을 위한 데이터 표현"
      ]
    },
    {
      "cell_type": "markdown",
      "metadata": {
        "id": "FgxrMkNl9O7M"
      },
      "source": [
        "2.2.1 스칼라(0D 텐서)\n",
        "\n",
        "하나의 숫자만 담고 있는 텐서를 스칼라(scalar)(또는 스칼라 텐서, 0차원텐서, 0D 텐서)라고 부른다. float32나ㅣ float64 타입의 숫자가 스칼라 텐서. 스칼라아 텐서의 축 개수는 0(ndim == 0). 텐서의 축 개수를 랭크라고도 부름"
      ]
    },
    {
      "cell_type": "code",
      "metadata": {
        "id": "OoAK_K8iarSL",
        "colab": {
          "base_uri": "https://localhost:8080/"
        },
        "outputId": "fbbf7141-8233-44c7-eb9c-73dd9a020620"
      },
      "source": [
        "import numpy as np\n",
        "x = np.array(12)\n",
        "x"
      ],
      "execution_count": null,
      "outputs": [
        {
          "output_type": "execute_result",
          "data": {
            "text/plain": [
              "array(12)"
            ]
          },
          "metadata": {
            "tags": []
          },
          "execution_count": 17
        }
      ]
    },
    {
      "cell_type": "code",
      "metadata": {
        "colab": {
          "base_uri": "https://localhost:8080/"
        },
        "id": "moYOZe-N-EGb",
        "outputId": "4095cc6b-641b-4e18-f1eb-664ed46815cf"
      },
      "source": [
        "x.ndim"
      ],
      "execution_count": null,
      "outputs": [
        {
          "output_type": "execute_result",
          "data": {
            "text/plain": [
              "0"
            ]
          },
          "metadata": {
            "tags": []
          },
          "execution_count": 18
        }
      ]
    },
    {
      "cell_type": "markdown",
      "metadata": {
        "id": "hKMFJg3L-G8h"
      },
      "source": [
        "2.2.2 벡터(1D 텐서)\n",
        "\n",
        "숫자의 배열을 벡터(vector)또는 1D 텐서라고 부른다. 딱 하나의 축을 가진다."
      ]
    },
    {
      "cell_type": "code",
      "metadata": {
        "colab": {
          "base_uri": "https://localhost:8080/"
        },
        "id": "eHl3cK-l-FZm",
        "outputId": "2acfa4c6-9c31-43e7-c757-3487aa9ed293"
      },
      "source": [
        "x= np.array([12, 2, 5, 6, 16])\n",
        "x"
      ],
      "execution_count": null,
      "outputs": [
        {
          "output_type": "execute_result",
          "data": {
            "text/plain": [
              "array([12,  2,  5,  6, 16])"
            ]
          },
          "metadata": {
            "tags": []
          },
          "execution_count": 19
        }
      ]
    },
    {
      "cell_type": "code",
      "metadata": {
        "colab": {
          "base_uri": "https://localhost:8080/"
        },
        "id": "jLYrhGQl-dwp",
        "outputId": "805ca00d-81bc-4fe8-d397-e0b49bb60860"
      },
      "source": [
        "x.ndim"
      ],
      "execution_count": null,
      "outputs": [
        {
          "output_type": "execute_result",
          "data": {
            "text/plain": [
              "1"
            ]
          },
          "metadata": {
            "tags": []
          },
          "execution_count": 20
        }
      ]
    },
    {
      "cell_type": "markdown",
      "metadata": {
        "id": "YrW5_oxHHMS_"
      },
      "source": [
        "이 벡터는 5개의 원소를 가지고 있어서 5차원 벡터라 부른다. 5D 벡터와 5D 텐서를 혼동하면 안된다. 5D 벡터는 하나의 축을 따라 5개의 차원을 가진것이고 5D 텐서는 5개의 축을 가진것이다.("
      ]
    },
    {
      "cell_type": "markdown",
      "metadata": {
        "id": "mUZvgW1IIAYg"
      },
      "source": [
        "2.2.3 행렬(2D 텐서)\n",
        "\n",
        "벡터의 배열이 행렬(matrix) 또는 2D 텐서. 행렬에는 2개의 축이 있다(행과 열)"
      ]
    },
    {
      "cell_type": "code",
      "metadata": {
        "colab": {
          "base_uri": "https://localhost:8080/"
        },
        "id": "lFwPes8h-e4u",
        "outputId": "8002d435-2f5b-49d2-c290-dfcdbc14c8db"
      },
      "source": [
        "x = np.array([[5, 12, 4, 34, 6],\n",
        "              [1, 23, 6, 45, 2],\n",
        "              [7, 65, 9,12, 5]])\n",
        "x"
      ],
      "execution_count": null,
      "outputs": [
        {
          "output_type": "execute_result",
          "data": {
            "text/plain": [
              "array([[ 5, 12,  4, 34,  6],\n",
              "       [ 1, 23,  6, 45,  2],\n",
              "       [ 7, 65,  9, 12,  5]])"
            ]
          },
          "metadata": {
            "tags": []
          },
          "execution_count": 21
        }
      ]
    },
    {
      "cell_type": "code",
      "metadata": {
        "colab": {
          "base_uri": "https://localhost:8080/"
        },
        "id": "hXxqhSSLIc1M",
        "outputId": "e679e5a6-74d3-494e-b44f-cc41f6a88529"
      },
      "source": [
        "x.ndim"
      ],
      "execution_count": null,
      "outputs": [
        {
          "output_type": "execute_result",
          "data": {
            "text/plain": [
              "2"
            ]
          },
          "metadata": {
            "tags": []
          },
          "execution_count": 22
        }
      ]
    },
    {
      "cell_type": "markdown",
      "metadata": {
        "id": "5qK-kRLoIkHl"
      },
      "source": [
        "첫 번째 축에 놓여있는 원소를 행, 두번째 축에 놓여있는 원소를 열.\n",
        "\n",
        "x의 첫번째 행은 [5, 12, 4, 34, 6]\n",
        "\n",
        "첫번째 열은 [5, 1, 7]"
      ]
    },
    {
      "cell_type": "markdown",
      "metadata": {
        "id": "61SnJ7o6I2Rh"
      },
      "source": [
        "2.2.4 3D 텐서와 고차원 텐서\n",
        "\n",
        "3D 텐서: 행렬들을 하나의 새로운 배열로 합치면 숫자가 채워진 직육면체 형태로 해석됨"
      ]
    },
    {
      "cell_type": "code",
      "metadata": {
        "colab": {
          "base_uri": "https://localhost:8080/"
        },
        "id": "t_y5nm2RIihp",
        "outputId": "5a507f87-65d1-48d6-b995-98f0f4da4a79"
      },
      "source": [
        "x = np.array([[[5, 78, 2, 34, 0],\n",
        "               [6, 79, 3, 35, 1],\n",
        "               [7, 80, 4, 36, 2]],\n",
        "              [[5, 78, 2, 34, 0],\n",
        "               [6, 79, 3, 35, 1],\n",
        "               [7, 80, 4, 35, 1]],\n",
        "              [[5, 78, 2, 34, 0],\n",
        "               [6, 79, 3, 35, 1],\n",
        "               [7, 80, 4, 36, 2]]])\n",
        "x"
      ],
      "execution_count": null,
      "outputs": [
        {
          "output_type": "execute_result",
          "data": {
            "text/plain": [
              "array([[[ 5, 78,  2, 34,  0],\n",
              "        [ 6, 79,  3, 35,  1],\n",
              "        [ 7, 80,  4, 36,  2]],\n",
              "\n",
              "       [[ 5, 78,  2, 34,  0],\n",
              "        [ 6, 79,  3, 35,  1],\n",
              "        [ 7, 80,  4, 35,  1]],\n",
              "\n",
              "       [[ 5, 78,  2, 34,  0],\n",
              "        [ 6, 79,  3, 35,  1],\n",
              "        [ 7, 80,  4, 36,  2]]])"
            ]
          },
          "metadata": {
            "tags": []
          },
          "execution_count": 23
        }
      ]
    },
    {
      "cell_type": "code",
      "metadata": {
        "colab": {
          "base_uri": "https://localhost:8080/"
        },
        "id": "-UZNX8wsK1HC",
        "outputId": "033e511e-2533-4ed3-ed8d-d4f96d2849f1"
      },
      "source": [
        "x.ndim"
      ],
      "execution_count": null,
      "outputs": [
        {
          "output_type": "execute_result",
          "data": {
            "text/plain": [
              "3"
            ]
          },
          "metadata": {
            "tags": []
          },
          "execution_count": 24
        }
      ]
    },
    {
      "cell_type": "markdown",
      "metadata": {
        "id": "R05dpPMcLH5L"
      },
      "source": [
        "3D 텐서들을 하나의 배열로 합치면 4D 텐서를 만드는 식으로 이어짐. 딥러닝에서는 보통 0D에서 4D 까지의 텐서를 다룸. 동영상 데이터의 경우 5D 텐서까지도 가기도함"
      ]
    },
    {
      "cell_type": "markdown",
      "metadata": {
        "id": "XRfBvhkwLZmA"
      },
      "source": [
        "2.2.5 핵심 속성\n",
        "\n",
        "텐서는 3개의 핵심 속성으로 정의됨\n",
        "\n",
        "1. 축의 개수(랭크) : 3D 텐서에는 3개의 축이 있고 2D 텐서(행렬)에는 2개의 축이 있다. ndim 속성에 저장되어 있음\n",
        "\n",
        "2. 크기(shape) : 텐서의 각 축을 따라 얼마나 많은 차원이 있는지를 나타낸 파이썬의 튜플임. 위에서 했던 행렬의 크기는 (3, 5)이고 3D 텐서는 (3, 3, 5)이다.\n",
        " 백터의 크기는 (5,)처럼 1개의 원소로 이루어진 튜플이다. 배열 스칼라는 ()처럼 크기가 없다\n",
        "\n",
        "3. 데이터 타입(numpy에서는 dtype에 저장됨) : 텐서에 포함된 데이터의 타입"
      ]
    },
    {
      "cell_type": "code",
      "metadata": {
        "id": "d4rxvvAnLCIc"
      },
      "source": [
        "from keras.datasets import mnist\n",
        "(train_images, train_labels), (test_images, test_labels) = mnist.load_data()"
      ],
      "execution_count": null,
      "outputs": []
    },
    {
      "cell_type": "code",
      "metadata": {
        "colab": {
          "base_uri": "https://localhost:8080/"
        },
        "id": "BCRGdbNWQ209",
        "outputId": "b69519f3-d564-4576-ccbd-8057aba3f8cf"
      },
      "source": [
        "# train_images 배열의 ndim속성으로 축의 개수 확인\n",
        "print(train_images.ndim)"
      ],
      "execution_count": null,
      "outputs": [
        {
          "output_type": "stream",
          "text": [
            "3\n"
          ],
          "name": "stdout"
        }
      ]
    },
    {
      "cell_type": "code",
      "metadata": {
        "colab": {
          "base_uri": "https://localhost:8080/"
        },
        "id": "x8n18kgFRIhv",
        "outputId": "56e31891-1154-4e4d-dc3e-d67a609d25ba"
      },
      "source": [
        "# 배열의 크기\n",
        "print(train_images.shape)"
      ],
      "execution_count": null,
      "outputs": [
        {
          "output_type": "stream",
          "text": [
            "(60000, 28, 28)\n"
          ],
          "name": "stdout"
        }
      ]
    },
    {
      "cell_type": "code",
      "metadata": {
        "colab": {
          "base_uri": "https://localhost:8080/"
        },
        "id": "FYvBGdaARNM2",
        "outputId": "17bd00cf-0542-4fc2-c460-166c91fcf1c2"
      },
      "source": [
        "# 데이터 타입확인\n",
        "print(train_images.dtype)"
      ],
      "execution_count": null,
      "outputs": [
        {
          "output_type": "stream",
          "text": [
            "uint8\n"
          ],
          "name": "stdout"
        }
      ]
    },
    {
      "cell_type": "markdown",
      "metadata": {
        "id": "tGdwO3pRRUNW"
      },
      "source": [
        "위의 배열은 8비트 정수형 3D 텐서이다. 더 정확하게는 28 * 28 크기의 정수 행렬 6만개가 있는 배열. 각 행렬은 하나의 흑백 이미지고, 행렬의 각 원소는 0에서 255 사의 값을 가진다."
      ]
    },
    {
      "cell_type": "code",
      "metadata": {
        "colab": {
          "base_uri": "https://localhost:8080/",
          "height": 265
        },
        "id": "FUiB7KstRSWb",
        "outputId": "ddc46d91-9645-4900-e81c-ebd3fe1b0a93"
      },
      "source": [
        "# 다섯번째 이미지 출력하기\n",
        "digit = train_images[4]\n",
        "\n",
        "import matplotlib.pyplot as plt\n",
        "plt.imshow(digit, cmap=plt.cm.binary)\n",
        "plt.show()"
      ],
      "execution_count": null,
      "outputs": [
        {
          "output_type": "display_data",
          "data": {
            "image/png": "[encoded data removed]",
            "text/plain": [
              "<Figure size 432x288 with 1 Axes>"
            ]
          },
          "metadata": {
            "tags": [],
            "needs_background": "light"
          }
        }
      ]
    },
    {
      "cell_type": "markdown",
      "metadata": {
        "id": "ZhqgDJSNTTph"
      },
      "source": [
        "2.2.6 넘파이로 텐서 조작하기\n",
        "\n",
        "train_images[i] 처럼 특정 원소를 선택하는 것을 슬라이싱"
      ]
    },
    {
      "cell_type": "code",
      "metadata": {
        "colab": {
          "base_uri": "https://localhost:8080/"
        },
        "id": "ZuBGAN80R73r",
        "outputId": "7eb58f93-e982-4bdd-8c9b-f4a804d81923"
      },
      "source": [
        "my_slice = train_images[10:100]\n",
        "print(my_slice.shape)"
      ],
      "execution_count": null,
      "outputs": [
        {
          "output_type": "stream",
          "text": [
            "(90, 28, 28)\n"
          ],
          "name": "stdout"
        }
      ]
    },
    {
      "cell_type": "code",
      "metadata": {
        "colab": {
          "base_uri": "https://localhost:8080/"
        },
        "id": "BlgnSv6ZZBfE",
        "outputId": "5eccea1b-d015-457f-d12a-b7aabcf4f0bf"
      },
      "source": [
        "my_slice = train_images[10:100, :, :]  # 이전 예와 동일\n",
        "my_slice.shape"
      ],
      "execution_count": null,
      "outputs": [
        {
          "output_type": "execute_result",
          "data": {
            "text/plain": [
              "(90, 28, 28)"
            ]
          },
          "metadata": {
            "tags": []
          },
          "execution_count": 31
        }
      ]
    },
    {
      "cell_type": "code",
      "metadata": {
        "colab": {
          "base_uri": "https://localhost:8080/"
        },
        "id": "2wz0oqqma3ND",
        "outputId": "4e0f5441-523f-4658-cc78-190506353fc6"
      },
      "source": [
        "my_slice = train_images[10:100, 0:28, 0:28]  # 이전 예와 동일\n",
        "my_slice.shape"
      ],
      "execution_count": null,
      "outputs": [
        {
          "output_type": "execute_result",
          "data": {
            "text/plain": [
              "(90, 28, 28)"
            ]
          },
          "metadata": {
            "tags": []
          },
          "execution_count": 32
        }
      ]
    },
    {
      "cell_type": "code",
      "metadata": {
        "colab": {
          "base_uri": "https://localhost:8080/"
        },
        "id": "Aupl5EeDa6a-",
        "outputId": "0bb9dc40-e5ac-426a-9bc9-e4a93a3026bd"
      },
      "source": [
        "# 이미지의 오른쪽 아래 14*14픽셀을 선택\n",
        "my_slice = train_images[:, 14:, 14:]\n",
        "my_slice.shape"
      ],
      "execution_count": null,
      "outputs": [
        {
          "output_type": "execute_result",
          "data": {
            "text/plain": [
              "(60000, 14, 14)"
            ]
          },
          "metadata": {
            "tags": []
          },
          "execution_count": 33
        }
      ]
    },
    {
      "cell_type": "code",
      "metadata": {
        "colab": {
          "base_uri": "https://localhost:8080/"
        },
        "id": "w21u842rbDf9",
        "outputId": "618dd246-e2b9-4332-b204-1130b97307d7"
      },
      "source": [
        "# 정중앙에 위치한 14*14 픽셀을 선택\n",
        "my_slice = train_images[:, 7:-7, 7:-7]\n",
        "my_slice.shape"
      ],
      "execution_count": null,
      "outputs": [
        {
          "output_type": "execute_result",
          "data": {
            "text/plain": [
              "(60000, 14, 14)"
            ]
          },
          "metadata": {
            "tags": []
          },
          "execution_count": 34
        }
      ]
    },
    {
      "cell_type": "markdown",
      "metadata": {
        "id": "fr25PjcuIBvQ"
      },
      "source": [
        "2.2.7 배치 데이터\n",
        "\n",
        "mnist 숫자 데이터에서 크기가 128인 배치하나는 다음과 같다"
      ]
    },
    {
      "cell_type": "code",
      "metadata": {
        "id": "8ozyBLRwkCLj",
        "colab": {
          "base_uri": "https://localhost:8080/"
        },
        "outputId": "b6dd6395-1c7d-476d-e8ae-ca6d5e669bf7"
      },
      "source": [
        "batch = train_images[:128]\n",
        "batch"
      ],
      "execution_count": null,
      "outputs": [
        {
          "output_type": "execute_result",
          "data": {
            "text/plain": [
              "array([[[0, 0, 0, ..., 0, 0, 0],\n",
              "        [0, 0, 0, ..., 0, 0, 0],\n",
              "        [0, 0, 0, ..., 0, 0, 0],\n",
              "        ...,\n",
              "        [0, 0, 0, ..., 0, 0, 0],\n",
              "        [0, 0, 0, ..., 0, 0, 0],\n",
              "        [0, 0, 0, ..., 0, 0, 0]],\n",
              "\n",
              "       [[0, 0, 0, ..., 0, 0, 0],\n",
              "        [0, 0, 0, ..., 0, 0, 0],\n",
              "        [0, 0, 0, ..., 0, 0, 0],\n",
              "        ...,\n",
              "        [0, 0, 0, ..., 0, 0, 0],\n",
              "        [0, 0, 0, ..., 0, 0, 0],\n",
              "        [0, 0, 0, ..., 0, 0, 0]],\n",
              "\n",
              "       [[0, 0, 0, ..., 0, 0, 0],\n",
              "        [0, 0, 0, ..., 0, 0, 0],\n",
              "        [0, 0, 0, ..., 0, 0, 0],\n",
              "        ...,\n",
              "        [0, 0, 0, ..., 0, 0, 0],\n",
              "        [0, 0, 0, ..., 0, 0, 0],\n",
              "        [0, 0, 0, ..., 0, 0, 0]],\n",
              "\n",
              "       ...,\n",
              "\n",
              "       [[0, 0, 0, ..., 0, 0, 0],\n",
              "        [0, 0, 0, ..., 0, 0, 0],\n",
              "        [0, 0, 0, ..., 0, 0, 0],\n",
              "        ...,\n",
              "        [0, 0, 0, ..., 0, 0, 0],\n",
              "        [0, 0, 0, ..., 0, 0, 0],\n",
              "        [0, 0, 0, ..., 0, 0, 0]],\n",
              "\n",
              "       [[0, 0, 0, ..., 0, 0, 0],\n",
              "        [0, 0, 0, ..., 0, 0, 0],\n",
              "        [0, 0, 0, ..., 0, 0, 0],\n",
              "        ...,\n",
              "        [0, 0, 0, ..., 0, 0, 0],\n",
              "        [0, 0, 0, ..., 0, 0, 0],\n",
              "        [0, 0, 0, ..., 0, 0, 0]],\n",
              "\n",
              "       [[0, 0, 0, ..., 0, 0, 0],\n",
              "        [0, 0, 0, ..., 0, 0, 0],\n",
              "        [0, 0, 0, ..., 0, 0, 0],\n",
              "        ...,\n",
              "        [0, 0, 0, ..., 0, 0, 0],\n",
              "        [0, 0, 0, ..., 0, 0, 0],\n",
              "        [0, 0, 0, ..., 0, 0, 0]]], dtype=uint8)"
            ]
          },
          "metadata": {
            "tags": []
          },
          "execution_count": 35
        }
      ]
    },
    {
      "cell_type": "code",
      "metadata": {
        "colab": {
          "base_uri": "https://localhost:8080/"
        },
        "id": "URF6MiKdKlRc",
        "outputId": "5eb55277-6219-48bd-e6bc-6b3026c7c9cc"
      },
      "source": [
        "# 그다음 배치는 다음과 같다\n",
        "batch = train_images[128:256]\n",
        "batch"
      ],
      "execution_count": null,
      "outputs": [
        {
          "output_type": "execute_result",
          "data": {
            "text/plain": [
              "array([[[0, 0, 0, ..., 0, 0, 0],\n",
              "        [0, 0, 0, ..., 0, 0, 0],\n",
              "        [0, 0, 0, ..., 0, 0, 0],\n",
              "        ...,\n",
              "        [0, 0, 0, ..., 0, 0, 0],\n",
              "        [0, 0, 0, ..., 0, 0, 0],\n",
              "        [0, 0, 0, ..., 0, 0, 0]],\n",
              "\n",
              "       [[0, 0, 0, ..., 0, 0, 0],\n",
              "        [0, 0, 0, ..., 0, 0, 0],\n",
              "        [0, 0, 0, ..., 0, 0, 0],\n",
              "        ...,\n",
              "        [0, 0, 0, ..., 0, 0, 0],\n",
              "        [0, 0, 0, ..., 0, 0, 0],\n",
              "        [0, 0, 0, ..., 0, 0, 0]],\n",
              "\n",
              "       [[0, 0, 0, ..., 0, 0, 0],\n",
              "        [0, 0, 0, ..., 0, 0, 0],\n",
              "        [0, 0, 0, ..., 0, 0, 0],\n",
              "        ...,\n",
              "        [0, 0, 0, ..., 0, 0, 0],\n",
              "        [0, 0, 0, ..., 0, 0, 0],\n",
              "        [0, 0, 0, ..., 0, 0, 0]],\n",
              "\n",
              "       ...,\n",
              "\n",
              "       [[0, 0, 0, ..., 0, 0, 0],\n",
              "        [0, 0, 0, ..., 0, 0, 0],\n",
              "        [0, 0, 0, ..., 0, 0, 0],\n",
              "        ...,\n",
              "        [0, 0, 0, ..., 0, 0, 0],\n",
              "        [0, 0, 0, ..., 0, 0, 0],\n",
              "        [0, 0, 0, ..., 0, 0, 0]],\n",
              "\n",
              "       [[0, 0, 0, ..., 0, 0, 0],\n",
              "        [0, 0, 0, ..., 0, 0, 0],\n",
              "        [0, 0, 0, ..., 0, 0, 0],\n",
              "        ...,\n",
              "        [0, 0, 0, ..., 0, 0, 0],\n",
              "        [0, 0, 0, ..., 0, 0, 0],\n",
              "        [0, 0, 0, ..., 0, 0, 0]],\n",
              "\n",
              "       [[0, 0, 0, ..., 0, 0, 0],\n",
              "        [0, 0, 0, ..., 0, 0, 0],\n",
              "        [0, 0, 0, ..., 0, 0, 0],\n",
              "        ...,\n",
              "        [0, 0, 0, ..., 0, 0, 0],\n",
              "        [0, 0, 0, ..., 0, 0, 0],\n",
              "        [0, 0, 0, ..., 0, 0, 0]]], dtype=uint8)"
            ]
          },
          "metadata": {
            "tags": []
          },
          "execution_count": 36
        }
      ]
    },
    {
      "cell_type": "code",
      "metadata": {
        "id": "315_xinwK0Ho"
      },
      "source": [
        "# n번째 배치\n",
        "\n",
        "batch = train_images[128*n:128*(n+1)]\n",
        "batch"
      ],
      "execution_count": null,
      "outputs": []
    },
    {
      "cell_type": "markdown",
      "metadata": {
        "id": "5XCHtyzPK5WX"
      },
      "source": [
        "이런 배치데이터를 다룰때는 첫번째 축을 배치축(batch axis) 또는 배치 차원(batch dimension)이라 부른다"
      ]
    },
    {
      "cell_type": "markdown",
      "metadata": {
        "id": "9iaggPmdLCzT"
      },
      "source": [
        "2.2.8 텐서의 실제 사례\n",
        "\n",
        "- 벡터 데이터: (samples, features) 크기의 2D 텐서\n",
        "- 시계열 데이터 또는 시퀀스(sequence) 데이터: (samples, timesteps, features) 크기의 3D 텐서\n",
        "- 이미지: (samples, height, width, channels) 또는 (samples, channels, height, width) 크기의 4D 텐서\n",
        "- 동영상: (samples, frames, height, width, channels) 또는 ((samples, frames, channels, height, width) 크기의 5D 텐서"
      ]
    },
    {
      "cell_type": "markdown",
      "metadata": {
        "id": "de-fXdNeMA5U"
      },
      "source": [
        "2.3 신경망의 톱니바퀴: 텐서 연산"
      ]
    },
    {
      "cell_type": "markdown",
      "metadata": {
        "id": "YP8JC33WUYxQ"
      },
      "source": [
        "2.3.1 원소별 연산\n",
        "\n",
        "relu 함수와 덧셈은 원소별 연산(element-wise operation)이다."
      ]
    },
    {
      "cell_type": "code",
      "metadata": {
        "id": "HzLTPtIjMAQJ"
      },
      "source": [
        "# relu 연산 relu 연산\n",
        "def naive_relu(x):\n",
        "  assert len(x.shape) == 2 # x는 2D 넘파이 배열\n",
        "\n",
        "  x = x.copy # 입력텐서 자체를 바꾸지 않도록 복사\n",
        "  for i in range(x.shape[0]):\n",
        "    for j in range(x.shape[1]):\n",
        "      x[i, j] = max(x[i, j], 0)\n",
        "  return x"
      ],
      "execution_count": null,
      "outputs": []
    },
    {
      "cell_type": "code",
      "metadata": {
        "id": "2DtszBwhbAq7"
      },
      "source": [
        "# 덧셈도 동일\n",
        "def naive_add(x, y):\n",
        "  assert len(x.shape) == 2 # x와 y는 2D 넘파이 배열\n",
        "  assert x.shape == y.shape\n",
        "\n",
        "  x = x.copy # 입력텐서 자체를 바꾸지 않도록 복사\n",
        "  for i in range(x.shape[0]):\n",
        "    for j in range(x.shape[1]):\n",
        "      x[i, j] += y[i, j]\n",
        "  return x"
      ],
      "execution_count": null,
      "outputs": []
    },
    {
      "cell_type": "markdown",
      "metadata": {
        "id": "4qdlFB2vdsq4"
      },
      "source": [
        "같은 원리로 원소별 곱셈, 뺄셈도 할 수 있다.\n",
        "\n",
        "import numpy as np\n",
        "\n",
        "z = x+y # 원소별 덧셈\n",
        "\n",
        "z = np.maximun(z, 0.) # 원소별 렐루 함수\n"
      ]
    },
    {
      "cell_type": "markdown",
      "metadata": {
        "id": "opbBQJCbiKwB"
      },
      "source": [
        "2.3.2 브로드캐스팅\n",
        "\n",
        "브로드캐스팅은 2단계로 이루어진다.\n",
        "\n",
        "1. 큰 텐서의 ndim에 맞도록 작은 텐서에 (브로드캐스팅 축이라고 부르는) 축이 추가된다.\n",
        "2. 작은 텐서가 새 축을 따라서 큰 텐서의 크기에 맞도록 반복된다.\n"
      ]
    },
    {
      "cell_type": "code",
      "metadata": {
        "id": "oAXpAEvLeI9R"
      },
      "source": [
        "def naive_add_matrix_and_vector(x, y):\n",
        "  assert len(x.shape) == 2 # x는 2D 넘파이 배열입니다.\n",
        "  assert len(y.shape) == 1 # y는 너마이 백터입니다.\n",
        "  assert x.shape[1] == y.shape[0]\n",
        "\n",
        "  x = x.copy() # 입력 텐서 자체를 바꾸지 않도록 복사\n",
        "  for i in range(x.shape[0]):\n",
        "    for j in range(x.shpae[1]):\n",
        "      x[i, j] += y[j]\n",
        "  return x"
      ],
      "execution_count": null,
      "outputs": []
    },
    {
      "cell_type": "markdown",
      "metadata": {
        "id": "B622tA9AUkB_"
      },
      "source": [
        "(a, b, ... , n, n+1, ....m) 크기의 텐서와 (n, n+1, .... m) 크기의 텐서 사이에 브로드캐스팅으로 원소별 연산을 적용할수 있다. 이때 브로드캐스팅은 a부터 n-1 까자의 축에 자동으로 일어난다"
      ]
    },
    {
      "cell_type": "code",
      "metadata": {
        "id": "Vsz81sklXfHN"
      },
      "source": [
        "# 다음은 크기가 다른 두 텐서에 브로드캐스팅으로 원소별 maximum연상을 적용하는 예\n",
        "import numpy as np\n",
        "\n",
        "x = np.random.random((64, 3, 32, 10)) # x는 (64, 3, 32, 10) 크기의 랜덤 텐서\n",
        "y = np.random.random((32, 10)) # y는 (32, 10) 크기의 랜덤 텐서\n",
        "\n",
        "z = np.maximum(x, y) # 출력 z의 크기는 x와 동일하게 (64, 3, 32, 10)이다"
      ],
      "execution_count": null,
      "outputs": []
    },
    {
      "cell_type": "markdown",
      "metadata": {
        "id": "TTzSfj60YVwb"
      },
      "source": [
        "2.3.3 텐서 점곱\n",
        "\n",
        "텐서 곱셈이라고도 부르는 (원소별 곱셈과 혼동x) 점곱 연산은 가장 널리 사용되고 유용한 텐서 연산이다. 원소별 연산과 반대로 입력 텐서의 원소들을 결합시킨다.\n",
        "\n",
        "넘파이, 케라스, 씨아노, 텐서플로에서 원소별 곱셈은 * 연산자를 사용한다. 텐서플로에서는 dot 연산자가 다르지만 넘파이와 케라스는 점곱 연산에 보편적인 dot 연산자를 사용한다."
      ]
    },
    {
      "cell_type": "code",
      "metadata": {
        "id": "87n5tO4WYQJk"
      },
      "source": [
        "# 2개의 벡터 x와 y의 점곱은 다음과 같이 계산한다\n",
        "def naive_vector_dot(x, y):\n",
        "  assert len(x.shape) == 1\n",
        "  assert len(y.shape) == 1  # x와 y는 넘파이 벡터입니다\n",
        "  assert x.shape[0] == y.shape[0]\n",
        "\n",
        "  z = 0.\n",
        "  for i in range(x.shape[0]):\n",
        "    z += x[i] * y[i]\n",
        "  return z"
      ],
      "execution_count": null,
      "outputs": []
    },
    {
      "cell_type": "markdown",
      "metadata": {
        "id": "qCkxneLvc555"
      },
      "source": [
        "두 벡터의 점곱은 스칼라가 되므로 원소 개수가 같은 벡터끼리 점곱이 가능\n",
        "\n",
        "행렬 x와 벡터 y사이에서도 점곱이 가능하다"
      ]
    },
    {
      "cell_type": "code",
      "metadata": {
        "id": "HOEWeyH2Y6wZ"
      },
      "source": [
        "import numpy as np\n",
        "def naive_matrix_vector_dot(x, y):\n",
        "  assert len(x.shape) == 2 # x는 넘파이 행렬\n",
        "  assert len(y.shape) == 1 # y는 넘파이 벡터\n",
        "  assert x.shape[1] == y.shape[0] # x의 두번째 차원이 y의 첫번째 차원과 같아야한다\n",
        "\n",
        "  z = np.zeros(x.shape[0]) # 이연산은 x의 행과 같은 크기의 0이 채워진 벡터를 만듬\n",
        "  for i in range(x.shape[0]):\n",
        "    for j in range(x.shape[1]):\n",
        "      z[i] += x[i, j] * y[j]\n",
        "  return z"
      ],
      "execution_count": null,
      "outputs": []
    },
    {
      "cell_type": "markdown",
      "metadata": {
        "id": "SdpLMVmeiy0V"
      },
      "source": [
        "두 텐서 중 하나라도 ndim이 1보다 크면 dot연산에 교환 법칙이 성립되지 않는다. dot(x,y)와 dot(y,x)가 같지 않다.\n",
        "\n",
        "물론 점곱은 임의의 축 개수를 가진 텐서에 일반화된다. 가장 일반적인 용도는 두 행렬 간의 점곱일 것이다. x.shape[1] == y.shape[0] 일 때 두 행렬 x와 y의 점곱(dot(x,y))이 성립된다. x의 열과, y의 행 사이 벡터 점곱으로 인해 (x.shape[0], y.shape[1]) 크기의 행렬이 된다"
      ]
    },
    {
      "cell_type": "code",
      "metadata": {
        "id": "JcEpBfRfjZQs"
      },
      "source": [
        "def naive_matrix_dot(x, y):\n",
        "  assert len(x.shape) == 2 # x는 넘파이 행렬\n",
        "  assert len(y.shape) == 2 # y는 넘파이 행렬\n",
        "  assert x.shape[1] == y.shape[0] # x의 두번째 차원이 y의 첫번째 차원과 같아야한다\n",
        "\n",
        "  z = np.zeros(x.shape[0], y.shape[1]) # 이연산은 0이 채워진 특정 크기의 벡터를 만듬\n",
        "  for i in range(x.shape[0]): # x의 행을 반복\n",
        "    for j in range(x.shape[1]): # y의 열을 반복\n",
        "      row_x = x[i,:]\n",
        "      column_y = y[:, j]\n",
        "      z[i, j] = naive_vector_dot(row_x, column_y)\n",
        "  return z"
      ],
      "execution_count": null,
      "outputs": []
    },
    {
      "cell_type": "markdown",
      "metadata": {
        "id": "YQxReq6QZvIp"
      },
      "source": [
        "2.3.4 텐서 크기 변환\n",
        "\n",
        "꼭 알아두어야 할 세번째 텐서 연산은 텐서 크기 변환(tensor reshaping)이다. 첫번째 신경망 예제의 Dense 층에서는 사용되지 않지만 신경망에 주입할 숫자 데이터를 전처리할 때 사용한다.\n",
        "\n",
        "train_images = train_images.reshape((60000, 28 * 28))\n",
        "\n",
        "텐서의 크기를 변환한다는 것은 특정 크기에 맞게 열과 행을 재배열한다는 뜻이다. 당연히 크기가 변환된 텐서는 원래 텐서와 원소 개수가 동일하다"
      ]
    },
    {
      "cell_type": "code",
      "metadata": {
        "colab": {
          "base_uri": "https://localhost:8080/"
        },
        "id": "SzkEQi-haOqi",
        "outputId": "6fe630d5-626b-42e7-f1a1-8ea07a474c05"
      },
      "source": [
        "x = np.array([[0., 1.],\n",
        "              [2., 3.],\n",
        "              [4., 5.]])\n",
        "print(x.shape)"
      ],
      "execution_count": null,
      "outputs": [
        {
          "output_type": "stream",
          "text": [
            "(3, 2)\n"
          ],
          "name": "stdout"
        }
      ]
    },
    {
      "cell_type": "code",
      "metadata": {
        "colab": {
          "base_uri": "https://localhost:8080/"
        },
        "id": "WH4JFlLBaZPR",
        "outputId": "6b2d1863-724f-4bae-a6c3-2d80663a3943"
      },
      "source": [
        "x = x.reshape((6, 1))\n",
        "print(x)"
      ],
      "execution_count": null,
      "outputs": [
        {
          "output_type": "stream",
          "text": [
            "[[0.]\n",
            " [1.]\n",
            " [2.]\n",
            " [3.]\n",
            " [4.]\n",
            " [5.]]\n"
          ],
          "name": "stdout"
        }
      ]
    },
    {
      "cell_type": "code",
      "metadata": {
        "colab": {
          "base_uri": "https://localhost:8080/"
        },
        "id": "E0YpfamLakHN",
        "outputId": "17a8181f-98c2-432e-acb2-a878dfd0c483"
      },
      "source": [
        "x = x.reshape((2, 3))\n",
        "print(x)"
      ],
      "execution_count": null,
      "outputs": [
        {
          "output_type": "stream",
          "text": [
            "[[0. 1. 2.]\n",
            " [3. 4. 5.]]\n"
          ],
          "name": "stdout"
        }
      ]
    },
    {
      "cell_type": "markdown",
      "metadata": {
        "id": "1GPiNB0yarzv"
      },
      "source": [
        "자주 사용하는 특별한 크기 변환은 전치(transposition)이다. 행렬의 전치는 행과 열을 바꾸는 것을 의미한다"
      ]
    },
    {
      "cell_type": "code",
      "metadata": {
        "id": "1kEZTyOkao_2"
      },
      "source": [
        "x = np.zeros((300, 20)) # 모두 0으로 채워진(300, 20) 크기의 행렬을 만듬"
      ],
      "execution_count": null,
      "outputs": []
    },
    {
      "cell_type": "code",
      "metadata": {
        "colab": {
          "base_uri": "https://localhost:8080/"
        },
        "id": "GbFX8Wpfa7vW",
        "outputId": "378143cc-e61f-4a5c-9ec5-da3e1932a37c"
      },
      "source": [
        "x = np.transpose(x)\n",
        "print(x.shape)"
      ],
      "execution_count": null,
      "outputs": [
        {
          "output_type": "stream",
          "text": [
            "(20, 300)\n"
          ],
          "name": "stdout"
        }
      ]
    },
    {
      "cell_type": "markdown",
      "metadata": {
        "id": "0oLWJCNjpD4f"
      },
      "source": [
        "2.4 신경망의 엔진: 그래디언트 기반 최적화\n",
        "\n",
        "output = relu(dot(w, input) +b)\n",
        "\n",
        "이 식에서 텐서 w와 b는 층의 속성처럼 볼 수 있다. 가중치(weight) 또는 훈련되는 파라미터(trainable parameter)라고 부른다.(각각 커널(kernel)과 편향(bias)이라고 부르기도 한다.) 이런 가중치에는 훈련데이터를 신경망에 노출시켜서 학슴된 정보가 담겨 있다. \n",
        "\n",
        "초기에는 가중치 행렬이 작은 나수로 채워져있다.(무작위 초기화(random initialization)단계라고 부른다) 물론 w와 b가 난수일 때 relu(dot(w, input) + b)가 유용한 어떤 표현을 만들것이라고 기대할 수는 없다. 즉 의미 없는 표현이 만들어진다. 하지만 이는 시작 단계일 뿐입니다. 그다음에는 피드백 신호에 기초하여 가중치가 점진적으로 조정될 것이다. 이런 점진적인 조정 또는 훈련이 머신 러닝 학습의 핵심이다. \n",
        "\n",
        "훈련은 다음과 같은 훈련 반복 루프(training loop) 안에서 일어난다. 필요한 만큼 반복 루프 안에서 이런 단계가 반복된다.\n",
        "\n",
        "1. 훈련 샘플 x와 이에 상응하는 타깃 y의 배치를 추출한다.\n",
        "2. x를 사용하여 네트워크를 실행하고(정방향 패스(forward pass) 단계), 예측 y_pred를 구한다.\n",
        "3. y_pred 와 y의 차이를 측정하여 이배치에 대한 네트워크의 손실을 계산한다.\n",
        "4. 배치에 대한 손실이 조금 감소되도록 네트워크의 모든 가중치를 업데이트한다.\n"
      ]
    },
    {
      "cell_type": "markdown",
      "metadata": {
        "id": "SFxYXtiw8M6b"
      },
      "source": [
        "2.4.1 변화율이란?\n",
        "\n",
        "실수 x를 새로운 실수 y로 매핑하는 연속적이고 매끄러운 함수 f(X) = y를 생각해보자. 이 함수가 연속적이므로 x를 조금 바꾸면 y사 조금만 변경될 것이다. 이것이 연속성의 개념이다. x를 작은 값 epsilon_x만큼 증가시켰을 때 y가 epsilon_y만큼 바뀐다고 말할 수 있다.\n",
        "\n",
        "f(x + epsilon_x) = y + epsilon_y\n",
        "\n",
        "또 이 함수가 매끈하므로 epsion_x가 충분히 작다면 어떤 포인트 p에서 기울기 a의 선형 함수로 f를 긑사할 수 있다. 따라서 epsilon_y는 a*epsilon_x가 된다.\n",
        "\n",
        "f(x + epsilon_x) = y + a*epsilon_x\n",
        "\n",
        "이 선형적인 근사는 x가 p에 충분히 가까울 때 유효하다.\n",
        "\n",
        "이 기울기를 p에서 f의 변화율이라고 한다. 이는 a가 음수일 때 p에서 양수 x만큼 조금 이동하면 f(x)가 감소한다는 것을 의미한다. a가 양수일 때는 음수 x만큼 조금 이동하면 f(x)가 감소된다. a의 절댓값(변화율의 크기)은 이런 증가나 감소가 얼마나 빠르게 일어날지 알려준다.\n"
      ]
    },
    {
      "cell_type": "markdown",
      "metadata": {
        "id": "--93lv_v3rcm"
      },
      "source": [
        "2.4.2 텐서 연산의 변화율: 그래디언트\n",
        "\n",
        "그래디언트는 텐서 연산의 변화율이다. 이는 다차원 입력, 즉 텐서를 입력으로 받는 함수에 변화율 개념을 확장시킨 것이다.\n",
        "\n",
        "입력 벡터 x, 행렬 w, 타깃 y와 손실 함수 loss가 있따고 가정하면 w를 사용하여 타깃의 예측 y_pred를 계산하고 소닛, 즉 타깃 예측 y_pred와 타깃 y 사이의 오차를 계산할 수 있다.\n",
        "\n",
        "y_pred = dot(w,x)\n",
        "loss_value = loss(y_pred, y)\n",
        "\n",
        "입력데이터 x와 y가 고정되어 있담ㄴ 이 함수는 w를 손실 값에 매핑하는 함수로 볼수 있다.\n",
        "\n",
        "loss_value = f(w)\n",
        "\n",
        "w의 현재 값을 w0이라고 하면 포인트 w0에서 f의 변화율은 w와 같은 크기의 텐서인 gradient(f)(w0)이다. 이텐서의 각 원소 gradient(f)(w0)[i, j]는 w0[i, j]를 변경했을 때 loss_value가 바뀌는 방향과 크기를 나타낸다. 다시 말해 텐서 gradient(f)(w0)가 w0에서 함수 f(w) = loss_value의 그래디언트이다.\n",
        "\n",
        "앞서 함수 f(x)의 변화율 하나는 곡선 f의 기울기로 해석할 수 있다는 것을 보았다. 비슷하게 gradient(f)(w0)는 w0에서 f(w)의 기울기를 나타내는 텐서로 해석할수 있다. \n",
        "\n",
        "그렇기 떄문에 함수 f(x)에 대해서는 변화율 반대 방향으로 x를 조금 움직이면 f(x)의 값을 감소시킬수 있다."
      ]
    },
    {
      "cell_type": "code",
      "metadata": {
        "id": "-OFbPRgobAit"
      },
      "source": [
        ""
      ],
      "execution_count": null,
      "outputs": []
    }
  ]
}