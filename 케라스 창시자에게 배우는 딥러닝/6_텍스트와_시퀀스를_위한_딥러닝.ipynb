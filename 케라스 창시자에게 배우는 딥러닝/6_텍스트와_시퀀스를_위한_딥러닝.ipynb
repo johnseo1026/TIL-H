{
  "nbformat": 4,
  "nbformat_minor": 0,
  "metadata": {
    "colab": {
      "name": "6_텍스트와 시퀀스를 위한 딥러닝.ipynb",
      "provenance": [],
      "collapsed_sections": [],
      "toc_visible": true
    },
    "kernelspec": {
      "name": "python3",
      "display_name": "Python 3"
    }
  },
  "cells": [
    {
      "cell_type": "markdown",
      "metadata": {
        "id": "bZqpAsr8fQyz",
        "colab_type": "text"
      },
      "source": [
        "# 6.1 텍스트 데이터 다루기"
      ]
    },
    {
      "cell_type": "markdown",
      "metadata": {
        "id": "rpkqzvgoJ8SK",
        "colab_type": "text"
      },
      "source": [
        "## 6.1.1 단어와 문자의 원-핫 인코딩"
      ]
    },
    {
      "cell_type": "code",
      "metadata": {
        "id": "J424McUpor0S",
        "colab_type": "code",
        "colab": {}
      },
      "source": [
        "# 단어 수준의 원-핫 인코딩하기\n",
        "import numpy as np\n",
        "\n",
        "samples = ['The cat sat on the mat.', 'The dog ate my homework.']  # 초기 데이터: 각원소가 샘플\n",
        "\n",
        "token_index = {}  # 데이터에 있는 모든 토큰의 인덱스를 구축\n",
        "for sample in samples:\n",
        "  for word in sample.split():   # split() 메서드를 사용하여 샘플을 토큰으로 나눔\n",
        "    if word not in token_index:\n",
        "      token_index[word] = len(token_index) + 1  # 단어마다 고유한 인덱스를 할당합니다. 인덱스 0은 사용하지 않는다  \n",
        "\n",
        "max_length = 10  # 샘플을 벡터로 변환합니다. 각 샘플에서 max_length까지 단어만 사용\n",
        "results = np.zeros(shape=(len(samples),\n",
        "                          max_length,\n",
        "                          max(token_index.values()) + 1))   # 경과를 저장할 배열\n",
        "for i, sample in enumerate(samples):\n",
        "  for j, word in list(enumerate(sample.split()))[:max_length]:\n",
        "    index = token_index.get(word)\n",
        "    results[i, j, index] = 1."
      ],
      "execution_count": 0,
      "outputs": []
    },
    {
      "cell_type": "code",
      "metadata": {
        "id": "RiwVS5ENMi5z",
        "colab_type": "code",
        "colab": {}
      },
      "source": [
        "# 문자 수준 원-핫 인코딩하기\n",
        "import string\n",
        "\n",
        "samples = ['The cat sat on the mat.', 'The dog ate my homework.']\n",
        "characters = string.printable  # 출력 가능한 모든 아스키 문자\n",
        "token_index = dict(zip(characters, range(1, len(characters) + 1)))\n",
        "\n",
        "max_length = 50\n",
        "results = np.zeros((len(samples), max_length, max(token_index.values()) + 1))\n",
        "for i, sample in enumerate(samples):\n",
        "  for j, character in enumerate(sample):\n",
        "    index = token_index.get(character)\n",
        "    results[i, j, index] = 1."
      ],
      "execution_count": 0,
      "outputs": []
    },
    {
      "cell_type": "code",
      "metadata": {
        "id": "kmldIEtIIZ37",
        "colab_type": "code",
        "outputId": "1b57493c-e104-4f44-8a8f-027011057268",
        "colab": {
          "base_uri": "https://localhost:8080/",
          "height": 35
        }
      },
      "source": [
        "# 캐라스를 사용한 단어 수준의 원-핫 인코딩하기\n",
        "from keras.preprocessing.text import Tokenizer\n",
        "\n",
        "samples = ['The cat sat on the mat.', 'The dog ate my homework.']\n",
        "\n",
        "tokenizer = Tokenizer(num_words=1000) # 가장 빈도가 높은 1000개의 단어만 선택하도록 Tokenizer 객체를 만듬\n",
        "tokenizer.fit_on_texts(samples)  # 단어 인덱스를 구축\n",
        "\n",
        "sequences = tokenizer.texts_to_sequences(samples)  # 문자열을 정수 인덱스의 리스트로 변환\n",
        "\n",
        "one_hot_results = tokenizer.texts_to_matrix(samples, mode='binary')  # 직접 원-핫 이진 벡터 표현을 얻을수 있음. 원-핫 인코딩 외에 다른 벡터화 방법들도 제공\n",
        "\n",
        "word_index = tokenizer.word_index  # 계산된 단어 인덱스를 구함\n",
        "print('%s개의 고유한 토큰을 찾았습니다.' % len(word_index))"
      ],
      "execution_count": 0,
      "outputs": [
        {
          "output_type": "stream",
          "text": [
            "9개의 고유한 토큰을 찾았습니다.\n"
          ],
          "name": "stdout"
        }
      ]
    },
    {
      "cell_type": "code",
      "metadata": {
        "id": "VDCN3sndJj1-",
        "colab_type": "code",
        "colab": {}
      },
      "source": [
        "# 해싱 기법을 사용한 단어 수준의 원-핫 인코딩하기\n",
        "samples = ['The cat sat on the mat.', 'The dog ate my homework.']\n",
        "\n",
        "dimensionality = 1000 # 단어를 크기가 1000인 벡터로 저장. 1000개의 단어가 있다면 해싱 충돌이 늘어나고 인코딩의 정확도가 감소될것\n",
        "max_length = 10\n",
        "\n",
        "results = np.zeros((len(samples), max_length, dimensionality))\n",
        "for i, sample in enumerate(samples):\n",
        "  for j, word in list(enumerate(sample.split()))[:max_length]:\n",
        "    index = abs(hash(word)) % dimensionality # 단어를 해싱하여 0과 1000사이의 랜덤한 정수 인덱스로 변환\n",
        "    results[i, j, index] = 1."
      ],
      "execution_count": 0,
      "outputs": []
    },
    {
      "cell_type": "markdown",
      "metadata": {
        "id": "nIM9N4LaNz0z",
        "colab_type": "text"
      },
      "source": [
        "## 6.1.2 단어의 임베딩 사용하기"
      ]
    },
    {
      "cell_type": "code",
      "metadata": {
        "id": "YFYPWdwdKWNd",
        "colab_type": "code",
        "colab": {}
      },
      "source": [
        "# Embedding 층의 객체 생성하기\n",
        "from keras.layers import Embedding\n",
        "\n",
        "embedding_layer = Embedding(1000, 64)  # Embedding 층은 적어도 2개의 매개변수를 받음. 가능한 토큰의 개수(여기서는 1000으로 단어 인덱스 최댓값 +1)와 임베딩차원(여기서는 64)임"
      ],
      "execution_count": 0,
      "outputs": []
    },
    {
      "cell_type": "code",
      "metadata": {
        "id": "nHqYTtklORn8",
        "colab_type": "code",
        "outputId": "cb57beae-f2bc-4ffb-8dc0-fca50ffa4329",
        "colab": {
          "base_uri": "https://localhost:8080/",
          "height": 53
        }
      },
      "source": [
        "# Embedding 층에 사용할 IMDB 데이터 로드하기\n",
        "from keras.datasets import imdb\n",
        "from keras import preprocessing\n",
        "\n",
        "max_features = 10000  # 특성으로 사용할 단어의 수\n",
        "maxlen = 20  # 사용할 텍스트의 길이(가장 빈번한 max_features개의 단어만 사용)\n",
        "\n",
        "(x_train, y_train), (x_test, y_test) = imdb.load_data(num_words=max_features) # 정수 리스트로 데이터를 로드\n",
        "\n",
        "x_train = preprocessing.sequence.pad_sequences(x_train, maxlen=maxlen)  # 리스트를 (samples, maxlen) 크기의 2D 정수 텐서로 변환\n",
        "x_test = preprocessing.sequence.pad_sequences(x_test, maxlen=maxlen)"
      ],
      "execution_count": 0,
      "outputs": [
        {
          "output_type": "stream",
          "text": [
            "Downloading data from https://s3.amazonaws.com/text-datasets/imdb.npz\n",
            "17465344/17464789 [==============================] - 0s 0us/step\n"
          ],
          "name": "stdout"
        }
      ]
    },
    {
      "cell_type": "code",
      "metadata": {
        "id": "KkA8QPGySqXH",
        "colab_type": "code",
        "outputId": "ccec520a-ee61-476d-f86c-aa990668814e",
        "colab": {
          "base_uri": "https://localhost:8080/",
          "height": 683
        }
      },
      "source": [
        "# IMDB 데이터에 Embedding 층과 분류기 사용하기\n",
        "from keras.models import Sequential\n",
        "from keras.layers import Flatten, Dense, Embedding\n",
        "\n",
        "model = Sequential()\n",
        "model.add(Embedding(10000, 8, input_length=maxlen))  # 나중에 임베딩된 입력을 Flatten 층에서 펼치기 위해 Embedding층에 input_length를 지정. Embedding 층의 출력 크기는(samples, maxlen, 8)이 됨\n",
        "\n",
        "model.add(Flatten())  # 3D 임베딩 텐서를 (samples, maxlen*8) 크기의 2D 텐서로 펼침\n",
        "\n",
        "model.add(Dense(1, activation='sigmoid'))  # 분류기를 추가\n",
        "model.compile(optimizer='rmsprop', loss='binary_crossentropy', metrics=['acc'])\n",
        "model.summary()\n",
        "\n",
        "history = model.fit(x_train, y_train,\n",
        "                    epochs=10,\n",
        "                    batch_size=32,\n",
        "                    validation_split=0.2)"
      ],
      "execution_count": 0,
      "outputs": [
        {
          "output_type": "stream",
          "text": [
            "Model: \"sequential_1\"\n",
            "_________________________________________________________________\n",
            "Layer (type)                 Output Shape              Param #   \n",
            "=================================================================\n",
            "embedding_2 (Embedding)      (None, 20, 8)             80000     \n",
            "_________________________________________________________________\n",
            "flatten_1 (Flatten)          (None, 160)               0         \n",
            "_________________________________________________________________\n",
            "dense_1 (Dense)              (None, 1)                 161       \n",
            "=================================================================\n",
            "Total params: 80,161\n",
            "Trainable params: 80,161\n",
            "Non-trainable params: 0\n",
            "_________________________________________________________________\n"
          ],
          "name": "stdout"
        },
        {
          "output_type": "stream",
          "text": [
            "/usr/local/lib/python3.6/dist-packages/tensorflow/python/framework/indexed_slices.py:434: UserWarning: Converting sparse IndexedSlices to a dense Tensor of unknown shape. This may consume a large amount of memory.\n",
            "  \"Converting sparse IndexedSlices to a dense Tensor of unknown shape. \"\n"
          ],
          "name": "stderr"
        },
        {
          "output_type": "stream",
          "text": [
            "Train on 20000 samples, validate on 5000 samples\n",
            "Epoch 1/10\n",
            "20000/20000 [==============================] - 1s 74us/step - loss: 0.6622 - acc: 0.6344 - val_loss: 0.6009 - val_acc: 0.7126\n",
            "Epoch 2/10\n",
            "20000/20000 [==============================] - 1s 57us/step - loss: 0.5275 - acc: 0.7532 - val_loss: 0.5157 - val_acc: 0.7340\n",
            "Epoch 3/10\n",
            "20000/20000 [==============================] - 1s 61us/step - loss: 0.4555 - acc: 0.7886 - val_loss: 0.4948 - val_acc: 0.7504\n",
            "Epoch 4/10\n",
            "20000/20000 [==============================] - 1s 58us/step - loss: 0.4214 - acc: 0.8074 - val_loss: 0.4933 - val_acc: 0.7564\n",
            "Epoch 5/10\n",
            "20000/20000 [==============================] - 1s 59us/step - loss: 0.3981 - acc: 0.8205 - val_loss: 0.4905 - val_acc: 0.7576\n",
            "Epoch 6/10\n",
            "20000/20000 [==============================] - 1s 58us/step - loss: 0.3783 - acc: 0.8332 - val_loss: 0.4923 - val_acc: 0.7584\n",
            "Epoch 7/10\n",
            "20000/20000 [==============================] - 1s 60us/step - loss: 0.3606 - acc: 0.8429 - val_loss: 0.4957 - val_acc: 0.7562\n",
            "Epoch 8/10\n",
            "20000/20000 [==============================] - 1s 58us/step - loss: 0.3433 - acc: 0.8535 - val_loss: 0.5008 - val_acc: 0.7534\n",
            "Epoch 9/10\n",
            "20000/20000 [==============================] - 1s 57us/step - loss: 0.3267 - acc: 0.8619 - val_loss: 0.5067 - val_acc: 0.7532\n",
            "Epoch 10/10\n",
            "20000/20000 [==============================] - 1s 58us/step - loss: 0.3104 - acc: 0.8701 - val_loss: 0.5127 - val_acc: 0.7552\n"
          ],
          "name": "stdout"
        }
      ]
    },
    {
      "cell_type": "code",
      "metadata": {
        "id": "qOr7EayXVgK9",
        "colab_type": "code",
        "colab": {}
      },
      "source": [
        ""
      ],
      "execution_count": 0,
      "outputs": []
    }
  ]
}