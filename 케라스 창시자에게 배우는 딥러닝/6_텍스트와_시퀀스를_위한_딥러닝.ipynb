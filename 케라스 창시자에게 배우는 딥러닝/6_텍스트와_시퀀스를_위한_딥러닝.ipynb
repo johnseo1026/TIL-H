{
  "nbformat": 4,
  "nbformat_minor": 0,
  "metadata": {
    "kernelspec": {
      "display_name": "Python 3",
      "language": "python",
      "name": "python3"
    },
    "language_info": {
      "codemirror_mode": {
        "name": "ipython",
        "version": 3
      },
      "file_extension": ".py",
      "mimetype": "text/x-python",
      "name": "python",
      "nbconvert_exporter": "python",
      "pygments_lexer": "ipython3",
      "version": "3.6.6"
    },
    "colab": {
      "name": "6_텍스트와 시퀀스를 위한 딥러닝.ipynb",
      "provenance": [],
      "collapsed_sections": [],
      "toc_visible": true
    }
  },
  "cells": [
    {
      "cell_type": "markdown",
      "metadata": {
        "id": "BkG3APcXtwsP",
        "colab_type": "text"
      },
      "source": [
        "# 6.1 텍스트 데이터 다루기"
      ]
    },
    {
      "cell_type": "markdown",
      "metadata": {
        "id": "N_2OLABWtyef",
        "colab_type": "text"
      },
      "source": [
        "## 6.1.1 단어와 문자의 원-핫 인코딩"
      ]
    },
    {
      "cell_type": "code",
      "metadata": {
        "id": "0241croRt2QI",
        "colab_type": "code",
        "colab": {}
      },
      "source": [
        "# 단어 수준의 원-핫 인코딩하기\n",
        "import numpy as np\n",
        "\n",
        "samples = ['The cat sat on the mat.', 'The dog ate my homework.']  # 초기 데이터: 각원소가 샘플\n",
        "\n",
        "token_index = {}  # 데이터에 있는 모든 토큰의 인덱스를 구축\n",
        "for sample in samples:\n",
        "  for word in sample.split():   # split() 메서드를 사용하여 샘플을 토큰으로 나눔\n",
        "    if word not in token_index:\n",
        "      token_index[word] = len(token_index) + 1  # 단어마다 고유한 인덱스를 할당합니다. 인덱스 0은 사용하지 않는다  \n",
        "\n",
        "max_length = 10  # 샘플을 벡터로 변환합니다. 각 샘플에서 max_length까지 단어만 사용\n",
        "results = np.zeros(shape=(len(samples),\n",
        "                          max_length,\n",
        "                          max(token_index.values()) + 1))   # 경과를 저장할 배열\n",
        "for i, sample in enumerate(samples):\n",
        "  for j, word in list(enumerate(sample.split()))[:max_length]:\n",
        "    index = token_index.get(word)\n",
        "    results[i, j, index] = 1."
      ],
      "execution_count": 0,
      "outputs": []
    },
    {
      "cell_type": "code",
      "metadata": {
        "id": "1UbKshymt2NY",
        "colab_type": "code",
        "colab": {}
      },
      "source": [
        "# 문자 수준 원-핫 인코딩하기\n",
        "import string\n",
        "\n",
        "samples = ['The cat sat on the mat.', 'The dog ate my homework.']\n",
        "characters = string.printable  # 출력 가능한 모든 아스키 문자\n",
        "token_index = dict(zip(characters, range(1, len(characters) + 1)))\n",
        "\n",
        "max_length = 50\n",
        "results = np.zeros((len(samples), max_length, max(token_index.values()) + 1))\n",
        "for i, sample in enumerate(samples):\n",
        "  for j, character in enumerate(sample):\n",
        "    index = token_index.get(character)\n",
        "    results[i, j, index] = 1."
      ],
      "execution_count": 0,
      "outputs": []
    },
    {
      "cell_type": "code",
      "metadata": {
        "id": "rbM7IaoCt2Ko",
        "colab_type": "code",
        "outputId": "66c7d70d-55ab-4f32-9bda-249f934dcc3d",
        "colab": {
          "base_uri": "https://localhost:8080/",
          "height": 53
        }
      },
      "source": [
        "# 캐라스를 사용한 단어 수준의 원-핫 인코딩하기\n",
        "from keras.preprocessing.text import Tokenizer\n",
        "\n",
        "samples = ['The cat sat on the mat.', 'The dog ate my homework.']\n",
        "\n",
        "tokenizer = Tokenizer(num_words=1000) # 가장 빈도가 높은 1000개의 단어만 선택하도록 Tokenizer 객체를 만듬\n",
        "tokenizer.fit_on_texts(samples)  # 단어 인덱스를 구축\n",
        "\n",
        "sequences = tokenizer.texts_to_sequences(samples)  # 문자열을 정수 인덱스의 리스트로 변환\n",
        "\n",
        "one_hot_results = tokenizer.texts_to_matrix(samples, mode='binary')  # 직접 원-핫 이진 벡터 표현을 얻을수 있음. 원-핫 인코딩 외에 다른 벡터화 방법들도 제공\n",
        "\n",
        "word_index = tokenizer.word_index  # 계산된 단어 인덱스를 구함\n",
        "print('%s개의 고유한 토큰을 찾았습니다.' % len(word_index))"
      ],
      "execution_count": 0,
      "outputs": [
        {
          "output_type": "stream",
          "text": [
            "Using TensorFlow backend.\n"
          ],
          "name": "stderr"
        },
        {
          "output_type": "stream",
          "text": [
            "9개의 고유한 토큰을 찾았습니다.\n"
          ],
          "name": "stdout"
        }
      ]
    },
    {
      "cell_type": "code",
      "metadata": {
        "id": "oT7bIWVyt2Id",
        "colab_type": "code",
        "colab": {}
      },
      "source": [
        "# 해싱 기법을 사용한 단어 수준의 원-핫 인코딩하기\n",
        "samples = ['The cat sat on the mat.', 'The dog ate my homework.']\n",
        "\n",
        "dimensionality = 1000 # 단어를 크기가 1000인 벡터로 저장. 1000개의 단어가 있다면 해싱 충돌이 늘어나고 인코딩의 정확도가 감소될것\n",
        "max_length = 10\n",
        "\n",
        "results = np.zeros((len(samples), max_length, dimensionality))\n",
        "for i, sample in enumerate(samples):\n",
        "  for j, word in list(enumerate(sample.split()))[:max_length]:\n",
        "    index = abs(hash(word)) % dimensionality # 단어를 해싱하여 0과 1000사이의 랜덤한 정수 인덱스로 변환\n",
        "    results[i, j, index] = 1."
      ],
      "execution_count": 0,
      "outputs": []
    },
    {
      "cell_type": "markdown",
      "metadata": {
        "id": "kGPWyy8tt6z7",
        "colab_type": "text"
      },
      "source": [
        "## 6.1.2 단어의 임베딩 사용하기"
      ]
    },
    {
      "cell_type": "code",
      "metadata": {
        "id": "c6sng_9Kt2Gg",
        "colab_type": "code",
        "colab": {}
      },
      "source": [
        "# Embedding 층의 객체 생성하기\n",
        "from keras.layers import Embedding\n",
        "\n",
        "embedding_layer = Embedding(1000, 64)  # Embedding 층은 적어도 2개의 매개변수를 받음. 가능한 토큰의 개수(여기서는 1000으로 단어 인덱스 최댓값 +1)와 임베딩차원(여기서는 64)임"
      ],
      "execution_count": 0,
      "outputs": []
    },
    {
      "cell_type": "code",
      "metadata": {
        "id": "UgH-yGPht2Ds",
        "colab_type": "code",
        "outputId": "18e3c54c-0e7c-431f-ce02-145bf555c781",
        "colab": {
          "base_uri": "https://localhost:8080/",
          "height": 53
        }
      },
      "source": [
        "# Embedding 층에 사용할 IMDB 데이터 로드하기\n",
        "from keras.datasets import imdb\n",
        "from keras import preprocessing\n",
        "\n",
        "max_features = 10000  # 특성으로 사용할 단어의 수\n",
        "maxlen = 20  # 사용할 텍스트의 길이(가장 빈번한 max_features개의 단어만 사용)\n",
        "\n",
        "(x_train, y_train), (x_test, y_test) = imdb.load_data(num_words=max_features) # 정수 리스트로 데이터를 로드\n",
        "\n",
        "x_train = preprocessing.sequence.pad_sequences(x_train, maxlen=maxlen)  # 리스트를 (samples, maxlen) 크기의 2D 정수 텐서로 변환\n",
        "x_test = preprocessing.sequence.pad_sequences(x_test, maxlen=maxlen)"
      ],
      "execution_count": 0,
      "outputs": [
        {
          "output_type": "stream",
          "text": [
            "Downloading data from https://s3.amazonaws.com/text-datasets/imdb.npz\n",
            "17465344/17464789 [==============================] - 1s 0us/step\n"
          ],
          "name": "stdout"
        }
      ]
    },
    {
      "cell_type": "code",
      "metadata": {
        "id": "29Nuer5Gt2Bl",
        "colab_type": "code",
        "outputId": "18ba1d60-370f-4dae-a647-a4f881ea3eca",
        "colab": {
          "base_uri": "https://localhost:8080/",
          "height": 683
        }
      },
      "source": [
        "# IMDB 데이터에 Embedding 층과 분류기 사용하기\n",
        "from keras.models import Sequential\n",
        "from keras.layers import Flatten, Dense, Embedding\n",
        "\n",
        "model = Sequential()\n",
        "model.add(Embedding(10000, 8, input_length=maxlen))  # 나중에 임베딩된 입력을 Flatten 층에서 펼치기 위해 Embedding층에 input_length를 지정. Embedding 층의 출력 크기는(samples, maxlen, 8)이 됨\n",
        "\n",
        "model.add(Flatten())  # 3D 임베딩 텐서를 (samples, maxlen*8) 크기의 2D 텐서로 펼침\n",
        "\n",
        "model.add(Dense(1, activation='sigmoid'))  # 분류기를 추가\n",
        "model.compile(optimizer='rmsprop', loss='binary_crossentropy', metrics=['acc'])\n",
        "model.summary()\n",
        "\n",
        "history = model.fit(x_train, y_train,\n",
        "                    epochs=10,\n",
        "                    batch_size=32,\n",
        "                    validation_split=0.2)"
      ],
      "execution_count": 0,
      "outputs": [
        {
          "output_type": "stream",
          "text": [
            "Model: \"sequential_1\"\n",
            "_________________________________________________________________\n",
            "Layer (type)                 Output Shape              Param #   \n",
            "=================================================================\n",
            "embedding_2 (Embedding)      (None, 20, 8)             80000     \n",
            "_________________________________________________________________\n",
            "flatten_1 (Flatten)          (None, 160)               0         \n",
            "_________________________________________________________________\n",
            "dense_1 (Dense)              (None, 1)                 161       \n",
            "=================================================================\n",
            "Total params: 80,161\n",
            "Trainable params: 80,161\n",
            "Non-trainable params: 0\n",
            "_________________________________________________________________\n"
          ],
          "name": "stdout"
        },
        {
          "output_type": "stream",
          "text": [
            "/usr/local/lib/python3.6/dist-packages/tensorflow/python/framework/indexed_slices.py:434: UserWarning: Converting sparse IndexedSlices to a dense Tensor of unknown shape. This may consume a large amount of memory.\n",
            "  \"Converting sparse IndexedSlices to a dense Tensor of unknown shape. \"\n"
          ],
          "name": "stderr"
        },
        {
          "output_type": "stream",
          "text": [
            "Train on 20000 samples, validate on 5000 samples\n",
            "Epoch 1/10\n",
            "20000/20000 [==============================] - 1s 71us/step - loss: 0.6673 - acc: 0.6252 - val_loss: 0.6140 - val_acc: 0.6996\n",
            "Epoch 2/10\n",
            "20000/20000 [==============================] - 1s 60us/step - loss: 0.5382 - acc: 0.7527 - val_loss: 0.5240 - val_acc: 0.7340\n",
            "Epoch 3/10\n",
            "20000/20000 [==============================] - 1s 60us/step - loss: 0.4601 - acc: 0.7895 - val_loss: 0.5001 - val_acc: 0.7468\n",
            "Epoch 4/10\n",
            "20000/20000 [==============================] - 1s 60us/step - loss: 0.4212 - acc: 0.8088 - val_loss: 0.4927 - val_acc: 0.7560\n",
            "Epoch 5/10\n",
            "20000/20000 [==============================] - 1s 58us/step - loss: 0.3940 - acc: 0.8235 - val_loss: 0.4925 - val_acc: 0.7536\n",
            "Epoch 6/10\n",
            "20000/20000 [==============================] - 1s 60us/step - loss: 0.3714 - acc: 0.8356 - val_loss: 0.4946 - val_acc: 0.7580\n",
            "Epoch 7/10\n",
            "20000/20000 [==============================] - 1s 62us/step - loss: 0.3507 - acc: 0.8485 - val_loss: 0.5006 - val_acc: 0.7578\n",
            "Epoch 8/10\n",
            "20000/20000 [==============================] - 1s 60us/step - loss: 0.3311 - acc: 0.8610 - val_loss: 0.5074 - val_acc: 0.7542\n",
            "Epoch 9/10\n",
            "20000/20000 [==============================] - 1s 60us/step - loss: 0.3130 - acc: 0.8713 - val_loss: 0.5147 - val_acc: 0.7558\n",
            "Epoch 10/10\n",
            "20000/20000 [==============================] - 1s 58us/step - loss: 0.2947 - acc: 0.8809 - val_loss: 0.5236 - val_acc: 0.7534\n"
          ],
          "name": "stdout"
        }
      ]
    },
    {
      "cell_type": "markdown",
      "metadata": {
        "id": "hfIJpkwiuGGr",
        "colab_type": "text"
      },
      "source": [
        "## 6.1.3 모든 내용을 적용하기: 원본 텍스트레서 단어 임베딩까지"
      ]
    },
    {
      "cell_type": "code",
      "metadata": {
        "id": "_4pkd2Ygsdmr",
        "colab_type": "code",
        "colab": {}
      },
      "source": [
        "# IMDB 원본 데이터 전처리하기\n",
        "import os\n",
        "\n",
        "imdb_dir = './datasets/aclImdb'\n",
        "train_dir = os.path.join(imdb_dir, 'train')\n",
        "\n",
        "labels = []\n",
        "texts = []\n",
        "\n",
        "for label_type in ['neg', 'pos']:\n",
        "    dir_name = os.path.join(train_dir, label_type)\n",
        "    for fname in os.listdir(dir_name):\n",
        "        if fname[-4:] == '.txt':\n",
        "            f = open(os.path.join(dir_name, fname), encoding='utf8')\n",
        "            texts.append(f.read())\n",
        "            f.close()\n",
        "            if label_type == 'neg':\n",
        "                labels.append(0)\n",
        "            else:\n",
        "                labels.append(1)"
      ],
      "execution_count": 0,
      "outputs": []
    },
    {
      "cell_type": "code",
      "metadata": {
        "id": "u6ur5o0csdmu",
        "colab_type": "code",
        "outputId": "9841c32a-ae77-4d85-df77-ccc8dda14eb9",
        "colab": {}
      },
      "source": [
        "# IMDB 원본 데이터의 텍스트를 토큰화하기\n",
        "from keras.preprocessing.text import Tokenizer\n",
        "from keras.preprocessing.sequence import pad_sequences\n",
        "import numpy as np\n",
        "\n",
        "maxlen = 100  # 100개 단어 이후는 버립니다\n",
        "training_samples = 200  # 훈련 샘플은 200개입니다\n",
        "validation_samples = 10000  # 검증 샘플은 10,000개입니다\n",
        "max_words = 10000  # 데이터셋에서 가장 빈도 높은 10,000개의 단어만 사용합니다\n",
        "\n",
        "tokenizer = Tokenizer(num_words=max_words)\n",
        "tokenizer.fit_on_texts(texts)\n",
        "sequences = tokenizer.texts_to_sequences(texts)\n",
        "\n",
        "word_index = tokenizer.word_index\n",
        "print('%s개의 고유한 토큰을 찾았습니다.' % len(word_index))\n",
        "\n",
        "data = pad_sequences(sequences, maxlen=maxlen)\n",
        "\n",
        "labels = np.asarray(labels)\n",
        "print('데이터 텐서의 크기:', data.shape)\n",
        "print('레이블 텐서의 크기:', labels.shape)\n",
        "\n",
        "# 데이터를 훈련 세트와 검증 세트로 분할합니다.\n",
        "# 샘플이 순서대로 있기 때문에 (부정 샘플이 모두 나온 후에 긍정 샘플이 옵니다) \n",
        "# 먼저 데이터를 섞습니다.\n",
        "indices = np.arange(data.shape[0])\n",
        "np.random.shuffle(indices)\n",
        "data = data[indices]\n",
        "labels = labels[indices]\n",
        "\n",
        "x_train = data[:training_samples]\n",
        "y_train = labels[:training_samples]\n",
        "x_val = data[training_samples: training_samples + validation_samples]\n",
        "y_val = labels[training_samples: training_samples + validation_samples]"
      ],
      "execution_count": 0,
      "outputs": [
        {
          "output_type": "stream",
          "text": [
            "88582개의 고유한 토큰을 찾았습니다.\n",
            "데이터 텐서의 크기: (25000, 100)\n",
            "레이블 텐서의 크기: (25000,)\n"
          ],
          "name": "stdout"
        }
      ]
    },
    {
      "cell_type": "code",
      "metadata": {
        "id": "m2O0BGHDsdmw",
        "colab_type": "code",
        "outputId": "f456f67d-f02a-44be-9e08-0ec293c4ec1a",
        "colab": {}
      },
      "source": [
        "# GioVe 단어 임베딩 파일 파싱하기\n",
        "glove_dir = './datasets/'\n",
        "\n",
        "embeddings_index = {}\n",
        "f = open(os.path.join(glove_dir, 'glove.6B.100d.txt'), encoding=\"utf8\")\n",
        "for line in f:\n",
        "    values = line.split()\n",
        "    word = values[0]\n",
        "    coefs = np.asarray(values[1:], dtype='float32')\n",
        "    embeddings_index[word] = coefs\n",
        "f.close()\n",
        "\n",
        "print('%s개의 단어 벡터를 찾았습니다.' % len(embeddings_index))"
      ],
      "execution_count": 0,
      "outputs": [
        {
          "output_type": "stream",
          "text": [
            "400000개의 단어 벡터를 찾았습니다.\n"
          ],
          "name": "stdout"
        }
      ]
    },
    {
      "cell_type": "code",
      "metadata": {
        "id": "yJyGkROqsdmz",
        "colab_type": "code",
        "colab": {}
      },
      "source": [
        "# GloVe 단어 임베딩 행렬 준비하기\n",
        "embedding_dim = 100\n",
        "\n",
        "embedding_matrix = np.zeros((max_words, embedding_dim))\n",
        "for word, i in word_index.items():\n",
        "    embedding_vector = embeddings_index.get(word)\n",
        "    if i < max_words:\n",
        "        if embedding_vector is not None:\n",
        "            # 임베딩 인덱스에 없는 단어는 모두 0이 됩니다.\n",
        "            embedding_matrix[i] = embedding_vector"
      ],
      "execution_count": 0,
      "outputs": []
    },
    {
      "cell_type": "code",
      "metadata": {
        "id": "BaPm-Ef3sdm1",
        "colab_type": "code",
        "outputId": "0c6f2a1b-fee3-443e-e4b9-9f21f36ec974",
        "colab": {}
      },
      "source": [
        "# 모델 정의하기\n",
        "from keras.models import Sequential\n",
        "from keras.layers import Embedding, Flatten, Dense\n",
        "\n",
        "model = Sequential()\n",
        "model.add(Embedding(max_words, embedding_dim, input_length=maxlen))\n",
        "model.add(Flatten())\n",
        "model.add(Dense(32, activation='relu'))\n",
        "model.add(Dense(1, activation='sigmoid'))\n",
        "model.summary()"
      ],
      "execution_count": 0,
      "outputs": [
        {
          "output_type": "stream",
          "text": [
            "_________________________________________________________________\n",
            "Layer (type)                 Output Shape              Param #   \n",
            "=================================================================\n",
            "embedding_3 (Embedding)      (None, 100, 100)          1000000   \n",
            "_________________________________________________________________\n",
            "flatten_2 (Flatten)          (None, 10000)             0         \n",
            "_________________________________________________________________\n",
            "dense_2 (Dense)              (None, 32)                320032    \n",
            "_________________________________________________________________\n",
            "dense_3 (Dense)              (None, 1)                 33        \n",
            "=================================================================\n",
            "Total params: 1,320,065\n",
            "Trainable params: 1,320,065\n",
            "Non-trainable params: 0\n",
            "_________________________________________________________________\n"
          ],
          "name": "stdout"
        }
      ]
    },
    {
      "cell_type": "code",
      "metadata": {
        "id": "LnS9ASdjsdm4",
        "colab_type": "code",
        "colab": {}
      },
      "source": [
        "# 사전 훈련된 단어 임베딩을 Embedding 층에 로드하기\n",
        "model.layers[0].set_weights([embedding_matrix])\n",
        "model.layers[0].trainable = False"
      ],
      "execution_count": 0,
      "outputs": []
    },
    {
      "cell_type": "code",
      "metadata": {
        "id": "BR3cfnJWsdm6",
        "colab_type": "code",
        "outputId": "31751dcc-c659-449c-d155-a002ea3e0346",
        "colab": {}
      },
      "source": [
        "# 훈련과 평가하기\n",
        "model.compile(optimizer='rmsprop',\n",
        "              loss='binary_crossentropy',\n",
        "              metrics=['acc'])\n",
        "history = model.fit(x_train, y_train,\n",
        "                    epochs=10,\n",
        "                    batch_size=32,\n",
        "                    validation_data=(x_val, y_val))\n",
        "model.save_weights('pre_trained_glove_model.h5')"
      ],
      "execution_count": 0,
      "outputs": [
        {
          "output_type": "stream",
          "text": [
            "Train on 200 samples, validate on 10000 samples\n",
            "Epoch 1/10\n",
            "200/200 [==============================] - 0s 2ms/step - loss: 1.6733 - acc: 0.5400 - val_loss: 0.6907 - val_acc: 0.5338\n",
            "Epoch 2/10\n",
            "200/200 [==============================] - 0s 964us/step - loss: 0.6077 - acc: 0.6700 - val_loss: 0.8459 - val_acc: 0.5060\n",
            "Epoch 3/10\n",
            "200/200 [==============================] - 0s 976us/step - loss: 0.4950 - acc: 0.7650 - val_loss: 0.6870 - val_acc: 0.5583\n",
            "Epoch 4/10\n",
            "200/200 [==============================] - 0s 990us/step - loss: 0.3349 - acc: 0.8950 - val_loss: 0.8019 - val_acc: 0.5098\n",
            "Epoch 5/10\n",
            "200/200 [==============================] - 0s 986us/step - loss: 0.2251 - acc: 0.9600 - val_loss: 0.7647 - val_acc: 0.5462\n",
            "Epoch 6/10\n",
            "200/200 [==============================] - 0s 983us/step - loss: 0.3254 - acc: 0.8150 - val_loss: 0.6875 - val_acc: 0.5835\n",
            "Epoch 7/10\n",
            "200/200 [==============================] - 0s 982us/step - loss: 0.1144 - acc: 0.9950 - val_loss: 1.0806 - val_acc: 0.5026\n",
            "Epoch 8/10\n",
            "200/200 [==============================] - 0s 1ms/step - loss: 0.1141 - acc: 0.9800 - val_loss: 0.7699 - val_acc: 0.5488\n",
            "Epoch 9/10\n",
            "200/200 [==============================] - 0s 996us/step - loss: 0.0671 - acc: 0.9950 - val_loss: 0.7842 - val_acc: 0.5610\n",
            "Epoch 10/10\n",
            "200/200 [==============================] - 0s 974us/step - loss: 0.0814 - acc: 0.9850 - val_loss: 1.6252 - val_acc: 0.5076\n"
          ],
          "name": "stdout"
        }
      ]
    },
    {
      "cell_type": "code",
      "metadata": {
        "id": "6Ogq7dt9sdm_",
        "colab_type": "code",
        "outputId": "58e1d807-76f5-4006-8943-3c3eb76377a3",
        "colab": {}
      },
      "source": [
        "# 결과 그래프 그리기\n",
        "import matplotlib.pyplot as plt\n",
        "\n",
        "acc = history.history['acc']\n",
        "val_acc = history.history['val_acc']\n",
        "loss = history.history['loss']\n",
        "val_loss = history.history['val_loss']\n",
        "\n",
        "epochs = range(1, len(acc) + 1)\n",
        "\n",
        "plt.plot(epochs, acc, 'bo', label='Training acc')\n",
        "plt.plot(epochs, val_acc, 'b', label='Validation acc')\n",
        "plt.title('Training and validation accuracy')\n",
        "plt.legend()\n",
        "\n",
        "plt.figure()\n",
        "\n",
        "plt.plot(epochs, loss, 'bo', label='Training loss')\n",
        "plt.plot(epochs, val_loss, 'b', label='Validation loss')\n",
        "plt.title('Training and validation loss')\n",
        "plt.legend()\n",
        "\n",
        "plt.show()"
      ],
      "execution_count": 0,
      "outputs": [
        {
          "output_type": "display_data",
          "data": {
            "image/png": "[encoded data removed]",
            "text/plain": [
              "<Figure size 432x288 with 1 Axes>"
            ]
          },
          "metadata": {
            "tags": []
          }
        },
        {
          "output_type": "display_data",
          "data": {
            "image/png": "[encoded data removed]",
            "text/plain": [
              "<Figure size 432x288 with 1 Axes>"
            ]
          },
          "metadata": {
            "tags": []
          }
        }
      ]
    },
    {
      "cell_type": "code",
      "metadata": {
        "id": "OqcGjAiBsdnB",
        "colab_type": "code",
        "outputId": "fcc1eb59-faaf-40e8-8180-22dfb028c61d",
        "colab": {}
      },
      "source": [
        "# 사전 훈련된 단어 임베딩을 사용하지 않고 같은 모델 훈련하기\n",
        "from keras.models import Sequential\n",
        "from keras.layers import Embedding, Flatten, Dense\n",
        "\n",
        "model = Sequential()\n",
        "model.add(Embedding(max_words, embedding_dim, input_length=maxlen))\n",
        "model.add(Flatten())\n",
        "model.add(Dense(32, activation='relu'))\n",
        "model.add(Dense(1, activation='sigmoid'))\n",
        "model.summary()\n",
        "\n",
        "model.compile(optimizer='rmsprop',\n",
        "              loss='binary_crossentropy',\n",
        "              metrics=['acc'])\n",
        "history = model.fit(x_train, y_train,\n",
        "                    epochs=10,\n",
        "                    batch_size=32,\n",
        "                    validation_data=(x_val, y_val))"
      ],
      "execution_count": 0,
      "outputs": [
        {
          "output_type": "stream",
          "text": [
            "_________________________________________________________________\n",
            "Layer (type)                 Output Shape              Param #   \n",
            "=================================================================\n",
            "embedding_4 (Embedding)      (None, 100, 100)          1000000   \n",
            "_________________________________________________________________\n",
            "flatten_3 (Flatten)          (None, 10000)             0         \n",
            "_________________________________________________________________\n",
            "dense_4 (Dense)              (None, 32)                320032    \n",
            "_________________________________________________________________\n",
            "dense_5 (Dense)              (None, 1)                 33        \n",
            "=================================================================\n",
            "Total params: 1,320,065\n",
            "Trainable params: 1,320,065\n",
            "Non-trainable params: 0\n",
            "_________________________________________________________________\n",
            "Train on 200 samples, validate on 10000 samples\n",
            "Epoch 1/10\n",
            "200/200 [==============================] - 1s 3ms/step - loss: 0.6894 - acc: 0.5200 - val_loss: 0.6953 - val_acc: 0.5117\n",
            "Epoch 2/10\n",
            "200/200 [==============================] - 0s 1ms/step - loss: 0.4895 - acc: 0.9650 - val_loss: 0.7149 - val_acc: 0.5138\n",
            "Epoch 3/10\n",
            "200/200 [==============================] - 0s 1ms/step - loss: 0.2904 - acc: 0.9800 - val_loss: 0.7029 - val_acc: 0.5150\n",
            "Epoch 4/10\n",
            "200/200 [==============================] - 0s 1ms/step - loss: 0.1236 - acc: 1.0000 - val_loss: 0.7255 - val_acc: 0.5194\n",
            "Epoch 5/10\n",
            "200/200 [==============================] - 0s 1ms/step - loss: 0.0553 - acc: 1.0000 - val_loss: 0.7111 - val_acc: 0.5195\n",
            "Epoch 6/10\n",
            "200/200 [==============================] - 0s 1ms/step - loss: 0.0275 - acc: 1.0000 - val_loss: 0.7580 - val_acc: 0.5212\n",
            "Epoch 7/10\n",
            "200/200 [==============================] - 0s 1ms/step - loss: 0.0152 - acc: 1.0000 - val_loss: 0.7334 - val_acc: 0.5197\n",
            "Epoch 8/10\n",
            "200/200 [==============================] - 0s 1ms/step - loss: 0.0085 - acc: 1.0000 - val_loss: 0.7509 - val_acc: 0.5228\n",
            "Epoch 9/10\n",
            "200/200 [==============================] - 0s 1ms/step - loss: 0.0052 - acc: 1.0000 - val_loss: 0.7437 - val_acc: 0.5208\n",
            "Epoch 10/10\n",
            "200/200 [==============================] - 0s 1ms/step - loss: 0.0032 - acc: 1.0000 - val_loss: 0.7570 - val_acc: 0.5243\n"
          ],
          "name": "stdout"
        }
      ]
    },
    {
      "cell_type": "code",
      "metadata": {
        "id": "qqWer4qSsdnD",
        "colab_type": "code",
        "outputId": "710af0a9-651d-4362-953e-b8da485c94c0",
        "colab": {}
      },
      "source": [
        "acc = history.history['acc']\n",
        "val_acc = history.history['val_acc']\n",
        "loss = history.history['loss']\n",
        "val_loss = history.history['val_loss']\n",
        "\n",
        "epochs = range(1, len(acc) + 1)\n",
        "\n",
        "plt.plot(epochs, acc, 'bo', label='Training acc')\n",
        "plt.plot(epochs, val_acc, 'b', label='Validation acc')\n",
        "plt.title('Training and validation accuracy')\n",
        "plt.legend()\n",
        "\n",
        "plt.figure()\n",
        "\n",
        "plt.plot(epochs, loss, 'bo', label='Training loss')\n",
        "plt.plot(epochs, val_loss, 'b', label='Validation loss')\n",
        "plt.title('Training and validation loss')\n",
        "plt.legend()\n",
        "\n",
        "plt.show()"
      ],
      "execution_count": 0,
      "outputs": [
        {
          "output_type": "display_data",
          "data": {
            "image/png": "[encoded data removed]",
            "text/plain": [
              "<Figure size 432x288 with 1 Axes>"
            ]
          },
          "metadata": {
            "tags": []
          }
        },
        {
          "output_type": "display_data",
          "data": {
            "image/png": "[encoded data removed]",
            "text/plain": [
              "<Figure size 432x288 with 1 Axes>"
            ]
          },
          "metadata": {
            "tags": []
          }
        }
      ]
    },
    {
      "cell_type": "code",
      "metadata": {
        "id": "cBULByM0sdnG",
        "colab_type": "code",
        "colab": {}
      },
      "source": [
        "training_samples = 2000\n",
        "x_train = data[:training_samples]\n",
        "y_train = labels[:training_samples]\n",
        "x_val = data[training_samples: training_samples + validation_samples]\n",
        "y_val = labels[training_samples: training_samples + validation_samples]"
      ],
      "execution_count": 0,
      "outputs": []
    },
    {
      "cell_type": "code",
      "metadata": {
        "id": "9zrs_NjYsdnI",
        "colab_type": "code",
        "outputId": "fb9a0bf3-96b1-42ab-bb4f-01ce35cb3060",
        "colab": {}
      },
      "source": [
        "history = model.fit(x_train, y_train,\n",
        "                    epochs=10,\n",
        "                    batch_size=32,\n",
        "                    validation_data=(x_val, y_val))"
      ],
      "execution_count": 0,
      "outputs": [
        {
          "output_type": "stream",
          "text": [
            "Train on 2000 samples, validate on 10000 samples\n",
            "Epoch 1/10\n",
            "2000/2000 [==============================] - 0s 181us/step - loss: 0.6383 - acc: 0.6060 - val_loss: 0.6543 - val_acc: 0.6142\n",
            "Epoch 2/10\n",
            "2000/2000 [==============================] - 0s 177us/step - loss: 0.1578 - acc: 0.9880 - val_loss: 0.6246 - val_acc: 0.6631\n",
            "Epoch 3/10\n",
            "2000/2000 [==============================] - 0s 169us/step - loss: 0.0191 - acc: 0.9995 - val_loss: 0.6568 - val_acc: 0.6787\n",
            "Epoch 4/10\n",
            "2000/2000 [==============================] - 0s 168us/step - loss: 0.0016 - acc: 1.0000 - val_loss: 0.7071 - val_acc: 0.6916\n",
            "Epoch 5/10\n",
            "2000/2000 [==============================] - 0s 167us/step - loss: 1.2005e-04 - acc: 1.0000 - val_loss: 0.7635 - val_acc: 0.6972\n",
            "Epoch 6/10\n",
            "2000/2000 [==============================] - 0s 174us/step - loss: 8.1684e-06 - acc: 1.0000 - val_loss: 0.8398 - val_acc: 0.7043\n",
            "Epoch 7/10\n",
            "2000/2000 [==============================] - 0s 172us/step - loss: 7.4167e-07 - acc: 1.0000 - val_loss: 0.9032 - val_acc: 0.7046\n",
            "Epoch 8/10\n",
            "2000/2000 [==============================] - 0s 171us/step - loss: 1.7394e-07 - acc: 1.0000 - val_loss: 0.9660 - val_acc: 0.7040\n",
            "Epoch 9/10\n",
            "2000/2000 [==============================] - 0s 177us/step - loss: 1.1575e-07 - acc: 1.0000 - val_loss: 0.9998 - val_acc: 0.7039\n",
            "Epoch 10/10\n",
            "2000/2000 [==============================] - 0s 173us/step - loss: 1.1111e-07 - acc: 1.0000 - val_loss: 1.0030 - val_acc: 0.7046\n"
          ],
          "name": "stdout"
        }
      ]
    },
    {
      "cell_type": "code",
      "metadata": {
        "id": "fL0-o65esdnJ",
        "colab_type": "code",
        "outputId": "11011561-c65e-4a8c-ad59-46cce8bde2f1",
        "colab": {}
      },
      "source": [
        "acc = history.history['acc']\n",
        "val_acc = history.history['val_acc']\n",
        "loss = history.history['loss']\n",
        "val_loss = history.history['val_loss']\n",
        "\n",
        "epochs = range(1, len(acc) + 1)\n",
        "\n",
        "plt.plot(epochs, acc, 'bo', label='Training acc')\n",
        "plt.plot(epochs, val_acc, 'b', label='Validation acc')\n",
        "plt.title('Training and validation accuracy')\n",
        "plt.legend()\n",
        "\n",
        "plt.figure()\n",
        "\n",
        "plt.plot(epochs, loss, 'bo', label='Training loss')\n",
        "plt.plot(epochs, val_loss, 'b', label='Validation loss')\n",
        "plt.title('Training and validation loss')\n",
        "plt.legend()\n",
        "\n",
        "plt.show()"
      ],
      "execution_count": 0,
      "outputs": [
        {
          "output_type": "display_data",
          "data": {
            "image/png": "[encoded data removed]",
            "text/plain": [
              "<Figure size 432x288 with 1 Axes>"
            ]
          },
          "metadata": {
            "tags": []
          }
        },
        {
          "output_type": "display_data",
          "data": {
            "image/png": "[encoded data removed]",
            "text/plain": [
              "<Figure size 432x288 with 1 Axes>"
            ]
          },
          "metadata": {
            "tags": []
          }
        }
      ]
    },
    {
      "cell_type": "code",
      "metadata": {
        "id": "MaAwI8e3sdnM",
        "colab_type": "code",
        "colab": {}
      },
      "source": [
        "# 테스트 데이터 토큰화하기\n",
        "test_dir = os.path.join(imdb_dir, 'test')\n",
        "\n",
        "labels = []\n",
        "texts = []\n",
        "\n",
        "for label_type in ['neg', 'pos']:\n",
        "    dir_name = os.path.join(test_dir, label_type)\n",
        "    for fname in sorted(os.listdir(dir_name)):\n",
        "        if fname[-4:] == '.txt':\n",
        "            f = open(os.path.join(dir_name, fname), encoding=\"utf8\")\n",
        "            texts.append(f.read())\n",
        "            f.close()\n",
        "            if label_type == 'neg':\n",
        "                labels.append(0)\n",
        "            else:\n",
        "                labels.append(1)\n",
        "\n",
        "sequences = tokenizer.texts_to_sequences(texts)\n",
        "x_test = pad_sequences(sequences, maxlen=maxlen)\n",
        "y_test = np.asarray(labels)"
      ],
      "execution_count": 0,
      "outputs": []
    },
    {
      "cell_type": "code",
      "metadata": {
        "id": "4PiAE4d4sdnO",
        "colab_type": "code",
        "outputId": "c95854f7-cc37-4ee7-db6d-5a2f969157f3",
        "colab": {}
      },
      "source": [
        "# 테스트 세트에서 모델 평가하기\n",
        "model.load_weights('pre_trained_glove_model.h5')\n",
        "model.evaluate(x_test, y_test)"
      ],
      "execution_count": 0,
      "outputs": [
        {
          "output_type": "stream",
          "text": [
            "25000/25000 [==============================] - 0s 19us/step\n"
          ],
          "name": "stdout"
        },
        {
          "output_type": "execute_result",
          "data": {
            "text/plain": [
              "[1.6611276818060874, 0.50412]"
            ]
          },
          "metadata": {
            "tags": []
          },
          "execution_count": 21
        }
      ]
    },
    {
      "cell_type": "markdown",
      "metadata": {
        "id": "9eUM1SWq4Ivm",
        "colab_type": "text"
      },
      "source": [
        "# 6.2 순환 신경망 이해하기"
      ]
    },
    {
      "cell_type": "markdown",
      "metadata": {
        "id": "zWV8fCuU5T3D",
        "colab_type": "text"
      },
      "source": [
        "## 6.2.1 케라스의 순환 층"
      ]
    },
    {
      "cell_type": "code",
      "metadata": {
        "id": "DEqnp92aukAD",
        "colab_type": "code",
        "outputId": "da4dc6d1-394a-423c-ff6e-964ec4a66dda",
        "colab": {
          "base_uri": "https://localhost:8080/",
          "height": 35
        }
      },
      "source": [
        "from keras.layers import SimpleRNN"
      ],
      "execution_count": 0,
      "outputs": [
        {
          "output_type": "stream",
          "text": [
            "Using TensorFlow backend.\n"
          ],
          "name": "stderr"
        }
      ]
    },
    {
      "cell_type": "code",
      "metadata": {
        "id": "OUQzdor3uj8z",
        "colab_type": "code",
        "outputId": "522a9e90-91e2-4e5e-b9a2-fd7071afdcc7",
        "colab": {
          "base_uri": "https://localhost:8080/",
          "height": 233
        }
      },
      "source": [
        "from keras.models import Sequential\n",
        "from keras.layers import Embedding, SimpleRNN\n",
        "\n",
        "model = Sequential()\n",
        "model.add(Embedding(10000, 32))\n",
        "model.add(SimpleRNN(32))\n",
        "model.summary()"
      ],
      "execution_count": 0,
      "outputs": [
        {
          "output_type": "stream",
          "text": [
            "Model: \"sequential_1\"\n",
            "_________________________________________________________________\n",
            "Layer (type)                 Output Shape              Param #   \n",
            "=================================================================\n",
            "embedding_1 (Embedding)      (None, None, 32)          320000    \n",
            "_________________________________________________________________\n",
            "simple_rnn_1 (SimpleRNN)     (None, 32)                2080      \n",
            "=================================================================\n",
            "Total params: 322,080\n",
            "Trainable params: 322,080\n",
            "Non-trainable params: 0\n",
            "_________________________________________________________________\n"
          ],
          "name": "stdout"
        }
      ]
    },
    {
      "cell_type": "code",
      "metadata": {
        "id": "D6wPrkn_uj5x",
        "colab_type": "code",
        "outputId": "8bfc2630-7a26-4cfb-d9f3-7c0cee047c20",
        "colab": {
          "base_uri": "https://localhost:8080/",
          "height": 233
        }
      },
      "source": [
        "model = Sequential()\n",
        "model.add(Embedding(10000, 32))\n",
        "model.add(SimpleRNN(32, return_sequences=True))\n",
        "model.summary()"
      ],
      "execution_count": 0,
      "outputs": [
        {
          "output_type": "stream",
          "text": [
            "Model: \"sequential_2\"\n",
            "_________________________________________________________________\n",
            "Layer (type)                 Output Shape              Param #   \n",
            "=================================================================\n",
            "embedding_2 (Embedding)      (None, None, 32)          320000    \n",
            "_________________________________________________________________\n",
            "simple_rnn_2 (SimpleRNN)     (None, None, 32)          2080      \n",
            "=================================================================\n",
            "Total params: 322,080\n",
            "Trainable params: 322,080\n",
            "Non-trainable params: 0\n",
            "_________________________________________________________________\n"
          ],
          "name": "stdout"
        }
      ]
    },
    {
      "cell_type": "code",
      "metadata": {
        "id": "xnztK25bujx7",
        "colab_type": "code",
        "outputId": "b5997a73-abe3-4dd6-f698-61d21accbb30",
        "colab": {
          "base_uri": "https://localhost:8080/",
          "height": 341
        }
      },
      "source": [
        "model = Sequential()\n",
        "model.add(Embedding(10000, 32))\n",
        "model.add(SimpleRNN(32, return_sequences=True))\n",
        "model.add(SimpleRNN(32, return_sequences=True))\n",
        "model.add(SimpleRNN(32, return_sequences=True))\n",
        "model.add(SimpleRNN(32))  # 맨 위 층만 마지막 출력을 반환합니다.\n",
        "model.summary()"
      ],
      "execution_count": 0,
      "outputs": [
        {
          "output_type": "stream",
          "text": [
            "Model: \"sequential_3\"\n",
            "_________________________________________________________________\n",
            "Layer (type)                 Output Shape              Param #   \n",
            "=================================================================\n",
            "embedding_3 (Embedding)      (None, None, 32)          320000    \n",
            "_________________________________________________________________\n",
            "simple_rnn_3 (SimpleRNN)     (None, None, 32)          2080      \n",
            "_________________________________________________________________\n",
            "simple_rnn_4 (SimpleRNN)     (None, None, 32)          2080      \n",
            "_________________________________________________________________\n",
            "simple_rnn_5 (SimpleRNN)     (None, None, 32)          2080      \n",
            "_________________________________________________________________\n",
            "simple_rnn_6 (SimpleRNN)     (None, 32)                2080      \n",
            "=================================================================\n",
            "Total params: 328,320\n",
            "Trainable params: 328,320\n",
            "Non-trainable params: 0\n",
            "_________________________________________________________________\n"
          ],
          "name": "stdout"
        }
      ]
    },
    {
      "cell_type": "code",
      "metadata": {
        "id": "3d97Ox8lujvn",
        "colab_type": "code",
        "outputId": "ccf50c4f-477c-40b6-d251-732007f78003",
        "colab": {
          "base_uri": "https://localhost:8080/",
          "height": 161
        }
      },
      "source": [
        "# IMDB 데이터 전처리하기\n",
        "from keras.datasets import imdb\n",
        "from keras.preprocessing import sequence\n",
        "\n",
        "max_features = 10000  # 특성으로 사용할 단어의 수\n",
        "maxlen = 500  # 사용할 텍스트의 길이(가장 빈번한 max_features 개의 단어만 사용합니다)\n",
        "batch_size = 32\n",
        "\n",
        "print('데이터 로딩...')\n",
        "(input_train, y_train), (input_test, y_test) = imdb.load_data(num_words=max_features)\n",
        "print(len(input_train), '훈련 시퀀스')\n",
        "print(len(input_test), '테스트 시퀀스')\n",
        "\n",
        "print('시퀀스 패딩 (samples x time)')\n",
        "input_train = sequence.pad_sequences(input_train, maxlen=maxlen)\n",
        "input_test = sequence.pad_sequences(input_test, maxlen=maxlen)\n",
        "print('input_train 크기:', input_train.shape)\n",
        "print('input_test 크기:', input_test.shape)"
      ],
      "execution_count": 0,
      "outputs": [
        {
          "output_type": "stream",
          "text": [
            "데이터 로딩...\n",
            "Downloading data from https://s3.amazonaws.com/text-datasets/imdb.npz\n",
            "17465344/17464789 [==============================] - 0s 0us/step\n",
            "25000 훈련 시퀀스\n",
            "25000 테스트 시퀀스\n",
            "시퀀스 패딩 (samples x time)\n",
            "input_train 크기: (25000, 500)\n",
            "input_test 크기: (25000, 500)\n"
          ],
          "name": "stdout"
        }
      ]
    },
    {
      "cell_type": "code",
      "metadata": {
        "id": "700YbRc45kr1",
        "colab_type": "code",
        "outputId": "56e41f13-37f7-4007-e275-1cec5baf3254",
        "colab": {
          "base_uri": "https://localhost:8080/",
          "height": 431
        }
      },
      "source": [
        "# Embedding 층과 SimpleRNN 층을 사용한 모델 훈련하기\n",
        "from keras.layers import Dense\n",
        "\n",
        "model = Sequential()\n",
        "model.add(Embedding(max_features, 32))\n",
        "model.add(SimpleRNN(32))\n",
        "model.add(Dense(1, activation='sigmoid'))\n",
        "\n",
        "model.compile(optimizer='rmsprop', loss='binary_crossentropy', metrics=['acc'])\n",
        "history = model.fit(input_train, y_train,\n",
        "                    epochs=10,\n",
        "                    batch_size=128,\n",
        "                    validation_split=0.2)"
      ],
      "execution_count": 0,
      "outputs": [
        {
          "output_type": "stream",
          "text": [
            "/usr/local/lib/python3.6/dist-packages/tensorflow/python/framework/indexed_slices.py:434: UserWarning: Converting sparse IndexedSlices to a dense Tensor of unknown shape. This may consume a large amount of memory.\n",
            "  \"Converting sparse IndexedSlices to a dense Tensor of unknown shape. \"\n"
          ],
          "name": "stderr"
        },
        {
          "output_type": "stream",
          "text": [
            "Train on 20000 samples, validate on 5000 samples\n",
            "Epoch 1/10\n",
            "20000/20000 [==============================] - 27s 1ms/step - loss: 0.6532 - acc: 0.6008 - val_loss: 0.6072 - val_acc: 0.6640\n",
            "Epoch 2/10\n",
            "20000/20000 [==============================] - 26s 1ms/step - loss: 0.4211 - acc: 0.8246 - val_loss: 0.4305 - val_acc: 0.8146\n",
            "Epoch 3/10\n",
            "20000/20000 [==============================] - 26s 1ms/step - loss: 0.3005 - acc: 0.8777 - val_loss: 0.4276 - val_acc: 0.8182\n",
            "Epoch 4/10\n",
            "20000/20000 [==============================] - 26s 1ms/step - loss: 0.2177 - acc: 0.9168 - val_loss: 0.4024 - val_acc: 0.8386\n",
            "Epoch 5/10\n",
            "20000/20000 [==============================] - 26s 1ms/step - loss: 0.1606 - acc: 0.9396 - val_loss: 0.4160 - val_acc: 0.8352\n",
            "Epoch 6/10\n",
            "20000/20000 [==============================] - 26s 1ms/step - loss: 0.1161 - acc: 0.9607 - val_loss: 0.4943 - val_acc: 0.8248\n",
            "Epoch 7/10\n",
            "20000/20000 [==============================] - 26s 1ms/step - loss: 0.0607 - acc: 0.9815 - val_loss: 0.6401 - val_acc: 0.7860\n",
            "Epoch 8/10\n",
            "20000/20000 [==============================] - 25s 1ms/step - loss: 0.0446 - acc: 0.9859 - val_loss: 0.6371 - val_acc: 0.7834\n",
            "Epoch 9/10\n",
            "20000/20000 [==============================] - 25s 1ms/step - loss: 0.0226 - acc: 0.9938 - val_loss: 0.7192 - val_acc: 0.7754\n",
            "Epoch 10/10\n",
            "20000/20000 [==============================] - 25s 1ms/step - loss: 0.0129 - acc: 0.9967 - val_loss: 0.7157 - val_acc: 0.7990\n"
          ],
          "name": "stdout"
        }
      ]
    },
    {
      "cell_type": "code",
      "metadata": {
        "id": "Uv0XGAsi6Ysu",
        "colab_type": "code",
        "outputId": "e7210ce8-20de-4f2f-8f60-4bad34d7ffd0",
        "colab": {
          "base_uri": "https://localhost:8080/",
          "height": 545
        }
      },
      "source": [
        "# 결과 그래프 그리기\n",
        "import matplotlib.pyplot as plt\n",
        "\n",
        "acc = history.history['acc']\n",
        "val_acc = history.history['val_acc']\n",
        "loss = history.history['loss']\n",
        "val_loss = history.history['val_loss']\n",
        "\n",
        "epochs = range(1, len(acc) + 1)\n",
        "\n",
        "plt.plot(epochs, acc, 'bo', label='Training acc')\n",
        "plt.plot(epochs, val_acc, 'b', label='Validation acc')\n",
        "plt.title('Training and validation accuracy')\n",
        "plt.legend()\n",
        "\n",
        "plt.figure()\n",
        "\n",
        "plt.plot(epochs, loss, 'bo', label='Training loss')\n",
        "plt.plot(epochs, val_loss, 'b', label='Validation loss')\n",
        "plt.title('Training and validation loss')\n",
        "plt.legend()\n",
        "\n",
        "plt.show()"
      ],
      "execution_count": 0,
      "outputs": [
        {
          "output_type": "display_data",
          "data": {
            "image/png": "[encoded data removed]",
            "text/plain": [
              "<Figure size 432x288 with 1 Axes>"
            ]
          },
          "metadata": {
            "tags": [],
            "needs_background": "light"
          }
        },
        {
          "output_type": "display_data",
          "data": {
            "image/png": "[encoded data removed]",
            "text/plain": [
              "<Figure size 432x288 with 1 Axes>"
            ]
          },
          "metadata": {
            "tags": [],
            "needs_background": "light"
          }
        }
      ]
    },
    {
      "cell_type": "markdown",
      "metadata": {
        "id": "Qy0lYI7Y9ZOB",
        "colab_type": "text"
      },
      "source": [
        "## 6.2.3 케라스를 사용한 LSTM 예제\n"
      ]
    },
    {
      "cell_type": "code",
      "metadata": {
        "id": "H20N95pa9Wco",
        "colab_type": "code",
        "outputId": "aeec4bd1-6d8c-4878-c098-b3fa450254f2",
        "colab": {
          "base_uri": "https://localhost:8080/",
          "height": 431
        }
      },
      "source": [
        "# 케라스에서 LSTM 층 사용하기\n",
        "from keras.layers import LSTM\n",
        "\n",
        "model = Sequential()\n",
        "model.add(Embedding(max_features, 32))\n",
        "model.add(LSTM(32))\n",
        "model.add(Dense(1, activation='sigmoid'))\n",
        "\n",
        "model.compile(optimizer='rmsprop',\n",
        "              loss='binary_crossentropy',\n",
        "              metrics=['acc'])\n",
        "history = model.fit(input_train, y_train,\n",
        "                    epochs=10,\n",
        "                    batch_size=128,\n",
        "                    validation_split=0.2)"
      ],
      "execution_count": 0,
      "outputs": [
        {
          "output_type": "stream",
          "text": [
            "/usr/local/lib/python3.6/dist-packages/tensorflow/python/framework/indexed_slices.py:434: UserWarning: Converting sparse IndexedSlices to a dense Tensor of unknown shape. This may consume a large amount of memory.\n",
            "  \"Converting sparse IndexedSlices to a dense Tensor of unknown shape. \"\n"
          ],
          "name": "stderr"
        },
        {
          "output_type": "stream",
          "text": [
            "Train on 20000 samples, validate on 5000 samples\n",
            "Epoch 1/10\n",
            "20000/20000 [==============================] - 72s 4ms/step - loss: 0.5057 - acc: 0.7625 - val_loss: 0.4757 - val_acc: 0.7618\n",
            "Epoch 2/10\n",
            "20000/20000 [==============================] - 70s 4ms/step - loss: 0.2928 - acc: 0.8845 - val_loss: 0.2852 - val_acc: 0.8830\n",
            "Epoch 3/10\n",
            "20000/20000 [==============================] - 71s 4ms/step - loss: 0.2336 - acc: 0.9095 - val_loss: 0.3046 - val_acc: 0.8722\n",
            "Epoch 4/10\n",
            "20000/20000 [==============================] - 71s 4ms/step - loss: 0.1961 - acc: 0.9290 - val_loss: 0.3967 - val_acc: 0.8764\n",
            "Epoch 5/10\n",
            "20000/20000 [==============================] - 71s 4ms/step - loss: 0.1769 - acc: 0.9355 - val_loss: 0.3084 - val_acc: 0.8858\n",
            "Epoch 6/10\n",
            "20000/20000 [==============================] - 72s 4ms/step - loss: 0.1504 - acc: 0.9454 - val_loss: 0.3210 - val_acc: 0.8906\n",
            "Epoch 7/10\n",
            "20000/20000 [==============================] - 71s 4ms/step - loss: 0.1364 - acc: 0.9518 - val_loss: 0.3083 - val_acc: 0.8864\n",
            "Epoch 8/10\n",
            "20000/20000 [==============================] - 71s 4ms/step - loss: 0.1286 - acc: 0.9552 - val_loss: 0.3638 - val_acc: 0.8900\n",
            "Epoch 9/10\n",
            "20000/20000 [==============================] - 71s 4ms/step - loss: 0.1158 - acc: 0.9597 - val_loss: 0.7110 - val_acc: 0.8248\n",
            "Epoch 10/10\n",
            "20000/20000 [==============================] - 73s 4ms/step - loss: 0.1071 - acc: 0.9625 - val_loss: 0.5512 - val_acc: 0.8210\n"
          ],
          "name": "stdout"
        }
      ]
    },
    {
      "cell_type": "code",
      "metadata": {
        "id": "J73gUJPc9r3p",
        "colab_type": "code",
        "outputId": "d41086a7-03c4-4cc0-8420-e6aece8ed995",
        "colab": {
          "base_uri": "https://localhost:8080/",
          "height": 545
        }
      },
      "source": [
        "acc = history.history['acc']\n",
        "val_acc = history.history['val_acc']\n",
        "loss = history.history['loss']\n",
        "val_loss = history.history['val_loss']\n",
        "\n",
        "epochs = range(1, len(acc) + 1)\n",
        "\n",
        "plt.plot(epochs, acc, 'bo', label='Training acc')\n",
        "plt.plot(epochs, val_acc, 'b', label='Validation acc')\n",
        "plt.title('Training and validation accuracy')\n",
        "plt.legend()\n",
        "\n",
        "plt.figure()\n",
        "\n",
        "plt.plot(epochs, loss, 'bo', label='Training loss')\n",
        "plt.plot(epochs, val_loss, 'b', label='Validation loss')\n",
        "plt.title('Training and validation loss')\n",
        "plt.legend()\n",
        "\n",
        "plt.show()"
      ],
      "execution_count": 0,
      "outputs": [
        {
          "output_type": "display_data",
          "data": {
            "image/png": "[encoded data removed]",
            "text/plain": [
              "<Figure size 432x288 with 1 Axes>"
            ]
          },
          "metadata": {
            "tags": [],
            "needs_background": "light"
          }
        },
        {
          "output_type": "display_data",
          "data": {
            "image/png": "[encoded data removed]",
            "text/plain": [
              "<Figure size 432x288 with 1 Axes>"
            ]
          },
          "metadata": {
            "tags": [],
            "needs_background": "light"
          }
        }
      ]
    },
    {
      "cell_type": "markdown",
      "metadata": {
        "id": "QK19rMVLGR07",
        "colab_type": "text"
      },
      "source": [
        "# 6.3 순환 신경망의 고급 사용법"
      ]
    },
    {
      "cell_type": "markdown",
      "metadata": {
        "id": "Vu2SGcg-GVcM",
        "colab_type": "text"
      },
      "source": [
        "## 6.3.1 기온 예측 문제"
      ]
    },
    {
      "cell_type": "code",
      "metadata": {
        "id": "3nuejXJdAfiJ",
        "colab_type": "code",
        "outputId": "0eedef69-858d-4ebf-ece6-07c2483625fd",
        "colab": {
          "base_uri": "https://localhost:8080/",
          "height": 73
        }
      },
      "source": [
        "# 예나의 날씨 데이터셋 조사하기\n",
        "import os\n",
        "\n",
        "data_dir = '/content/datasets/jena_climate'\n",
        "fname = os.path.join(data_dir, 'jena_climate_2009_2016.csv')\n",
        "\n",
        "f = open(fname)\n",
        "data = f.read()\n",
        "f.close()\n",
        "\n",
        "lines = data.split('\\n')\n",
        "header = lines[0].split(',')\n",
        "lines = lines[1:]\n",
        "\n",
        "print(header)\n",
        "print(len(lines))"
      ],
      "execution_count": 0,
      "outputs": [
        {
          "output_type": "stream",
          "text": [
            "['\"Date Time\"', '\"p (mbar)\"', '\"T (degC)\"', '\"Tpot (K)\"', '\"Tdew (degC)\"', '\"rh (%)\"', '\"VPmax (mbar)\"', '\"VPact (mbar)\"', '\"VPdef (mbar)\"', '\"sh (g/kg)\"', '\"H2OC (mmol/mol)\"', '\"rho (g/m**3)\"', '\"wv (m/s)\"', '\"max. wv (m/s)\"', '\"wd (deg)\"']\n",
            "420551\n"
          ],
          "name": "stdout"
        }
      ]
    },
    {
      "cell_type": "code",
      "metadata": {
        "id": "qGqR_z3HHYTy",
        "colab_type": "code",
        "colab": {}
      },
      "source": [
        "# 데이터 파싱하기\n",
        "import numpy as np\n",
        "\n",
        "float_data = np.zeros((len(lines), len(header) - 1))\n",
        "for i, line in enumerate(lines):\n",
        "    values = [float(x) for x in line.split(',')[1:]]\n",
        "    float_data[i, :] = values"
      ],
      "execution_count": 0,
      "outputs": []
    },
    {
      "cell_type": "code",
      "metadata": {
        "id": "nRYHeVEtIZ4r",
        "colab_type": "code",
        "outputId": "f7f25c81-56a4-4738-e017-9f537ead0cb7",
        "colab": {
          "base_uri": "https://localhost:8080/",
          "height": 286
        }
      },
      "source": [
        "# 시계열 온도 그래프 그리기\n",
        "from matplotlib import pyplot as plt\n",
        "\n",
        "temp = float_data[:,1]  # 온도(섭씨)\n",
        "plt.plot(range(len(temp)), temp)"
      ],
      "execution_count": 0,
      "outputs": [
        {
          "output_type": "execute_result",
          "data": {
            "text/plain": [
              "[<matplotlib.lines.Line2D at 0x7f51938e49e8>]"
            ]
          },
          "metadata": {
            "tags": []
          },
          "execution_count": 15
        },
        {
          "output_type": "display_data",
          "data": {
            "image/png": "[encoded data removed]",
            "text/plain": [
              "<Figure size 432x288 with 1 Axes>"
            ]
          },
          "metadata": {
            "tags": [],
            "needs_background": "light"
          }
        }
      ]
    },
    {
      "cell_type": "code",
      "metadata": {
        "id": "cSugdEXgKXPz",
        "colab_type": "code",
        "outputId": "265830fa-4e14-48f5-dffc-8b25e7b10e53",
        "colab": {
          "base_uri": "https://localhost:8080/",
          "height": 265
        }
      },
      "source": [
        "# 처음 10일간 온도 그래프 그리기\n",
        "plt.plot(range(1440), temp[:1440])\n",
        "plt.show()"
      ],
      "execution_count": 0,
      "outputs": [
        {
          "output_type": "display_data",
          "data": {
            "image/png": "[encoded data removed]",
            "text/plain": [
              "<Figure size 432x288 with 1 Axes>"
            ]
          },
          "metadata": {
            "tags": [],
            "needs_background": "light"
          }
        }
      ]
    },
    {
      "cell_type": "markdown",
      "metadata": {
        "id": "ejPRuVvZKjo0",
        "colab_type": "text"
      },
      "source": [
        "## 6.3.2 데이터 준비"
      ]
    },
    {
      "cell_type": "code",
      "metadata": {
        "id": "oN9CYcmqKfO_",
        "colab_type": "code",
        "colab": {}
      },
      "source": [
        "# 데이터 정규화하기\n",
        "mean = float_data[:200000].mean(axis=0)\n",
        "float_data -= mean\n",
        "std = float_data[:200000].std(axis=0)\n",
        "float_data /= std"
      ],
      "execution_count": 0,
      "outputs": []
    },
    {
      "cell_type": "code",
      "metadata": {
        "id": "mMA2U7buKpCF",
        "colab_type": "code",
        "colab": {}
      },
      "source": [
        "# 시계열 데이터와 타깃을 반환하는 제너레이터 함수\n",
        "def generator(data, lookback, delay, min_index, max_index,\n",
        "              shuffle=False, batch_size=128, step=6):\n",
        "    if max_index is None:\n",
        "        max_index = len(data) - delay - 1\n",
        "    i = min_index + lookback\n",
        "    while 1:\n",
        "        if shuffle:\n",
        "            rows = np.random.randint(\n",
        "                min_index + lookback, max_index, size=batch_size)\n",
        "        else:\n",
        "            if i + batch_size >= max_index:\n",
        "                i = min_index + lookback\n",
        "            rows = np.arange(i, min(i + batch_size, max_index))\n",
        "            i += len(rows)\n",
        "\n",
        "        samples = np.zeros((len(rows),\n",
        "                           lookback // step,\n",
        "                           data.shape[-1]))\n",
        "        targets = np.zeros((len(rows),))\n",
        "        for j, row in enumerate(rows):\n",
        "            indices = range(rows[j] - lookback, rows[j], step)\n",
        "            samples[j] = data[indices]\n",
        "            targets[j] = data[rows[j] + delay][1]\n",
        "        yield samples, targets"
      ],
      "execution_count": 0,
      "outputs": []
    },
    {
      "cell_type": "code",
      "metadata": {
        "id": "KHy5kb4KKtzg",
        "colab_type": "code",
        "colab": {}
      },
      "source": [
        "# 훈련, 검증,테스트 제너레이터 준비하기\n",
        "lookback = 1440\n",
        "step = 6\n",
        "delay = 144\n",
        "batch_size = 128\n",
        "\n",
        "train_gen = generator(float_data,\n",
        "                      lookback=lookback,\n",
        "                      delay=delay,\n",
        "                      min_index=0,\n",
        "                      max_index=200000,\n",
        "                      shuffle=True,\n",
        "                      step=step, \n",
        "                      batch_size=batch_size)\n",
        "val_gen = generator(float_data,\n",
        "                    lookback=lookback,\n",
        "                    delay=delay,\n",
        "                    min_index=200001,\n",
        "                    max_index=300000,\n",
        "                    step=step,\n",
        "                    batch_size=batch_size)\n",
        "test_gen = generator(float_data,\n",
        "                     lookback=lookback,\n",
        "                     delay=delay,\n",
        "                     min_index=300001,\n",
        "                     max_index=None,\n",
        "                     step=step,\n",
        "                     batch_size=batch_size)\n",
        "\n",
        "# 전체 검증 세트를 순회하기 위해 val_gen에서 추출할 횟수\n",
        "val_steps = (300000 - 200001 - lookback) // batch_size\n",
        "\n",
        "# 전체 테스트 세트를 순회하기 위해 test_gen에서 추출할 횟수\n",
        "test_steps = (len(float_data) - 300001 - lookback) // batch_size"
      ],
      "execution_count": 0,
      "outputs": []
    },
    {
      "cell_type": "markdown",
      "metadata": {
        "id": "gJ9VtX3AK1UG",
        "colab_type": "text"
      },
      "source": [
        "## 6.3.3 상식 수준의 기준점"
      ]
    },
    {
      "cell_type": "code",
      "metadata": {
        "id": "uqocucF5KzRc",
        "colab_type": "code",
        "outputId": "4faea05e-4bfa-495f-df71-bb574b2159d1",
        "colab": {
          "base_uri": "https://localhost:8080/",
          "height": 35
        }
      },
      "source": [
        "# 상식적인 기준 모델의 MAE 계산하기\n",
        "def evaluate_naive_method():\n",
        "    batch_maes = []\n",
        "    for step in range(val_steps):\n",
        "        samples, targets = next(val_gen)\n",
        "        preds = samples[:, -1, 1]\n",
        "        mae = np.mean(np.abs(preds - targets))\n",
        "        batch_maes.append(mae)\n",
        "    print(np.mean(batch_maes))\n",
        "    \n",
        "evaluate_naive_method()"
      ],
      "execution_count": 0,
      "outputs": [
        {
          "output_type": "stream",
          "text": [
            "0.2897359729905486\n"
          ],
          "name": "stdout"
        }
      ]
    },
    {
      "cell_type": "code",
      "metadata": {
        "id": "4imLCz9aK8M_",
        "colab_type": "code",
        "outputId": "a705b9e5-24e2-417b-8af2-86ebf0cf35f2",
        "colab": {
          "base_uri": "https://localhost:8080/",
          "height": 35
        }
      },
      "source": [
        "# MAE를 섭씨 단위로 변환하기\n",
        "celsius_mae = 0.29 * std[1]\n",
        "celsius_mae"
      ],
      "execution_count": 0,
      "outputs": [
        {
          "output_type": "execute_result",
          "data": {
            "text/plain": [
              "2.5672247338393395"
            ]
          },
          "metadata": {
            "tags": []
          },
          "execution_count": 21
        }
      ]
    },
    {
      "cell_type": "markdown",
      "metadata": {
        "id": "xbDJRq-eWElT",
        "colab_type": "text"
      },
      "source": [
        "## 6.3.4 기본적인 머신 러닝 방법"
      ]
    },
    {
      "cell_type": "code",
      "metadata": {
        "id": "njK_jODvLDy8",
        "colab_type": "code",
        "outputId": "2957903e-8768-48bf-c0b2-36fb45500f6b",
        "colab": {
          "base_uri": "https://localhost:8080/",
          "height": 737
        }
      },
      "source": [
        "# 완전 연결 모델을 훈련하고 평가하기\n",
        "from keras.models import Sequential\n",
        "from keras import layers\n",
        "from keras.optimizers import RMSprop\n",
        "\n",
        "model = Sequential()\n",
        "model.add(layers.Flatten(input_shape=(lookback // step, float_data.shape[-1])))\n",
        "model.add(layers.Dense(32, activation='relu'))\n",
        "model.add(layers.Dense(1))\n",
        "\n",
        "model.compile(optimizer=RMSprop(), loss='mae')\n",
        "history = model.fit_generator(train_gen,\n",
        "                              steps_per_epoch=500,\n",
        "                              epochs=20,\n",
        "                              validation_data=val_gen,\n",
        "                              validation_steps=val_steps)"
      ],
      "execution_count": 0,
      "outputs": [
        {
          "output_type": "stream",
          "text": [
            "Epoch 1/20\n",
            "500/500 [==============================] - 15s 30ms/step - loss: 1.1005 - val_loss: 0.4511\n",
            "Epoch 2/20\n",
            "500/500 [==============================] - 15s 29ms/step - loss: 0.3744 - val_loss: 0.3161\n",
            "Epoch 3/20\n",
            "500/500 [==============================] - 15s 29ms/step - loss: 0.2827 - val_loss: 0.2569\n",
            "Epoch 4/20\n",
            "500/500 [==============================] - 15s 29ms/step - loss: 0.2618 - val_loss: 0.2559\n",
            "Epoch 5/20\n",
            "500/500 [==============================] - 15s 30ms/step - loss: 0.2519 - val_loss: 0.2059\n",
            "Epoch 6/20\n",
            "500/500 [==============================] - 15s 29ms/step - loss: 0.2438 - val_loss: 0.1982\n",
            "Epoch 7/20\n",
            "500/500 [==============================] - 15s 30ms/step - loss: 0.2360 - val_loss: 0.2677\n",
            "Epoch 8/20\n",
            "500/500 [==============================] - 15s 30ms/step - loss: 0.2318 - val_loss: 0.2125\n",
            "Epoch 9/20\n",
            "500/500 [==============================] - 15s 30ms/step - loss: 0.2263 - val_loss: 0.2020\n",
            "Epoch 10/20\n",
            "500/500 [==============================] - 15s 30ms/step - loss: 0.2213 - val_loss: 0.2840\n",
            "Epoch 11/20\n",
            "500/500 [==============================] - 15s 30ms/step - loss: 0.2181 - val_loss: 0.2129\n",
            "Epoch 12/20\n",
            "500/500 [==============================] - 15s 29ms/step - loss: 0.2142 - val_loss: 0.2584\n",
            "Epoch 13/20\n",
            "500/500 [==============================] - 15s 29ms/step - loss: 0.2126 - val_loss: 0.2519\n",
            "Epoch 14/20\n",
            "500/500 [==============================] - 15s 30ms/step - loss: 0.2111 - val_loss: 0.2981\n",
            "Epoch 15/20\n",
            "500/500 [==============================] - 15s 30ms/step - loss: 0.2086 - val_loss: 0.3377\n",
            "Epoch 16/20\n",
            "500/500 [==============================] - 15s 30ms/step - loss: 0.2058 - val_loss: 0.2375\n",
            "Epoch 17/20\n",
            "500/500 [==============================] - 15s 30ms/step - loss: 0.2041 - val_loss: 0.2253\n",
            "Epoch 18/20\n",
            "500/500 [==============================] - 15s 29ms/step - loss: 0.2023 - val_loss: 0.2384\n",
            "Epoch 19/20\n",
            "500/500 [==============================] - 15s 30ms/step - loss: 0.1999 - val_loss: 0.3425\n",
            "Epoch 20/20\n",
            "500/500 [==============================] - 15s 30ms/step - loss: 0.1993 - val_loss: 0.2348\n"
          ],
          "name": "stdout"
        }
      ]
    },
    {
      "cell_type": "code",
      "metadata": {
        "id": "w6TDCiZclueq",
        "colab_type": "code",
        "outputId": "6512077c-c763-4c8d-b77a-505201f77035",
        "colab": {
          "base_uri": "https://localhost:8080/",
          "height": 281
        }
      },
      "source": [
        "# 결과 그래프 그리기\n",
        "import matplotlib.pyplot as plt\n",
        "\n",
        "loss = history.history['loss']\n",
        "val_loss = history.history['val_loss']\n",
        "\n",
        "epochs = range(1, len(loss) + 1)\n",
        "\n",
        "plt.figure()\n",
        "\n",
        "plt.plot(epochs, loss, 'bo', label='Training loss')\n",
        "plt.plot(epochs, val_loss, 'b', label='Validation loss')\n",
        "plt.title('Training and validation loss')\n",
        "plt.legend()\n",
        "\n",
        "plt.show()"
      ],
      "execution_count": 0,
      "outputs": [
        {
          "output_type": "display_data",
          "data": {
            "image/png": "[encoded data removed]",
            "text/plain": [
              "<Figure size 432x288 with 1 Axes>"
            ]
          },
          "metadata": {
            "tags": [],
            "needs_background": "light"
          }
        }
      ]
    },
    {
      "cell_type": "markdown",
      "metadata": {
        "id": "nSJq8ZNomsLa",
        "colab_type": "text"
      },
      "source": [
        "## 6.3.6 첫번째 순환 신경망"
      ]
    },
    {
      "cell_type": "code",
      "metadata": {
        "id": "L8lmD-4bmnWZ",
        "colab_type": "code",
        "outputId": "c79ab007-03ec-4551-cc97-97c50dcb7848",
        "colab": {
          "base_uri": "https://localhost:8080/",
          "height": 737
        }
      },
      "source": [
        "# GRU를 사용한 모델을 훈련하고 평가하기\n",
        "from keras.models import Sequential\n",
        "from keras import layers\n",
        "from keras.optimizers import RMSprop\n",
        "\n",
        "model = Sequential()\n",
        "model.add(layers.GRU(32, input_shape=(None, float_data.shape[-1])))\n",
        "model.add(layers.Dense(1))\n",
        "\n",
        "model.compile(optimizer=RMSprop(), loss='mae')\n",
        "history = model.fit_generator(train_gen,\n",
        "                              steps_per_epoch=500,\n",
        "                              epochs=20,\n",
        "                              validation_data=val_gen,\n",
        "                              validation_steps=val_steps)"
      ],
      "execution_count": 0,
      "outputs": [
        {
          "output_type": "stream",
          "text": [
            "Epoch 1/20\n",
            "500/500 [==============================] - 121s 241ms/step - loss: 0.3047 - val_loss: 0.3083\n",
            "Epoch 2/20\n",
            "500/500 [==============================] - 121s 242ms/step - loss: 0.2832 - val_loss: 0.3278\n",
            "Epoch 3/20\n",
            "500/500 [==============================] - 121s 241ms/step - loss: 0.2790 - val_loss: 0.3444\n",
            "Epoch 4/20\n",
            "500/500 [==============================] - 121s 241ms/step - loss: 0.2752 - val_loss: 0.3465\n",
            "Epoch 5/20\n",
            "500/500 [==============================] - 120s 240ms/step - loss: 0.2693 - val_loss: 0.3053\n",
            "Epoch 6/20\n",
            "500/500 [==============================] - 121s 241ms/step - loss: 0.2639 - val_loss: 0.3257\n",
            "Epoch 7/20\n",
            "500/500 [==============================] - 121s 242ms/step - loss: 0.2606 - val_loss: 0.3299\n",
            "Epoch 8/20\n",
            "500/500 [==============================] - 120s 241ms/step - loss: 0.2565 - val_loss: 0.3234\n",
            "Epoch 9/20\n",
            "500/500 [==============================] - 121s 241ms/step - loss: 0.2519 - val_loss: 0.3340\n",
            "Epoch 10/20\n",
            "500/500 [==============================] - 120s 241ms/step - loss: 0.2483 - val_loss: 0.3313\n",
            "Epoch 11/20\n",
            "500/500 [==============================] - 120s 240ms/step - loss: 0.2441 - val_loss: 0.3258\n",
            "Epoch 12/20\n",
            "500/500 [==============================] - 120s 240ms/step - loss: 0.2416 - val_loss: 0.3378\n",
            "Epoch 13/20\n",
            "500/500 [==============================] - 121s 242ms/step - loss: 0.2388 - val_loss: 0.3209\n",
            "Epoch 14/20\n",
            "500/500 [==============================] - 120s 241ms/step - loss: 0.2361 - val_loss: 0.3308\n",
            "Epoch 15/20\n",
            "500/500 [==============================] - 120s 241ms/step - loss: 0.2324 - val_loss: 0.3390\n",
            "Epoch 16/20\n",
            "500/500 [==============================] - 121s 242ms/step - loss: 0.2289 - val_loss: 0.3565\n",
            "Epoch 17/20\n",
            "500/500 [==============================] - 121s 242ms/step - loss: 0.2234 - val_loss: 0.3719\n",
            "Epoch 18/20\n",
            "500/500 [==============================] - 121s 241ms/step - loss: 0.2212 - val_loss: 0.3687\n",
            "Epoch 19/20\n",
            "500/500 [==============================] - 120s 241ms/step - loss: 0.2179 - val_loss: 0.3622\n",
            "Epoch 20/20\n",
            "500/500 [==============================] - 120s 240ms/step - loss: 0.2164 - val_loss: 0.3708\n"
          ],
          "name": "stdout"
        }
      ]
    },
    {
      "cell_type": "code",
      "metadata": {
        "id": "4tEKcGB8m0y8",
        "colab_type": "code",
        "outputId": "c72b8864-4056-4cee-e715-05383709cd83",
        "colab": {
          "base_uri": "https://localhost:8080/",
          "height": 281
        }
      },
      "source": [
        "loss = history.history['loss']\n",
        "val_loss = history.history['val_loss']\n",
        "\n",
        "epochs = range(1, len(loss) + 1)\n",
        "\n",
        "plt.figure()\n",
        "\n",
        "plt.plot(epochs, loss, 'bo', label='Training loss')\n",
        "plt.plot(epochs, val_loss, 'b', label='Validation loss')\n",
        "plt.title('Training and validation loss')\n",
        "plt.legend()\n",
        "\n",
        "plt.show()"
      ],
      "execution_count": 0,
      "outputs": [
        {
          "output_type": "display_data",
          "data": {
            "image/png": "[encoded data removed]",
            "text/plain": [
              "<Figure size 432x288 with 1 Axes>"
            ]
          },
          "metadata": {
            "tags": [],
            "needs_background": "light"
          }
        }
      ]
    },
    {
      "cell_type": "markdown",
      "metadata": {
        "id": "rcLXbo-om6pT",
        "colab_type": "text"
      },
      "source": [
        "## 6.3.6 과대적합을 감소하기 위해 순환 드롭아웃 사용하기"
      ]
    },
    {
      "cell_type": "code",
      "metadata": {
        "id": "uZCB3RbFm4C_",
        "colab_type": "code",
        "outputId": "003fac05-670d-42f8-b920-e1afd92aa0fe",
        "colab": {
          "base_uri": "https://localhost:8080/",
          "height": 1000
        }
      },
      "source": [
        "# 드롭아웃 규제된 GRU를 사용한 모델을 훈련하고 평가하기\n",
        "from keras.models import Sequential\n",
        "from keras import layers\n",
        "from keras.optimizers import RMSprop\n",
        "\n",
        "model = Sequential()\n",
        "model.add(layers.GRU(32,\n",
        "                     dropout=0.2,\n",
        "                     recurrent_dropout=0.2,\n",
        "                     input_shape=(None, float_data.shape[-1])))\n",
        "model.add(layers.Dense(1))\n",
        "\n",
        "model.compile(optimizer=RMSprop(), loss='mae')\n",
        "history = model.fit_generator(train_gen,\n",
        "                              steps_per_epoch=500,\n",
        "                              epochs=40,\n",
        "                              validation_data=val_gen,\n",
        "                              validation_steps=val_steps)"
      ],
      "execution_count": 0,
      "outputs": [
        {
          "output_type": "stream",
          "text": [
            "Epoch 1/40\n",
            "500/500 [==============================] - 128s 255ms/step - loss: nan - val_loss: nan\n",
            "Epoch 2/40\n",
            "500/500 [==============================] - 128s 255ms/step - loss: nan - val_loss: nan\n",
            "Epoch 3/40\n",
            "500/500 [==============================] - 126s 252ms/step - loss: nan - val_loss: nan\n",
            "Epoch 4/40\n",
            "500/500 [==============================] - 127s 253ms/step - loss: nan - val_loss: nan\n",
            "Epoch 5/40\n",
            "500/500 [==============================] - 127s 253ms/step - loss: nan - val_loss: nan\n",
            "Epoch 6/40\n",
            "500/500 [==============================] - 126s 252ms/step - loss: nan - val_loss: nan\n",
            "Epoch 7/40\n",
            "500/500 [==============================] - 126s 253ms/step - loss: nan - val_loss: nan\n",
            "Epoch 8/40\n",
            "500/500 [==============================] - 126s 252ms/step - loss: nan - val_loss: nan\n",
            "Epoch 9/40\n",
            "500/500 [==============================] - 126s 252ms/step - loss: nan - val_loss: nan\n",
            "Epoch 10/40\n",
            "500/500 [==============================] - 126s 253ms/step - loss: nan - val_loss: nan\n",
            "Epoch 11/40\n",
            "500/500 [==============================] - 127s 254ms/step - loss: nan - val_loss: nan\n",
            "Epoch 12/40\n",
            "500/500 [==============================] - 126s 252ms/step - loss: nan - val_loss: nan\n",
            "Epoch 13/40\n",
            "500/500 [==============================] - 126s 252ms/step - loss: nan - val_loss: nan\n",
            "Epoch 14/40\n",
            "500/500 [==============================] - 126s 253ms/step - loss: nan - val_loss: nan\n",
            "Epoch 15/40\n",
            "500/500 [==============================] - 127s 254ms/step - loss: nan - val_loss: nan\n",
            "Epoch 16/40\n",
            "500/500 [==============================] - 127s 254ms/step - loss: nan - val_loss: nan\n",
            "Epoch 17/40\n",
            "500/500 [==============================] - 126s 253ms/step - loss: nan - val_loss: nan\n",
            "Epoch 18/40\n",
            "500/500 [==============================] - 127s 253ms/step - loss: nan - val_loss: nan\n",
            "Epoch 19/40\n",
            "500/500 [==============================] - 126s 253ms/step - loss: nan - val_loss: nan\n",
            "Epoch 20/40\n",
            "500/500 [==============================] - 127s 254ms/step - loss: nan - val_loss: nan\n",
            "Epoch 21/40\n",
            "500/500 [==============================] - 127s 254ms/step - loss: nan - val_loss: nan\n",
            "Epoch 22/40\n",
            "500/500 [==============================] - 126s 252ms/step - loss: nan - val_loss: nan\n",
            "Epoch 23/40\n",
            "500/500 [==============================] - 127s 253ms/step - loss: nan - val_loss: nan\n",
            "Epoch 24/40\n",
            "500/500 [==============================] - 126s 252ms/step - loss: nan - val_loss: nan\n",
            "Epoch 25/40\n",
            "500/500 [==============================] - 126s 253ms/step - loss: nan - val_loss: nan\n",
            "Epoch 26/40\n",
            "500/500 [==============================] - 127s 253ms/step - loss: nan - val_loss: nan\n",
            "Epoch 27/40\n",
            "500/500 [==============================] - 127s 254ms/step - loss: nan - val_loss: nan\n",
            "Epoch 28/40\n",
            "500/500 [==============================] - 126s 253ms/step - loss: nan - val_loss: nan\n",
            "Epoch 29/40\n",
            "500/500 [==============================] - 126s 253ms/step - loss: nan - val_loss: nan\n",
            "Epoch 30/40\n",
            "500/500 [==============================] - 126s 252ms/step - loss: nan - val_loss: nan\n",
            "Epoch 31/40\n",
            "500/500 [==============================] - 128s 255ms/step - loss: nan - val_loss: nan\n",
            "Epoch 32/40\n",
            "500/500 [==============================] - 127s 254ms/step - loss: nan - val_loss: nan\n",
            "Epoch 33/40\n",
            "500/500 [==============================] - 127s 254ms/step - loss: nan - val_loss: nan\n",
            "Epoch 34/40\n",
            "500/500 [==============================] - 127s 253ms/step - loss: nan - val_loss: nan\n",
            "Epoch 35/40\n",
            "500/500 [==============================] - 125s 251ms/step - loss: nan - val_loss: nan\n",
            "Epoch 36/40\n",
            "500/500 [==============================] - 126s 253ms/step - loss: nan - val_loss: nan\n",
            "Epoch 37/40\n",
            "500/500 [==============================] - 127s 254ms/step - loss: nan - val_loss: nan\n",
            "Epoch 38/40\n",
            "500/500 [==============================] - 128s 255ms/step - loss: nan - val_loss: nan\n",
            "Epoch 39/40\n",
            "500/500 [==============================] - 126s 252ms/step - loss: nan - val_loss: nan\n",
            "Epoch 40/40\n",
            "500/500 [==============================] - 126s 252ms/step - loss: nan - val_loss: nan\n"
          ],
          "name": "stdout"
        }
      ]
    },
    {
      "cell_type": "code",
      "metadata": {
        "id": "yz8DPuU-nCFy",
        "colab_type": "code",
        "outputId": "a15ce70c-7ab3-4659-ea16-fd8ef4395a74",
        "colab": {
          "base_uri": "https://localhost:8080/",
          "height": 281
        }
      },
      "source": [
        "loss = history.history['loss']\n",
        "val_loss = history.history['val_loss']\n",
        "\n",
        "epochs = range(1, len(loss) + 1)\n",
        "\n",
        "plt.figure()\n",
        "\n",
        "plt.plot(epochs, loss, 'bo', label='Training loss')\n",
        "plt.plot(epochs, val_loss, 'b', label='Validation loss')\n",
        "plt.title('Training and validation loss')\n",
        "plt.legend()\n",
        "\n",
        "plt.show()"
      ],
      "execution_count": 0,
      "outputs": [
        {
          "output_type": "display_data",
          "data": {
            "image/png": "[encoded data removed]",
            "text/plain": [
              "<Figure size 432x288 with 1 Axes>"
            ]
          },
          "metadata": {
            "tags": [],
            "needs_background": "light"
          }
        }
      ]
    },
    {
      "cell_type": "markdown",
      "metadata": {
        "id": "L1b7UbmHnFEQ",
        "colab_type": "text"
      },
      "source": [
        "## 6.3.7 스태킹 순환 층"
      ]
    },
    {
      "cell_type": "code",
      "metadata": {
        "id": "FlvKCGQmnD1O",
        "colab_type": "code",
        "outputId": "dcbdd189-4190-47f9-a2c6-1e1db34b494c",
        "colab": {
          "base_uri": "https://localhost:8080/",
          "height": 629
        }
      },
      "source": [
        "# 드롭아웃으로 규제하고 스테킹한 GRU 모델을 훈련하고 평가하기\n",
        "from keras.models import Sequential\n",
        "from keras import layers\n",
        "from keras.optimizers import RMSprop\n",
        "\n",
        "model = Sequential()\n",
        "model.add(layers.GRU(32,\n",
        "                     dropout=0.1,\n",
        "                     recurrent_dropout=0.5,\n",
        "                     return_sequences=True,\n",
        "                     input_shape=(None, float_data.shape[-1])))\n",
        "model.add(layers.GRU(64, activation='relu',\n",
        "                     dropout=0.1, \n",
        "                     recurrent_dropout=0.5))\n",
        "model.add(layers.Dense(1))\n",
        "\n",
        "model.compile(optimizer=RMSprop(), loss='mae')\n",
        "history = model.fit_generator(train_gen,\n",
        "                              steps_per_epoch=500,\n",
        "                              epochs=40,\n",
        "                              validation_data=val_gen,\n",
        "                              validation_steps=val_steps)"
      ],
      "execution_count": 0,
      "outputs": [
        {
          "output_type": "stream",
          "text": [
            "Epoch 1/40\n",
            "500/500 [==============================] - 352s 705ms/step - loss: nan - val_loss: nan\n",
            "Epoch 2/40\n",
            "500/500 [==============================] - 357s 713ms/step - loss: nan - val_loss: nan\n",
            "Epoch 3/40\n",
            "500/500 [==============================] - 357s 713ms/step - loss: nan - val_loss: nan\n",
            "Epoch 4/40\n",
            "500/500 [==============================] - 350s 700ms/step - loss: nan - val_loss: nan\n",
            "Epoch 5/40\n",
            "500/500 [==============================] - 349s 698ms/step - loss: nan - val_loss: nan\n",
            "Epoch 6/40\n",
            "500/500 [==============================] - 353s 706ms/step - loss: nan - val_loss: nan\n",
            "Epoch 7/40\n",
            "500/500 [==============================] - 354s 708ms/step - loss: nan - val_loss: nan\n",
            "Epoch 8/40\n",
            "500/500 [==============================] - 359s 717ms/step - loss: nan - val_loss: nan\n",
            "Epoch 9/40\n",
            "500/500 [==============================] - 353s 705ms/step - loss: nan - val_loss: nan\n",
            "Epoch 10/40\n",
            "500/500 [==============================] - 363s 727ms/step - loss: nan - val_loss: nan\n",
            "Epoch 11/40\n",
            "500/500 [==============================] - 355s 710ms/step - loss: nan - val_loss: nan\n",
            "Epoch 12/40\n",
            "500/500 [==============================] - 358s 716ms/step - loss: nan - val_loss: nan\n",
            "Epoch 13/40\n",
            "500/500 [==============================] - 352s 704ms/step - loss: nan - val_loss: nan\n",
            "Epoch 14/40\n",
            "500/500 [==============================] - 352s 704ms/step - loss: nan - val_loss: nan\n",
            "Epoch 15/40\n",
            "500/500 [==============================] - 353s 707ms/step - loss: nan - val_loss: nan\n",
            "Epoch 16/40\n",
            "500/500 [==============================] - 355s 709ms/step - loss: nan - val_loss: nan\n",
            "Epoch 17/40\n",
            "499/500 [============================>.] - ETA: 0s - loss: nan"
          ],
          "name": "stdout"
        }
      ]
    },
    {
      "cell_type": "code",
      "metadata": {
        "id": "x8xeRwFrnRBt",
        "colab_type": "code",
        "colab": {}
      },
      "source": [
        "loss = history.history['loss']\n",
        "val_loss = history.history['val_loss']\n",
        "\n",
        "epochs = range(1, len(loss) + 1)\n",
        "\n",
        "plt.figure()\n",
        "\n",
        "plt.plot(epochs, loss, 'bo', label='Training loss')\n",
        "plt.plot(epochs, val_loss, 'b', label='Validation loss')\n",
        "plt.title('Training and validation loss')\n",
        "plt.legend()\n",
        "\n",
        "plt.show()"
      ],
      "execution_count": 0,
      "outputs": []
    },
    {
      "cell_type": "markdown",
      "metadata": {
        "id": "qYhmwEfCnUsD",
        "colab_type": "text"
      },
      "source": [
        "## 6.3.8 양방향 RNN 사용하기"
      ]
    },
    {
      "cell_type": "code",
      "metadata": {
        "id": "8qtPDhJ1nRVt",
        "colab_type": "code",
        "outputId": "e9c51f1d-86b9-4e41-bddb-c1507644c2f6",
        "colab": {
          "base_uri": "https://localhost:8080/",
          "height": 467
        }
      },
      "source": [
        "# 거꾸로 된 시퀀스를 사용한 LSTM을 훈련하고 평가하기\n",
        "from keras.datasets import imdb\n",
        "from keras.preprocessing import sequence\n",
        "from keras import layers\n",
        "from keras.models import Sequential\n",
        "\n",
        "# 특성으로 사용할 단어의 수\n",
        "max_features = 10000\n",
        "# 사용할 텍스트의 길이(가장 빈번한 max_features 개의 단어만 사용합니다)\n",
        "maxlen = 500\n",
        "\n",
        "# 데이터 로드\n",
        "(x_train, y_train), (x_test, y_test) = imdb.load_data(num_words=max_features)\n",
        "\n",
        "# 시퀀스를 뒤집습니다\n",
        "x_train = [x[::-1] for x in x_train]\n",
        "x_test = [x[::-1] for x in x_test]\n",
        "\n",
        "# 시퀀스에 패딩을 추가합니다\n",
        "x_train = sequence.pad_sequences(x_train, maxlen=maxlen)\n",
        "x_test = sequence.pad_sequences(x_test, maxlen=maxlen)\n",
        "\n",
        "model = Sequential()\n",
        "model.add(layers.Embedding(max_features, 128))\n",
        "model.add(layers.LSTM(32))\n",
        "model.add(layers.Dense(1, activation='sigmoid'))\n",
        "\n",
        "model.compile(optimizer='rmsprop',\n",
        "              loss='binary_crossentropy',\n",
        "              metrics=['acc'])\n",
        "history = model.fit(x_train, y_train,\n",
        "                    epochs=10,\n",
        "                    batch_size=128,\n",
        "                    validation_split=0.2)"
      ],
      "execution_count": 0,
      "outputs": [
        {
          "output_type": "stream",
          "text": [
            "Downloading data from https://s3.amazonaws.com/text-datasets/imdb.npz\n",
            "17465344/17464789 [==============================] - 0s 0us/step\n"
          ],
          "name": "stdout"
        },
        {
          "output_type": "stream",
          "text": [
            "/usr/local/lib/python3.6/dist-packages/tensorflow/python/framework/indexed_slices.py:434: UserWarning: Converting sparse IndexedSlices to a dense Tensor of unknown shape. This may consume a large amount of memory.\n",
            "  \"Converting sparse IndexedSlices to a dense Tensor of unknown shape. \"\n"
          ],
          "name": "stderr"
        },
        {
          "output_type": "stream",
          "text": [
            "Train on 20000 samples, validate on 5000 samples\n",
            "Epoch 1/10\n",
            "20000/20000 [==============================] - 89s 4ms/step - loss: 0.5027 - acc: 0.7626 - val_loss: 0.3608 - val_acc: 0.8608\n",
            "Epoch 2/10\n",
            "20000/20000 [==============================] - 89s 4ms/step - loss: 0.3174 - acc: 0.8777 - val_loss: 0.3201 - val_acc: 0.8806\n",
            "Epoch 3/10\n",
            "20000/20000 [==============================] - 92s 5ms/step - loss: 0.2620 - acc: 0.9024 - val_loss: 0.3405 - val_acc: 0.8716\n",
            "Epoch 4/10\n",
            "20000/20000 [==============================] - 91s 5ms/step - loss: 0.2235 - acc: 0.9196 - val_loss: 0.3341 - val_acc: 0.8816\n",
            "Epoch 5/10\n",
            "20000/20000 [==============================] - 91s 5ms/step - loss: 0.1920 - acc: 0.9324 - val_loss: 0.3960 - val_acc: 0.8412\n",
            "Epoch 6/10\n",
            "20000/20000 [==============================] - 91s 5ms/step - loss: 0.1736 - acc: 0.9391 - val_loss: 0.4009 - val_acc: 0.8678\n",
            "Epoch 7/10\n",
            "20000/20000 [==============================] - 91s 5ms/step - loss: 0.1626 - acc: 0.9444 - val_loss: 0.3599 - val_acc: 0.8728\n",
            "Epoch 8/10\n",
            "20000/20000 [==============================] - 91s 5ms/step - loss: 0.1444 - acc: 0.9514 - val_loss: 0.4433 - val_acc: 0.8720\n",
            "Epoch 9/10\n",
            "20000/20000 [==============================] - 91s 5ms/step - loss: 0.1327 - acc: 0.9548 - val_loss: 0.5477 - val_acc: 0.8230\n",
            "Epoch 10/10\n",
            "20000/20000 [==============================] - 90s 5ms/step - loss: 0.1191 - acc: 0.9609 - val_loss: 0.4266 - val_acc: 0.8746\n"
          ],
          "name": "stdout"
        }
      ]
    },
    {
      "cell_type": "code",
      "metadata": {
        "id": "1diP3L9nqdgf",
        "colab_type": "code",
        "outputId": "5063dbca-1234-456e-d7ad-f900ede2b566",
        "colab": {
          "base_uri": "https://localhost:8080/",
          "height": 431
        }
      },
      "source": [
        "# 양방향 LSTM을 훈련하고 평가하기\n",
        "from keras import backend as K\n",
        "K.clear_session()\n",
        "\n",
        "model = Sequential()\n",
        "model.add(layers.Embedding(max_features, 32))\n",
        "model.add(layers.Bidirectional(layers.LSTM(32)))\n",
        "model.add(layers.Dense(1, activation='sigmoid'))\n",
        "\n",
        "model.compile(optimizer='rmsprop', loss='binary_crossentropy', metrics=['acc'])\n",
        "history = model.fit(x_train, y_train, epochs=10, batch_size=128, validation_split=0.2)"
      ],
      "execution_count": 0,
      "outputs": [
        {
          "output_type": "stream",
          "text": [
            "/usr/local/lib/python3.6/dist-packages/tensorflow/python/framework/indexed_slices.py:434: UserWarning: Converting sparse IndexedSlices to a dense Tensor of unknown shape. This may consume a large amount of memory.\n",
            "  \"Converting sparse IndexedSlices to a dense Tensor of unknown shape. \"\n"
          ],
          "name": "stderr"
        },
        {
          "output_type": "stream",
          "text": [
            "Train on 20000 samples, validate on 5000 samples\n",
            "Epoch 1/10\n",
            "20000/20000 [==============================] - 121s 6ms/step - loss: 0.5523 - acc: 0.7308 - val_loss: 0.3926 - val_acc: 0.8490\n",
            "Epoch 2/10\n",
            "20000/20000 [==============================] - 121s 6ms/step - loss: 0.3327 - acc: 0.8749 - val_loss: 0.3417 - val_acc: 0.8596\n",
            "Epoch 3/10\n",
            "20000/20000 [==============================] - 121s 6ms/step - loss: 0.2694 - acc: 0.8999 - val_loss: 0.3186 - val_acc: 0.8826\n",
            "Epoch 4/10\n",
            "20000/20000 [==============================] - 121s 6ms/step - loss: 0.2303 - acc: 0.9177 - val_loss: 0.4348 - val_acc: 0.8522\n",
            "Epoch 5/10\n",
            "20000/20000 [==============================] - 120s 6ms/step - loss: 0.1999 - acc: 0.9276 - val_loss: 0.3525 - val_acc: 0.8496\n",
            "Epoch 6/10\n",
            "20000/20000 [==============================] - 121s 6ms/step - loss: 0.1825 - acc: 0.9348 - val_loss: 0.3353 - val_acc: 0.8692\n",
            "Epoch 7/10\n",
            "20000/20000 [==============================] - 121s 6ms/step - loss: 0.1671 - acc: 0.9431 - val_loss: 0.3259 - val_acc: 0.8764\n",
            "Epoch 8/10\n",
            "20000/20000 [==============================] - 121s 6ms/step - loss: 0.1483 - acc: 0.9503 - val_loss: 0.5933 - val_acc: 0.8568\n",
            "Epoch 9/10\n",
            "20000/20000 [==============================] - 120s 6ms/step - loss: 0.1360 - acc: 0.9536 - val_loss: 0.3528 - val_acc: 0.8644\n",
            "Epoch 10/10\n",
            "20000/20000 [==============================] - 121s 6ms/step - loss: 0.1308 - acc: 0.9556 - val_loss: 0.3844 - val_acc: 0.8832\n"
          ],
          "name": "stdout"
        }
      ]
    },
    {
      "cell_type": "code",
      "metadata": {
        "id": "SjvlZW-iqpm7",
        "colab_type": "code",
        "outputId": "9d7987c2-b879-400e-976b-6d1b6375a2fe",
        "colab": {
          "base_uri": "https://localhost:8080/",
          "height": 244
        }
      },
      "source": [
        "# 양방향 GRU 훈련하기\n",
        "from keras.models import Sequential\n",
        "from keras import layers\n",
        "from keras.optimizers import RMSprop\n",
        "\n",
        "model = Sequential()\n",
        "model.add(layers.Bidirectional(\n",
        "    layers.GRU(32), input_shape=(None, float_data.shape[-1])))\n",
        "model.add(layers.Dense(1))\n",
        "\n",
        "model.compile(optimizer=RMSprop(), loss='mae')\n",
        "history = model.fit_generator(train_gen,\n",
        "                              steps_per_epoch=500,\n",
        "                              epochs=40,\n",
        "                              validation_data=val_gen,\n",
        "                              validation_steps=val_steps)"
      ],
      "execution_count": 0,
      "outputs": [
        {
          "output_type": "error",
          "ename": "NameError",
          "evalue": "ignored",
          "traceback": [
            "\u001b[0;31m---------------------------------------------------------------------------\u001b[0m",
            "\u001b[0;31mNameError\u001b[0m                                 Traceback (most recent call last)",
            "\u001b[0;32m<ipython-input-9-51fb7eb10b3e>\u001b[0m in \u001b[0;36m<module>\u001b[0;34m()\u001b[0m\n\u001b[1;32m     10\u001b[0m \u001b[0;34m\u001b[0m\u001b[0m\n\u001b[1;32m     11\u001b[0m \u001b[0mmodel\u001b[0m\u001b[0;34m.\u001b[0m\u001b[0mcompile\u001b[0m\u001b[0;34m(\u001b[0m\u001b[0moptimizer\u001b[0m\u001b[0;34m=\u001b[0m\u001b[0mRMSprop\u001b[0m\u001b[0;34m(\u001b[0m\u001b[0;34m)\u001b[0m\u001b[0;34m,\u001b[0m \u001b[0mloss\u001b[0m\u001b[0;34m=\u001b[0m\u001b[0;34m'mae'\u001b[0m\u001b[0;34m)\u001b[0m\u001b[0;34m\u001b[0m\u001b[0;34m\u001b[0m\u001b[0m\n\u001b[0;32m---> 12\u001b[0;31m history = model.fit_generator(train_gen,\n\u001b[0m\u001b[1;32m     13\u001b[0m                               \u001b[0msteps_per_epoch\u001b[0m\u001b[0;34m=\u001b[0m\u001b[0;36m500\u001b[0m\u001b[0;34m,\u001b[0m\u001b[0;34m\u001b[0m\u001b[0;34m\u001b[0m\u001b[0m\n\u001b[1;32m     14\u001b[0m                               \u001b[0mepochs\u001b[0m\u001b[0;34m=\u001b[0m\u001b[0;36m40\u001b[0m\u001b[0;34m,\u001b[0m\u001b[0;34m\u001b[0m\u001b[0;34m\u001b[0m\u001b[0m\n",
            "\u001b[0;31mNameError\u001b[0m: name 'train_gen' is not defined"
          ]
        }
      ]
    },
    {
      "cell_type": "code",
      "metadata": {
        "id": "H0C68hRcquSj",
        "colab_type": "code",
        "colab": {}
      },
      "source": [
        ""
      ],
      "execution_count": 0,
      "outputs": []
    }
  ]
}