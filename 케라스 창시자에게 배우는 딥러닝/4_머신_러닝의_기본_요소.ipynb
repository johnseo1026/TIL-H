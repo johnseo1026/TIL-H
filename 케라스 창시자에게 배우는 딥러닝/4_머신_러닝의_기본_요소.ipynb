{
  "nbformat": 4,
  "nbformat_minor": 0,
  "metadata": {
    "colab": {
      "name": "4_머신 러닝의 기본 요소.ipynb",
      "provenance": [],
      "collapsed_sections": []
    },
    "kernelspec": {
      "name": "python3",
      "display_name": "Python 3"
    }
  },
  "cells": [
    {
      "cell_type": "markdown",
      "metadata": {
        "id": "bZqpAsr8fQyz",
        "colab_type": "text"
      },
      "source": [
        "# 4.4 과대적합과 과소적합"
      ]
    },
    {
      "cell_type": "markdown",
      "metadata": {
        "id": "LZrOsEsvfUax",
        "colab_type": "text"
      },
      "source": [
        "## 4.4.1 내트워크 크기 축소"
      ]
    },
    {
      "cell_type": "code",
      "metadata": {
        "id": "yc8iYZp2hZau",
        "colab_type": "code",
        "colab": {}
      },
      "source": [
        "# 원본 모델\n",
        "from keras import models\n",
        "from keras import layers\n",
        "\n",
        "model = models.Sequential()\n",
        "model.add(layers.Dense(16, activation='relu', input_shape=(10000,)))\n",
        "model.add(layers.Dense(16, activation='relu'))\n",
        "model.add(layers.Dense(1, activation='sigmoid'))"
      ],
      "execution_count": 0,
      "outputs": []
    },
    {
      "cell_type": "code",
      "metadata": {
        "id": "fBPkLyuyinfa",
        "colab_type": "code",
        "colab": {}
      },
      "source": [
        "# 작은 용량의 모델\n",
        "model = models.Sequential()\n",
        "model.add(layers.Dense(6, activation='relu', input_shape=(10000,)))\n",
        "model.add(layers.Dense(6, activation='relu'))\n",
        "model.add(layers.Dense(1, activation='sigmoid'))"
      ],
      "execution_count": 0,
      "outputs": []
    },
    {
      "cell_type": "code",
      "metadata": {
        "id": "NNpblD6xnKDV",
        "colab_type": "code",
        "colab": {}
      },
      "source": [
        "# 큰 용량의 모델\n",
        "model = models.Sequential()\n",
        "model.add(layers.Dense(1024, activation='relu', input_shape=(10000,)))\n",
        "model.add(layers.Dense(1024, activation='relu'))\n",
        "model.add(layers.Dense(1, activation='sigmoid'))"
      ],
      "execution_count": 0,
      "outputs": []
    },
    {
      "cell_type": "markdown",
      "metadata": {
        "id": "qEBTRqxvnaQB",
        "colab_type": "text"
      },
      "source": [
        "## 4.4.2 가중치 규제 추가"
      ]
    },
    {
      "cell_type": "code",
      "metadata": {
        "id": "pRRJgu_InXrZ",
        "colab_type": "code",
        "colab": {}
      },
      "source": [
        "# 모델에 L2 가중치 추가하기\n",
        "from keras import regularizers\n",
        "\n",
        "model = models.Sequential()\n",
        "model.add(layers.Dense(16, kernel_regularizer=regularizers.l2(0.001) ,activation='relu', input_shape=(10000,)))\n",
        "model.add(layers.Dense(16, kernel_regularizer=regularizers.l2(0.001), activation='relu'))\n",
        "model.add(layers.Dense(1, activation='sigmoid'))"
      ],
      "execution_count": 0,
      "outputs": []
    },
    {
      "cell_type": "code",
      "metadata": {
        "id": "TRGmLeSsnv23",
        "colab_type": "code",
        "outputId": "93fdebbf-843c-46b3-93fc-98616c402300",
        "colab": {
          "base_uri": "https://localhost:8080/",
          "height": 35
        }
      },
      "source": [
        "# 케라스에서 사용할수 있는 가중치 규제\n",
        "from keras import regularizers\n",
        "\n",
        "regularizers.l1(0.001)  # L1 규제\n",
        "\n",
        "regularizers.l1_l2(l1=0.001, l2=0.001)  # L1과 L2 규제 병행"
      ],
      "execution_count": 0,
      "outputs": [
        {
          "output_type": "execute_result",
          "data": {
            "text/plain": [
              "<keras.regularizers.L1L2 at 0x7f9ca98473c8>"
            ]
          },
          "metadata": {
            "tags": []
          },
          "execution_count": 7
        }
      ]
    },
    {
      "cell_type": "markdown",
      "metadata": {
        "id": "r7n0TQXHoEi9",
        "colab_type": "text"
      },
      "source": [
        "## 4.4.3 드롭아웃 추가"
      ]
    },
    {
      "cell_type": "code",
      "metadata": {
        "id": "YZ7yUwAQoAtu",
        "colab_type": "code",
        "colab": {}
      },
      "source": [
        "# IMDM 네트워크에 드롭아웃 추가하기\n",
        "model = models.Sequential()\n",
        "model.add(layers.Dense(16, activation='relu', input_shape=(10000,)))\n",
        "model.add(layers.Dropout(0.5))\n",
        "model.add(layers.Dense(16, activation='relu'))\n",
        "model.add(layers.Dropout(0.5))\n",
        "model.add(layers.Dense(1, activation='sigmoid'))"
      ],
      "execution_count": 0,
      "outputs": []
    },
    {
      "cell_type": "code",
      "metadata": {
        "id": "J424McUpor0S",
        "colab_type": "code",
        "colab": {}
      },
      "source": [
        ""
      ],
      "execution_count": 0,
      "outputs": []
    }
  ]
}