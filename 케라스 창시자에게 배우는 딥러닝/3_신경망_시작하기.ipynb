{
  "nbformat": 4,
  "nbformat_minor": 0,
  "metadata": {
    "colab": {
      "name": "3_신경망 시작하기.ipynb",
      "provenance": [],
      "collapsed_sections": []
    },
    "kernelspec": {
      "name": "python3",
      "display_name": "Python 3"
    }
  },
  "cells": [
    {
      "cell_type": "markdown",
      "metadata": {
        "id": "Yes68ZJBV0r2",
        "colab_type": "text"
      },
      "source": [
        "# 3.4 영화 리뷰 분류: 이진 분류 예제"
      ]
    },
    {
      "cell_type": "markdown",
      "metadata": {
        "id": "_xbBt-ONWGIc",
        "colab_type": "text"
      },
      "source": [
        "## 3.4.1 IMDB 데이터셋"
      ]
    },
    {
      "cell_type": "code",
      "metadata": {
        "id": "DCI8oYjMWFKr",
        "colab_type": "code",
        "outputId": "c83933c9-81ca-4656-b2ad-310fcbd9af08",
        "colab": {
          "base_uri": "https://localhost:8080/",
          "height": 53
        }
      },
      "source": [
        "# IMDB 데이터셋 로드하기\n",
        "from keras.datasets import imdb\n",
        "\n",
        "(train_data, train_labels), (test_data, test_labels) = imdb.load_data(num_words=10000)"
      ],
      "execution_count": 0,
      "outputs": [
        {
          "output_type": "stream",
          "text": [
            "Downloading data from https://s3.amazonaws.com/text-datasets/imdb.npz\n",
            "17465344/17464789 [==============================] - 1s 0us/step\n"
          ],
          "name": "stdout"
        }
      ]
    },
    {
      "cell_type": "markdown",
      "metadata": {
        "id": "krJKGpJfXsia",
        "colab_type": "text"
      },
      "source": [
        "## 3.4.2 데이터 준비"
      ]
    },
    {
      "cell_type": "code",
      "metadata": {
        "id": "-uznFvznWdrd",
        "colab_type": "code",
        "colab": {}
      },
      "source": [
        "# 정수 시퀀스를 이진 행렬로 인코딩하기\n",
        "import numpy as np\n",
        "def vectorize_sequences(sequences, dimension=10000):\n",
        "  results = np.zeros((len(sequences), dimension))  # 크기가 (len(sequences), dimension)이고 모든 원소가 0인 행렬로 만듭니다\n",
        "  for i , sequences in enumerate(sequences):\n",
        "    results[i, sequences] = 1.  # results[i]에서 특정 인덱스의 위치를 1로 만듭니다\n",
        "  return results\n",
        "\n",
        "x_train = vectorize_sequences(train_data)   # 훈련 데이터를 벡터로 변환\n",
        "x_test = vectorize_sequences(test_data)   # 테스트 데이터를 벡터로 변환\n",
        "\n",
        "y_train = np.asarray(train_labels).astype('float32')\n",
        "y_test= np.asarray(test_labels).astype('float32')"
      ],
      "execution_count": 0,
      "outputs": []
    },
    {
      "cell_type": "markdown",
      "metadata": {
        "id": "FVw2kP4uXwMP",
        "colab_type": "text"
      },
      "source": [
        "## 3.4.3 신경망 모델 만들기"
      ]
    },
    {
      "cell_type": "code",
      "metadata": {
        "id": "yeiJUcH_XqTt",
        "colab_type": "code",
        "colab": {}
      },
      "source": [
        "# 모델 정의하기\n",
        "from keras import models\n",
        "from keras import layers\n",
        "\n",
        "model = models.Sequential()\n",
        "model.add(layers.Dense(16, activation='relu', input_shape=(10000,)))\n",
        "model.add(layers.Dense(16, activation='relu'))\n",
        "model.add(layers.Dense(1, activation='sigmoid'))"
      ],
      "execution_count": 0,
      "outputs": []
    },
    {
      "cell_type": "code",
      "metadata": {
        "id": "Y7_S_3Z-YWfd",
        "colab_type": "code",
        "colab": {}
      },
      "source": [
        "# 모델 컴파일하기\n",
        "model.compile(optimizer='rmsprop', loss='binary_crossentropy', metrics=['accuracy'])"
      ],
      "execution_count": 0,
      "outputs": []
    },
    {
      "cell_type": "code",
      "metadata": {
        "id": "lswyRaf4Yr7k",
        "colab_type": "code",
        "colab": {}
      },
      "source": [
        "# 옵티마이저 설정하기\n",
        "from keras import optimizers\n",
        "\n",
        "model.compile(optimizer=optimizers.RMSprop(lr=0.001), loss='binary_crossentropy', metrics=['accuracy'])"
      ],
      "execution_count": 0,
      "outputs": []
    },
    {
      "cell_type": "code",
      "metadata": {
        "id": "OqLk90I1Y8bJ",
        "colab_type": "code",
        "colab": {}
      },
      "source": [
        "# 손실과 측정을 함수 객체로 지정하기\n",
        "from keras import losses\n",
        "from keras import metrics\n",
        "\n",
        "model.compile(optimizer=optimizers.RMSprop(lr=0.001), loss='binary_crossentropy', metrics=[metrics.binary_accuracy])"
      ],
      "execution_count": 0,
      "outputs": []
    },
    {
      "cell_type": "markdown",
      "metadata": {
        "id": "B13PEjY9ZUAh",
        "colab_type": "text"
      },
      "source": [
        "## 3.4.4 훈련 검증"
      ]
    },
    {
      "cell_type": "code",
      "metadata": {
        "id": "G0DepGFfZOJh",
        "colab_type": "code",
        "colab": {}
      },
      "source": [
        "# 검증 세트 준비하기\n",
        "x_val = x_train[:10000]\n",
        "partial_x_train = x_train[10000:]\n",
        "y_val = y_train[:10000]\n",
        "partial_y_train = y_train[10000:]"
      ],
      "execution_count": 0,
      "outputs": []
    },
    {
      "cell_type": "code",
      "metadata": {
        "id": "ZvB17OqXZjR7",
        "colab_type": "code",
        "outputId": "79692791-8c92-4696-b256-f0bc52260ec7",
        "colab": {
          "base_uri": "https://localhost:8080/",
          "height": 755
        }
      },
      "source": [
        "# 모델 훈련하기\n",
        "model.compile(optimizer=optimizers.RMSprop(lr=0.001), loss='binary_crossentropy', metrics=['acc'])\n",
        "\n",
        "history = model.fit(partial_x_train, partial_y_train, epochs=20, batch_size=512, validation_data=(x_val, y_val))"
      ],
      "execution_count": 0,
      "outputs": [
        {
          "output_type": "stream",
          "text": [
            "Train on 15000 samples, validate on 10000 samples\n",
            "Epoch 1/20\n",
            "15000/15000 [==============================] - 2s 153us/step - loss: 0.5151 - acc: 0.7835 - val_loss: 0.3886 - val_acc: 0.8694\n",
            "Epoch 2/20\n",
            "15000/15000 [==============================] - 3s 169us/step - loss: 0.3079 - acc: 0.9048 - val_loss: 0.3113 - val_acc: 0.8857\n",
            "Epoch 3/20\n",
            "15000/15000 [==============================] - 2s 136us/step - loss: 0.2305 - acc: 0.9237 - val_loss: 0.2787 - val_acc: 0.8908\n",
            "Epoch 4/20\n",
            "15000/15000 [==============================] - 2s 117us/step - loss: 0.1795 - acc: 0.9419 - val_loss: 0.2727 - val_acc: 0.8913\n",
            "Epoch 5/20\n",
            "15000/15000 [==============================] - 2s 115us/step - loss: 0.1480 - acc: 0.9537 - val_loss: 0.2778 - val_acc: 0.8892\n",
            "Epoch 6/20\n",
            "15000/15000 [==============================] - 2s 115us/step - loss: 0.1230 - acc: 0.9626 - val_loss: 0.2982 - val_acc: 0.8878\n",
            "Epoch 7/20\n",
            "15000/15000 [==============================] - 2s 112us/step - loss: 0.1046 - acc: 0.9695 - val_loss: 0.3382 - val_acc: 0.8738\n",
            "Epoch 8/20\n",
            "15000/15000 [==============================] - 2s 111us/step - loss: 0.0873 - acc: 0.9761 - val_loss: 0.3203 - val_acc: 0.8823\n",
            "Epoch 9/20\n",
            "15000/15000 [==============================] - 2s 111us/step - loss: 0.0721 - acc: 0.9801 - val_loss: 0.3419 - val_acc: 0.8805\n",
            "Epoch 10/20\n",
            "15000/15000 [==============================] - 2s 111us/step - loss: 0.0609 - acc: 0.9842 - val_loss: 0.3746 - val_acc: 0.8764\n",
            "Epoch 11/20\n",
            "15000/15000 [==============================] - 2s 111us/step - loss: 0.0525 - acc: 0.9866 - val_loss: 0.3926 - val_acc: 0.8759\n",
            "Epoch 12/20\n",
            "15000/15000 [==============================] - 2s 112us/step - loss: 0.0411 - acc: 0.9910 - val_loss: 0.4216 - val_acc: 0.8731\n",
            "Epoch 13/20\n",
            "15000/15000 [==============================] - 2s 109us/step - loss: 0.0360 - acc: 0.9923 - val_loss: 0.4694 - val_acc: 0.8672\n",
            "Epoch 14/20\n",
            "15000/15000 [==============================] - 2s 108us/step - loss: 0.0301 - acc: 0.9935 - val_loss: 0.4923 - val_acc: 0.8717\n",
            "Epoch 15/20\n",
            "15000/15000 [==============================] - 2s 108us/step - loss: 0.0210 - acc: 0.9969 - val_loss: 0.5140 - val_acc: 0.8709\n",
            "Epoch 16/20\n",
            "15000/15000 [==============================] - 2s 108us/step - loss: 0.0206 - acc: 0.9962 - val_loss: 0.5471 - val_acc: 0.8696\n",
            "Epoch 17/20\n",
            "15000/15000 [==============================] - 2s 106us/step - loss: 0.0143 - acc: 0.9983 - val_loss: 0.6649 - val_acc: 0.8589\n",
            "Epoch 18/20\n",
            "15000/15000 [==============================] - 2s 106us/step - loss: 0.0105 - acc: 0.9994 - val_loss: 0.6123 - val_acc: 0.8689\n",
            "Epoch 19/20\n",
            "15000/15000 [==============================] - 2s 108us/step - loss: 0.0132 - acc: 0.9972 - val_loss: 0.6392 - val_acc: 0.8676\n",
            "Epoch 20/20\n",
            "15000/15000 [==============================] - 2s 106us/step - loss: 0.0059 - acc: 0.9997 - val_loss: 0.6809 - val_acc: 0.8603\n"
          ],
          "name": "stdout"
        }
      ]
    },
    {
      "cell_type": "code",
      "metadata": {
        "id": "QtPfoKXCaTWC",
        "colab_type": "code",
        "outputId": "dc5ccb33-b3df-4f8d-936c-0842cab5f321",
        "colab": {
          "base_uri": "https://localhost:8080/",
          "height": 295
        }
      },
      "source": [
        "# 훈련과 검증 손실 그리기\n",
        "import matplotlib.pyplot as plt\n",
        "\n",
        "history_dict = history.history\n",
        "loss = history_dict['loss']\n",
        "val_loss = history_dict['val_loss']\n",
        "\n",
        "epochs = range(1, len(loss) + 1)\n",
        "\n",
        "plt.plot(epochs, loss, 'bo', label='Training loss')  # 'bo'는 파란색점을 의미\n",
        "plt.plot(epochs, val_loss, 'b', label='Validation loss')  # 'b'는 파란색 실선을 의미\n",
        "plt.title('Training and validation loss')\n",
        "plt.xlabel('Epochs')\n",
        "plt.ylabel('Loss')\n",
        "plt.legend()\n",
        "\n",
        "plt.show()"
      ],
      "execution_count": 0,
      "outputs": [
        {
          "output_type": "display_data",
          "data": {
            "image/png": "[encoded data removed]",
            "text/plain": [
              "<Figure size 432x288 with 1 Axes>"
            ]
          },
          "metadata": {
            "tags": [],
            "needs_background": "light"
          }
        }
      ]
    },
    {
      "cell_type": "code",
      "metadata": {
        "id": "iXQ4BonDbge5",
        "colab_type": "code",
        "outputId": "907db4e3-11a2-4478-d4f6-c390bcb920c1",
        "colab": {
          "base_uri": "https://localhost:8080/",
          "height": 295
        }
      },
      "source": [
        "# 훈련과 검증 정확도 그리기\n",
        "plt.clf()\n",
        "acc = history_dict['acc']\n",
        "val_acc = history_dict['val_loss']\n",
        "\n",
        "plt.plot(epochs, acc, 'bo', label='Training acc')  # 'bo'는 파란색점을 의미\n",
        "plt.plot(epochs, val_acc, 'b', label='Validation acc')  # 'b'는 파란색 실선을 의미\n",
        "plt.title('Training and validation accuracy')\n",
        "plt.xlabel('Epochs')\n",
        "plt.ylabel('Accuracy')\n",
        "plt.legend()\n",
        "\n",
        "plt.show()"
      ],
      "execution_count": 0,
      "outputs": [
        {
          "output_type": "display_data",
          "data": {
            "image/png": "[encoded data removed]",
            "text/plain": [
              "<Figure size 432x288 with 1 Axes>"
            ]
          },
          "metadata": {
            "tags": [],
            "needs_background": "light"
          }
        }
      ]
    },
    {
      "cell_type": "code",
      "metadata": {
        "id": "PNxFg_ojb4v0",
        "colab_type": "code",
        "outputId": "37d105ef-4b47-4412-a9be-b0e3c6cf2a32",
        "colab": {
          "base_uri": "https://localhost:8080/",
          "height": 179
        }
      },
      "source": [
        "# 모델을 처음부터 다시 훈련하기\n",
        "model = models.Sequential()\n",
        "model.add(layers.Dense(16, activation='relu', input_shape=(10000,)))\n",
        "model.add(layers.Dense(16, activation='relu'))\n",
        "model.add(layers.Dense(1, activation='sigmoid'))\n",
        "\n",
        "model.compile(optimizer='rmsprop', loss='binary_crossentropy', metrics=['accuracy'])\n",
        "\n",
        "model.fit(x_train, y_train, epochs=4, batch_size=512)\n",
        "results = model.evaluate(x_test, y_test)"
      ],
      "execution_count": 0,
      "outputs": [
        {
          "output_type": "stream",
          "text": [
            "Epoch 1/4\n",
            "25000/25000 [==============================] - 2s 77us/step - loss: 0.4794 - accuracy: 0.8117\n",
            "Epoch 2/4\n",
            "25000/25000 [==============================] - 2s 76us/step - loss: 0.2700 - accuracy: 0.9085\n",
            "Epoch 3/4\n",
            "25000/25000 [==============================] - 2s 76us/step - loss: 0.2067 - accuracy: 0.9275\n",
            "Epoch 4/4\n",
            "25000/25000 [==============================] - 2s 75us/step - loss: 0.1678 - accuracy: 0.9428\n",
            "25000/25000 [==============================] - 2s 67us/step\n"
          ],
          "name": "stdout"
        }
      ]
    },
    {
      "cell_type": "code",
      "metadata": {
        "id": "-HF8os6dcaCl",
        "colab_type": "code",
        "outputId": "3be34ed4-57e6-4d0b-93ed-a6ce2c643efc",
        "colab": {
          "base_uri": "https://localhost:8080/",
          "height": 35
        }
      },
      "source": [
        "results"
      ],
      "execution_count": 0,
      "outputs": [
        {
          "output_type": "execute_result",
          "data": {
            "text/plain": [
              "[0.2962790487670898, 0.8824399709701538]"
            ]
          },
          "metadata": {
            "tags": []
          },
          "execution_count": 48
        }
      ]
    },
    {
      "cell_type": "markdown",
      "metadata": {
        "id": "fQDDP5l6cmUY",
        "colab_type": "text"
      },
      "source": [
        "## 3.4.5 훈련된 모델로 새로운 데이터에 대해 예측하기"
      ]
    },
    {
      "cell_type": "code",
      "metadata": {
        "id": "bPB3tLkqcjzT",
        "colab_type": "code",
        "outputId": "7893e69d-1946-42ee-d63f-0704734aab04",
        "colab": {
          "base_uri": "https://localhost:8080/",
          "height": 143
        }
      },
      "source": [
        "model.predict(x_test)"
      ],
      "execution_count": 0,
      "outputs": [
        {
          "output_type": "execute_result",
          "data": {
            "text/plain": [
              "array([[0.18304202],\n",
              "       [0.9999329 ],\n",
              "       [0.81642973],\n",
              "       ...,\n",
              "       [0.08987424],\n",
              "       [0.05647114],\n",
              "       [0.44950777]], dtype=float32)"
            ]
          },
          "metadata": {
            "tags": []
          },
          "execution_count": 49
        }
      ]
    },
    {
      "cell_type": "markdown",
      "metadata": {
        "id": "815eqW3k44_C",
        "colab_type": "text"
      },
      "source": [
        "# 3.5 뉴스 기사분류: 다중 분류 모델"
      ]
    },
    {
      "cell_type": "markdown",
      "metadata": {
        "id": "HJv_K56f6DWg",
        "colab_type": "text"
      },
      "source": [
        "## 3.5.1 로이터 데이터셋"
      ]
    },
    {
      "cell_type": "code",
      "metadata": {
        "id": "5Tyl7rNRcriD",
        "colab_type": "code",
        "colab": {}
      },
      "source": [
        "# 로이터 데이터셋 로드하기\n",
        "from keras.datasets import reuters\n",
        "\n",
        "(train_data, train_labels), (test_data, test_labels) = reuters.load_data(num_words=10000)"
      ],
      "execution_count": 0,
      "outputs": []
    },
    {
      "cell_type": "code",
      "metadata": {
        "id": "hwsOU-Ru6XgK",
        "colab_type": "code",
        "colab": {}
      },
      "source": [
        "# 로이터 데이터셋을 텍스트로 디코팅하기\n",
        "word_index = reuters.get_word_index()\n",
        "reverse_word_index = dict([(value, key) for (key, value) in word_index.items()])\n",
        "decoded_newswire=' '.join([reverse_word_index.get(i - 3, '?') for i in train_data[0]])  # 0,1,2는 '패딩', '문서시작', '사전에 없음'을 위한 인덱스이므로 3을 뺍니다"
      ],
      "execution_count": 0,
      "outputs": []
    },
    {
      "cell_type": "markdown",
      "metadata": {
        "id": "XdXFRivX7ZKh",
        "colab_type": "text"
      },
      "source": [
        "## 3.5.2 데이터 준비"
      ]
    },
    {
      "cell_type": "code",
      "metadata": {
        "id": "Yx1FiQ6O7RWu",
        "colab_type": "code",
        "colab": {}
      },
      "source": [
        "# 데이터 인코딩하기\n",
        "import numpy as np\n",
        "\n",
        "def vectorize_sequences(sequences, dimension=10000):\n",
        "  results = np.zeros((len(sequences), dimension))\n",
        "  for i, sequence in enumerate(sequences):\n",
        "    results[i, sequence] = 1.\n",
        "  return results\n",
        "\n",
        "x_train = vectorize_sequences(train_data)   # 훈련 데이터를 벡터로 변환\n",
        "x_test = vectorize_sequences(test_data)   # 테스트 데이터를 벡터로 변환"
      ],
      "execution_count": 0,
      "outputs": []
    },
    {
      "cell_type": "code",
      "metadata": {
        "id": "iagih-cN-Xde",
        "colab_type": "code",
        "colab": {}
      },
      "source": [
        "from keras.utils.np_utils import to_categorical\n",
        "\n",
        "one_hot_train_labels = to_categorical(train_labels)\n",
        "one_hot_test_labels = to_categorical(test_labels)"
      ],
      "execution_count": 0,
      "outputs": []
    },
    {
      "cell_type": "markdown",
      "metadata": {
        "id": "-itbDhpQ9c3H",
        "colab_type": "text"
      },
      "source": [
        "## 3.5.3. 모델 구성"
      ]
    },
    {
      "cell_type": "code",
      "metadata": {
        "id": "Tnyc4QOH9PgJ",
        "colab_type": "code",
        "colab": {}
      },
      "source": [
        "# 모델 정의하기\n",
        "from keras import models\n",
        "from keras import layers\n",
        "\n",
        "model = models.Sequential()\n",
        "model.add(layers.Dense(64, activation='relu', input_shape=(10000,)))\n",
        "model.add(layers.Dense(64, activation='relu'))\n",
        "model.add(layers.Dense(46, activation='softmax'))"
      ],
      "execution_count": 0,
      "outputs": []
    },
    {
      "cell_type": "code",
      "metadata": {
        "id": "avrptT8H9mGm",
        "colab_type": "code",
        "colab": {}
      },
      "source": [
        "# 모델 컴파일하기\n",
        "model.compile(optimizer='rmsprop',\n",
        "              loss='categorical_crossentropy',\n",
        "              metrics=['acc'])"
      ],
      "execution_count": 0,
      "outputs": []
    },
    {
      "cell_type": "markdown",
      "metadata": {
        "id": "KsYHFSSH9zvW",
        "colab_type": "text"
      },
      "source": [
        "## 3.5.4 훈련 검증"
      ]
    },
    {
      "cell_type": "code",
      "metadata": {
        "id": "V9tXPfI09vUR",
        "colab_type": "code",
        "colab": {}
      },
      "source": [
        "# 검증 세트 준비하기\n",
        "x_val = x_train[:1000]\n",
        "partial_x_train = x_train[1000:]\n",
        "\n",
        "\n",
        "y_val = one_hot_train_labels[:1000]\n",
        "partial_y_train = one_hot_train_labels[1000:]"
      ],
      "execution_count": 0,
      "outputs": []
    },
    {
      "cell_type": "code",
      "metadata": {
        "id": "2OK-Inil-G8H",
        "colab_type": "code",
        "outputId": "45573a24-cf8c-438e-f742-b6c3a2fbef6b",
        "colab": {
          "base_uri": "https://localhost:8080/",
          "height": 755
        }
      },
      "source": [
        "# 모델 훈련하기\n",
        "history = model.fit(partial_x_train,\n",
        "                    partial_y_train,\n",
        "                    epochs=20,\n",
        "                    batch_size=512,\n",
        "                    validation_data=(x_val, y_val))"
      ],
      "execution_count": 0,
      "outputs": [
        {
          "output_type": "stream",
          "text": [
            "Train on 7982 samples, validate on 1000 samples\n",
            "Epoch 1/20\n",
            "7982/7982 [==============================] - 1s 172us/step - loss: 2.6238 - acc: 0.5096 - val_loss: 1.7032 - val_acc: 0.6300\n",
            "Epoch 2/20\n",
            "7982/7982 [==============================] - 1s 132us/step - loss: 1.3937 - acc: 0.7184 - val_loss: 1.3110 - val_acc: 0.7100\n",
            "Epoch 3/20\n",
            "7982/7982 [==============================] - 1s 132us/step - loss: 1.0298 - acc: 0.7805 - val_loss: 1.1293 - val_acc: 0.7600\n",
            "Epoch 4/20\n",
            "7982/7982 [==============================] - 1s 133us/step - loss: 0.8101 - acc: 0.8304 - val_loss: 1.0221 - val_acc: 0.7940\n",
            "Epoch 5/20\n",
            "7982/7982 [==============================] - 1s 130us/step - loss: 0.6390 - acc: 0.8702 - val_loss: 0.9458 - val_acc: 0.8130\n",
            "Epoch 6/20\n",
            "7982/7982 [==============================] - 1s 131us/step - loss: 0.5122 - acc: 0.8971 - val_loss: 0.9266 - val_acc: 0.8020\n",
            "Epoch 7/20\n",
            "7982/7982 [==============================] - 1s 130us/step - loss: 0.4133 - acc: 0.9153 - val_loss: 0.9428 - val_acc: 0.8030\n",
            "Epoch 8/20\n",
            "7982/7982 [==============================] - 1s 132us/step - loss: 0.3408 - acc: 0.9278 - val_loss: 0.8830 - val_acc: 0.8090\n",
            "Epoch 9/20\n",
            "7982/7982 [==============================] - 1s 131us/step - loss: 0.2791 - acc: 0.9382 - val_loss: 0.8711 - val_acc: 0.8210\n",
            "Epoch 10/20\n",
            "7982/7982 [==============================] - 1s 131us/step - loss: 0.2399 - acc: 0.9439 - val_loss: 0.8979 - val_acc: 0.8100\n",
            "Epoch 11/20\n",
            "7982/7982 [==============================] - 1s 131us/step - loss: 0.2051 - acc: 0.9503 - val_loss: 0.9342 - val_acc: 0.8070\n",
            "Epoch 12/20\n",
            "7982/7982 [==============================] - 1s 131us/step - loss: 0.1850 - acc: 0.9519 - val_loss: 0.9211 - val_acc: 0.8170\n",
            "Epoch 13/20\n",
            "7982/7982 [==============================] - 1s 134us/step - loss: 0.1633 - acc: 0.9533 - val_loss: 0.9507 - val_acc: 0.8170\n",
            "Epoch 14/20\n",
            "7982/7982 [==============================] - 1s 132us/step - loss: 0.1550 - acc: 0.9533 - val_loss: 0.9704 - val_acc: 0.8020\n",
            "Epoch 15/20\n",
            "7982/7982 [==============================] - 1s 132us/step - loss: 0.1408 - acc: 0.9559 - val_loss: 0.9899 - val_acc: 0.7980\n",
            "Epoch 16/20\n",
            "7982/7982 [==============================] - 1s 131us/step - loss: 0.1316 - acc: 0.9565 - val_loss: 0.9974 - val_acc: 0.8020\n",
            "Epoch 17/20\n",
            "7982/7982 [==============================] - 1s 132us/step - loss: 0.1289 - acc: 0.9557 - val_loss: 1.0271 - val_acc: 0.8160\n",
            "Epoch 18/20\n",
            "7982/7982 [==============================] - 1s 133us/step - loss: 0.1227 - acc: 0.9569 - val_loss: 1.1099 - val_acc: 0.7980\n",
            "Epoch 19/20\n",
            "7982/7982 [==============================] - 1s 132us/step - loss: 0.1163 - acc: 0.9574 - val_loss: 1.0601 - val_acc: 0.8080\n",
            "Epoch 20/20\n",
            "7982/7982 [==============================] - 1s 132us/step - loss: 0.1161 - acc: 0.9590 - val_loss: 1.0846 - val_acc: 0.7910\n"
          ],
          "name": "stdout"
        }
      ]
    },
    {
      "cell_type": "code",
      "metadata": {
        "id": "H7wycmWV-2X7",
        "colab_type": "code",
        "outputId": "6784f606-5212-4d10-b04a-21a157ad8e60",
        "colab": {
          "base_uri": "https://localhost:8080/",
          "height": 295
        }
      },
      "source": [
        "# 훈련과 검증 손실 그리기\n",
        "import matplotlib.pyplot as plt\n",
        "\n",
        "loss = history.history['loss']\n",
        "val_loss = history.history['val_loss']\n",
        "\n",
        "epochs = range(1, len(loss) + 1)\n",
        "\n",
        "plt.plot(epochs, loss, 'bo', label='Training loss')\n",
        "plt.plot(epochs, val_loss, 'b', label='Validation loss')\n",
        "plt.title('Training and validation loss')\n",
        "plt.xlabel('Epochs')\n",
        "plt.ylabel('loss')\n",
        "plt.legend()\n",
        "\n",
        "plt.show()"
      ],
      "execution_count": 0,
      "outputs": [
        {
          "output_type": "display_data",
          "data": {
            "image/png": "[encoded data removed]",
            "text/plain": [
              "<Figure size 432x288 with 1 Axes>"
            ]
          },
          "metadata": {
            "tags": [],
            "needs_background": "light"
          }
        }
      ]
    },
    {
      "cell_type": "code",
      "metadata": {
        "id": "O6qOe-KICgum",
        "colab_type": "code",
        "outputId": "45be5a4a-0bcf-4e4a-e415-940df7dc6098",
        "colab": {
          "base_uri": "https://localhost:8080/",
          "height": 295
        }
      },
      "source": [
        "# 훈련과 검증 정확도 그리기\n",
        "plt.clf()  # 그래프 초기화\n",
        "\n",
        "acc = history.history['acc']\n",
        "val_acc = history.history['val_acc']\n",
        "\n",
        "plt.plot(epochs, acc, 'bo', label='Training acc')\n",
        "plt.plot(epochs, val_acc, 'b', label='Validation acc')\n",
        "plt.title('Training and Validation accuracy')\n",
        "plt.xlabel('Epochs')\n",
        "plt.ylabel('Accuracy')\n",
        "plt.legend()\n",
        "\n",
        "plt.show()"
      ],
      "execution_count": 0,
      "outputs": [
        {
          "output_type": "display_data",
          "data": {
            "image/png": "[encoded data removed]",
            "text/plain": [
              "<Figure size 432x288 with 1 Axes>"
            ]
          },
          "metadata": {
            "tags": [],
            "needs_background": "light"
          }
        }
      ]
    },
    {
      "cell_type": "code",
      "metadata": {
        "id": "ED439lHBCqYD",
        "colab_type": "code",
        "outputId": "3e5522ef-6c2a-49be-89c4-559f38531fde",
        "colab": {
          "base_uri": "https://localhost:8080/",
          "height": 377
        }
      },
      "source": [
        "# 모델을 처음부터 다시 훈련하기\n",
        "model = models.Sequential()\n",
        "model.add(layers.Dense(64, activation='relu', input_shape=(10000,)))\n",
        "model.add(layers.Dense(64, activation='relu'))\n",
        "model.add(layers.Dense(46, activation='softmax'))\n",
        "\n",
        "model.compile(optimizer='rmsprop',\n",
        "              loss='categorical_crossentropy',\n",
        "              metrics=['accuracy'])\n",
        "\n",
        "model.fit(partial_x_train,\n",
        "          partial_y_train,\n",
        "          epochs=9,\n",
        "          batch_size=512,\n",
        "          validation_data=(x_val, y_val))\n",
        "results = model.evaluate(x_test, one_hot_test_labels)"
      ],
      "execution_count": 0,
      "outputs": [
        {
          "output_type": "stream",
          "text": [
            "Train on 7982 samples, validate on 1000 samples\n",
            "Epoch 1/9\n",
            "7982/7982 [==============================] - 1s 140us/step - loss: 2.6507 - accuracy: 0.4875 - val_loss: 1.7873 - val_accuracy: 0.6250\n",
            "Epoch 2/9\n",
            "7982/7982 [==============================] - 1s 129us/step - loss: 1.4578 - accuracy: 0.7067 - val_loss: 1.3173 - val_accuracy: 0.7120\n",
            "Epoch 3/9\n",
            "7982/7982 [==============================] - 1s 128us/step - loss: 1.0623 - accuracy: 0.7711 - val_loss: 1.1381 - val_accuracy: 0.7370\n",
            "Epoch 4/9\n",
            "7982/7982 [==============================] - 1s 128us/step - loss: 0.8278 - accuracy: 0.8180 - val_loss: 1.0247 - val_accuracy: 0.7650\n",
            "Epoch 5/9\n",
            "7982/7982 [==============================] - 1s 128us/step - loss: 0.6577 - accuracy: 0.8593 - val_loss: 0.9513 - val_accuracy: 0.7880\n",
            "Epoch 6/9\n",
            "7982/7982 [==============================] - 1s 129us/step - loss: 0.5322 - accuracy: 0.8885 - val_loss: 0.9130 - val_accuracy: 0.8090\n",
            "Epoch 7/9\n",
            "7982/7982 [==============================] - 1s 127us/step - loss: 0.4245 - accuracy: 0.9123 - val_loss: 0.8914 - val_accuracy: 0.8100\n",
            "Epoch 8/9\n",
            "7982/7982 [==============================] - 1s 127us/step - loss: 0.3468 - accuracy: 0.9261 - val_loss: 0.8911 - val_accuracy: 0.8110\n",
            "Epoch 9/9\n",
            "7982/7982 [==============================] - 1s 127us/step - loss: 0.2826 - accuracy: 0.9382 - val_loss: 0.9068 - val_accuracy: 0.8130\n",
            "2246/2246 [==============================] - 0s 103us/step\n"
          ],
          "name": "stdout"
        }
      ]
    },
    {
      "cell_type": "code",
      "metadata": {
        "id": "G8H1-nodJKvk",
        "colab_type": "code",
        "outputId": "d6e4434b-3252-42ec-d9ea-7788de525e04",
        "colab": {
          "base_uri": "https://localhost:8080/",
          "height": 35
        }
      },
      "source": [
        "results"
      ],
      "execution_count": 0,
      "outputs": [
        {
          "output_type": "execute_result",
          "data": {
            "text/plain": [
              "[0.9871416845601898, 0.7836152911186218]"
            ]
          },
          "metadata": {
            "tags": []
          },
          "execution_count": 75
        }
      ]
    },
    {
      "cell_type": "markdown",
      "metadata": {
        "id": "ohIaOXZBJUex",
        "colab_type": "text"
      },
      "source": [
        "## 3.5.5 새로운 데이터에 대해 예측하기"
      ]
    },
    {
      "cell_type": "code",
      "metadata": {
        "id": "D63lbZXzJS17",
        "colab_type": "code",
        "colab": {}
      },
      "source": [
        "# 새로운 데이터에 대해 예측하기\n",
        "predictions = model.predict(x_test)"
      ],
      "execution_count": 0,
      "outputs": []
    },
    {
      "cell_type": "code",
      "metadata": {
        "id": "TVic-lH3Jeyj",
        "colab_type": "code",
        "outputId": "5ec3454c-7851-45bd-99cd-196dd9527014",
        "colab": {
          "base_uri": "https://localhost:8080/",
          "height": 35
        }
      },
      "source": [
        "predictions[0].shape"
      ],
      "execution_count": 0,
      "outputs": [
        {
          "output_type": "execute_result",
          "data": {
            "text/plain": [
              "(46,)"
            ]
          },
          "metadata": {
            "tags": []
          },
          "execution_count": 78
        }
      ]
    },
    {
      "cell_type": "code",
      "metadata": {
        "id": "UBeQbdqPUEBe",
        "colab_type": "code",
        "outputId": "b3c1c0c2-5172-493e-96ae-1080ef1cc18f",
        "colab": {
          "base_uri": "https://localhost:8080/",
          "height": 35
        }
      },
      "source": [
        "np.sum(predictions[0])"
      ],
      "execution_count": 0,
      "outputs": [
        {
          "output_type": "execute_result",
          "data": {
            "text/plain": [
              "1.0000002"
            ]
          },
          "metadata": {
            "tags": []
          },
          "execution_count": 79
        }
      ]
    },
    {
      "cell_type": "code",
      "metadata": {
        "id": "qrQu09QeUJnm",
        "colab_type": "code",
        "outputId": "e1f59df4-814d-4b7e-deac-a8f0d62a0e88",
        "colab": {
          "base_uri": "https://localhost:8080/",
          "height": 35
        }
      },
      "source": [
        "np.argmax(predictions[0])"
      ],
      "execution_count": 0,
      "outputs": [
        {
          "output_type": "execute_result",
          "data": {
            "text/plain": [
              "3"
            ]
          },
          "metadata": {
            "tags": []
          },
          "execution_count": 80
        }
      ]
    },
    {
      "cell_type": "markdown",
      "metadata": {
        "id": "SHrLznpyURWJ",
        "colab_type": "text"
      },
      "source": [
        "## 3.5.7 충분히 큰 중간층을 두어야 하는 이유"
      ]
    },
    {
      "cell_type": "code",
      "metadata": {
        "id": "8SD_pejFUPXw",
        "colab_type": "code",
        "outputId": "61a7ac0d-44a9-46eb-bddf-e34ae18f4bd0",
        "colab": {
          "base_uri": "https://localhost:8080/",
          "height": 773
        }
      },
      "source": [
        "# 정보 병목이 있는 모델\n",
        "model = models.Sequential()\n",
        "model.add(layers.Dense(64, activation='relu', input_shape=(10000,)))\n",
        "model.add(layers.Dense(4, activation='relu'))\n",
        "model.add(layers.Dense(46, activation='softmax'))\n",
        "\n",
        "model.compile(optimizer='rmsprop',\n",
        "              loss='categorical_crossentropy',\n",
        "              metrics=['accuracy'])\n",
        "\n",
        "model.fit(partial_x_train,\n",
        "          partial_y_train,\n",
        "          epochs=20,\n",
        "          batch_size=128,\n",
        "          validation_data=(x_val, y_val))"
      ],
      "execution_count": 0,
      "outputs": [
        {
          "output_type": "stream",
          "text": [
            "Train on 7982 samples, validate on 1000 samples\n",
            "Epoch 1/20\n",
            "7982/7982 [==============================] - 2s 188us/step - loss: 3.1273 - accuracy: 0.2449 - val_loss: 2.5914 - val_accuracy: 0.3110\n",
            "Epoch 2/20\n",
            "7982/7982 [==============================] - 1s 180us/step - loss: 2.1992 - accuracy: 0.3306 - val_loss: 1.8400 - val_accuracy: 0.4230\n",
            "Epoch 3/20\n",
            "7982/7982 [==============================] - 1s 176us/step - loss: 1.4809 - accuracy: 0.6461 - val_loss: 1.4395 - val_accuracy: 0.6600\n",
            "Epoch 4/20\n",
            "7982/7982 [==============================] - 1s 181us/step - loss: 1.2374 - accuracy: 0.6807 - val_loss: 1.3802 - val_accuracy: 0.6630\n",
            "Epoch 5/20\n",
            "7982/7982 [==============================] - 1s 179us/step - loss: 1.1410 - accuracy: 0.6987 - val_loss: 1.3608 - val_accuracy: 0.6720\n",
            "Epoch 6/20\n",
            "7982/7982 [==============================] - 1s 179us/step - loss: 1.0692 - accuracy: 0.7220 - val_loss: 1.3478 - val_accuracy: 0.6720\n",
            "Epoch 7/20\n",
            "7982/7982 [==============================] - 1s 183us/step - loss: 1.0078 - accuracy: 0.7458 - val_loss: 1.3704 - val_accuracy: 0.6840\n",
            "Epoch 8/20\n",
            "7982/7982 [==============================] - 1s 179us/step - loss: 0.9549 - accuracy: 0.7596 - val_loss: 1.3823 - val_accuracy: 0.6870\n",
            "Epoch 9/20\n",
            "7982/7982 [==============================] - 1s 179us/step - loss: 0.9071 - accuracy: 0.7671 - val_loss: 1.4156 - val_accuracy: 0.6950\n",
            "Epoch 10/20\n",
            "7982/7982 [==============================] - 1s 175us/step - loss: 0.8698 - accuracy: 0.7759 - val_loss: 1.4169 - val_accuracy: 0.6940\n",
            "Epoch 11/20\n",
            "7982/7982 [==============================] - 1s 177us/step - loss: 0.8323 - accuracy: 0.7784 - val_loss: 1.4648 - val_accuracy: 0.6930\n",
            "Epoch 12/20\n",
            "7982/7982 [==============================] - 1s 178us/step - loss: 0.8027 - accuracy: 0.7829 - val_loss: 1.5121 - val_accuracy: 0.6900\n",
            "Epoch 13/20\n",
            "7982/7982 [==============================] - 1s 175us/step - loss: 0.7763 - accuracy: 0.7841 - val_loss: 1.5666 - val_accuracy: 0.6910\n",
            "Epoch 14/20\n",
            "7982/7982 [==============================] - 1s 177us/step - loss: 0.7496 - accuracy: 0.7888 - val_loss: 1.5848 - val_accuracy: 0.6880\n",
            "Epoch 15/20\n",
            "7982/7982 [==============================] - 1s 179us/step - loss: 0.7282 - accuracy: 0.7937 - val_loss: 1.6010 - val_accuracy: 0.6900\n",
            "Epoch 16/20\n",
            "7982/7982 [==============================] - 1s 170us/step - loss: 0.7074 - accuracy: 0.7990 - val_loss: 1.6944 - val_accuracy: 0.6900\n",
            "Epoch 17/20\n",
            "7982/7982 [==============================] - 1s 175us/step - loss: 0.6879 - accuracy: 0.8014 - val_loss: 1.7364 - val_accuracy: 0.6880\n",
            "Epoch 18/20\n",
            "7982/7982 [==============================] - 1s 177us/step - loss: 0.6704 - accuracy: 0.8057 - val_loss: 1.7740 - val_accuracy: 0.6890\n",
            "Epoch 19/20\n",
            "7982/7982 [==============================] - 1s 177us/step - loss: 0.6582 - accuracy: 0.8096 - val_loss: 1.8256 - val_accuracy: 0.6850\n",
            "Epoch 20/20\n",
            "7982/7982 [==============================] - 1s 177us/step - loss: 0.6408 - accuracy: 0.8138 - val_loss: 1.8900 - val_accuracy: 0.6820\n"
          ],
          "name": "stdout"
        },
        {
          "output_type": "execute_result",
          "data": {
            "text/plain": [
              "<keras.callbacks.callbacks.History at 0x7f04f2ffc160>"
            ]
          },
          "metadata": {
            "tags": []
          },
          "execution_count": 83
        }
      ]
    },
    {
      "cell_type": "code",
      "metadata": {
        "id": "9NZqa9PVVL4k",
        "colab_type": "code",
        "colab": {}
      },
      "source": [
        ""
      ],
      "execution_count": 0,
      "outputs": []
    }
  ]
}