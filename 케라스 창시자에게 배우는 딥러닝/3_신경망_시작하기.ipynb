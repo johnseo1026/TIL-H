{
  "nbformat": 4,
  "nbformat_minor": 0,
  "metadata": {
    "colab": {
      "name": "3_신경망 시작하기.ipynb",
      "provenance": [],
      "collapsed_sections": []
    },
    "kernelspec": {
      "name": "python3",
      "display_name": "Python 3"
    }
  },
  "cells": [
    {
      "cell_type": "markdown",
      "metadata": {
        "id": "Yes68ZJBV0r2",
        "colab_type": "text"
      },
      "source": [
        "# 3.4 영화 리뷰 분류: 이진 분류 예제"
      ]
    },
    {
      "cell_type": "markdown",
      "metadata": {
        "id": "_xbBt-ONWGIc",
        "colab_type": "text"
      },
      "source": [
        "## 3.4.1 IMDB 데이터셋"
      ]
    },
    {
      "cell_type": "code",
      "metadata": {
        "id": "DCI8oYjMWFKr",
        "colab_type": "code",
        "colab": {
          "base_uri": "https://localhost:8080/",
          "height": 71
        },
        "outputId": "82bda986-a1d8-4035-c944-e4b710eadf32"
      },
      "source": [
        "# IMDB 데이터셋 로드하기\n",
        "from keras.datasets import imdb\n",
        "\n",
        "(train_data, train_labels), (test_data, test_labels) = imdb.load_data(num_words=10000)"
      ],
      "execution_count": 1,
      "outputs": [
        {
          "output_type": "stream",
          "text": [
            "Using TensorFlow backend.\n"
          ],
          "name": "stderr"
        },
        {
          "output_type": "stream",
          "text": [
            "Downloading data from https://s3.amazonaws.com/text-datasets/imdb.npz\n",
            "17465344/17464789 [==============================] - 0s 0us/step\n"
          ],
          "name": "stdout"
        }
      ]
    },
    {
      "cell_type": "markdown",
      "metadata": {
        "id": "krJKGpJfXsia",
        "colab_type": "text"
      },
      "source": [
        "## 3.4.2 데이터 준비"
      ]
    },
    {
      "cell_type": "code",
      "metadata": {
        "id": "-uznFvznWdrd",
        "colab_type": "code",
        "colab": {}
      },
      "source": [
        "# 정수 시퀀스를 이진 행렬로 인코딩하기\n",
        "import numpy as np\n",
        "def vectorize_sequences(sequences, dimension=10000):\n",
        "  results = np.zeros((len(sequences), dimension))  # 크기가 (len(sequences), dimension)이고 모든 원소가 0인 행렬로 만듭니다\n",
        "  for i , sequences in enumerate(sequences):\n",
        "    results[i, sequences] = 1.  # results[i]에서 특정 인덱스의 위치를 1로 만듭니다\n",
        "  return results\n",
        "\n",
        "x_train = vectorize_sequences(train_data)   # 훈련 데이터를 벡터로 변환\n",
        "x_test = vectorize_sequences(test_data)   # 테스트 데이터를 벡터로 변환\n",
        "\n",
        "y_train = np.asarray(train_labels).astype('float32')\n",
        "y_test= np.asarray(test_labels).astype('float32')"
      ],
      "execution_count": 0,
      "outputs": []
    },
    {
      "cell_type": "markdown",
      "metadata": {
        "id": "FVw2kP4uXwMP",
        "colab_type": "text"
      },
      "source": [
        "## 3.4.3 신경망 모델 만들기"
      ]
    },
    {
      "cell_type": "code",
      "metadata": {
        "id": "yeiJUcH_XqTt",
        "colab_type": "code",
        "colab": {}
      },
      "source": [
        "# 모델 정의하기\n",
        "from keras import models\n",
        "from keras import layers\n",
        "\n",
        "model = models.Sequential()\n",
        "model.add(layers.Dense(16, activation='relu', input_shape=(10000,)))\n",
        "model.add(layers.Dense(16, activation='relu'))\n",
        "model.add(layers.Dense(1, activation='sigmoid'))"
      ],
      "execution_count": 0,
      "outputs": []
    },
    {
      "cell_type": "code",
      "metadata": {
        "id": "Y7_S_3Z-YWfd",
        "colab_type": "code",
        "colab": {}
      },
      "source": [
        "# 모델 컴파일하기\n",
        "model.compile(optimizer='rmsprop', loss='binary_crossentropy', metrics=['accuracy'])"
      ],
      "execution_count": 0,
      "outputs": []
    },
    {
      "cell_type": "code",
      "metadata": {
        "id": "lswyRaf4Yr7k",
        "colab_type": "code",
        "colab": {}
      },
      "source": [
        "# 옵티마이저 설정하기\n",
        "from keras import optimizers\n",
        "\n",
        "model.compile(optimizer=optimizers.RMSprop(lr=0.001), loss='binary_crossentropy', metrics=['accuracy'])"
      ],
      "execution_count": 0,
      "outputs": []
    },
    {
      "cell_type": "code",
      "metadata": {
        "id": "OqLk90I1Y8bJ",
        "colab_type": "code",
        "colab": {}
      },
      "source": [
        "# 손실과 측정을 함수 객체로 지정하기\n",
        "from keras import losses\n",
        "from keras import metrics\n",
        "\n",
        "model.compile(optimizer=optimizers.RMSprop(lr=0.001), loss='binary_crossentropy', metrics=[metrics.binary_accuracy])"
      ],
      "execution_count": 0,
      "outputs": []
    },
    {
      "cell_type": "markdown",
      "metadata": {
        "id": "B13PEjY9ZUAh",
        "colab_type": "text"
      },
      "source": [
        "## 3.4.4 훈련 검증"
      ]
    },
    {
      "cell_type": "code",
      "metadata": {
        "id": "G0DepGFfZOJh",
        "colab_type": "code",
        "colab": {}
      },
      "source": [
        "# 검증 세트 준비하기\n",
        "x_val = x_train[:10000]\n",
        "partial_x_train = x_train[10000:]\n",
        "y_val = y_train[:10000]\n",
        "partial_y_train = y_train[10000:]"
      ],
      "execution_count": 0,
      "outputs": []
    },
    {
      "cell_type": "code",
      "metadata": {
        "id": "ZvB17OqXZjR7",
        "colab_type": "code",
        "colab": {
          "base_uri": "https://localhost:8080/",
          "height": 755
        },
        "outputId": "48356bef-ebb8-4ecf-98c7-acfa09a8e5de"
      },
      "source": [
        "# 모델 훈련하기\n",
        "model.compile(optimizer=optimizers.RMSprop(lr=0.001), loss='binary_crossentropy', metrics=['acc'])\n",
        "\n",
        "history = model.fit(partial_x_train, partial_y_train, epochs=20, batch_size=512, validation_data=(x_val, y_val))"
      ],
      "execution_count": 22,
      "outputs": [
        {
          "output_type": "stream",
          "text": [
            "Train on 15000 samples, validate on 10000 samples\n",
            "Epoch 1/20\n",
            "15000/15000 [==============================] - 2s 164us/step - loss: 0.5998 - acc: 0.5937 - val_loss: 0.5264 - val_acc: 0.7858\n",
            "Epoch 2/20\n",
            "15000/15000 [==============================] - 2s 143us/step - loss: 0.4617 - acc: 0.8491 - val_loss: 0.4383 - val_acc: 0.8862\n",
            "Epoch 3/20\n",
            "15000/15000 [==============================] - 2s 145us/step - loss: 0.3308 - acc: 0.9179 - val_loss: 0.3233 - val_acc: 0.8885\n",
            "Epoch 4/20\n",
            "15000/15000 [==============================] - 2s 143us/step - loss: 0.2279 - acc: 0.9341 - val_loss: 0.2895 - val_acc: 0.8902\n",
            "Epoch 5/20\n",
            "15000/15000 [==============================] - 2s 143us/step - loss: 0.1712 - acc: 0.9512 - val_loss: 0.2886 - val_acc: 0.8868\n",
            "Epoch 6/20\n",
            "15000/15000 [==============================] - 2s 144us/step - loss: 0.1352 - acc: 0.9626 - val_loss: 0.3035 - val_acc: 0.8813\n",
            "Epoch 7/20\n",
            "15000/15000 [==============================] - 2s 143us/step - loss: 0.1112 - acc: 0.9697 - val_loss: 0.3064 - val_acc: 0.8834\n",
            "Epoch 8/20\n",
            "15000/15000 [==============================] - 2s 143us/step - loss: 0.0922 - acc: 0.9756 - val_loss: 0.3270 - val_acc: 0.8802\n",
            "Epoch 9/20\n",
            "15000/15000 [==============================] - 2s 142us/step - loss: 0.0728 - acc: 0.9822 - val_loss: 0.3579 - val_acc: 0.8766\n",
            "Epoch 10/20\n",
            "15000/15000 [==============================] - 2s 141us/step - loss: 0.0656 - acc: 0.9836 - val_loss: 0.3735 - val_acc: 0.8761\n",
            "Epoch 11/20\n",
            "15000/15000 [==============================] - 2s 139us/step - loss: 0.0475 - acc: 0.9897 - val_loss: 0.3833 - val_acc: 0.8772\n",
            "Epoch 12/20\n",
            "15000/15000 [==============================] - 2s 138us/step - loss: 0.0386 - acc: 0.9927 - val_loss: 0.4382 - val_acc: 0.8729\n",
            "Epoch 13/20\n",
            "15000/15000 [==============================] - 2s 139us/step - loss: 0.0342 - acc: 0.9928 - val_loss: 0.4644 - val_acc: 0.8692\n",
            "Epoch 14/20\n",
            "15000/15000 [==============================] - 2s 146us/step - loss: 0.0241 - acc: 0.9959 - val_loss: 0.4912 - val_acc: 0.8696\n",
            "Epoch 15/20\n",
            "15000/15000 [==============================] - 2s 141us/step - loss: 0.0242 - acc: 0.9949 - val_loss: 0.4900 - val_acc: 0.8737\n",
            "Epoch 16/20\n",
            "15000/15000 [==============================] - 2s 137us/step - loss: 0.0128 - acc: 0.9985 - val_loss: 0.5232 - val_acc: 0.8727\n",
            "Epoch 17/20\n",
            "15000/15000 [==============================] - 2s 137us/step - loss: 0.0162 - acc: 0.9963 - val_loss: 0.5595 - val_acc: 0.8697\n",
            "Epoch 18/20\n",
            "15000/15000 [==============================] - 2s 138us/step - loss: 0.0075 - acc: 0.9993 - val_loss: 0.5872 - val_acc: 0.8701\n",
            "Epoch 19/20\n",
            "15000/15000 [==============================] - 2s 137us/step - loss: 0.0091 - acc: 0.9985 - val_loss: 0.6351 - val_acc: 0.8670\n",
            "Epoch 20/20\n",
            "15000/15000 [==============================] - 2s 139us/step - loss: 0.0055 - acc: 0.9993 - val_loss: 0.7985 - val_acc: 0.8517\n"
          ],
          "name": "stdout"
        }
      ]
    },
    {
      "cell_type": "code",
      "metadata": {
        "id": "QtPfoKXCaTWC",
        "colab_type": "code",
        "colab": {
          "base_uri": "https://localhost:8080/",
          "height": 295
        },
        "outputId": "f125207a-3be0-4e7d-8086-e36d987b9da3"
      },
      "source": [
        "# 훈련과 검증 손실 그리기\n",
        "import matplotlib.pyplot as plt\n",
        "\n",
        "history_dict = history.history\n",
        "loss = history_dict['loss']\n",
        "val_loss = history_dict['val_loss']\n",
        "\n",
        "epochs = range(1, len(loss) + 1)\n",
        "\n",
        "plt.plot(epochs, loss, 'bo', label='Training loss')  # 'bo'는 파란색점을 의미\n",
        "plt.plot(epochs, val_loss, 'b', label='Validation loss')  # 'b'는 파란색 실선을 의미\n",
        "plt.title('Training and validation loss')\n",
        "plt.xlabel('Epochs')\n",
        "plt.ylabel('Loss')\n",
        "plt.legend()\n",
        "\n",
        "plt.show()"
      ],
      "execution_count": 24,
      "outputs": [
        {
          "output_type": "display_data",
          "data": {
            "image/png": "[encoded data removed]",
            "text/plain": [
              "<Figure size 432x288 with 1 Axes>"
            ]
          },
          "metadata": {
            "tags": [],
            "needs_background": "light"
          }
        }
      ]
    },
    {
      "cell_type": "code",
      "metadata": {
        "id": "iXQ4BonDbge5",
        "colab_type": "code",
        "colab": {
          "base_uri": "https://localhost:8080/",
          "height": 295
        },
        "outputId": "4a18f7e5-ee2b-48a0-804d-7f00b0e75a5f"
      },
      "source": [
        "# 훈련과 검증 정확도 그리기\n",
        "plt.clf()\n",
        "acc = history_dict['acc']\n",
        "val_acc = history_dict['val_loss']\n",
        "\n",
        "plt.plot(epochs, acc, 'bo', label='Training acc')  # 'bo'는 파란색점을 의미\n",
        "plt.plot(epochs, val_acc, 'b', label='Validation acc')  # 'b'는 파란색 실선을 의미\n",
        "plt.title('Training and validation loss')\n",
        "plt.xlabel('Epochs')\n",
        "plt.ylabel('Accuracy')\n",
        "plt.legend()\n",
        "\n",
        "plt.show()"
      ],
      "execution_count": 25,
      "outputs": [
        {
          "output_type": "display_data",
          "data": {
            "image/png": "[encoded data removed]",
            "text/plain": [
              "<Figure size 432x288 with 1 Axes>"
            ]
          },
          "metadata": {
            "tags": [],
            "needs_background": "light"
          }
        }
      ]
    },
    {
      "cell_type": "code",
      "metadata": {
        "id": "PNxFg_ojb4v0",
        "colab_type": "code",
        "colab": {
          "base_uri": "https://localhost:8080/",
          "height": 179
        },
        "outputId": "159c5df6-e736-4d4f-97af-fa27a604555e"
      },
      "source": [
        "# 모델을 처음부터 다시 훈련하기\n",
        "model = models.Sequential()\n",
        "model.add(layers.Dense(16, activation='relu', input_shape=(10000,)))\n",
        "model.add(layers.Dense(16, activation='relu'))\n",
        "model.add(layers.Dense(1, activation='sigmoid'))\n",
        "\n",
        "model.compile(optimizer='rmsprop', loss='binary_crossentropy', metrics=['accuracy'])\n",
        "\n",
        "model.fit(x_train, y_train, epochs=4, batch_size=512)\n",
        "results = model.evaluate(x_test, y_test)"
      ],
      "execution_count": 27,
      "outputs": [
        {
          "output_type": "stream",
          "text": [
            "Epoch 1/4\n",
            "25000/25000 [==============================] - 2s 94us/step - loss: 0.4599 - accuracy: 0.8160\n",
            "Epoch 2/4\n",
            "25000/25000 [==============================] - 2s 91us/step - loss: 0.2588 - accuracy: 0.9129\n",
            "Epoch 3/4\n",
            "25000/25000 [==============================] - 2s 92us/step - loss: 0.2026 - accuracy: 0.9279\n",
            "Epoch 4/4\n",
            "25000/25000 [==============================] - 2s 94us/step - loss: 0.1691 - accuracy: 0.9405\n",
            "25000/25000 [==============================] - 2s 61us/step\n"
          ],
          "name": "stdout"
        }
      ]
    },
    {
      "cell_type": "code",
      "metadata": {
        "id": "-HF8os6dcaCl",
        "colab_type": "code",
        "colab": {
          "base_uri": "https://localhost:8080/",
          "height": 35
        },
        "outputId": "896bec0e-2748-44a3-867b-8ee40f7069b7"
      },
      "source": [
        "results"
      ],
      "execution_count": 28,
      "outputs": [
        {
          "output_type": "execute_result",
          "data": {
            "text/plain": [
              "[0.2983540804672241, 0.8815199732780457]"
            ]
          },
          "metadata": {
            "tags": []
          },
          "execution_count": 28
        }
      ]
    },
    {
      "cell_type": "markdown",
      "metadata": {
        "id": "fQDDP5l6cmUY",
        "colab_type": "text"
      },
      "source": [
        "## 3.4.5 훈련된 모델로 새로운 데이터에 대해 예측하기"
      ]
    },
    {
      "cell_type": "code",
      "metadata": {
        "id": "bPB3tLkqcjzT",
        "colab_type": "code",
        "colab": {
          "base_uri": "https://localhost:8080/",
          "height": 143
        },
        "outputId": "dc81b483-28e7-46b4-c35e-8fdede8091da"
      },
      "source": [
        "model.predict(x_test)"
      ],
      "execution_count": 29,
      "outputs": [
        {
          "output_type": "execute_result",
          "data": {
            "text/plain": [
              "array([[0.13954568],\n",
              "       [0.9986868 ],\n",
              "       [0.76239824],\n",
              "       ...,\n",
              "       [0.10513476],\n",
              "       [0.05462369],\n",
              "       [0.586875  ]], dtype=float32)"
            ]
          },
          "metadata": {
            "tags": []
          },
          "execution_count": 29
        }
      ]
    },
    {
      "cell_type": "code",
      "metadata": {
        "id": "5Tyl7rNRcriD",
        "colab_type": "code",
        "colab": {}
      },
      "source": [
        ""
      ],
      "execution_count": 0,
      "outputs": []
    }
  ]
}