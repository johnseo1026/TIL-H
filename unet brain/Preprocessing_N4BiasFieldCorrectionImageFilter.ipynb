{
 "cells": [
  {
   "cell_type": "markdown",
   "metadata": {},
   "source": [
    "## Run N4BiasFieldCorrectionImageFilter\n",
    "on Train and validation of Brats data\n"
   ]
  },
  {
   "cell_type": "markdown",
   "metadata": {},
   "source": [
    "## Data files\n",
    "* /naomi/DATA/MICCAI_BraTS_2019_Data_Training/HGG/BraTS19_TCIA04_192_1\n",
    "```\n",
    "BraTS19_TCIA04_192_1_flair.nii.gz  \n",
    "BraTS19_TCIA04_192_1_t1.nii.gz    \n",
    "BraTS19_TCIA04_192_1_t2.nii.gz\n",
    "BraTS19_TCIA04_192_1_seg.nii.gz    \n",
    "BraTS19_TCIA04_192_1_t1ce.nii.gz\n",
    "```\n",
    "After running the filter the following files will be added:\n",
    "```\n",
    "BraTS19_TCIA09_141_1_t1_nb4.nii.gz\n",
    "BraTS19_TCIA09_141_1_t1ce.nii.gz\n",
    "```"
   ]
  },
  {
   "cell_type": "code",
   "execution_count": 1,
   "metadata": {},
   "outputs": [],
   "source": [
    "DATA= '/naomi/DATA/MICCAI_BraTS_2019_Data_Training/'\n",
    "DATA_HGG = DATA +'HGG/'\n",
    "DATA_LGG = DATA + 'LGG/'\n",
    "\n",
    "FLAIR = 'flair'\n",
    "T1 = 't1'\n",
    "T2 = 't2'\n",
    "T1CE = 't1ce'"
   ]
  },
  {
   "cell_type": "code",
   "execution_count": 2,
   "metadata": {},
   "outputs": [],
   "source": [
    "import os, sys, glob\n",
    "import numpy as np\n",
    "import SimpleITK as sitk\n",
    "import sys\n",
    "import os\n",
    "import pandas as pd\n",
    "import re"
   ]
  },
  {
   "cell_type": "code",
   "execution_count": 3,
   "metadata": {},
   "outputs": [],
   "source": [
    "import pandas\n",
    "import numpy"
   ]
  },
  {
   "cell_type": "markdown",
   "metadata": {},
   "source": [
    "## Data Preprocessing\n",
    "### Run  N4BiasFieldCorrectionImageFilter"
   ]
  },
  {
   "cell_type": "code",
   "execution_count": 4,
   "metadata": {},
   "outputs": [],
   "source": [
    "def n4cor(in_img, out_img):\n",
    "    inputImage = sitk.ReadImage(in_img )\n",
    "    maskImage = sitk.OtsuThreshold( inputImage, 0, 1, 200 )\n",
    "\n",
    "    inputImage = sitk.Cast( inputImage, sitk.sitkFloat32 )\n",
    "    corrector = sitk.N4BiasFieldCorrectionImageFilter();\n",
    "    numberFilltingLevels = 4\n",
    "\n",
    "    output = corrector.Execute( inputImage, maskImage ) \n",
    "    sitk.WriteImage( output, out_img )"
   ]
  },
  {
   "cell_type": "markdown",
   "metadata": {},
   "source": [
    "#### find all relevant image directories  "
   ]
  },
  {
   "cell_type": "code",
   "execution_count": 5,
   "metadata": {},
   "outputs": [],
   "source": [
    "input_path = DATA_HGG\n",
    "        \n",
    "hgg_paths = []\n",
    "for dirpath, dirnames, files in os.walk(input_path):\n",
    "    for dir in dirnames:\n",
    "        if ('BraTS19' in dir):\n",
    "            hgg_paths.append(dir)\n",
    "\n",
    "input_path = DATA_LGG\n",
    "        \n",
    "lgg_paths = []\n",
    "for dirpath, dirnames, files in os.walk(input_path):\n",
    "    for dir in dirnames:\n",
    "        if ('BraTS19' in dir):\n",
    "            lgg_paths.append(dir)"
   ]
  },
  {
   "cell_type": "code",
   "execution_count": 6,
   "metadata": {},
   "outputs": [
    {
     "data": {
      "text/plain": [
       "(76, 259)"
      ]
     },
     "execution_count": 6,
     "metadata": {},
     "output_type": "execute_result"
    }
   ],
   "source": [
    "len(lgg_paths),len(hgg_paths)"
   ]
  },
  {
   "cell_type": "markdown",
   "metadata": {},
   "source": [
    "### Run n4corr filter on T1 and T1CE images\n",
    "Time on Train data\n",
    "```\n",
    "CPU times: user 2d 11h 24min 48s, sys: 47min 15s, total: 2d 12h 12min 3s\n",
    "Wall time: 16h 43min 29s\n",
    "```"
   ]
  },
  {
   "cell_type": "code",
   "execution_count": 47,
   "metadata": {},
   "outputs": [
    {
     "name": "stdout",
     "output_type": "stream",
     "text": [
      "/naomi/DATA/MICCAI_BraTS_2019_Data_Training/LGG/BraTS19_TCIA10_449_1/BraTS19_TCIA10_449_1_t1.nii.gz /naomi/DATA/MICCAI_BraTS_2019_Data_Training/LGG/BraTS19_TCIA10_449_1/BraTS19_TCIA10_449_1_t1_nb4.nii.gz\n",
      "/naomi/DATA/MICCAI_BraTS_2019_Data_Training/LGG/BraTS19_TCIA10_449_1/BraTS19_TCIA10_449_1_t1ce.nii.gz /naomi/DATA/MICCAI_BraTS_2019_Data_Training/LGG/BraTS19_TCIA10_449_1/BraTS19_TCIA10_449_1_t1ce_nb4.nii.gz\n",
      "/naomi/DATA/MICCAI_BraTS_2019_Data_Training/LGG/BraTS19_TCIA10_644_1/BraTS19_TCIA10_644_1_t1ce.nii.gz /naomi/DATA/MICCAI_BraTS_2019_Data_Training/LGG/BraTS19_TCIA10_644_1/BraTS19_TCIA10_644_1_t1ce_nb4.nii.gz\n",
      "/naomi/DATA/MICCAI_BraTS_2019_Data_Training/LGG/BraTS19_TCIA10_644_1/BraTS19_TCIA10_644_1_t1.nii.gz /naomi/DATA/MICCAI_BraTS_2019_Data_Training/LGG/BraTS19_TCIA10_644_1/BraTS19_TCIA10_644_1_t1_nb4.nii.gz\n",
      "/naomi/DATA/MICCAI_BraTS_2019_Data_Training/LGG/BraTS19_TCIA09_141_1/BraTS19_TCIA09_141_1_t1ce.nii.gz /naomi/DATA/MICCAI_BraTS_2019_Data_Training/LGG/BraTS19_TCIA09_141_1/BraTS19_TCIA09_141_1_t1ce_nb4.nii.gz\n",
      "/naomi/DATA/MICCAI_BraTS_2019_Data_Training/LGG/BraTS19_TCIA09_141_1/BraTS19_TCIA09_141_1_t1.nii.gz /naomi/DATA/MICCAI_BraTS_2019_Data_Training/LGG/BraTS19_TCIA09_141_1/BraTS19_TCIA09_141_1_t1_nb4.nii.gz\n",
      "/naomi/DATA/MICCAI_BraTS_2019_Data_Training/LGG/BraTS19_2013_6_1/BraTS19_2013_6_1_t1.nii.gz /naomi/DATA/MICCAI_BraTS_2019_Data_Training/LGG/BraTS19_2013_6_1/BraTS19_2013_6_1_t1_nb4.nii.gz\n",
      "/naomi/DATA/MICCAI_BraTS_2019_Data_Training/LGG/BraTS19_2013_6_1/BraTS19_2013_6_1_t1ce.nii.gz /naomi/DATA/MICCAI_BraTS_2019_Data_Training/LGG/BraTS19_2013_6_1/BraTS19_2013_6_1_t1ce_nb4.nii.gz\n",
      "/naomi/DATA/MICCAI_BraTS_2019_Data_Training/LGG/BraTS19_TCIA10_387_1/BraTS19_TCIA10_387_1_t1ce.nii.gz /naomi/DATA/MICCAI_BraTS_2019_Data_Training/LGG/BraTS19_TCIA10_387_1/BraTS19_TCIA10_387_1_t1ce_nb4.nii.gz\n",
      "/naomi/DATA/MICCAI_BraTS_2019_Data_Training/LGG/BraTS19_TCIA10_387_1/BraTS19_TCIA10_387_1_t1.nii.gz /naomi/DATA/MICCAI_BraTS_2019_Data_Training/LGG/BraTS19_TCIA10_387_1/BraTS19_TCIA10_387_1_t1_nb4.nii.gz\n",
      "/naomi/DATA/MICCAI_BraTS_2019_Data_Training/LGG/BraTS19_TCIA10_103_1/BraTS19_TCIA10_103_1_t1ce.nii.gz /naomi/DATA/MICCAI_BraTS_2019_Data_Training/LGG/BraTS19_TCIA10_103_1/BraTS19_TCIA10_103_1_t1ce_nb4.nii.gz\n",
      "/naomi/DATA/MICCAI_BraTS_2019_Data_Training/LGG/BraTS19_TCIA10_103_1/BraTS19_TCIA10_103_1_t1.nii.gz /naomi/DATA/MICCAI_BraTS_2019_Data_Training/LGG/BraTS19_TCIA10_103_1/BraTS19_TCIA10_103_1_t1_nb4.nii.gz\n",
      "/naomi/DATA/MICCAI_BraTS_2019_Data_Training/LGG/BraTS19_2013_28_1/BraTS19_2013_28_1_t1.nii.gz /naomi/DATA/MICCAI_BraTS_2019_Data_Training/LGG/BraTS19_2013_28_1/BraTS19_2013_28_1_t1_nb4.nii.gz\n",
      "/naomi/DATA/MICCAI_BraTS_2019_Data_Training/LGG/BraTS19_2013_28_1/BraTS19_2013_28_1_t1ce.nii.gz /naomi/DATA/MICCAI_BraTS_2019_Data_Training/LGG/BraTS19_2013_28_1/BraTS19_2013_28_1_t1ce_nb4.nii.gz\n",
      "/naomi/DATA/MICCAI_BraTS_2019_Data_Training/LGG/BraTS19_TCIA13_645_1/BraTS19_TCIA13_645_1_t1.nii.gz /naomi/DATA/MICCAI_BraTS_2019_Data_Training/LGG/BraTS19_TCIA13_645_1/BraTS19_TCIA13_645_1_t1_nb4.nii.gz\n",
      "/naomi/DATA/MICCAI_BraTS_2019_Data_Training/LGG/BraTS19_TCIA13_645_1/BraTS19_TCIA13_645_1_t1ce.nii.gz /naomi/DATA/MICCAI_BraTS_2019_Data_Training/LGG/BraTS19_TCIA13_645_1/BraTS19_TCIA13_645_1_t1ce_nb4.nii.gz\n",
      "/naomi/DATA/MICCAI_BraTS_2019_Data_Training/LGG/BraTS19_TCIA13_634_1/BraTS19_TCIA13_634_1_t1.nii.gz /naomi/DATA/MICCAI_BraTS_2019_Data_Training/LGG/BraTS19_TCIA13_634_1/BraTS19_TCIA13_634_1_t1_nb4.nii.gz\n",
      "/naomi/DATA/MICCAI_BraTS_2019_Data_Training/LGG/BraTS19_TCIA13_634_1/BraTS19_TCIA13_634_1_t1ce.nii.gz /naomi/DATA/MICCAI_BraTS_2019_Data_Training/LGG/BraTS19_TCIA13_634_1/BraTS19_TCIA13_634_1_t1ce_nb4.nii.gz\n",
      "/naomi/DATA/MICCAI_BraTS_2019_Data_Training/LGG/BraTS19_TCIA10_351_1/BraTS19_TCIA10_351_1_t1.nii.gz /naomi/DATA/MICCAI_BraTS_2019_Data_Training/LGG/BraTS19_TCIA10_351_1/BraTS19_TCIA10_351_1_t1_nb4.nii.gz\n",
      "/naomi/DATA/MICCAI_BraTS_2019_Data_Training/LGG/BraTS19_TCIA10_351_1/BraTS19_TCIA10_351_1_t1ce.nii.gz /naomi/DATA/MICCAI_BraTS_2019_Data_Training/LGG/BraTS19_TCIA10_351_1/BraTS19_TCIA10_351_1_t1ce_nb4.nii.gz\n",
      "/naomi/DATA/MICCAI_BraTS_2019_Data_Training/LGG/BraTS19_TCIA13_654_1/BraTS19_TCIA13_654_1_t1.nii.gz /naomi/DATA/MICCAI_BraTS_2019_Data_Training/LGG/BraTS19_TCIA13_654_1/BraTS19_TCIA13_654_1_t1_nb4.nii.gz\n",
      "/naomi/DATA/MICCAI_BraTS_2019_Data_Training/LGG/BraTS19_TCIA13_654_1/BraTS19_TCIA13_654_1_t1ce.nii.gz /naomi/DATA/MICCAI_BraTS_2019_Data_Training/LGG/BraTS19_TCIA13_654_1/BraTS19_TCIA13_654_1_t1ce_nb4.nii.gz\n",
      "/naomi/DATA/MICCAI_BraTS_2019_Data_Training/LGG/BraTS19_TCIA13_653_1/BraTS19_TCIA13_653_1_t1ce.nii.gz /naomi/DATA/MICCAI_BraTS_2019_Data_Training/LGG/BraTS19_TCIA13_653_1/BraTS19_TCIA13_653_1_t1ce_nb4.nii.gz\n",
      "/naomi/DATA/MICCAI_BraTS_2019_Data_Training/LGG/BraTS19_TCIA13_653_1/BraTS19_TCIA13_653_1_t1.nii.gz /naomi/DATA/MICCAI_BraTS_2019_Data_Training/LGG/BraTS19_TCIA13_653_1/BraTS19_TCIA13_653_1_t1_nb4.nii.gz\n",
      "/naomi/DATA/MICCAI_BraTS_2019_Data_Training/LGG/BraTS19_TCIA13_615_1/BraTS19_TCIA13_615_1_t1ce.nii.gz /naomi/DATA/MICCAI_BraTS_2019_Data_Training/LGG/BraTS19_TCIA13_615_1/BraTS19_TCIA13_615_1_t1ce_nb4.nii.gz\n",
      "/naomi/DATA/MICCAI_BraTS_2019_Data_Training/LGG/BraTS19_TCIA13_615_1/BraTS19_TCIA13_615_1_t1.nii.gz /naomi/DATA/MICCAI_BraTS_2019_Data_Training/LGG/BraTS19_TCIA13_615_1/BraTS19_TCIA13_615_1_t1_nb4.nii.gz\n",
      "/naomi/DATA/MICCAI_BraTS_2019_Data_Training/LGG/BraTS19_TCIA10_413_1/BraTS19_TCIA10_413_1_t1.nii.gz /naomi/DATA/MICCAI_BraTS_2019_Data_Training/LGG/BraTS19_TCIA10_413_1/BraTS19_TCIA10_413_1_t1_nb4.nii.gz\n",
      "/naomi/DATA/MICCAI_BraTS_2019_Data_Training/LGG/BraTS19_TCIA10_413_1/BraTS19_TCIA10_413_1_t1ce.nii.gz /naomi/DATA/MICCAI_BraTS_2019_Data_Training/LGG/BraTS19_TCIA10_413_1/BraTS19_TCIA10_413_1_t1ce_nb4.nii.gz\n",
      "/naomi/DATA/MICCAI_BraTS_2019_Data_Training/LGG/BraTS19_TCIA13_621_1/BraTS19_TCIA13_621_1_t1ce.nii.gz /naomi/DATA/MICCAI_BraTS_2019_Data_Training/LGG/BraTS19_TCIA13_621_1/BraTS19_TCIA13_621_1_t1ce_nb4.nii.gz\n",
      "/naomi/DATA/MICCAI_BraTS_2019_Data_Training/LGG/BraTS19_TCIA13_621_1/BraTS19_TCIA13_621_1_t1.nii.gz /naomi/DATA/MICCAI_BraTS_2019_Data_Training/LGG/BraTS19_TCIA13_621_1/BraTS19_TCIA13_621_1_t1_nb4.nii.gz\n",
      "/naomi/DATA/MICCAI_BraTS_2019_Data_Training/LGG/BraTS19_TCIA10_241_1/BraTS19_TCIA10_241_1_t1ce.nii.gz /naomi/DATA/MICCAI_BraTS_2019_Data_Training/LGG/BraTS19_TCIA10_241_1/BraTS19_TCIA10_241_1_t1ce_nb4.nii.gz\n",
      "/naomi/DATA/MICCAI_BraTS_2019_Data_Training/LGG/BraTS19_TCIA10_241_1/BraTS19_TCIA10_241_1_t1.nii.gz /naomi/DATA/MICCAI_BraTS_2019_Data_Training/LGG/BraTS19_TCIA10_241_1/BraTS19_TCIA10_241_1_t1_nb4.nii.gz\n",
      "/naomi/DATA/MICCAI_BraTS_2019_Data_Training/LGG/BraTS19_TCIA10_330_1/BraTS19_TCIA10_330_1_t1ce.nii.gz /naomi/DATA/MICCAI_BraTS_2019_Data_Training/LGG/BraTS19_TCIA10_330_1/BraTS19_TCIA10_330_1_t1ce_nb4.nii.gz\n",
      "/naomi/DATA/MICCAI_BraTS_2019_Data_Training/LGG/BraTS19_TCIA10_330_1/BraTS19_TCIA10_330_1_t1.nii.gz /naomi/DATA/MICCAI_BraTS_2019_Data_Training/LGG/BraTS19_TCIA10_330_1/BraTS19_TCIA10_330_1_t1_nb4.nii.gz\n",
      "/naomi/DATA/MICCAI_BraTS_2019_Data_Training/LGG/BraTS19_TCIA09_493_1/BraTS19_TCIA09_493_1_t1.nii.gz /naomi/DATA/MICCAI_BraTS_2019_Data_Training/LGG/BraTS19_TCIA09_493_1/BraTS19_TCIA09_493_1_t1_nb4.nii.gz\n",
      "/naomi/DATA/MICCAI_BraTS_2019_Data_Training/LGG/BraTS19_TCIA09_493_1/BraTS19_TCIA09_493_1_t1ce.nii.gz /naomi/DATA/MICCAI_BraTS_2019_Data_Training/LGG/BraTS19_TCIA09_493_1/BraTS19_TCIA09_493_1_t1ce_nb4.nii.gz\n",
      "/naomi/DATA/MICCAI_BraTS_2019_Data_Training/LGG/BraTS19_TCIA10_130_1/BraTS19_TCIA10_130_1_t1.nii.gz /naomi/DATA/MICCAI_BraTS_2019_Data_Training/LGG/BraTS19_TCIA10_130_1/BraTS19_TCIA10_130_1_t1_nb4.nii.gz\n",
      "/naomi/DATA/MICCAI_BraTS_2019_Data_Training/LGG/BraTS19_TCIA10_130_1/BraTS19_TCIA10_130_1_t1ce.nii.gz /naomi/DATA/MICCAI_BraTS_2019_Data_Training/LGG/BraTS19_TCIA10_130_1/BraTS19_TCIA10_130_1_t1ce_nb4.nii.gz\n",
      "/naomi/DATA/MICCAI_BraTS_2019_Data_Training/LGG/BraTS19_TCIA09_254_1/BraTS19_TCIA09_254_1_t1.nii.gz /naomi/DATA/MICCAI_BraTS_2019_Data_Training/LGG/BraTS19_TCIA09_254_1/BraTS19_TCIA09_254_1_t1_nb4.nii.gz\n",
      "/naomi/DATA/MICCAI_BraTS_2019_Data_Training/LGG/BraTS19_TCIA09_254_1/BraTS19_TCIA09_254_1_t1ce.nii.gz /naomi/DATA/MICCAI_BraTS_2019_Data_Training/LGG/BraTS19_TCIA09_254_1/BraTS19_TCIA09_254_1_t1ce_nb4.nii.gz\n",
      "/naomi/DATA/MICCAI_BraTS_2019_Data_Training/LGG/BraTS19_TCIA12_249_1/BraTS19_TCIA12_249_1_t1.nii.gz /naomi/DATA/MICCAI_BraTS_2019_Data_Training/LGG/BraTS19_TCIA12_249_1/BraTS19_TCIA12_249_1_t1_nb4.nii.gz\n"
     ]
    },
    {
     "name": "stdout",
     "output_type": "stream",
     "text": [
      "/naomi/DATA/MICCAI_BraTS_2019_Data_Training/LGG/BraTS19_TCIA12_249_1/BraTS19_TCIA12_249_1_t1ce.nii.gz /naomi/DATA/MICCAI_BraTS_2019_Data_Training/LGG/BraTS19_TCIA12_249_1/BraTS19_TCIA12_249_1_t1ce_nb4.nii.gz\n",
      "/naomi/DATA/MICCAI_BraTS_2019_Data_Training/LGG/BraTS19_2013_15_1/BraTS19_2013_15_1_t1ce.nii.gz /naomi/DATA/MICCAI_BraTS_2019_Data_Training/LGG/BraTS19_2013_15_1/BraTS19_2013_15_1_t1ce_nb4.nii.gz\n",
      "/naomi/DATA/MICCAI_BraTS_2019_Data_Training/LGG/BraTS19_2013_15_1/BraTS19_2013_15_1_t1.nii.gz /naomi/DATA/MICCAI_BraTS_2019_Data_Training/LGG/BraTS19_2013_15_1/BraTS19_2013_15_1_t1_nb4.nii.gz\n",
      "/naomi/DATA/MICCAI_BraTS_2019_Data_Training/LGG/BraTS19_2013_8_1/BraTS19_2013_8_1_t1ce.nii.gz /naomi/DATA/MICCAI_BraTS_2019_Data_Training/LGG/BraTS19_2013_8_1/BraTS19_2013_8_1_t1ce_nb4.nii.gz\n",
      "/naomi/DATA/MICCAI_BraTS_2019_Data_Training/LGG/BraTS19_2013_8_1/BraTS19_2013_8_1_t1.nii.gz /naomi/DATA/MICCAI_BraTS_2019_Data_Training/LGG/BraTS19_2013_8_1/BraTS19_2013_8_1_t1_nb4.nii.gz\n",
      "/naomi/DATA/MICCAI_BraTS_2019_Data_Training/LGG/BraTS19_TCIA09_255_1/BraTS19_TCIA09_255_1_t1.nii.gz /naomi/DATA/MICCAI_BraTS_2019_Data_Training/LGG/BraTS19_TCIA09_255_1/BraTS19_TCIA09_255_1_t1_nb4.nii.gz\n",
      "/naomi/DATA/MICCAI_BraTS_2019_Data_Training/LGG/BraTS19_TCIA09_255_1/BraTS19_TCIA09_255_1_t1ce.nii.gz /naomi/DATA/MICCAI_BraTS_2019_Data_Training/LGG/BraTS19_TCIA09_255_1/BraTS19_TCIA09_255_1_t1ce_nb4.nii.gz\n",
      "/naomi/DATA/MICCAI_BraTS_2019_Data_Training/LGG/BraTS19_TCIA12_470_1/BraTS19_TCIA12_470_1_t1ce.nii.gz /naomi/DATA/MICCAI_BraTS_2019_Data_Training/LGG/BraTS19_TCIA12_470_1/BraTS19_TCIA12_470_1_t1ce_nb4.nii.gz\n",
      "/naomi/DATA/MICCAI_BraTS_2019_Data_Training/LGG/BraTS19_TCIA12_470_1/BraTS19_TCIA12_470_1_t1.nii.gz /naomi/DATA/MICCAI_BraTS_2019_Data_Training/LGG/BraTS19_TCIA12_470_1/BraTS19_TCIA12_470_1_t1_nb4.nii.gz\n",
      "/naomi/DATA/MICCAI_BraTS_2019_Data_Training/LGG/BraTS19_TCIA10_346_1/BraTS19_TCIA10_346_1_t1ce.nii.gz /naomi/DATA/MICCAI_BraTS_2019_Data_Training/LGG/BraTS19_TCIA10_346_1/BraTS19_TCIA10_346_1_t1ce_nb4.nii.gz\n",
      "/naomi/DATA/MICCAI_BraTS_2019_Data_Training/LGG/BraTS19_TCIA10_346_1/BraTS19_TCIA10_346_1_t1.nii.gz /naomi/DATA/MICCAI_BraTS_2019_Data_Training/LGG/BraTS19_TCIA10_346_1/BraTS19_TCIA10_346_1_t1_nb4.nii.gz\n",
      "/naomi/DATA/MICCAI_BraTS_2019_Data_Training/LGG/BraTS19_TCIA09_312_1/BraTS19_TCIA09_312_1_t1ce.nii.gz /naomi/DATA/MICCAI_BraTS_2019_Data_Training/LGG/BraTS19_TCIA09_312_1/BraTS19_TCIA09_312_1_t1ce_nb4.nii.gz\n",
      "/naomi/DATA/MICCAI_BraTS_2019_Data_Training/LGG/BraTS19_TCIA09_312_1/BraTS19_TCIA09_312_1_t1.nii.gz /naomi/DATA/MICCAI_BraTS_2019_Data_Training/LGG/BraTS19_TCIA09_312_1/BraTS19_TCIA09_312_1_t1_nb4.nii.gz\n",
      "/naomi/DATA/MICCAI_BraTS_2019_Data_Training/LGG/BraTS19_TCIA10_408_1/BraTS19_TCIA10_408_1_t1.nii.gz /naomi/DATA/MICCAI_BraTS_2019_Data_Training/LGG/BraTS19_TCIA10_408_1/BraTS19_TCIA10_408_1_t1_nb4.nii.gz\n",
      "/naomi/DATA/MICCAI_BraTS_2019_Data_Training/LGG/BraTS19_TCIA10_408_1/BraTS19_TCIA10_408_1_t1ce.nii.gz /naomi/DATA/MICCAI_BraTS_2019_Data_Training/LGG/BraTS19_TCIA10_408_1/BraTS19_TCIA10_408_1_t1ce_nb4.nii.gz\n",
      "/naomi/DATA/MICCAI_BraTS_2019_Data_Training/LGG/BraTS19_TCIA09_620_1/BraTS19_TCIA09_620_1_t1ce.nii.gz /naomi/DATA/MICCAI_BraTS_2019_Data_Training/LGG/BraTS19_TCIA09_620_1/BraTS19_TCIA09_620_1_t1ce_nb4.nii.gz\n",
      "/naomi/DATA/MICCAI_BraTS_2019_Data_Training/LGG/BraTS19_TCIA09_620_1/BraTS19_TCIA09_620_1_t1.nii.gz /naomi/DATA/MICCAI_BraTS_2019_Data_Training/LGG/BraTS19_TCIA09_620_1/BraTS19_TCIA09_620_1_t1_nb4.nii.gz\n",
      "/naomi/DATA/MICCAI_BraTS_2019_Data_Training/LGG/BraTS19_TCIA13_650_1/BraTS19_TCIA13_650_1_t1ce.nii.gz /naomi/DATA/MICCAI_BraTS_2019_Data_Training/LGG/BraTS19_TCIA13_650_1/BraTS19_TCIA13_650_1_t1ce_nb4.nii.gz\n",
      "/naomi/DATA/MICCAI_BraTS_2019_Data_Training/LGG/BraTS19_TCIA13_650_1/BraTS19_TCIA13_650_1_t1.nii.gz /naomi/DATA/MICCAI_BraTS_2019_Data_Training/LGG/BraTS19_TCIA13_650_1/BraTS19_TCIA13_650_1_t1_nb4.nii.gz\n",
      "/naomi/DATA/MICCAI_BraTS_2019_Data_Training/LGG/BraTS19_TCIA10_276_1/BraTS19_TCIA10_276_1_t1.nii.gz /naomi/DATA/MICCAI_BraTS_2019_Data_Training/LGG/BraTS19_TCIA10_276_1/BraTS19_TCIA10_276_1_t1_nb4.nii.gz\n",
      "/naomi/DATA/MICCAI_BraTS_2019_Data_Training/LGG/BraTS19_TCIA10_276_1/BraTS19_TCIA10_276_1_t1ce.nii.gz /naomi/DATA/MICCAI_BraTS_2019_Data_Training/LGG/BraTS19_TCIA10_276_1/BraTS19_TCIA10_276_1_t1ce_nb4.nii.gz\n",
      "/naomi/DATA/MICCAI_BraTS_2019_Data_Training/LGG/BraTS19_TCIA10_420_1/BraTS19_TCIA10_420_1_t1ce.nii.gz /naomi/DATA/MICCAI_BraTS_2019_Data_Training/LGG/BraTS19_TCIA10_420_1/BraTS19_TCIA10_420_1_t1ce_nb4.nii.gz\n",
      "/naomi/DATA/MICCAI_BraTS_2019_Data_Training/LGG/BraTS19_TCIA10_420_1/BraTS19_TCIA10_420_1_t1.nii.gz /naomi/DATA/MICCAI_BraTS_2019_Data_Training/LGG/BraTS19_TCIA10_420_1/BraTS19_TCIA10_420_1_t1_nb4.nii.gz\n",
      "/naomi/DATA/MICCAI_BraTS_2019_Data_Training/LGG/BraTS19_TCIA10_299_1/BraTS19_TCIA10_299_1_t1.nii.gz /naomi/DATA/MICCAI_BraTS_2019_Data_Training/LGG/BraTS19_TCIA10_299_1/BraTS19_TCIA10_299_1_t1_nb4.nii.gz\n",
      "/naomi/DATA/MICCAI_BraTS_2019_Data_Training/LGG/BraTS19_TCIA10_299_1/BraTS19_TCIA10_299_1_t1ce.nii.gz /naomi/DATA/MICCAI_BraTS_2019_Data_Training/LGG/BraTS19_TCIA10_299_1/BraTS19_TCIA10_299_1_t1ce_nb4.nii.gz\n",
      "/naomi/DATA/MICCAI_BraTS_2019_Data_Training/LGG/BraTS19_TCIA10_639_1/BraTS19_TCIA10_639_1_t1.nii.gz /naomi/DATA/MICCAI_BraTS_2019_Data_Training/LGG/BraTS19_TCIA10_639_1/BraTS19_TCIA10_639_1_t1_nb4.nii.gz\n",
      "/naomi/DATA/MICCAI_BraTS_2019_Data_Training/LGG/BraTS19_TCIA10_639_1/BraTS19_TCIA10_639_1_t1ce.nii.gz /naomi/DATA/MICCAI_BraTS_2019_Data_Training/LGG/BraTS19_TCIA10_639_1/BraTS19_TCIA10_639_1_t1ce_nb4.nii.gz\n",
      "/naomi/DATA/MICCAI_BraTS_2019_Data_Training/LGG/BraTS19_TCIA10_202_1/BraTS19_TCIA10_202_1_t1.nii.gz /naomi/DATA/MICCAI_BraTS_2019_Data_Training/LGG/BraTS19_TCIA10_202_1/BraTS19_TCIA10_202_1_t1_nb4.nii.gz\n",
      "/naomi/DATA/MICCAI_BraTS_2019_Data_Training/LGG/BraTS19_TCIA10_202_1/BraTS19_TCIA10_202_1_t1ce.nii.gz /naomi/DATA/MICCAI_BraTS_2019_Data_Training/LGG/BraTS19_TCIA10_202_1/BraTS19_TCIA10_202_1_t1ce_nb4.nii.gz\n",
      "/naomi/DATA/MICCAI_BraTS_2019_Data_Training/LGG/BraTS19_TCIA10_152_1/BraTS19_TCIA10_152_1_t1.nii.gz /naomi/DATA/MICCAI_BraTS_2019_Data_Training/LGG/BraTS19_TCIA10_152_1/BraTS19_TCIA10_152_1_t1_nb4.nii.gz\n",
      "/naomi/DATA/MICCAI_BraTS_2019_Data_Training/LGG/BraTS19_TCIA10_152_1/BraTS19_TCIA10_152_1_t1ce.nii.gz /naomi/DATA/MICCAI_BraTS_2019_Data_Training/LGG/BraTS19_TCIA10_152_1/BraTS19_TCIA10_152_1_t1ce_nb4.nii.gz\n",
      "/naomi/DATA/MICCAI_BraTS_2019_Data_Training/LGG/BraTS19_TCIA09_402_1/BraTS19_TCIA09_402_1_t1.nii.gz /naomi/DATA/MICCAI_BraTS_2019_Data_Training/LGG/BraTS19_TCIA09_402_1/BraTS19_TCIA09_402_1_t1_nb4.nii.gz\n",
      "/naomi/DATA/MICCAI_BraTS_2019_Data_Training/LGG/BraTS19_TCIA09_402_1/BraTS19_TCIA09_402_1_t1ce.nii.gz /naomi/DATA/MICCAI_BraTS_2019_Data_Training/LGG/BraTS19_TCIA09_402_1/BraTS19_TCIA09_402_1_t1ce_nb4.nii.gz\n",
      "/naomi/DATA/MICCAI_BraTS_2019_Data_Training/LGG/BraTS19_TCIA13_642_1/BraTS19_TCIA13_642_1_t1ce.nii.gz /naomi/DATA/MICCAI_BraTS_2019_Data_Training/LGG/BraTS19_TCIA13_642_1/BraTS19_TCIA13_642_1_t1ce_nb4.nii.gz\n",
      "/naomi/DATA/MICCAI_BraTS_2019_Data_Training/LGG/BraTS19_TCIA13_642_1/BraTS19_TCIA13_642_1_t1.nii.gz /naomi/DATA/MICCAI_BraTS_2019_Data_Training/LGG/BraTS19_TCIA13_642_1/BraTS19_TCIA13_642_1_t1_nb4.nii.gz\n",
      "/naomi/DATA/MICCAI_BraTS_2019_Data_Training/LGG/BraTS19_TCIA10_325_1/BraTS19_TCIA10_325_1_t1ce.nii.gz /naomi/DATA/MICCAI_BraTS_2019_Data_Training/LGG/BraTS19_TCIA10_325_1/BraTS19_TCIA10_325_1_t1ce_nb4.nii.gz\n",
      "/naomi/DATA/MICCAI_BraTS_2019_Data_Training/LGG/BraTS19_TCIA10_325_1/BraTS19_TCIA10_325_1_t1.nii.gz /naomi/DATA/MICCAI_BraTS_2019_Data_Training/LGG/BraTS19_TCIA10_325_1/BraTS19_TCIA10_325_1_t1_nb4.nii.gz\n",
      "/naomi/DATA/MICCAI_BraTS_2019_Data_Training/LGG/BraTS19_TCIA10_261_1/BraTS19_TCIA10_261_1_t1ce.nii.gz /naomi/DATA/MICCAI_BraTS_2019_Data_Training/LGG/BraTS19_TCIA10_261_1/BraTS19_TCIA10_261_1_t1ce_nb4.nii.gz\n",
      "/naomi/DATA/MICCAI_BraTS_2019_Data_Training/LGG/BraTS19_TCIA10_261_1/BraTS19_TCIA10_261_1_t1.nii.gz /naomi/DATA/MICCAI_BraTS_2019_Data_Training/LGG/BraTS19_TCIA10_261_1/BraTS19_TCIA10_261_1_t1_nb4.nii.gz\n",
      "/naomi/DATA/MICCAI_BraTS_2019_Data_Training/LGG/BraTS19_TCIA09_177_1/BraTS19_TCIA09_177_1_t1ce.nii.gz /naomi/DATA/MICCAI_BraTS_2019_Data_Training/LGG/BraTS19_TCIA09_177_1/BraTS19_TCIA09_177_1_t1ce_nb4.nii.gz\n",
      "/naomi/DATA/MICCAI_BraTS_2019_Data_Training/LGG/BraTS19_TCIA09_177_1/BraTS19_TCIA09_177_1_t1.nii.gz /naomi/DATA/MICCAI_BraTS_2019_Data_Training/LGG/BraTS19_TCIA09_177_1/BraTS19_TCIA09_177_1_t1_nb4.nii.gz\n"
     ]
    },
    {
     "name": "stdout",
     "output_type": "stream",
     "text": [
      "/naomi/DATA/MICCAI_BraTS_2019_Data_Training/LGG/BraTS19_TCIA10_410_1/BraTS19_TCIA10_410_1_t1ce.nii.gz /naomi/DATA/MICCAI_BraTS_2019_Data_Training/LGG/BraTS19_TCIA10_410_1/BraTS19_TCIA10_410_1_t1ce_nb4.nii.gz\n",
      "/naomi/DATA/MICCAI_BraTS_2019_Data_Training/LGG/BraTS19_TCIA10_410_1/BraTS19_TCIA10_410_1_t1.nii.gz /naomi/DATA/MICCAI_BraTS_2019_Data_Training/LGG/BraTS19_TCIA10_410_1/BraTS19_TCIA10_410_1_t1_nb4.nii.gz\n",
      "/naomi/DATA/MICCAI_BraTS_2019_Data_Training/LGG/BraTS19_TCIA10_393_1/BraTS19_TCIA10_393_1_t1.nii.gz /naomi/DATA/MICCAI_BraTS_2019_Data_Training/LGG/BraTS19_TCIA10_393_1/BraTS19_TCIA10_393_1_t1_nb4.nii.gz\n",
      "/naomi/DATA/MICCAI_BraTS_2019_Data_Training/LGG/BraTS19_TCIA10_393_1/BraTS19_TCIA10_393_1_t1ce.nii.gz /naomi/DATA/MICCAI_BraTS_2019_Data_Training/LGG/BraTS19_TCIA10_393_1/BraTS19_TCIA10_393_1_t1ce_nb4.nii.gz\n",
      "/naomi/DATA/MICCAI_BraTS_2019_Data_Training/LGG/BraTS19_TCIA09_462_1/BraTS19_TCIA09_462_1_t1.nii.gz /naomi/DATA/MICCAI_BraTS_2019_Data_Training/LGG/BraTS19_TCIA09_462_1/BraTS19_TCIA09_462_1_t1_nb4.nii.gz\n",
      "/naomi/DATA/MICCAI_BraTS_2019_Data_Training/LGG/BraTS19_TCIA09_462_1/BraTS19_TCIA09_462_1_t1ce.nii.gz /naomi/DATA/MICCAI_BraTS_2019_Data_Training/LGG/BraTS19_TCIA09_462_1/BraTS19_TCIA09_462_1_t1ce_nb4.nii.gz\n",
      "/naomi/DATA/MICCAI_BraTS_2019_Data_Training/LGG/BraTS19_TCIA10_490_1/BraTS19_TCIA10_490_1_t1.nii.gz /naomi/DATA/MICCAI_BraTS_2019_Data_Training/LGG/BraTS19_TCIA10_490_1/BraTS19_TCIA10_490_1_t1_nb4.nii.gz\n",
      "/naomi/DATA/MICCAI_BraTS_2019_Data_Training/LGG/BraTS19_TCIA10_490_1/BraTS19_TCIA10_490_1_t1ce.nii.gz /naomi/DATA/MICCAI_BraTS_2019_Data_Training/LGG/BraTS19_TCIA10_490_1/BraTS19_TCIA10_490_1_t1ce_nb4.nii.gz\n",
      "/naomi/DATA/MICCAI_BraTS_2019_Data_Training/LGG/BraTS19_TCIA10_637_1/BraTS19_TCIA10_637_1_t1.nii.gz /naomi/DATA/MICCAI_BraTS_2019_Data_Training/LGG/BraTS19_TCIA10_637_1/BraTS19_TCIA10_637_1_t1_nb4.nii.gz\n",
      "/naomi/DATA/MICCAI_BraTS_2019_Data_Training/LGG/BraTS19_TCIA10_637_1/BraTS19_TCIA10_637_1_t1ce.nii.gz /naomi/DATA/MICCAI_BraTS_2019_Data_Training/LGG/BraTS19_TCIA10_637_1/BraTS19_TCIA10_637_1_t1ce_nb4.nii.gz\n",
      "/naomi/DATA/MICCAI_BraTS_2019_Data_Training/LGG/BraTS19_TCIA10_629_1/BraTS19_TCIA10_629_1_t1ce.nii.gz /naomi/DATA/MICCAI_BraTS_2019_Data_Training/LGG/BraTS19_TCIA10_629_1/BraTS19_TCIA10_629_1_t1ce_nb4.nii.gz\n",
      "/naomi/DATA/MICCAI_BraTS_2019_Data_Training/LGG/BraTS19_TCIA10_629_1/BraTS19_TCIA10_629_1_t1.nii.gz /naomi/DATA/MICCAI_BraTS_2019_Data_Training/LGG/BraTS19_TCIA10_629_1/BraTS19_TCIA10_629_1_t1_nb4.nii.gz\n",
      "/naomi/DATA/MICCAI_BraTS_2019_Data_Training/LGG/BraTS19_TCIA10_109_1/BraTS19_TCIA10_109_1_t1.nii.gz /naomi/DATA/MICCAI_BraTS_2019_Data_Training/LGG/BraTS19_TCIA10_109_1/BraTS19_TCIA10_109_1_t1_nb4.nii.gz\n",
      "/naomi/DATA/MICCAI_BraTS_2019_Data_Training/LGG/BraTS19_TCIA10_109_1/BraTS19_TCIA10_109_1_t1ce.nii.gz /naomi/DATA/MICCAI_BraTS_2019_Data_Training/LGG/BraTS19_TCIA10_109_1/BraTS19_TCIA10_109_1_t1ce_nb4.nii.gz\n",
      "/naomi/DATA/MICCAI_BraTS_2019_Data_Training/LGG/BraTS19_TCIA10_266_1/BraTS19_TCIA10_266_1_t1ce.nii.gz /naomi/DATA/MICCAI_BraTS_2019_Data_Training/LGG/BraTS19_TCIA10_266_1/BraTS19_TCIA10_266_1_t1ce_nb4.nii.gz\n",
      "/naomi/DATA/MICCAI_BraTS_2019_Data_Training/LGG/BraTS19_TCIA10_266_1/BraTS19_TCIA10_266_1_t1.nii.gz /naomi/DATA/MICCAI_BraTS_2019_Data_Training/LGG/BraTS19_TCIA10_266_1/BraTS19_TCIA10_266_1_t1_nb4.nii.gz\n",
      "/naomi/DATA/MICCAI_BraTS_2019_Data_Training/LGG/BraTS19_TCIA13_633_1/BraTS19_TCIA13_633_1_t1ce.nii.gz /naomi/DATA/MICCAI_BraTS_2019_Data_Training/LGG/BraTS19_TCIA13_633_1/BraTS19_TCIA13_633_1_t1ce_nb4.nii.gz\n",
      "/naomi/DATA/MICCAI_BraTS_2019_Data_Training/LGG/BraTS19_TCIA13_633_1/BraTS19_TCIA13_633_1_t1.nii.gz /naomi/DATA/MICCAI_BraTS_2019_Data_Training/LGG/BraTS19_TCIA13_633_1/BraTS19_TCIA13_633_1_t1_nb4.nii.gz\n",
      "/naomi/DATA/MICCAI_BraTS_2019_Data_Training/LGG/BraTS19_TCIA13_624_1/BraTS19_TCIA13_624_1_t1.nii.gz /naomi/DATA/MICCAI_BraTS_2019_Data_Training/LGG/BraTS19_TCIA13_624_1/BraTS19_TCIA13_624_1_t1_nb4.nii.gz\n",
      "/naomi/DATA/MICCAI_BraTS_2019_Data_Training/LGG/BraTS19_TCIA13_624_1/BraTS19_TCIA13_624_1_t1ce.nii.gz /naomi/DATA/MICCAI_BraTS_2019_Data_Training/LGG/BraTS19_TCIA13_624_1/BraTS19_TCIA13_624_1_t1ce_nb4.nii.gz\n",
      "/naomi/DATA/MICCAI_BraTS_2019_Data_Training/LGG/BraTS19_TCIA09_451_1/BraTS19_TCIA09_451_1_t1ce.nii.gz /naomi/DATA/MICCAI_BraTS_2019_Data_Training/LGG/BraTS19_TCIA09_451_1/BraTS19_TCIA09_451_1_t1ce_nb4.nii.gz\n",
      "/naomi/DATA/MICCAI_BraTS_2019_Data_Training/LGG/BraTS19_TCIA09_451_1/BraTS19_TCIA09_451_1_t1.nii.gz /naomi/DATA/MICCAI_BraTS_2019_Data_Training/LGG/BraTS19_TCIA09_451_1/BraTS19_TCIA09_451_1_t1_nb4.nii.gz\n",
      "/naomi/DATA/MICCAI_BraTS_2019_Data_Training/LGG/BraTS19_TCIA10_628_1/BraTS19_TCIA10_628_1_t1.nii.gz /naomi/DATA/MICCAI_BraTS_2019_Data_Training/LGG/BraTS19_TCIA10_628_1/BraTS19_TCIA10_628_1_t1_nb4.nii.gz\n",
      "/naomi/DATA/MICCAI_BraTS_2019_Data_Training/LGG/BraTS19_TCIA10_628_1/BraTS19_TCIA10_628_1_t1ce.nii.gz /naomi/DATA/MICCAI_BraTS_2019_Data_Training/LGG/BraTS19_TCIA10_628_1/BraTS19_TCIA10_628_1_t1ce_nb4.nii.gz\n",
      "/naomi/DATA/MICCAI_BraTS_2019_Data_Training/LGG/BraTS19_2013_16_1/BraTS19_2013_16_1_t1.nii.gz /naomi/DATA/MICCAI_BraTS_2019_Data_Training/LGG/BraTS19_2013_16_1/BraTS19_2013_16_1_t1_nb4.nii.gz\n",
      "/naomi/DATA/MICCAI_BraTS_2019_Data_Training/LGG/BraTS19_2013_16_1/BraTS19_2013_16_1_t1ce.nii.gz /naomi/DATA/MICCAI_BraTS_2019_Data_Training/LGG/BraTS19_2013_16_1/BraTS19_2013_16_1_t1ce_nb4.nii.gz\n",
      "/naomi/DATA/MICCAI_BraTS_2019_Data_Training/LGG/BraTS19_TCIA12_101_1/BraTS19_TCIA12_101_1_t1.nii.gz /naomi/DATA/MICCAI_BraTS_2019_Data_Training/LGG/BraTS19_TCIA12_101_1/BraTS19_TCIA12_101_1_t1_nb4.nii.gz\n",
      "/naomi/DATA/MICCAI_BraTS_2019_Data_Training/LGG/BraTS19_TCIA12_101_1/BraTS19_TCIA12_101_1_t1ce.nii.gz /naomi/DATA/MICCAI_BraTS_2019_Data_Training/LGG/BraTS19_TCIA12_101_1/BraTS19_TCIA12_101_1_t1ce_nb4.nii.gz\n",
      "/naomi/DATA/MICCAI_BraTS_2019_Data_Training/LGG/BraTS19_TCIA10_632_1/BraTS19_TCIA10_632_1_t1ce.nii.gz /naomi/DATA/MICCAI_BraTS_2019_Data_Training/LGG/BraTS19_TCIA10_632_1/BraTS19_TCIA10_632_1_t1ce_nb4.nii.gz\n",
      "/naomi/DATA/MICCAI_BraTS_2019_Data_Training/LGG/BraTS19_TCIA10_632_1/BraTS19_TCIA10_632_1_t1.nii.gz /naomi/DATA/MICCAI_BraTS_2019_Data_Training/LGG/BraTS19_TCIA10_632_1/BraTS19_TCIA10_632_1_t1_nb4.nii.gz\n",
      "/naomi/DATA/MICCAI_BraTS_2019_Data_Training/LGG/BraTS19_TCIA12_298_1/BraTS19_TCIA12_298_1_t1ce.nii.gz /naomi/DATA/MICCAI_BraTS_2019_Data_Training/LGG/BraTS19_TCIA12_298_1/BraTS19_TCIA12_298_1_t1ce_nb4.nii.gz\n",
      "/naomi/DATA/MICCAI_BraTS_2019_Data_Training/LGG/BraTS19_TCIA12_298_1/BraTS19_TCIA12_298_1_t1.nii.gz /naomi/DATA/MICCAI_BraTS_2019_Data_Training/LGG/BraTS19_TCIA12_298_1/BraTS19_TCIA12_298_1_t1_nb4.nii.gz\n",
      "/naomi/DATA/MICCAI_BraTS_2019_Data_Training/LGG/BraTS19_TCIA13_623_1/BraTS19_TCIA13_623_1_t1ce.nii.gz /naomi/DATA/MICCAI_BraTS_2019_Data_Training/LGG/BraTS19_TCIA13_623_1/BraTS19_TCIA13_623_1_t1ce_nb4.nii.gz\n",
      "/naomi/DATA/MICCAI_BraTS_2019_Data_Training/LGG/BraTS19_TCIA13_623_1/BraTS19_TCIA13_623_1_t1.nii.gz /naomi/DATA/MICCAI_BraTS_2019_Data_Training/LGG/BraTS19_TCIA13_623_1/BraTS19_TCIA13_623_1_t1_nb4.nii.gz\n",
      "/naomi/DATA/MICCAI_BraTS_2019_Data_Training/LGG/BraTS19_2013_24_1/BraTS19_2013_24_1_t1ce.nii.gz /naomi/DATA/MICCAI_BraTS_2019_Data_Training/LGG/BraTS19_2013_24_1/BraTS19_2013_24_1_t1ce_nb4.nii.gz\n",
      "/naomi/DATA/MICCAI_BraTS_2019_Data_Training/LGG/BraTS19_2013_24_1/BraTS19_2013_24_1_t1.nii.gz /naomi/DATA/MICCAI_BraTS_2019_Data_Training/LGG/BraTS19_2013_24_1/BraTS19_2013_24_1_t1_nb4.nii.gz\n",
      "/naomi/DATA/MICCAI_BraTS_2019_Data_Training/LGG/BraTS19_TCIA13_618_1/BraTS19_TCIA13_618_1_t1.nii.gz /naomi/DATA/MICCAI_BraTS_2019_Data_Training/LGG/BraTS19_TCIA13_618_1/BraTS19_TCIA13_618_1_t1_nb4.nii.gz\n",
      "/naomi/DATA/MICCAI_BraTS_2019_Data_Training/LGG/BraTS19_TCIA13_618_1/BraTS19_TCIA13_618_1_t1ce.nii.gz /naomi/DATA/MICCAI_BraTS_2019_Data_Training/LGG/BraTS19_TCIA13_618_1/BraTS19_TCIA13_618_1_t1ce_nb4.nii.gz\n",
      "/naomi/DATA/MICCAI_BraTS_2019_Data_Training/LGG/BraTS19_2013_1_1/BraTS19_2013_1_1_t1.nii.gz /naomi/DATA/MICCAI_BraTS_2019_Data_Training/LGG/BraTS19_2013_1_1/BraTS19_2013_1_1_t1_nb4.nii.gz\n",
      "/naomi/DATA/MICCAI_BraTS_2019_Data_Training/LGG/BraTS19_2013_1_1/BraTS19_2013_1_1_t1ce.nii.gz /naomi/DATA/MICCAI_BraTS_2019_Data_Training/LGG/BraTS19_2013_1_1/BraTS19_2013_1_1_t1ce_nb4.nii.gz\n",
      "/naomi/DATA/MICCAI_BraTS_2019_Data_Training/LGG/BraTS19_2013_0_1/BraTS19_2013_0_1_t1ce.nii.gz /naomi/DATA/MICCAI_BraTS_2019_Data_Training/LGG/BraTS19_2013_0_1/BraTS19_2013_0_1_t1ce_nb4.nii.gz\n"
     ]
    },
    {
     "name": "stdout",
     "output_type": "stream",
     "text": [
      "/naomi/DATA/MICCAI_BraTS_2019_Data_Training/LGG/BraTS19_2013_0_1/BraTS19_2013_0_1_t1.nii.gz /naomi/DATA/MICCAI_BraTS_2019_Data_Training/LGG/BraTS19_2013_0_1/BraTS19_2013_0_1_t1_nb4.nii.gz\n",
      "/naomi/DATA/MICCAI_BraTS_2019_Data_Training/LGG/BraTS19_2013_29_1/BraTS19_2013_29_1_t1ce.nii.gz /naomi/DATA/MICCAI_BraTS_2019_Data_Training/LGG/BraTS19_2013_29_1/BraTS19_2013_29_1_t1ce_nb4.nii.gz\n",
      "/naomi/DATA/MICCAI_BraTS_2019_Data_Training/LGG/BraTS19_2013_29_1/BraTS19_2013_29_1_t1.nii.gz /naomi/DATA/MICCAI_BraTS_2019_Data_Training/LGG/BraTS19_2013_29_1/BraTS19_2013_29_1_t1_nb4.nii.gz\n",
      "/naomi/DATA/MICCAI_BraTS_2019_Data_Training/LGG/BraTS19_TCIA12_480_1/BraTS19_TCIA12_480_1_t1ce.nii.gz /naomi/DATA/MICCAI_BraTS_2019_Data_Training/LGG/BraTS19_TCIA12_480_1/BraTS19_TCIA12_480_1_t1ce_nb4.nii.gz\n",
      "/naomi/DATA/MICCAI_BraTS_2019_Data_Training/LGG/BraTS19_TCIA12_480_1/BraTS19_TCIA12_480_1_t1.nii.gz /naomi/DATA/MICCAI_BraTS_2019_Data_Training/LGG/BraTS19_TCIA12_480_1/BraTS19_TCIA12_480_1_t1_nb4.nii.gz\n",
      "/naomi/DATA/MICCAI_BraTS_2019_Data_Training/LGG/BraTS19_TCIA10_307_1/BraTS19_TCIA10_307_1_t1ce.nii.gz /naomi/DATA/MICCAI_BraTS_2019_Data_Training/LGG/BraTS19_TCIA10_307_1/BraTS19_TCIA10_307_1_t1ce_nb4.nii.gz\n",
      "/naomi/DATA/MICCAI_BraTS_2019_Data_Training/LGG/BraTS19_TCIA10_307_1/BraTS19_TCIA10_307_1_t1.nii.gz /naomi/DATA/MICCAI_BraTS_2019_Data_Training/LGG/BraTS19_TCIA10_307_1/BraTS19_TCIA10_307_1_t1_nb4.nii.gz\n",
      "/naomi/DATA/MICCAI_BraTS_2019_Data_Training/LGG/BraTS19_TCIA12_466_1/BraTS19_TCIA12_466_1_t1ce.nii.gz /naomi/DATA/MICCAI_BraTS_2019_Data_Training/LGG/BraTS19_TCIA12_466_1/BraTS19_TCIA12_466_1_t1ce_nb4.nii.gz\n",
      "/naomi/DATA/MICCAI_BraTS_2019_Data_Training/LGG/BraTS19_TCIA12_466_1/BraTS19_TCIA12_466_1_t1.nii.gz /naomi/DATA/MICCAI_BraTS_2019_Data_Training/LGG/BraTS19_TCIA12_466_1/BraTS19_TCIA12_466_1_t1_nb4.nii.gz\n",
      "/naomi/DATA/MICCAI_BraTS_2019_Data_Training/LGG/BraTS19_TCIA10_282_1/BraTS19_TCIA10_282_1_t1.nii.gz /naomi/DATA/MICCAI_BraTS_2019_Data_Training/LGG/BraTS19_TCIA10_282_1/BraTS19_TCIA10_282_1_t1_nb4.nii.gz\n",
      "/naomi/DATA/MICCAI_BraTS_2019_Data_Training/LGG/BraTS19_TCIA10_282_1/BraTS19_TCIA10_282_1_t1ce.nii.gz /naomi/DATA/MICCAI_BraTS_2019_Data_Training/LGG/BraTS19_TCIA10_282_1/BraTS19_TCIA10_282_1_t1ce_nb4.nii.gz\n",
      "/naomi/DATA/MICCAI_BraTS_2019_Data_Training/LGG/BraTS19_TCIA10_442_1/BraTS19_TCIA10_442_1_t1.nii.gz /naomi/DATA/MICCAI_BraTS_2019_Data_Training/LGG/BraTS19_TCIA10_442_1/BraTS19_TCIA10_442_1_t1_nb4.nii.gz\n",
      "/naomi/DATA/MICCAI_BraTS_2019_Data_Training/LGG/BraTS19_TCIA10_442_1/BraTS19_TCIA10_442_1_t1ce.nii.gz /naomi/DATA/MICCAI_BraTS_2019_Data_Training/LGG/BraTS19_TCIA10_442_1/BraTS19_TCIA10_442_1_t1ce_nb4.nii.gz\n",
      "/naomi/DATA/MICCAI_BraTS_2019_Data_Training/LGG/BraTS19_2013_9_1/BraTS19_2013_9_1_t1.nii.gz /naomi/DATA/MICCAI_BraTS_2019_Data_Training/LGG/BraTS19_2013_9_1/BraTS19_2013_9_1_t1_nb4.nii.gz\n",
      "/naomi/DATA/MICCAI_BraTS_2019_Data_Training/LGG/BraTS19_2013_9_1/BraTS19_2013_9_1_t1ce.nii.gz /naomi/DATA/MICCAI_BraTS_2019_Data_Training/LGG/BraTS19_2013_9_1/BraTS19_2013_9_1_t1ce_nb4.nii.gz\n",
      "/naomi/DATA/MICCAI_BraTS_2019_Data_Training/LGG/BraTS19_TCIA10_310_1/BraTS19_TCIA10_310_1_t1.nii.gz /naomi/DATA/MICCAI_BraTS_2019_Data_Training/LGG/BraTS19_TCIA10_310_1/BraTS19_TCIA10_310_1_t1_nb4.nii.gz\n",
      "/naomi/DATA/MICCAI_BraTS_2019_Data_Training/LGG/BraTS19_TCIA10_310_1/BraTS19_TCIA10_310_1_t1ce.nii.gz /naomi/DATA/MICCAI_BraTS_2019_Data_Training/LGG/BraTS19_TCIA10_310_1/BraTS19_TCIA10_310_1_t1ce_nb4.nii.gz\n",
      "/naomi/DATA/MICCAI_BraTS_2019_Data_Training/LGG/BraTS19_TCIA10_625_1/BraTS19_TCIA10_625_1_t1.nii.gz /naomi/DATA/MICCAI_BraTS_2019_Data_Training/LGG/BraTS19_TCIA10_625_1/BraTS19_TCIA10_625_1_t1_nb4.nii.gz\n",
      "/naomi/DATA/MICCAI_BraTS_2019_Data_Training/LGG/BraTS19_TCIA10_625_1/BraTS19_TCIA10_625_1_t1ce.nii.gz /naomi/DATA/MICCAI_BraTS_2019_Data_Training/LGG/BraTS19_TCIA10_625_1/BraTS19_TCIA10_625_1_t1ce_nb4.nii.gz\n",
      "/naomi/DATA/MICCAI_BraTS_2019_Data_Training/LGG/BraTS19_TMC_09043_1/BraTS19_TMC_09043_1_t1ce.nii.gz /naomi/DATA/MICCAI_BraTS_2019_Data_Training/LGG/BraTS19_TMC_09043_1/BraTS19_TMC_09043_1_t1ce_nb4.nii.gz\n",
      "/naomi/DATA/MICCAI_BraTS_2019_Data_Training/LGG/BraTS19_TMC_09043_1/BraTS19_TMC_09043_1_t1.nii.gz /naomi/DATA/MICCAI_BraTS_2019_Data_Training/LGG/BraTS19_TMC_09043_1/BraTS19_TMC_09043_1_t1_nb4.nii.gz\n",
      "/naomi/DATA/MICCAI_BraTS_2019_Data_Training/LGG/BraTS19_TCIA10_640_1/BraTS19_TCIA10_640_1_t1ce.nii.gz /naomi/DATA/MICCAI_BraTS_2019_Data_Training/LGG/BraTS19_TCIA10_640_1/BraTS19_TCIA10_640_1_t1ce_nb4.nii.gz\n",
      "/naomi/DATA/MICCAI_BraTS_2019_Data_Training/LGG/BraTS19_TCIA10_640_1/BraTS19_TCIA10_640_1_t1.nii.gz /naomi/DATA/MICCAI_BraTS_2019_Data_Training/LGG/BraTS19_TCIA10_640_1/BraTS19_TCIA10_640_1_t1_nb4.nii.gz\n",
      "/naomi/DATA/MICCAI_BraTS_2019_Data_Training/LGG/BraTS19_TCIA13_630_1/BraTS19_TCIA13_630_1_t1.nii.gz /naomi/DATA/MICCAI_BraTS_2019_Data_Training/LGG/BraTS19_TCIA13_630_1/BraTS19_TCIA13_630_1_t1_nb4.nii.gz\n",
      "/naomi/DATA/MICCAI_BraTS_2019_Data_Training/LGG/BraTS19_TCIA13_630_1/BraTS19_TCIA13_630_1_t1ce.nii.gz /naomi/DATA/MICCAI_BraTS_2019_Data_Training/LGG/BraTS19_TCIA13_630_1/BraTS19_TCIA13_630_1_t1ce_nb4.nii.gz\n",
      "/naomi/DATA/MICCAI_BraTS_2019_Data_Training/LGG/BraTS19_TCIA09_428_1/BraTS19_TCIA09_428_1_t1.nii.gz /naomi/DATA/MICCAI_BraTS_2019_Data_Training/LGG/BraTS19_TCIA09_428_1/BraTS19_TCIA09_428_1_t1_nb4.nii.gz\n",
      "/naomi/DATA/MICCAI_BraTS_2019_Data_Training/LGG/BraTS19_TCIA09_428_1/BraTS19_TCIA09_428_1_t1ce.nii.gz /naomi/DATA/MICCAI_BraTS_2019_Data_Training/LGG/BraTS19_TCIA09_428_1/BraTS19_TCIA09_428_1_t1ce_nb4.nii.gz\n",
      "/naomi/DATA/MICCAI_BraTS_2019_Data_Training/LGG/BraTS19_TCIA10_175_1/BraTS19_TCIA10_175_1_t1.nii.gz /naomi/DATA/MICCAI_BraTS_2019_Data_Training/LGG/BraTS19_TCIA10_175_1/BraTS19_TCIA10_175_1_t1_nb4.nii.gz\n",
      "/naomi/DATA/MICCAI_BraTS_2019_Data_Training/LGG/BraTS19_TCIA10_175_1/BraTS19_TCIA10_175_1_t1ce.nii.gz /naomi/DATA/MICCAI_BraTS_2019_Data_Training/LGG/BraTS19_TCIA10_175_1/BraTS19_TCIA10_175_1_t1ce_nb4.nii.gz\n",
      "CPU times: user 2d 11h 24min 48s, sys: 47min 15s, total: 2d 12h 12min 3s\n",
      "Wall time: 16h 43min 29s\n"
     ]
    }
   ],
   "source": [
    "%%time\n",
    "\n",
    "for dirpath, dirnames, files in os.walk(input_path):\n",
    "\n",
    "    for file in files:\n",
    "        if ('_t1.' in file):\n",
    "            in_img = os.path.join(dirpath, file)\n",
    "            out_img = os.path.join(dirpath, file[:-9]+ 't1_nb4.nii.gz')\n",
    "            print(in_img, out_img)\n",
    "            if (not os.path.isfile(out_img)):\n",
    "                n4cor(in_img, out_img)\n",
    "        \n",
    "        if (T1CE in file):\n",
    "            in_img = os.path.join(dirpath, file)\n",
    "            out_img = os.path.join(dirpath,file[:-11]+ 't1ce_nb4.nii.gz')\n",
    "            print(in_img, out_img)\n",
    "            if (not os.path.isfile(out_img)):\n",
    "                n4cor(in_img, out_img)"
   ]
  },
  {
   "cell_type": "code",
   "execution_count": 7,
   "metadata": {},
   "outputs": [],
   "source": [
    "VALIDATION_DATA = '/naomi/DATA/MICCAI_BraTS_2019_Data_Validation/'"
   ]
  },
  {
   "cell_type": "code",
   "execution_count": null,
   "metadata": {},
   "outputs": [],
   "source": [
    "%%time\n",
    "\n",
    "for dirpath, dirnames, files in os.walk(VALIDATION_DATA):\n",
    "\n",
    "    for file in files:\n",
    "        if ('_t1.' in file):\n",
    "            in_img = os.path.join(dirpath, file)\n",
    "            out_img = os.path.join(dirpath, file[:-9]+ 't1_nb4.nii.gz')\n",
    "            if (not os.path.isfile(out_img)):\n",
    "                print(in_img, out_img)\n",
    "                n4cor(in_img, out_img)\n",
    "        \n",
    "        if (T1CE in file):\n",
    "            in_img = os.path.join(dirpath, file)\n",
    "            out_img = os.path.join(dirpath,file[:-11]+ 't1ce_nb4.nii.gz')\n",
    "            if (not os.path.isfile(out_img)):\n",
    "                print(in_img, out_img)\n",
    "                n4cor(in_img, out_img)"
   ]
  },
  {
   "cell_type": "code",
   "execution_count": null,
   "metadata": {},
   "outputs": [],
   "source": []
  }
 ],
 "metadata": {
  "kernelspec": {
   "display_name": "Python 3",
   "language": "python",
   "name": "python3"
  },
  "language_info": {
   "codemirror_mode": {
    "name": "ipython",
    "version": 3
   },
   "file_extension": ".py",
   "mimetype": "text/x-python",
   "name": "python",
   "nbconvert_exporter": "python",
   "pygments_lexer": "ipython3",
   "version": "3.6.8"
  }
 },
 "nbformat": 4,
 "nbformat_minor": 2
}
