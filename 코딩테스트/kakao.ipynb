{
 "cells": [
  {
   "cell_type": "markdown",
   "metadata": {},
   "source": [
    "# 1"
   ]
  },
  {
   "cell_type": "markdown",
   "metadata": {},
   "source": [
    "순서대로 눌러야 할 번호가 [1, 3, 4, 5, 8, 2, 1, 4, 5, 9, 5]이고, 오른손잡이입니다."
   ]
  },
  {
   "cell_type": "code",
   "execution_count": 1,
   "metadata": {},
   "outputs": [],
   "source": [
    "numbers=[1, 3, 4, 5, 8, 2, 1, 4, 5, 9, 5]"
   ]
  },
  {
   "cell_type": "code",
   "execution_count": 2,
   "metadata": {},
   "outputs": [
    {
     "data": {
      "text/plain": [
       "[1, 3, 4, 5, 8, 2, 1, 4, 5, 9, 5]"
      ]
     },
     "execution_count": 2,
     "metadata": {},
     "output_type": "execute_result"
    }
   ],
   "source": [
    "numbers"
   ]
  },
  {
   "cell_type": "code",
   "execution_count": 9,
   "metadata": {},
   "outputs": [],
   "source": [
    "def compare(left_num, right_num, mid_num):\n",
    "    \n",
    "    \n",
    "    distance_left= find_index(mid_num)[0]-find_index(left_num)[0]\n",
    "    distance_right=  find_index(right_num)[0]-find_index(mid_num)[0]\n",
    "    \n",
    "    if distance_left < distance_right :\n",
    "        return hand_right\n",
    "    elif distance_left > distance_right :\n",
    "        return hand_left\n",
    "    elif distance_left == distance_right :\n",
    "        return hand_left\n",
    "    \n",
    "#     elif distance_left = distance_right :\n",
    "#         왼손잡인지 오른손잡인지 확인 \n",
    "#         return 왼/오른손"
   ]
  },
  {
   "cell_type": "code",
   "execution_count": 10,
   "metadata": {},
   "outputs": [],
   "source": [
    "def find_index(num):\n",
    "    key =[[1,2,3],[4,5,6],[7,8,9],['*',0,'#']]\n",
    "    return [(ix+iy) for ix, row in enumerate(key) for iy, i in enumerate(row) if i ==num]"
   ]
  },
  {
   "cell_type": "code",
   "execution_count": 11,
   "metadata": {},
   "outputs": [
    {
     "data": {
      "text/plain": [
       "1"
      ]
     },
     "execution_count": 11,
     "metadata": {},
     "output_type": "execute_result"
    }
   ],
   "source": [
    "find_index(3)[0] -find_index(2)[0]"
   ]
  },
  {
   "cell_type": "code",
   "execution_count": 12,
   "metadata": {},
   "outputs": [],
   "source": [
    "hand_num=[]\n",
    "hand_left=[]\n",
    "hand_right=[]"
   ]
  },
  {
   "cell_type": "code",
   "execution_count": 16,
   "metadata": {},
   "outputs": [
    {
     "name": "stdout",
     "output_type": "stream",
     "text": [
      "['L', 'R', 'L', 'L', 'R', 'L', 'L', 'R', 'L', 'L', 'L', 'R']\n"
     ]
    }
   ],
   "source": [
    "for i in range(len(numbers)):\n",
    "    \n",
    "    if numbers[i] == 1 or numbers[i] == 4 or numbers[i] == 7:\n",
    "        hand_num.append(\"L\")\n",
    "        hand_left.append(numbers[i])\n",
    "    elif numbers[i] == 3 or numbers[i] == 6 or numbers[i] == 9:\n",
    "        hand_num.append(\"R\")\n",
    "        hand_right.append(numbers[i])\n",
    "    elif numbers[i] == 2 or numbers[i] == 5 or numbers[i] == 8 or numbers[i] == 0:\n",
    "        a=compare(hand_left[0], hand_right[0],numbers[0])\n",
    "        if a==1:\n",
    "            hand_num.append(\"R\")\n",
    "            hand_right.append(numbers[i])\n",
    "        elif a==2:\n",
    "            hand_num.append(\"L\")\n",
    "            hand_left.append(numbers[i])\n",
    "                  \n",
    "print(hand_num)"
   ]
  },
  {
   "cell_type": "code",
   "execution_count": 14,
   "metadata": {},
   "outputs": [],
   "source": [
    "\n",
    "# right =0\n",
    "# left=1\n",
    "# hand =0"
   ]
  },
  {
   "cell_type": "code",
   "execution_count": null,
   "metadata": {},
   "outputs": [],
   "source": []
  },
  {
   "cell_type": "code",
   "execution_count": null,
   "metadata": {},
   "outputs": [],
   "source": []
  },
  {
   "cell_type": "code",
   "execution_count": 96,
   "metadata": {},
   "outputs": [
    {
     "data": {
      "text/plain": [
       "[2]"
      ]
     },
     "execution_count": 96,
     "metadata": {},
     "output_type": "execute_result"
    }
   ],
   "source": [
    "find_index(3)"
   ]
  },
  {
   "cell_type": "code",
   "execution_count": 97,
   "metadata": {},
   "outputs": [
    {
     "data": {
      "text/plain": [
       "[4]"
      ]
     },
     "execution_count": 97,
     "metadata": {},
     "output_type": "execute_result"
    }
   ],
   "source": [
    "key =[[1,2,3],[4,5,6],[7,8,9],['*',0,'#']]\n",
    "[(ix+iy) for ix, row in enumerate(key) for iy, i in enumerate(row) if i == 0]"
   ]
  },
  {
   "cell_type": "code",
   "execution_count": null,
   "metadata": {},
   "outputs": [],
   "source": []
  },
  {
   "cell_type": "code",
   "execution_count": null,
   "metadata": {},
   "outputs": [],
   "source": []
  },
  {
   "cell_type": "code",
   "execution_count": null,
   "metadata": {},
   "outputs": [],
   "source": []
  },
  {
   "cell_type": "code",
   "execution_count": null,
   "metadata": {},
   "outputs": [],
   "source": []
  },
  {
   "cell_type": "code",
   "execution_count": null,
   "metadata": {},
   "outputs": [],
   "source": []
  },
  {
   "cell_type": "code",
   "execution_count": null,
   "metadata": {},
   "outputs": [],
   "source": []
  },
  {
   "cell_type": "code",
   "execution_count": null,
   "metadata": {},
   "outputs": [],
   "source": []
  },
  {
   "cell_type": "code",
   "execution_count": null,
   "metadata": {},
   "outputs": [],
   "source": []
  },
  {
   "cell_type": "markdown",
   "metadata": {},
   "source": [
    "# 4 "
   ]
  },
  {
   "cell_type": "code",
   "execution_count": 1,
   "metadata": {},
   "outputs": [
    {
     "name": "stdin",
     "output_type": "stream",
     "text": [
      " 5 5\n",
      " 00000\n",
      " 00110\n",
      " 10001\n",
      " 00100\n",
      " 00000\n"
     ]
    },
    {
     "name": "stdout",
     "output_type": "stream",
     "text": [
      "8\n",
      "800\n"
     ]
    }
   ],
   "source": [
    "from collections import deque\n",
    " \n",
    "# dx[0], dy[0] => 오른쪽\n",
    "# dx[1], dy[1] => 왼쪽\n",
    "# dx[2], dy[2] => 아래\n",
    "# dx[3], dy[3] => 위\n",
    "dx = [0, 0, 1, -1]\n",
    "dy = [1, -1, 0, 0]\n",
    " \n",
    "n, m = map(int, input().split())\n",
    "a = [list(map(int, list(input()))) for _ in range(n)]\n",
    "q = deque()\n",
    "check = [[False]*m for _ in range(n)]\n",
    "dist = [[0]*m for _ in range(n)]\n",
    " \n",
    "# 시작점\n",
    "q.append((0,0))\n",
    "check[0][0] = True\n",
    "dist[0][0] = 0\n",
    " \n",
    "while q:\n",
    "    x, y = q.popleft()\n",
    "    for k in range(4):\n",
    "        nx, ny = x+dx[k], y+dy[k]\n",
    "        if 0 <= nx < n and 0 <= ny < m:\n",
    "            if check[nx][ny] == False and a[nx][ny] == 0:\n",
    "                q.append((nx,ny))\n",
    "                dist[nx][ny] = dist[x][y] + 1\n",
    "                check[nx][ny] = True\n",
    " \n",
    "print(dist[n-1][m-1])\n",
    "\n",
    "\n",
    "price = dist[n-1][m-1]*100\n",
    "print(price)"
   ]
  }
 ],
 "metadata": {
  "kernelspec": {
   "display_name": "Python 3",
   "language": "python",
   "name": "python3"
  },
  "language_info": {
   "codemirror_mode": {
    "name": "ipython",
    "version": 3
   },
   "file_extension": ".py",
   "mimetype": "text/x-python",
   "name": "python",
   "nbconvert_exporter": "python",
   "pygments_lexer": "ipython3",
   "version": "3.6.10"
  }
 },
 "nbformat": 4,
 "nbformat_minor": 4
}
