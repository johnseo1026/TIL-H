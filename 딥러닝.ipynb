{
 "cells": [
  {
   "cell_type": "markdown",
   "metadata": {},
   "source": [
    "# TensorFlow 입문"
   ]
  },
  {
   "cell_type": "markdown",
   "metadata": {},
   "source": [
    "## TensorFlow 설치와 동작 확인하기"
   ]
  },
  {
   "cell_type": "code",
   "execution_count": 1,
   "metadata": {},
   "outputs": [
    {
     "name": "stdout",
     "output_type": "stream",
     "text": [
      "b'Hello'\n"
     ]
    }
   ],
   "source": [
    "import tensorflow as tf\n",
    "sess = tf.Session()\n",
    "hello = tf.constant('Hello')\n",
    "print(sess.run(hello))"
   ]
  },
  {
   "cell_type": "markdown",
   "metadata": {},
   "source": [
    "## TensorFlow 데이터 플로 그래프"
   ]
  },
  {
   "cell_type": "markdown",
   "metadata": {},
   "source": [
    "### 덧셈하는 데이터 플로 그래프"
   ]
  },
  {
   "cell_type": "code",
   "execution_count": 2,
   "metadata": {},
   "outputs": [
    {
     "name": "stdout",
     "output_type": "stream",
     "text": [
      "130\n"
     ]
    }
   ],
   "source": [
    "# TensorFlow 읽어들이기\n",
    "import tensorflow as tf\n",
    "\n",
    "# 상수 정의하기\n",
    "a = tf.constant(100)\n",
    "b = tf.constant(30)\n",
    "\n",
    "# 연산 정의하기\n",
    "add_op = a + b\n",
    "\n",
    "# 세션 시작하기\n",
    "sess = tf.Session()\n",
    "res = sess.run(add_op)  # 식 평가하기\n",
    "print(res)"
   ]
  },
  {
   "cell_type": "markdown",
   "metadata": {},
   "source": [
    "### 곱셈하는 데이터 플로 그래프"
   ]
  },
  {
   "cell_type": "code",
   "execution_count": 3,
   "metadata": {},
   "outputs": [
    {
     "name": "stdout",
     "output_type": "stream",
     "text": [
      "900\n"
     ]
    }
   ],
   "source": [
    "# TensorFlow 읽어들이기\n",
    "import tensorflow as tf\n",
    "\n",
    "# 상수 정의하기\n",
    "a = tf.constant(10)\n",
    "b = tf.constant(20)\n",
    "c = tf.constant(30)\n",
    "\n",
    "# 연산 정의하기\n",
    "mul_op = (a + b) * c\n",
    "\n",
    "# 세션 시작하기\n",
    "sess = tf.Session()\n",
    "res = sess.run(mul_op)  # 식 평가하기\n",
    "print(res)"
   ]
  },
  {
   "cell_type": "markdown",
   "metadata": {},
   "source": [
    "### 데이터 플로 그래프를 그림으로 확인하기"
   ]
  },
  {
   "cell_type": "code",
   "execution_count": 4,
   "metadata": {},
   "outputs": [
    {
     "name": "stdout",
     "output_type": "stream",
     "text": [
      "900\n"
     ]
    },
    {
     "data": {
      "text/plain": [
       "<tensorflow.python.summary.writer.writer.FileWriter at 0x2afc1e61c48>"
      ]
     },
     "execution_count": 4,
     "metadata": {},
     "output_type": "execute_result"
    }
   ],
   "source": [
    "# TensorFlow 읽어들이기\n",
    "import tensorflow as tf\n",
    "\n",
    "# 상수 정의하기\n",
    "a = tf.constant(10, name='10')\n",
    "b = tf.constant(20, name='20')\n",
    "c = tf.constant(30, name='30')\n",
    "\n",
    "# 연산 정의하기\n",
    "add_op = tf.add(a,b, name='add')\n",
    "mul_op = tf.multiply(add_op, c, name='mul')\n",
    "\n",
    "# 세션 시작하기\n",
    "sess = tf.Session()\n",
    "res = sess.run(mul_op)  # 식 평가하기\n",
    "print(res)\n",
    "\n",
    "# 텐서플로로 그래프 출력하기\n",
    "tf.summary.FileWriter('.logs', sess.graph)"
   ]
  },
  {
   "cell_type": "markdown",
   "metadata": {},
   "source": [
    "### 변수 사용하기"
   ]
  },
  {
   "cell_type": "code",
   "execution_count": 5,
   "metadata": {},
   "outputs": [
    {
     "name": "stdout",
     "output_type": "stream",
     "text": [
      "200\n"
     ]
    }
   ],
   "source": [
    "import tensorflow as tf\n",
    "\n",
    "# 변수 정의하기\n",
    "v = tf.Variable(0, name='v')\n",
    "\n",
    "# 상수 정의하기\n",
    "a = tf.constant(10, name='10')\n",
    "b = tf.constant(20, name='20')\n",
    "\n",
    "# 연산 정의하기\n",
    "mul_op = tf.multiply(a, b, name='mul')\n",
    "assign_op = tf.assign(v, mul_op)\n",
    "\n",
    "# 세션 시작하기\n",
    "sess = tf.Session()\n",
    "# 연산 실행하기\n",
    "sess.run(assign_op)\n",
    "\n",
    "# 텐서플로로 그래프 출력하기\n",
    "tf.summary.FileWriter('.logs', sess.graph)\n",
    "\n",
    "#결과 출력하기\n",
    "res = sess.run(v)\n",
    "print(res)"
   ]
  },
  {
   "cell_type": "markdown",
   "metadata": {},
   "source": [
    "### 플레이스홀더 사용하기"
   ]
  },
  {
   "cell_type": "code",
   "execution_count": 6,
   "metadata": {},
   "outputs": [
    {
     "name": "stdout",
     "output_type": "stream",
     "text": [
      "[ 2  4  6  8 10]\n",
      "[ 10  12  14  20 200]\n"
     ]
    }
   ],
   "source": [
    "import tensorflow as tf\n",
    "\n",
    "# 플레이스홀더 정의하기 \n",
    "a = tf.placeholder(tf.int32, [5])\n",
    "\n",
    "# 벡터를 2배 하는 연산 정의하기\n",
    "two = tf.constant(2)\n",
    "x2_op = a * two\n",
    "\n",
    "# 세션 시작하기 \n",
    "sess = tf.Session()\n",
    "\n",
    "# 플레이스 홀더에 값을 넣어 실행하기 \n",
    "res1 = sess.run(x2_op, feed_dict={ a: [1, 2, 3, 4, 5] })\n",
    "print(res1)\n",
    "res2 = sess.run(x2_op, feed_dict={ a: [5, 6, 7, 10, 100] })\n",
    "print(res2)"
   ]
  },
  {
   "cell_type": "code",
   "execution_count": 7,
   "metadata": {},
   "outputs": [
    {
     "name": "stdout",
     "output_type": "stream",
     "text": [
      "[[2 2]\n",
      " [4 4]\n",
      " [6 6]\n",
      " [8 8]]\n"
     ]
    }
   ],
   "source": [
    "import tensorflow as tf\n",
    "\n",
    "# 플레이스홀더 정의하기 \n",
    "a = tf.placeholder(tf.int32, [None, 2])\n",
    "\n",
    "# 벡터를 2배 하는 연산 정의하기 \n",
    "two = tf.constant(2)\n",
    "x2_op = a * two\n",
    "\n",
    "# 세션 시작하기 \n",
    "sess = tf.Session()\n",
    "\n",
    "# 플레이스 홀더에 값을 넣어 실행하기 \n",
    "sample_list = [[1, 1], [2, 2], [3, 3], [4, 4]]\n",
    "res = sess.run(x2_op, feed_dict={ a: sample_list })\n",
    "print(res)"
   ]
  },
  {
   "cell_type": "code",
   "execution_count": null,
   "metadata": {},
   "outputs": [],
   "source": []
  },
  {
   "cell_type": "code",
   "execution_count": null,
   "metadata": {},
   "outputs": [],
   "source": []
  },
  {
   "cell_type": "code",
   "execution_count": null,
   "metadata": {},
   "outputs": [],
   "source": []
  },
  {
   "cell_type": "code",
   "execution_count": null,
   "metadata": {},
   "outputs": [],
   "source": []
  },
  {
   "cell_type": "code",
   "execution_count": null,
   "metadata": {},
   "outputs": [],
   "source": []
  },
  {
   "cell_type": "code",
   "execution_count": null,
   "metadata": {},
   "outputs": [],
   "source": []
  },
  {
   "cell_type": "code",
   "execution_count": null,
   "metadata": {},
   "outputs": [],
   "source": []
  }
 ],
 "metadata": {
  "kernelspec": {
   "display_name": "Python 3",
   "language": "python",
   "name": "python3"
  },
  "language_info": {
   "codemirror_mode": {
    "name": "ipython",
    "version": 3
   },
   "file_extension": ".py",
   "mimetype": "text/x-python",
   "name": "python",
   "nbconvert_exporter": "python",
   "pygments_lexer": "ipython3",
   "version": "3.7.6"
  }
 },
 "nbformat": 4,
 "nbformat_minor": 4
}
