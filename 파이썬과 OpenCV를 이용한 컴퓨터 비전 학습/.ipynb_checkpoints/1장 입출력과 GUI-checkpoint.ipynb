{
 "cells": [
  {
   "cell_type": "markdown",
   "metadata": {},
   "source": [
    "# 파일에서 이미지 읽어오기"
   ]
  },
  {
   "cell_type": "code",
   "execution_count": 3,
   "metadata": {},
   "outputs": [],
   "source": [
    "import argparse\n",
    "import cv2\n",
    "img=cv2.imread('Lena.png')"
   ]
  },
  {
   "cell_type": "code",
   "execution_count": 4,
   "metadata": {},
   "outputs": [
    {
     "name": "stdout",
     "output_type": "stream",
     "text": [
      "shape: (512, 512, 3)\n",
      "dtype: uint8\n"
     ]
    }
   ],
   "source": [
    "print('shape:', img.shape)\n",
    "print('dtype:', img.dtype)"
   ]
  },
  {
   "cell_type": "code",
   "execution_count": 5,
   "metadata": {},
   "outputs": [],
   "source": [
    "img=cv2.imread('Lena.png', cv2.IMREAD_GRAYSCALE)"
   ]
  },
  {
   "cell_type": "code",
   "execution_count": 6,
   "metadata": {},
   "outputs": [
    {
     "name": "stdout",
     "output_type": "stream",
     "text": [
      "shape: (512, 512)\n",
      "dtype: uint8\n"
     ]
    }
   ],
   "source": [
    "print('shape:', img.shape)\n",
    "print('dtype:', img.dtype)"
   ]
  },
  {
   "cell_type": "markdown",
   "metadata": {},
   "source": [
    "# 간단한 이미지 변환: 크기 조절 및 뒤집기"
   ]
  },
  {
   "cell_type": "code",
   "execution_count": 7,
   "metadata": {},
   "outputs": [
    {
     "name": "stdout",
     "output_type": "stream",
     "text": [
      "original image shape: (512, 512, 3)\n"
     ]
    }
   ],
   "source": [
    "img=cv2.imread('Lena.png')\n",
    "print('original image shape:', img.shape)"
   ]
  },
  {
   "cell_type": "code",
   "execution_count": 8,
   "metadata": {},
   "outputs": [
    {
     "name": "stdout",
     "output_type": "stream",
     "text": [
      "resized to 128x256 image shape: (256, 128, 3)\n"
     ]
    }
   ],
   "source": [
    "width, height = 128,256\n",
    "resized_img=cv2.resize(img, (width, height))\n",
    "print('resized to 128x256 image shape:', resized_img.shape)"
   ]
  },
  {
   "cell_type": "code",
   "execution_count": 10,
   "metadata": {},
   "outputs": [
    {
     "name": "stdout",
     "output_type": "stream",
     "text": [
      "image shape: (256, 128, 3)\n"
     ]
    }
   ],
   "source": [
    "w_mult, h_mult = 0.25, 0.5\n",
    "resized_img=cv2.resize(img, (0, 0), resized_img, w_mult, h_mult)\n",
    "print('image shape:', resized_img.shape)"
   ]
  },
  {
   "cell_type": "code",
   "execution_count": 11,
   "metadata": {},
   "outputs": [
    {
     "name": "stdout",
     "output_type": "stream",
     "text": [
      "half size image shape: (2048, 1024, 3)\n"
     ]
    }
   ],
   "source": [
    "w_mult, h_mult = 2, 4\n",
    "resized_img=cv2.resize(img, (0, 0), resized_img, w_mult, h_mult, cv2.INTER_NEAREST)\n",
    "print('half size image shape:', resized_img.shape)"
   ]
  },
  {
   "cell_type": "code",
   "execution_count": 12,
   "metadata": {},
   "outputs": [],
   "source": [
    "# x축을 따라 이미지를 뒤집기\n",
    "img_flip_along_x = cv2.flip(img, 0)"
   ]
  },
  {
   "cell_type": "code",
   "execution_count": 13,
   "metadata": {},
   "outputs": [],
   "source": [
    "# y축을 따라 이미지를 뒤집기\n",
    "img_flip_along_y = cv2.flip(img, 1)"
   ]
  },
  {
   "cell_type": "code",
   "execution_count": 14,
   "metadata": {},
   "outputs": [],
   "source": [
    "# x, y축을 따라 이미지를 뒤집기\n",
    "img_flip_along_xy = cv2.flip(img, -1)"
   ]
  },
  {
   "cell_type": "code",
   "execution_count": null,
   "metadata": {},
   "outputs": [],
   "source": []
  }
 ],
 "metadata": {
  "kernelspec": {
   "display_name": "Python 3",
   "language": "python",
   "name": "python3"
  },
  "language_info": {
   "codemirror_mode": {
    "name": "ipython",
    "version": 3
   },
   "file_extension": ".py",
   "mimetype": "text/x-python",
   "name": "python",
   "nbconvert_exporter": "python",
   "pygments_lexer": "ipython3",
   "version": "3.6.10"
  }
 },
 "nbformat": 4,
 "nbformat_minor": 4
}
