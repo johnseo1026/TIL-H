{
 "cells": [
  {
   "cell_type": "markdown",
   "metadata": {},
   "source": [
    "# 파일에서 이미지 읽어오기"
   ]
  },
  {
   "cell_type": "code",
   "execution_count": 1,
   "metadata": {},
   "outputs": [],
   "source": [
    "import argparse\n",
    "import cv2\n",
    "img=cv2.imread('Lena.png')"
   ]
  },
  {
   "cell_type": "code",
   "execution_count": 2,
   "metadata": {},
   "outputs": [
    {
     "name": "stdout",
     "output_type": "stream",
     "text": [
      "shape: (512, 512, 3)\n",
      "dtype: uint8\n"
     ]
    }
   ],
   "source": [
    "print('shape:', img.shape)\n",
    "print('dtype:', img.dtype)"
   ]
  },
  {
   "cell_type": "code",
   "execution_count": 3,
   "metadata": {},
   "outputs": [],
   "source": [
    "img=cv2.imread('Lena.png', cv2.IMREAD_GRAYSCALE)"
   ]
  },
  {
   "cell_type": "code",
   "execution_count": 4,
   "metadata": {},
   "outputs": [
    {
     "name": "stdout",
     "output_type": "stream",
     "text": [
      "shape: (512, 512)\n",
      "dtype: uint8\n"
     ]
    }
   ],
   "source": [
    "print('shape:', img.shape)\n",
    "print('dtype:', img.dtype)"
   ]
  },
  {
   "cell_type": "markdown",
   "metadata": {},
   "source": [
    "# 간단한 이미지 변환: 크기 조절 및 뒤집기"
   ]
  },
  {
   "cell_type": "code",
   "execution_count": 5,
   "metadata": {},
   "outputs": [
    {
     "name": "stdout",
     "output_type": "stream",
     "text": [
      "original image shape: (512, 512, 3)\n"
     ]
    }
   ],
   "source": [
    "img=cv2.imread('Lena.png')\n",
    "print('original image shape:', img.shape)"
   ]
  },
  {
   "cell_type": "code",
   "execution_count": 6,
   "metadata": {},
   "outputs": [
    {
     "name": "stdout",
     "output_type": "stream",
     "text": [
      "resized to 128x256 image shape: (256, 128, 3)\n"
     ]
    }
   ],
   "source": [
    "width, height = 128,256\n",
    "resized_img=cv2.resize(img, (width, height))\n",
    "print('resized to 128x256 image shape:', resized_img.shape)"
   ]
  },
  {
   "cell_type": "code",
   "execution_count": 7,
   "metadata": {},
   "outputs": [
    {
     "name": "stdout",
     "output_type": "stream",
     "text": [
      "image shape: (256, 128, 3)\n"
     ]
    }
   ],
   "source": [
    "w_mult, h_mult = 0.25, 0.5\n",
    "resized_img=cv2.resize(img, (0, 0), resized_img, w_mult, h_mult)\n",
    "print('image shape:', resized_img.shape)"
   ]
  },
  {
   "cell_type": "code",
   "execution_count": 8,
   "metadata": {},
   "outputs": [
    {
     "name": "stdout",
     "output_type": "stream",
     "text": [
      "half size image shape: (2048, 1024, 3)\n"
     ]
    }
   ],
   "source": [
    "w_mult, h_mult = 2, 4\n",
    "resized_img=cv2.resize(img, (0, 0), resized_img, w_mult, h_mult, cv2.INTER_NEAREST)\n",
    "print('half size image shape:', resized_img.shape)"
   ]
  },
  {
   "cell_type": "code",
   "execution_count": 9,
   "metadata": {},
   "outputs": [],
   "source": [
    "# x축을 따라 이미지를 뒤집기\n",
    "img_flip_along_x = cv2.flip(img, 0)"
   ]
  },
  {
   "cell_type": "markdown",
   "metadata": {},
   "source": [
    "# 손실 및 무손실 압축을 사용한 이미지 저장"
   ]
  },
  {
   "cell_type": "code",
   "execution_count": 10,
   "metadata": {},
   "outputs": [],
   "source": [
    "img=cv2.imread('Lena.png')"
   ]
  },
  {
   "cell_type": "code",
   "execution_count": 11,
   "metadata": {},
   "outputs": [
    {
     "data": {
      "text/plain": [
       "True"
      ]
     },
     "execution_count": 11,
     "metadata": {},
     "output_type": "execute_result"
    }
   ],
   "source": [
    "# 낮은 압축률로 이미지를 저장한다. - 파일 크기는 크지만 디코딩이 빠르다,\n",
    "cv2.imwrite('Lena_compressed.png', img, [cv2.IMWRITE_PNG_COMPRESSION, 0])"
   ]
  },
  {
   "cell_type": "code",
   "execution_count": 12,
   "metadata": {},
   "outputs": [
    {
     "data": {
      "text/plain": [
       "True"
      ]
     },
     "execution_count": 12,
     "metadata": {},
     "output_type": "execute_result"
    }
   ],
   "source": [
    "# 이미지를 낮은 화질로 저장한다. - 크기가 더 작아진다.\n",
    "cv2.imwrite('Lena_compressed.jpg', img, [cv2.IMWRITE_JPEG_QUALITY, 0])"
   ]
  },
  {
   "cell_type": "markdown",
   "metadata": {},
   "source": [
    "# OpenCV 창에 이미지 표시"
   ]
  },
  {
   "cell_type": "code",
   "execution_count": 13,
   "metadata": {},
   "outputs": [],
   "source": [
    "orlg=cv2.imread('Lena.png')\n",
    "orlg_size=orlg.shape[0:2]"
   ]
  },
  {
   "cell_type": "code",
   "execution_count": 14,
   "metadata": {},
   "outputs": [
    {
     "data": {
      "text/plain": [
       "-1"
      ]
     },
     "execution_count": 14,
     "metadata": {},
     "output_type": "execute_result"
    }
   ],
   "source": [
    "cv2.imshow(\"Original Image\", orlg)\n",
    "cv2.waitKey(2000)"
   ]
  },
  {
   "cell_type": "markdown",
   "metadata": {},
   "source": [
    "# OpenCV 창에서 버튼 및 탐색바와 같은 UI요소로 작업"
   ]
  },
  {
   "cell_type": "code",
   "execution_count": 1,
   "metadata": {},
   "outputs": [],
   "source": [
    "# window 이름으로 OpenCV창을 생성\n",
    "import cv2, numpy as np\n",
    "\n",
    "cv2.namedWindow('window')"
   ]
  },
  {
   "cell_type": "code",
   "execution_count": 2,
   "metadata": {},
   "outputs": [],
   "source": [
    "fill_val = np.array([255, 255, 255], np.uint8)"
   ]
  },
  {
   "cell_type": "code",
   "execution_count": 3,
   "metadata": {},
   "outputs": [],
   "source": [
    "def trackbar_callback(idx, value):\n",
    "    fill_val[idx] = value"
   ]
  },
  {
   "cell_type": "code",
   "execution_count": 4,
   "metadata": {},
   "outputs": [],
   "source": [
    "cv2.createTrackbar('R', 'window', 255, 255, lambda v:\n",
    "                trackbar_callback(2,v))\n",
    "cv2.createTrackbar('G', 'window', 255, 255, lambda v:\n",
    "                trackbar_callback(1,v))\n",
    "cv2.createTrackbar('B', 'window', 255, 255, lambda v:\n",
    "                trackbar_callback(0,v))"
   ]
  },
  {
   "cell_type": "code",
   "execution_count": 5,
   "metadata": {},
   "outputs": [
    {
     "ename": "AttributeError",
     "evalue": "module 'cv2.cv2' has no attribute 'destroyAllWindow'",
     "output_type": "error",
     "traceback": [
      "\u001b[1;31m---------------------------------------------------------------------------\u001b[0m",
      "\u001b[1;31mAttributeError\u001b[0m                            Traceback (most recent call last)",
      "\u001b[1;32m<ipython-input-5-b74c03f0b734>\u001b[0m in \u001b[0;36m<module>\u001b[1;34m\u001b[0m\n\u001b[0;32m      5\u001b[0m     \u001b[1;32mif\u001b[0m \u001b[0mkey\u001b[0m \u001b[1;33m==\u001b[0m \u001b[1;36m27\u001b[0m\u001b[1;33m:\u001b[0m\u001b[1;33m\u001b[0m\u001b[1;33m\u001b[0m\u001b[0m\n\u001b[0;32m      6\u001b[0m         \u001b[1;32mbreak\u001b[0m\u001b[1;33m\u001b[0m\u001b[1;33m\u001b[0m\u001b[0m\n\u001b[1;32m----> 7\u001b[1;33m \u001b[0mcv2\u001b[0m\u001b[1;33m.\u001b[0m\u001b[0mdestroyAllWindow\u001b[0m\u001b[1;33m(\u001b[0m\u001b[1;33m)\u001b[0m\u001b[1;33m\u001b[0m\u001b[1;33m\u001b[0m\u001b[0m\n\u001b[0m",
      "\u001b[1;31mAttributeError\u001b[0m: module 'cv2.cv2' has no attribute 'destroyAllWindow'"
     ]
    }
   ],
   "source": [
    "while True:\n",
    "    image = np.full((500, 500, 3), fill_val)\n",
    "    cv2.imshow('window', image)\n",
    "    key = cv2.waitKey(3)\n",
    "    if key == 27:\n",
    "        break\n",
    "cv2.destroyAllWindow()"
   ]
  },
  {
   "cell_type": "markdown",
   "metadata": {},
   "source": [
    "# 2D 프리미티브 그리기: 마커, 선 , 타원, 사각형 및 텍스트"
   ]
  },
  {
   "cell_type": "code",
   "execution_count": 6,
   "metadata": {},
   "outputs": [],
   "source": [
    "import cv2, random\n",
    "\n",
    "image=cv2.imread('Lena.png')\n",
    "w, h = image.shape[1], image.shape[0]\n",
    "\n",
    "def rand_pt(mult=1.):\n",
    "    return (random.randrange(int(w*mult)),\n",
    "           random.randrange(int(h*mult)))"
   ]
  },
  {
   "cell_type": "code",
   "execution_count": 7,
   "metadata": {},
   "outputs": [
    {
     "data": {
      "text/plain": [
       "array([[[125, 137, 226],\n",
       "        [125, 137, 226],\n",
       "        [133, 137, 223],\n",
       "        ...,\n",
       "        [122, 148, 230],\n",
       "        [110, 130, 221],\n",
       "        [ 90,  99, 200]],\n",
       "\n",
       "       [[125, 137, 226],\n",
       "        [125, 137, 226],\n",
       "        [133, 137, 223],\n",
       "        ...,\n",
       "        [122, 148, 230],\n",
       "        [110, 130, 221],\n",
       "        [ 90,  99, 200]],\n",
       "\n",
       "       [[125, 137, 226],\n",
       "        [125, 137, 226],\n",
       "        [133, 137, 223],\n",
       "        ...,\n",
       "        [122, 148, 230],\n",
       "        [110, 130, 221],\n",
       "        [ 90,  99, 200]],\n",
       "\n",
       "       ...,\n",
       "\n",
       "       [[ 60,  18,  84],\n",
       "        [ 60,  18,  84],\n",
       "        [ 58,  27,  92],\n",
       "        ...,\n",
       "        [ 84,  73, 173],\n",
       "        [ 76,  68, 172],\n",
       "        [ 79,  62, 177]],\n",
       "\n",
       "       [[ 57,  22,  82],\n",
       "        [ 57,  22,  82],\n",
       "        [ 62,  32,  96],\n",
       "        ...,\n",
       "        [ 79,  70, 179],\n",
       "        [ 81,  71, 181],\n",
       "        [ 81,  74, 185]],\n",
       "\n",
       "       [[ 57,  22,  82],\n",
       "        [ 57,  22,  82],\n",
       "        [ 62,  32,  96],\n",
       "        ...,\n",
       "        [ 79,  70, 179],\n",
       "        [ 81,  71, 181],\n",
       "        [ 81,  74, 185]]], dtype=uint8)"
      ]
     },
     "execution_count": 7,
     "metadata": {},
     "output_type": "execute_result"
    }
   ],
   "source": [
    "cv2.circle(image, rand_pt(), 40, (255, 0, 0))\n",
    "cv2.circle(image, rand_pt(), 5, (255, 0, 0), cv2.FILLED)\n",
    "cv2.circle(image, rand_pt(), 40, (255, 85, 85), 2)\n",
    "cv2.circle(image, rand_pt(), 40, (255, 170, 170), 2, cv2.LINE_AA)"
   ]
  },
  {
   "cell_type": "code",
   "execution_count": 8,
   "metadata": {},
   "outputs": [
    {
     "data": {
      "text/plain": [
       "array([[[125, 137, 226],\n",
       "        [125, 137, 226],\n",
       "        [133, 137, 223],\n",
       "        ...,\n",
       "        [122, 148, 230],\n",
       "        [110, 130, 221],\n",
       "        [ 90,  99, 200]],\n",
       "\n",
       "       [[125, 137, 226],\n",
       "        [125, 137, 226],\n",
       "        [133, 137, 223],\n",
       "        ...,\n",
       "        [122, 148, 230],\n",
       "        [110, 130, 221],\n",
       "        [ 90,  99, 200]],\n",
       "\n",
       "       [[125, 137, 226],\n",
       "        [125, 137, 226],\n",
       "        [133, 137, 223],\n",
       "        ...,\n",
       "        [122, 148, 230],\n",
       "        [110, 130, 221],\n",
       "        [ 90,  99, 200]],\n",
       "\n",
       "       ...,\n",
       "\n",
       "       [[ 60,  18,  84],\n",
       "        [ 60,  18,  84],\n",
       "        [ 58,  27,  92],\n",
       "        ...,\n",
       "        [ 84,  73, 173],\n",
       "        [ 76,  68, 172],\n",
       "        [ 79,  62, 177]],\n",
       "\n",
       "       [[ 57,  22,  82],\n",
       "        [ 57,  22,  82],\n",
       "        [ 62,  32,  96],\n",
       "        ...,\n",
       "        [ 79,  70, 179],\n",
       "        [ 81,  71, 181],\n",
       "        [ 81,  74, 185]],\n",
       "\n",
       "       [[ 57,  22,  82],\n",
       "        [ 57,  22,  82],\n",
       "        [ 62,  32,  96],\n",
       "        ...,\n",
       "        [ 79,  70, 179],\n",
       "        [ 81,  71, 181],\n",
       "        [ 81,  74, 185]]], dtype=uint8)"
      ]
     },
     "execution_count": 8,
     "metadata": {},
     "output_type": "execute_result"
    }
   ],
   "source": [
    "cv2.line(image, rand_pt(), rand_pt(), (0, 255, 0))\n",
    "cv2.line(image, rand_pt(), rand_pt(), (85, 255, 85), 3)\n",
    "cv2.line(image, rand_pt(), rand_pt(), (170, 255, 170), 3, cv2.LINE_AA)"
   ]
  },
  {
   "cell_type": "code",
   "execution_count": 9,
   "metadata": {},
   "outputs": [
    {
     "data": {
      "text/plain": [
       "array([[[125, 137, 226],\n",
       "        [125, 137, 226],\n",
       "        [133, 137, 223],\n",
       "        ...,\n",
       "        [122, 148, 230],\n",
       "        [110, 130, 221],\n",
       "        [ 90,  99, 200]],\n",
       "\n",
       "       [[125, 137, 226],\n",
       "        [125, 137, 226],\n",
       "        [133, 137, 223],\n",
       "        ...,\n",
       "        [122, 148, 230],\n",
       "        [110, 130, 221],\n",
       "        [ 90,  99, 200]],\n",
       "\n",
       "       [[125, 137, 226],\n",
       "        [125, 137, 226],\n",
       "        [133, 137, 223],\n",
       "        ...,\n",
       "        [122, 148, 230],\n",
       "        [110, 130, 221],\n",
       "        [ 90,  99, 200]],\n",
       "\n",
       "       ...,\n",
       "\n",
       "       [[ 60,  18,  84],\n",
       "        [ 60,  18,  84],\n",
       "        [ 58,  27,  92],\n",
       "        ...,\n",
       "        [ 84,  73, 173],\n",
       "        [ 76,  68, 172],\n",
       "        [ 79,  62, 177]],\n",
       "\n",
       "       [[ 57,  22,  82],\n",
       "        [ 57,  22,  82],\n",
       "        [ 62,  32,  96],\n",
       "        ...,\n",
       "        [ 79,  70, 179],\n",
       "        [ 81,  71, 181],\n",
       "        [ 81,  74, 185]],\n",
       "\n",
       "       [[ 57,  22,  82],\n",
       "        [ 57,  22,  82],\n",
       "        [ 62,  32,  96],\n",
       "        ...,\n",
       "        [ 79,  70, 179],\n",
       "        [ 81,  71, 181],\n",
       "        [ 81,  74, 185]]], dtype=uint8)"
      ]
     },
     "execution_count": 9,
     "metadata": {},
     "output_type": "execute_result"
    }
   ],
   "source": [
    "cv2.arrowedLine(image, rand_pt(), rand_pt(), (0, 0, 255), 3, cv2.LINE_AA)"
   ]
  },
  {
   "cell_type": "code",
   "execution_count": 10,
   "metadata": {},
   "outputs": [
    {
     "data": {
      "text/plain": [
       "array([[[125, 137, 226],\n",
       "        [125, 137, 226],\n",
       "        [133, 137, 223],\n",
       "        ...,\n",
       "        [122, 148, 230],\n",
       "        [110, 130, 221],\n",
       "        [ 90,  99, 200]],\n",
       "\n",
       "       [[125, 137, 226],\n",
       "        [125, 137, 226],\n",
       "        [133, 137, 223],\n",
       "        ...,\n",
       "        [122, 148, 230],\n",
       "        [110, 130, 221],\n",
       "        [ 90,  99, 200]],\n",
       "\n",
       "       [[125, 137, 226],\n",
       "        [125, 137, 226],\n",
       "        [133, 137, 223],\n",
       "        ...,\n",
       "        [122, 148, 230],\n",
       "        [110, 130, 221],\n",
       "        [ 90,  99, 200]],\n",
       "\n",
       "       ...,\n",
       "\n",
       "       [[ 60,  18,  84],\n",
       "        [ 60,  18,  84],\n",
       "        [ 58,  27,  92],\n",
       "        ...,\n",
       "        [ 84,  73, 173],\n",
       "        [ 76,  68, 172],\n",
       "        [ 79,  62, 177]],\n",
       "\n",
       "       [[ 57,  22,  82],\n",
       "        [ 57,  22,  82],\n",
       "        [ 62,  32,  96],\n",
       "        ...,\n",
       "        [ 79,  70, 179],\n",
       "        [ 81,  71, 181],\n",
       "        [ 81,  74, 185]],\n",
       "\n",
       "       [[ 57,  22,  82],\n",
       "        [ 57,  22,  82],\n",
       "        [ 62,  32,  96],\n",
       "        ...,\n",
       "        [ 79,  70, 179],\n",
       "        [ 81,  71, 181],\n",
       "        [ 81,  74, 185]]], dtype=uint8)"
      ]
     },
     "execution_count": 10,
     "metadata": {},
     "output_type": "execute_result"
    }
   ],
   "source": [
    "cv2.rectangle(image, rand_pt(), rand_pt(), (255, 255, 0), 3)"
   ]
  },
  {
   "cell_type": "code",
   "execution_count": 11,
   "metadata": {},
   "outputs": [
    {
     "data": {
      "text/plain": [
       "array([[[125, 137, 226],\n",
       "        [125, 137, 226],\n",
       "        [133, 137, 223],\n",
       "        ...,\n",
       "        [122, 148, 230],\n",
       "        [110, 130, 221],\n",
       "        [ 90,  99, 200]],\n",
       "\n",
       "       [[125, 137, 226],\n",
       "        [125, 137, 226],\n",
       "        [133, 137, 223],\n",
       "        ...,\n",
       "        [122, 148, 230],\n",
       "        [110, 130, 221],\n",
       "        [ 90,  99, 200]],\n",
       "\n",
       "       [[125, 137, 226],\n",
       "        [125, 137, 226],\n",
       "        [133, 137, 223],\n",
       "        ...,\n",
       "        [122, 148, 230],\n",
       "        [110, 130, 221],\n",
       "        [ 90,  99, 200]],\n",
       "\n",
       "       ...,\n",
       "\n",
       "       [[ 60,  18,  84],\n",
       "        [ 60,  18,  84],\n",
       "        [ 58,  27,  92],\n",
       "        ...,\n",
       "        [ 84,  73, 173],\n",
       "        [ 76,  68, 172],\n",
       "        [ 79,  62, 177]],\n",
       "\n",
       "       [[ 57,  22,  82],\n",
       "        [ 57,  22,  82],\n",
       "        [ 62,  32,  96],\n",
       "        ...,\n",
       "        [ 79,  70, 179],\n",
       "        [ 81,  71, 181],\n",
       "        [ 81,  74, 185]],\n",
       "\n",
       "       [[ 57,  22,  82],\n",
       "        [ 57,  22,  82],\n",
       "        [ 62,  32,  96],\n",
       "        ...,\n",
       "        [ 79,  70, 179],\n",
       "        [ 81,  71, 181],\n",
       "        [ 81,  74, 185]]], dtype=uint8)"
      ]
     },
     "execution_count": 11,
     "metadata": {},
     "output_type": "execute_result"
    }
   ],
   "source": [
    "cv2.ellipse(image, rand_pt(), rand_pt(0.3), random.randrange(360), 0, 360, (255, 255, 255), 3)"
   ]
  },
  {
   "cell_type": "code",
   "execution_count": 12,
   "metadata": {},
   "outputs": [
    {
     "data": {
      "text/plain": [
       "array([[[125, 137, 226],\n",
       "        [125, 137, 226],\n",
       "        [133, 137, 223],\n",
       "        ...,\n",
       "        [122, 148, 230],\n",
       "        [110, 130, 221],\n",
       "        [ 90,  99, 200]],\n",
       "\n",
       "       [[125, 137, 226],\n",
       "        [125, 137, 226],\n",
       "        [133, 137, 223],\n",
       "        ...,\n",
       "        [122, 148, 230],\n",
       "        [110, 130, 221],\n",
       "        [ 90,  99, 200]],\n",
       "\n",
       "       [[125, 137, 226],\n",
       "        [125, 137, 226],\n",
       "        [133, 137, 223],\n",
       "        ...,\n",
       "        [122, 148, 230],\n",
       "        [110, 130, 221],\n",
       "        [ 90,  99, 200]],\n",
       "\n",
       "       ...,\n",
       "\n",
       "       [[ 60,  18,  84],\n",
       "        [ 60,  18,  84],\n",
       "        [ 58,  27,  92],\n",
       "        ...,\n",
       "        [ 84,  73, 173],\n",
       "        [ 76,  68, 172],\n",
       "        [ 79,  62, 177]],\n",
       "\n",
       "       [[ 57,  22,  82],\n",
       "        [ 57,  22,  82],\n",
       "        [ 62,  32,  96],\n",
       "        ...,\n",
       "        [ 79,  70, 179],\n",
       "        [ 81,  71, 181],\n",
       "        [ 81,  74, 185]],\n",
       "\n",
       "       [[ 57,  22,  82],\n",
       "        [ 57,  22,  82],\n",
       "        [ 62,  32,  96],\n",
       "        ...,\n",
       "        [ 79,  70, 179],\n",
       "        [ 81,  71, 181],\n",
       "        [ 81,  74, 185]]], dtype=uint8)"
      ]
     },
     "execution_count": 12,
     "metadata": {},
     "output_type": "execute_result"
    }
   ],
   "source": [
    "cv2.putText(image, 'OpenCV', rand_pt(), cv2.FONT_HERSHEY_SIMPLEX, 1, (0, 0, 0), 3)"
   ]
  },
  {
   "cell_type": "markdown",
   "metadata": {},
   "source": [
    "# 사용자의 키보드 입력 처리"
   ]
  },
  {
   "cell_type": "code",
   "execution_count": 3,
   "metadata": {},
   "outputs": [],
   "source": [
    "import cv2, numpy as np, random\n",
    "\n",
    "image = cv2.imread('Lena.png')\n",
    "w, h = image.shape[1], image.shape[0]\n",
    "image_to_show=np.copy(image)\n",
    "\n",
    "def rand_pt():\n",
    "    return(random.randrange(w),\n",
    "          random.randrange(h))"
   ]
  },
  {
   "cell_type": "code",
   "execution_count": 4,
   "metadata": {},
   "outputs": [
    {
     "ename": "NameError",
     "evalue": "name 'rang_pt' is not defined",
     "output_type": "error",
     "traceback": [
      "\u001b[1;31m---------------------------------------------------------------------------\u001b[0m",
      "\u001b[1;31mNameError\u001b[0m                                 Traceback (most recent call last)",
      "\u001b[1;32m<ipython-input-4-593e12439433>\u001b[0m in \u001b[0;36m<module>\u001b[1;34m\u001b[0m\n\u001b[0;32m      4\u001b[0m     \u001b[0mkey\u001b[0m \u001b[1;33m=\u001b[0m \u001b[0mcv2\u001b[0m\u001b[1;33m.\u001b[0m\u001b[0mwaitKey\u001b[0m\u001b[1;33m(\u001b[0m\u001b[1;36m0\u001b[0m\u001b[1;33m)\u001b[0m\u001b[1;33m\u001b[0m\u001b[1;33m\u001b[0m\u001b[0m\n\u001b[0;32m      5\u001b[0m     \u001b[1;32mif\u001b[0m \u001b[0mkey\u001b[0m \u001b[1;33m==\u001b[0m \u001b[0mord\u001b[0m\u001b[1;33m(\u001b[0m\u001b[1;34m'p'\u001b[0m\u001b[1;33m)\u001b[0m\u001b[1;33m:\u001b[0m\u001b[1;33m\u001b[0m\u001b[1;33m\u001b[0m\u001b[0m\n\u001b[1;32m----> 6\u001b[1;33m         \u001b[1;32mfor\u001b[0m \u001b[0mpt\u001b[0m \u001b[1;32min\u001b[0m \u001b[1;33m[\u001b[0m\u001b[0mrang_pt\u001b[0m\u001b[1;33m(\u001b[0m\u001b[1;33m)\u001b[0m \u001b[1;32mfor\u001b[0m \u001b[0m_\u001b[0m \u001b[1;32min\u001b[0m \u001b[0mrange\u001b[0m\u001b[1;33m(\u001b[0m\u001b[1;36m10\u001b[0m\u001b[1;33m)\u001b[0m\u001b[1;33m]\u001b[0m\u001b[1;33m:\u001b[0m\u001b[1;33m\u001b[0m\u001b[1;33m\u001b[0m\u001b[0m\n\u001b[0m\u001b[0;32m      7\u001b[0m             \u001b[0mcv2\u001b[0m\u001b[1;33m.\u001b[0m\u001b[0mcircle\u001b[0m\u001b[1;33m(\u001b[0m\u001b[0mimage_to_show\u001b[0m\u001b[1;33m,\u001b[0m \u001b[0mpt\u001b[0m\u001b[1;33m,\u001b[0m \u001b[1;36m3\u001b[0m\u001b[1;33m,\u001b[0m \u001b[1;33m(\u001b[0m\u001b[1;36m255\u001b[0m\u001b[1;33m,\u001b[0m \u001b[1;36m0\u001b[0m\u001b[1;33m,\u001b[0m \u001b[1;36m0\u001b[0m\u001b[1;33m)\u001b[0m\u001b[1;33m,\u001b[0m \u001b[1;33m-\u001b[0m\u001b[1;36m1\u001b[0m\u001b[1;33m)\u001b[0m\u001b[1;33m\u001b[0m\u001b[1;33m\u001b[0m\u001b[0m\n\u001b[0;32m      8\u001b[0m     \u001b[1;32melif\u001b[0m \u001b[0mkey\u001b[0m \u001b[1;33m==\u001b[0m \u001b[0mord\u001b[0m\u001b[1;33m(\u001b[0m\u001b[1;34m'l'\u001b[0m\u001b[1;33m)\u001b[0m\u001b[1;33m:\u001b[0m\u001b[1;33m\u001b[0m\u001b[1;33m\u001b[0m\u001b[0m\n",
      "\u001b[1;32m<ipython-input-4-593e12439433>\u001b[0m in \u001b[0;36m<listcomp>\u001b[1;34m(.0)\u001b[0m\n\u001b[0;32m      4\u001b[0m     \u001b[0mkey\u001b[0m \u001b[1;33m=\u001b[0m \u001b[0mcv2\u001b[0m\u001b[1;33m.\u001b[0m\u001b[0mwaitKey\u001b[0m\u001b[1;33m(\u001b[0m\u001b[1;36m0\u001b[0m\u001b[1;33m)\u001b[0m\u001b[1;33m\u001b[0m\u001b[1;33m\u001b[0m\u001b[0m\n\u001b[0;32m      5\u001b[0m     \u001b[1;32mif\u001b[0m \u001b[0mkey\u001b[0m \u001b[1;33m==\u001b[0m \u001b[0mord\u001b[0m\u001b[1;33m(\u001b[0m\u001b[1;34m'p'\u001b[0m\u001b[1;33m)\u001b[0m\u001b[1;33m:\u001b[0m\u001b[1;33m\u001b[0m\u001b[1;33m\u001b[0m\u001b[0m\n\u001b[1;32m----> 6\u001b[1;33m         \u001b[1;32mfor\u001b[0m \u001b[0mpt\u001b[0m \u001b[1;32min\u001b[0m \u001b[1;33m[\u001b[0m\u001b[0mrang_pt\u001b[0m\u001b[1;33m(\u001b[0m\u001b[1;33m)\u001b[0m \u001b[1;32mfor\u001b[0m \u001b[0m_\u001b[0m \u001b[1;32min\u001b[0m \u001b[0mrange\u001b[0m\u001b[1;33m(\u001b[0m\u001b[1;36m10\u001b[0m\u001b[1;33m)\u001b[0m\u001b[1;33m]\u001b[0m\u001b[1;33m:\u001b[0m\u001b[1;33m\u001b[0m\u001b[1;33m\u001b[0m\u001b[0m\n\u001b[0m\u001b[0;32m      7\u001b[0m             \u001b[0mcv2\u001b[0m\u001b[1;33m.\u001b[0m\u001b[0mcircle\u001b[0m\u001b[1;33m(\u001b[0m\u001b[0mimage_to_show\u001b[0m\u001b[1;33m,\u001b[0m \u001b[0mpt\u001b[0m\u001b[1;33m,\u001b[0m \u001b[1;36m3\u001b[0m\u001b[1;33m,\u001b[0m \u001b[1;33m(\u001b[0m\u001b[1;36m255\u001b[0m\u001b[1;33m,\u001b[0m \u001b[1;36m0\u001b[0m\u001b[1;33m,\u001b[0m \u001b[1;36m0\u001b[0m\u001b[1;33m)\u001b[0m\u001b[1;33m,\u001b[0m \u001b[1;33m-\u001b[0m\u001b[1;36m1\u001b[0m\u001b[1;33m)\u001b[0m\u001b[1;33m\u001b[0m\u001b[1;33m\u001b[0m\u001b[0m\n\u001b[0;32m      8\u001b[0m     \u001b[1;32melif\u001b[0m \u001b[0mkey\u001b[0m \u001b[1;33m==\u001b[0m \u001b[0mord\u001b[0m\u001b[1;33m(\u001b[0m\u001b[1;34m'l'\u001b[0m\u001b[1;33m)\u001b[0m\u001b[1;33m:\u001b[0m\u001b[1;33m\u001b[0m\u001b[1;33m\u001b[0m\u001b[0m\n",
      "\u001b[1;31mNameError\u001b[0m: name 'rang_pt' is not defined"
     ]
    }
   ],
   "source": [
    "finish = False\n",
    "while not finish:\n",
    "    cv2.imshow('result', image_to_show)\n",
    "    key = cv2.waitKey(0)\n",
    "    if key == ord('p'):\n",
    "        for pt in [rang_pt() for _ in range(10)]:\n",
    "            cv2.circle(image_to_show, pt, 3, (255, 0, 0), -1)\n",
    "    elif key == ord('l'):\n",
    "        cv2.line(image_to_show, rand_pt(), rand_pt(), (0, 255, 0), 3)\n",
    "    elif key == ord('r'):\n",
    "        cv2.rectangle(image_to_show, rand_pt(), rand_pt(), (0, 0, 255), 3)\n",
    "    elif key == ord('e'):\n",
    "        cv2.ellipse(image_to_show, rand_pt(), rand_pt(), random.randrange(360), 0, 360, (255, 255, 0), 3)\n",
    "    elif key == ord('t'):\n",
    "        cv2.putText(image_to_show, 'OpenCV', rand_pt(), cv2.FONT_HERSHEY_SIMPLEX, 1, (0, 0, 0), 3)\n",
    "    elif key == ord('c'):\n",
    "        image_to_show = np.copy(image)\n",
    "    elif key == 27:\n",
    "        finish = True"
   ]
  },
  {
   "cell_type": "markdown",
   "metadata": {},
   "source": [
    "# 사용자의 키보드 입력 처리"
   ]
  },
  {
   "cell_type": "code",
   "execution_count": 1,
   "metadata": {},
   "outputs": [],
   "source": [
    "import cv2, numpy as np, random\n",
    "\n",
    "image=cv2.imread('Lena.png')\n",
    "image_to_show = np.copy(image)"
   ]
  },
  {
   "cell_type": "code",
   "execution_count": 2,
   "metadata": {},
   "outputs": [],
   "source": [
    "mouse_pressed = False\n",
    "s_x = s_y = e_x = e_y = -1"
   ]
  },
  {
   "cell_type": "code",
   "execution_count": 9,
   "metadata": {},
   "outputs": [],
   "source": [
    "def mouse_callback(event, x, y, flags, param):\n",
    "    global image_to_show, s_x, s_y, e_x, e_y, mouse_pressed\n",
    "    \n",
    "    if event == cv2.EVENT_LBUTTONDOWN:\n",
    "        mouse_pressed = True\n",
    "        s_x, s_y = x, y\n",
    "        image_to_show = np.copy(image)\n",
    "        \n",
    "    elif event == cv2.EVENT_MOUSEMOVE:\n",
    "        if mouse_pressed:\n",
    "            image_to_show = np.copy(image)\n",
    "            cv2.rectangle(image_to_show, (s_x, s_y), (x, y), (0, 255, 0), 1)\n",
    "            \n",
    "    elif event == cv2.EVENT_LBUTTONUP:\n",
    "        mouse_pressed = False\n",
    "        e_x, e_y = x, y"
   ]
  },
  {
   "cell_type": "code",
   "execution_count": 10,
   "metadata": {},
   "outputs": [],
   "source": [
    "cv2.namedWindow('image')\n",
    "cv2.setMouseCallback('image', mouse_callback)"
   ]
  },
  {
   "cell_type": "code",
   "execution_count": 11,
   "metadata": {},
   "outputs": [],
   "source": [
    "while True:\n",
    "    cv2.imshow('image', image_to_show)\n",
    "    k = cv2.waitKey(1)\n",
    "    \n",
    "    if k == ord('c'):\n",
    "        if s_y > e_y:\n",
    "            s_y, e_y = e_y, s_y\n",
    "        if s_x > e_x:\n",
    "            s_x, e_x = e_x, s_x\n",
    "            \n",
    "        if e_y - s_y > 1 and e_x - s_x > 0:\n",
    "            image = image[s_y:e_y, s_x:e_x]\n",
    "            image_to_show = np.copy(image)\n",
    "            \n",
    "    elif k ==27:\n",
    "        break\n",
    "        \n",
    "cv2.destroyAllWindows()"
   ]
  },
  {
   "cell_type": "code",
   "execution_count": null,
   "metadata": {},
   "outputs": [],
   "source": []
  }
 ],
 "metadata": {
  "kernelspec": {
   "display_name": "Python 3",
   "language": "python",
   "name": "python3"
  },
  "language_info": {
   "codemirror_mode": {
    "name": "ipython",
    "version": 3
   },
   "file_extension": ".py",
   "mimetype": "text/x-python",
   "name": "python",
   "nbconvert_exporter": "python",
   "pygments_lexer": "ipython3",
   "version": "3.6.10"
  }
 },
 "nbformat": 4,
 "nbformat_minor": 4
}
